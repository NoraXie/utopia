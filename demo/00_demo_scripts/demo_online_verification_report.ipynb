{
 "cells": [
  {
   "cell_type": "code",
   "execution_count": 1,
   "metadata": {},
   "outputs": [
    {
     "name": "stderr",
     "output_type": "stream",
     "text": [
      "/Users/pintec/anaconda3/lib/python3.6/site-packages/sklearn/ensemble/weight_boosting.py:29: DeprecationWarning: numpy.core.umath_tests is an internal NumPy module and should not be imported. It will be removed in a future NumPy release.\n",
      "  from numpy.core.umath_tests import inner1d\n"
     ]
    }
   ],
   "source": [
    "%matplotlib inline\n",
    "\n",
    "import os\n",
    "import sys\n",
    "import json\n",
    "import logging\n",
    "import warnings\n",
    "warnings.filterwarnings('ignore')\n",
    "\n",
    "# 更改为自己的路径,或者直接在环境变量中添加\n",
    "sys.path.append('/Users/pintec/Documents/repos/genie')\n",
    "\n",
    "import pandas as pd\n",
    "import numpy as np\n",
    "from jinja2 import Template\n",
    "\n",
    "#python3种reload函数不能直接使用\n",
    "from imp import reload\n",
    "\n",
    "from utils3.data_io_utils import *\n",
    "import utils3.misc_utils as mu\n",
    "import utils3.summary_statistics as ss\n",
    "import utils3.metrics as mt\n",
    "import utils3.feature_selection as fs\n",
    "import utils3.plotting as pl\n",
    "import utils3.modeling as ml\n",
    "import utils3.filing as fl\n",
    "from functools import reduce\n"
   ]
  },
  {
   "cell_type": "markdown",
   "metadata": {},
   "source": [
    "# 构建取数逻辑（一次性整理成监控所需模样，减少后续工作量）\n",
    "每个人取值逻辑不同，可根据自身情况调整，该代码可在监控配置中复用，此外表头必须含有apply_id,var_code,create_at字段,\n",
    "    大家严格按照部署监控时刻的要求撰写PSI监控时刻的SQL取数则不会出错，如果唯一标识不是apply_id，务必将唯一标识字段名修改为apply_id"
   ]
  },
  {
   "cell_type": "code",
   "execution_count": 2,
   "metadata": {
    "collapsed": true
   },
   "outputs": [],
   "source": [
    "PSI_SQL = '''select userid as apply_id,curr_hismaxdpd,curoverdueday,currentosprincipal, '' as groupby_name\n",
    ", '' as groupby_value,created_at,var_code,var_val from (\n",
    "with application as\n",
    "(\n",
    " select userid from hive_pro.hdp_data_rpt.hdp_rpt_ploan_application \n",
    "    where productid in ('DM-QBXJ') and ml_tasktype in ('CREDIT','ACTIVATE') \n",
    "    and bl_applicationdate < cast(current_date - interval '3' month as varchar)\n",
    "    and approvedflag=1\n",
    "    group by 1\n",
    ")\n",
    ", \n",
    "details as (\n",
    "select userid, var_code, var_val, created_at from (\n",
    "with a as (\n",
    "select apply_id, max(case var_code when 'passportUserId' then var_val else null end) userid\n",
    "from hive_pro.hdp_data_ods.hdp_ods_m_variable_dict where dt between '{{start_date}}' and '{{end_date}}' and product_name = 'walletAppBscore' group by apply_id\n",
    "),\n",
    "b as (\n",
    "select apply_id, var_code, var_val, created_at,\n",
    "row_number() over(partition by apply_id, var_code order by created_at desc) as rn\n",
    "from hive_pro.hdp_data_ods.hdp_ods_m_variable_dict \n",
    "where dt between '{{start_date}}' and '{{end_date}}' and product_name = 'walletAppBscore'\n",
    "and var_code in {{var_list}})\n",
    "select a.userid,b.* from a left join b on a.apply_id = b.apply_id order by 1,2,3) where rn=1\n",
    "),\n",
    "curr_performance as (\n",
    "select userid,max(curoverdueday) curoverdueday, max(hismaxdpd) curr_hismaxdpd, min(drawdownstamp) as drawdownstamp, sum(currentosprincipal) as currentosprincipal\n",
    "from hive_pro.hdp_data_rpt.hdp_rpt_loan_performance\n",
    "where dt= '{{per_date}}' and channeldetailcode in ('W2','DM-QBXJ')\n",
    "group by userid\n",
    " \n",
    ")\n",
    "select application.userid, details.var_code, details.var_val, details.created_at\n",
    ", curr_performance.curr_hismaxdpd,curr_performance.curoverdueday,curr_performance.currentosprincipal\n",
    "from application inner join details\n",
    "on application.userid = details.userid\n",
    "inner join curr_performance \n",
    "on application.userid = curr_performance.userid) where curr_hismaxdpd<30 and curr_hismaxdpd>0 and curoverdueday=0 and currentosprincipal>0'''"
   ]
  },
  {
   "cell_type": "markdown",
   "metadata": {},
   "source": [
    "# 取出部署时相关文件"
   ]
  },
  {
   "cell_type": "code",
   "execution_count": 3,
   "metadata": {
    "collapsed": true
   },
   "outputs": [],
   "source": [
    "# 部署时刻的评分卡,每个人路径不同,根据自己路径修改\n",
    "score_card = pd.read_excel('/Users/pintec/Desktop/XJD_B_V3/03_部署文档/appbv3/自营个贷B卡_v3_2018.11.29.xlsx'\\\n",
    "                           ,sheetname='2_评分卡')"
   ]
  },
  {
   "cell_type": "code",
   "execution_count": 4,
   "metadata": {
    "collapsed": true
   },
   "outputs": [],
   "source": [
    "# 模型部署时刻decile,每个人路径不同,根据自己路径修改\n",
    "model_decile = pd.read_excel('/Users/pintec/Desktop/XJD_B_V3/03_部署文档/appbv3/自营个贷B卡_v3_2018.11.29.xlsx'\\\n",
    "                           ,sheetname='3_decile')"
   ]
  },
  {
   "cell_type": "code",
   "execution_count": 5,
   "metadata": {
    "collapsed": true
   },
   "outputs": [],
   "source": [
    "# 部署时刻的rebin_spec文件,.json文件\n",
    "rebin_spec_bin_adjusted = load_data_from_json('/Users/pintec/Desktop/XJD_B_V3/03_部署文档/appbv3'\\\n",
    "                                              ,'b_v3_selected_rebin_spec.json')"
   ]
  },
  {
   "cell_type": "markdown",
   "metadata": {},
   "source": [
    "# 取数"
   ]
  },
  {
   "cell_type": "code",
   "execution_count": 6,
   "metadata": {
    "collapsed": true
   },
   "outputs": [],
   "source": [
    "# 将中间层指标以及打分以后的指标一并取出\n",
    "var_list = set(list(score_card['中间层指标名称']) + list(score_card['输出打分指标名称']))\n",
    "var_list = tuple(i for i in var_list if str(i)!='nan')"
   ]
  },
  {
   "cell_type": "code",
   "execution_count": 7,
   "metadata": {
    "collapsed": true
   },
   "outputs": [],
   "source": [
    "# 生成最后的sql,每个人情况不同,根据自身情况而定,但其中一定要有apply_id,var_code,create_at字段\n",
    "final_sql = Template(PSI_SQL).render(start_date = '2018-12-01',end_date = '2018-12-08'\\\n",
    "                                     ,var_list = var_list,per_date = '2018-12-05')"
   ]
  },
  {
   "cell_type": "code",
   "execution_count": 8,
   "metadata": {
    "collapsed": true
   },
   "outputs": [],
   "source": [
    "data_B_v3 = presto_read_sql_df(final_sql)\n"
   ]
  },
  {
   "cell_type": "markdown",
   "metadata": {},
   "source": [
    "# 生成上线报告相关数据"
   ]
  },
  {
   "cell_type": "code",
   "execution_count": 9,
   "metadata": {
    "collapsed": true
   },
   "outputs": [],
   "source": [
    "without_filling_miss_data,var_score_wrong,score_wrong,var_psi,score_psi = ss.verify_var_and_score_validity(data_B_v3,score_card,rebin_spec_bin_adjusted,model_decile)"
   ]
  },
  {
   "cell_type": "code",
   "execution_count": 10,
   "metadata": {
    "collapsed": true
   },
   "outputs": [],
   "source": [
    "FINAL_REPORT_PATH = '/Users/pintec/Desktop'"
   ]
  },
  {
   "cell_type": "code",
   "execution_count": 11,
   "metadata": {
    "collapsed": true
   },
   "outputs": [],
   "source": [
    "# python3.6的dict是ordered，按照顺序这样定义，之后生成excel的时候会按照顺序穿件sheet\n",
    "data_dic = {}\n",
    "# 如果sheet对应的内容是dict，则dict的key会出现在sheet第一列。value会从第二列开始插入\n",
    "data_dic['01_变量未填充缺失值'] = without_filling_miss_data\n",
    "data_dic['02_变量打分错误'] = var_score_wrong\n",
    "data_dic['03_模型打分错误'] = score_wrong\n",
    "data_dic['04_变量PSI'] = var_psi\n",
    "data_dic['05_模型PSI'] = score_psi"
   ]
  },
  {
   "cell_type": "code",
   "execution_count": 12,
   "metadata": {
    "collapsed": true
   },
   "outputs": [],
   "source": [
    "fl.ModelSummary2Excel(FINAL_REPORT_PATH, None, \n",
    "                   '上线验证报告,xlsx', data_dic).run()"
   ]
  },
  {
   "cell_type": "code",
   "execution_count": null,
   "metadata": {
    "collapsed": true
   },
   "outputs": [],
   "source": []
  }
 ],
 "metadata": {
  "kernelspec": {
   "display_name": "Python 3",
   "language": "python",
   "name": "python3"
  },
  "language_info": {
   "codemirror_mode": {
    "name": "ipython",
    "version": 3
   },
   "file_extension": ".py",
   "mimetype": "text/x-python",
   "name": "python",
   "nbconvert_exporter": "python",
   "pygments_lexer": "ipython3",
   "version": "3.6.3"
  },
  "toc": {
   "nav_menu": {},
   "number_sections": true,
   "sideBar": true,
   "skip_h1_title": false,
   "toc_cell": false,
   "toc_position": {},
   "toc_section_display": "block",
   "toc_window_display": false
  }
 },
 "nbformat": 4,
 "nbformat_minor": 2
}
