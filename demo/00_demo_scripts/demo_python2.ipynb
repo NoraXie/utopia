{
 "cells": [
  {
   "cell_type": "markdown",
   "metadata": {},
   "source": [
    "# Demo 说明\n",
    "\n",
    "1. <font size=4> ***本文档展示了如何用 `utils/` 中的函数进行建模。使用前请按照repo里面的 `/modeling/requirements.txt`安装相关包。安装方法请见 `/modeling/README.md`  *** </font>\n",
    "2. <font size=4> ***本文档所展示的代码仅为示例，请根据建模时的具体情况做相应的调整。***</font> <font size=6 color=red> ***请勿直接照搬!*** </font>\n"
   ]
  },
  {
   "cell_type": "markdown",
   "metadata": {},
   "source": [
    "# Import packages/modules"
   ]
  },
  {
   "cell_type": "markdown",
   "metadata": {},
   "source": [
    "导入需要用的module和package， 配置Python环境encoding"
   ]
  },
  {
   "cell_type": "code",
   "execution_count": 1,
   "metadata": {},
   "outputs": [
    {
     "name": "stderr",
     "output_type": "stream",
     "text": [
      "/Users/xiangyu/ENV/lib/python2.7/site-packages/statsmodels/compat/pandas.py:56: FutureWarning: The pandas.core.datetools module is deprecated and will be removed in a future version. Please use the pandas.tseries module instead.\n",
      "  from pandas.core import datetools\n",
      "/Users/xiangyu/ENV/lib/python2.7/site-packages/matplotlib/__init__.py:1405: UserWarning: \n",
      "This call to matplotlib.use() has no effect because the backend has already\n",
      "been chosen; matplotlib.use() must be called *before* pylab, matplotlib.pyplot,\n",
      "or matplotlib.backends is imported for the first time.\n",
      "\n",
      "  warnings.warn(_use_error_msg)\n",
      "/Users/xiangyu/ENV/lib/python2.7/site-packages/ggplot/utils.py:81: FutureWarning: pandas.tslib is deprecated and will be removed in a future version.\n",
      "You can access Timestamp as pandas.Timestamp\n",
      "  pd.tslib.Timestamp,\n",
      "/Users/xiangyu/ENV/lib/python2.7/site-packages/ggplot/stats/smoothers.py:4: FutureWarning: The pandas.lib module is deprecated and will be removed in a future version. These are private functions and can be accessed from pandas._libs.lib instead\n",
      "  from pandas.lib import Timestamp\n"
     ]
    }
   ],
   "source": [
    "%matplotlib inline\n",
    "\n",
    "import os\n",
    "import sys\n",
    "import json\n",
    "import logging\n",
    "import warnings\n",
    "\n",
    "import pandas as pd\n",
    "import numpy as np\n",
    "from jinja2 import Template\n",
    "\n",
    "import utils.feature_selection as fs\n",
    "import utils.summary_statistics as ss\n",
    "import utils.metrics as mt\n",
    "import utils.misc_utils as mu\n",
    "import utils.plotting as pl\n",
    "from utils.data_io_utils import *\n",
    "\n",
    "# 在python环境中逐条执行代码时，需要将python执行环境encoding更改为utf-8。\n",
    "stdi, stdo, stde = sys.stdin, sys.stdout, sys.stderr\n",
    "reload(sys)\n",
    "sys.setdefaultencoding('utf-8')\n",
    "sys.stdin, sys.stdout, sys.stderr = stdi, stdo, stde\n",
    "\n",
    "warnings.filterwarnings('ignore')"
   ]
  },
  {
   "cell_type": "markdown",
   "metadata": {},
   "source": [
    "# 设置数据路径"
   ]
  },
  {
   "cell_type": "code",
   "execution_count": 2,
   "metadata": {
    "collapsed": true
   },
   "outputs": [],
   "source": [
    "DATA_PATH = \"/Users/xiangyu/Documents/Seafile/分析文件/modeling/个贷/YZF/01_data/\"\n",
    "RESULT_PATH = \"/Users/xiangyu/Documents/Seafile/分析文件/modeling/个贷/YZF/02_result/\"\n"
   ]
  },
  {
   "cell_type": "markdown",
   "metadata": {},
   "source": [
    "# 整理字典"
   ]
  },
  {
   "cell_type": "markdown",
   "metadata": {},
   "source": [
    "把秒鉴下载下来的指标列表字典进行重命名整理方便代码使用。或者监测是否有足够需要的字典列名。缺少的会`print`出来。"
   ]
  },
  {
   "cell_type": "code",
   "execution_count": 3,
   "metadata": {
    "collapsed": true
   },
   "outputs": [],
   "source": [
    "raw_var_dict = pd.read_excel(os.path.join(DATA_PATH, '外部数据变量字典20171024-翼支付.xlsx'), \\\n",
    "                         encoding='utf-8', sheetname='变量字典')\n",
    "\n",
    "var_dict = mu.clean_var_dict(raw_var_dict)\n",
    "var_dict.to_excel(os.path.join(DATA_PATH, '建模代码可用变量字典.xlsx'), index=False, encoding='utf-8')"
   ]
  },
  {
   "cell_type": "markdown",
   "metadata": {},
   "source": [
    "# 数据录入"
   ]
  },
  {
   "cell_type": "markdown",
   "metadata": {},
   "source": [
    "以下只是数据录入的样例，各数据录入依数据具体情况而定。"
   ]
  },
  {
   "cell_type": "code",
   "execution_count": 14,
   "metadata": {},
   "outputs": [
    {
     "data": {
      "text/html": [
       "<div>\n",
       "<style>\n",
       "    .dataframe thead tr:only-child th {\n",
       "        text-align: right;\n",
       "    }\n",
       "\n",
       "    .dataframe thead th {\n",
       "        text-align: left;\n",
       "    }\n",
       "\n",
       "    .dataframe tbody tr th {\n",
       "        vertical-align: top;\n",
       "    }\n",
       "</style>\n",
       "<table border=\"1\" class=\"dataframe\">\n",
       "  <thead>\n",
       "    <tr style=\"text-align: right;\">\n",
       "      <th></th>\n",
       "      <th>applyid</th>\n",
       "      <th>appmonth</th>\n",
       "      <th>yzf_2</th>\n",
       "      <th>yzf_3</th>\n",
       "      <th>yzf_4</th>\n",
       "      <th>yzf_5</th>\n",
       "      <th>yzf_6</th>\n",
       "      <th>yzf_7</th>\n",
       "      <th>yzf_8</th>\n",
       "      <th>yzf_9</th>\n",
       "      <th>yzf_10</th>\n",
       "      <th>licaidate</th>\n",
       "      <th>sex</th>\n",
       "      <th>shimingdate</th>\n",
       "      <th>Y</th>\n",
       "    </tr>\n",
       "  </thead>\n",
       "  <tbody>\n",
       "    <tr>\n",
       "      <th>0</th>\n",
       "      <td>1</td>\n",
       "      <td>2017-01</td>\n",
       "      <td>4.0</td>\n",
       "      <td>0.000000</td>\n",
       "      <td>200.059998</td>\n",
       "      <td>0.0</td>\n",
       "      <td>99.739998</td>\n",
       "      <td>400.119995</td>\n",
       "      <td>0.00</td>\n",
       "      <td>12.0</td>\n",
       "      <td>0.0</td>\n",
       "      <td>2015-11-12 08:05:16</td>\n",
       "      <td>M</td>\n",
       "      <td>2015-11-12 07:58:47</td>\n",
       "      <td>1</td>\n",
       "    </tr>\n",
       "    <tr>\n",
       "      <th>1</th>\n",
       "      <td>2</td>\n",
       "      <td>2017-02</td>\n",
       "      <td>2.0</td>\n",
       "      <td>0.000000</td>\n",
       "      <td>28.070000</td>\n",
       "      <td>0.0</td>\n",
       "      <td>0.020000</td>\n",
       "      <td>28.070000</td>\n",
       "      <td>0.00</td>\n",
       "      <td>43.0</td>\n",
       "      <td>0.0</td>\n",
       "      <td>-9999999</td>\n",
       "      <td>M</td>\n",
       "      <td>2016-09-02 01:31:42</td>\n",
       "      <td>1</td>\n",
       "    </tr>\n",
       "    <tr>\n",
       "      <th>2</th>\n",
       "      <td>3</td>\n",
       "      <td>2016-12</td>\n",
       "      <td>2.0</td>\n",
       "      <td>1.000000</td>\n",
       "      <td>0.000000</td>\n",
       "      <td>0.0</td>\n",
       "      <td>1.000000</td>\n",
       "      <td>0.000000</td>\n",
       "      <td>1.00</td>\n",
       "      <td>0.0</td>\n",
       "      <td>0.0</td>\n",
       "      <td>2015-08-24 17:12:34</td>\n",
       "      <td>M</td>\n",
       "      <td>2015-08-24 17:12:34</td>\n",
       "      <td>1</td>\n",
       "    </tr>\n",
       "    <tr>\n",
       "      <th>3</th>\n",
       "      <td>4</td>\n",
       "      <td>2016-12</td>\n",
       "      <td>1.0</td>\n",
       "      <td>0.000000</td>\n",
       "      <td>0.000000</td>\n",
       "      <td>0.0</td>\n",
       "      <td>0.000000</td>\n",
       "      <td>0.000000</td>\n",
       "      <td>0.00</td>\n",
       "      <td>0.0</td>\n",
       "      <td>0.0</td>\n",
       "      <td>2015-09-08 03:14:06</td>\n",
       "      <td>F</td>\n",
       "      <td>2015-09-08 03:14:06</td>\n",
       "      <td>1</td>\n",
       "    </tr>\n",
       "    <tr>\n",
       "      <th>4</th>\n",
       "      <td>5</td>\n",
       "      <td>2017-03</td>\n",
       "      <td>32.0</td>\n",
       "      <td>38.920002</td>\n",
       "      <td>362.581848</td>\n",
       "      <td>3.0</td>\n",
       "      <td>538.057007</td>\n",
       "      <td>19579.419922</td>\n",
       "      <td>28.34</td>\n",
       "      <td>79.0</td>\n",
       "      <td>3.0</td>\n",
       "      <td>2016-11-13 13:33:54</td>\n",
       "      <td>M</td>\n",
       "      <td>2016-11-13 13:30:02</td>\n",
       "      <td>1</td>\n",
       "    </tr>\n",
       "  </tbody>\n",
       "</table>\n",
       "</div>"
      ],
      "text/plain": [
       "   applyid appmonth  yzf_2      yzf_3       yzf_4  yzf_5       yzf_6  \\\n",
       "0        1  2017-01    4.0   0.000000  200.059998    0.0   99.739998   \n",
       "1        2  2017-02    2.0   0.000000   28.070000    0.0    0.020000   \n",
       "2        3  2016-12    2.0   1.000000    0.000000    0.0    1.000000   \n",
       "3        4  2016-12    1.0   0.000000    0.000000    0.0    0.000000   \n",
       "4        5  2017-03   32.0  38.920002  362.581848    3.0  538.057007   \n",
       "\n",
       "          yzf_7  yzf_8  yzf_9  yzf_10            licaidate sex  \\\n",
       "0    400.119995   0.00   12.0     0.0  2015-11-12 08:05:16   M   \n",
       "1     28.070000   0.00   43.0     0.0             -9999999   M   \n",
       "2      0.000000   1.00    0.0     0.0  2015-08-24 17:12:34   M   \n",
       "3      0.000000   0.00    0.0     0.0  2015-09-08 03:14:06   F   \n",
       "4  19579.419922  28.34   79.0     3.0  2016-11-13 13:33:54   M   \n",
       "\n",
       "           shimingdate  Y  \n",
       "0  2015-11-12 07:58:47  1  \n",
       "1  2016-09-02 01:31:42  1  \n",
       "2  2015-08-24 17:12:34  1  \n",
       "3  2015-09-08 03:14:06  1  \n",
       "4  2016-11-13 13:30:02  1  "
      ]
     },
     "execution_count": 14,
     "metadata": {},
     "output_type": "execute_result"
    }
   ],
   "source": [
    "data = pd.read_excel(os.path.join(DATA_PATH, '返回数据-x.xlsx'), encoding='gbk')\n",
    "data.head()"
   ]
  },
  {
   "cell_type": "markdown",
   "metadata": {},
   "source": [
    "** <font size=4>重要：将数据的index设置为 applyid或者unique identifier </font>**"
   ]
  },
  {
   "cell_type": "code",
   "execution_count": 15,
   "metadata": {
    "collapsed": true
   },
   "outputs": [],
   "source": [
    "data.index = data.applyid"
   ]
  },
  {
   "cell_type": "code",
   "execution_count": 17,
   "metadata": {},
   "outputs": [
    {
     "data": {
      "text/html": [
       "<div>\n",
       "<style>\n",
       "    .dataframe thead tr:only-child th {\n",
       "        text-align: right;\n",
       "    }\n",
       "\n",
       "    .dataframe thead th {\n",
       "        text-align: left;\n",
       "    }\n",
       "\n",
       "    .dataframe tbody tr th {\n",
       "        vertical-align: top;\n",
       "    }\n",
       "</style>\n",
       "<table border=\"1\" class=\"dataframe\">\n",
       "  <thead>\n",
       "    <tr style=\"text-align: right;\">\n",
       "      <th></th>\n",
       "      <th>yzf_2</th>\n",
       "      <th>yzf_3</th>\n",
       "      <th>yzf_4</th>\n",
       "      <th>yzf_5</th>\n",
       "      <th>yzf_6</th>\n",
       "      <th>yzf_7</th>\n",
       "      <th>yzf_8</th>\n",
       "      <th>yzf_9</th>\n",
       "      <th>yzf_10</th>\n",
       "      <th>licaidate</th>\n",
       "      <th>sex</th>\n",
       "      <th>shimingdate</th>\n",
       "    </tr>\n",
       "    <tr>\n",
       "      <th>applyid</th>\n",
       "      <th></th>\n",
       "      <th></th>\n",
       "      <th></th>\n",
       "      <th></th>\n",
       "      <th></th>\n",
       "      <th></th>\n",
       "      <th></th>\n",
       "      <th></th>\n",
       "      <th></th>\n",
       "      <th></th>\n",
       "      <th></th>\n",
       "      <th></th>\n",
       "    </tr>\n",
       "  </thead>\n",
       "  <tbody>\n",
       "    <tr>\n",
       "      <th>1</th>\n",
       "      <td>4.0</td>\n",
       "      <td>0.000000</td>\n",
       "      <td>200.059998</td>\n",
       "      <td>0.0</td>\n",
       "      <td>99.739998</td>\n",
       "      <td>400.119995</td>\n",
       "      <td>0.00</td>\n",
       "      <td>12.0</td>\n",
       "      <td>0.0</td>\n",
       "      <td>2015-11-12 08:05:16</td>\n",
       "      <td>M</td>\n",
       "      <td>2015-11-12 07:58:47</td>\n",
       "    </tr>\n",
       "    <tr>\n",
       "      <th>2</th>\n",
       "      <td>2.0</td>\n",
       "      <td>0.000000</td>\n",
       "      <td>28.070000</td>\n",
       "      <td>0.0</td>\n",
       "      <td>0.020000</td>\n",
       "      <td>28.070000</td>\n",
       "      <td>0.00</td>\n",
       "      <td>43.0</td>\n",
       "      <td>0.0</td>\n",
       "      <td>-9999999</td>\n",
       "      <td>M</td>\n",
       "      <td>2016-09-02 01:31:42</td>\n",
       "    </tr>\n",
       "    <tr>\n",
       "      <th>3</th>\n",
       "      <td>2.0</td>\n",
       "      <td>1.000000</td>\n",
       "      <td>0.000000</td>\n",
       "      <td>0.0</td>\n",
       "      <td>1.000000</td>\n",
       "      <td>0.000000</td>\n",
       "      <td>1.00</td>\n",
       "      <td>0.0</td>\n",
       "      <td>0.0</td>\n",
       "      <td>2015-08-24 17:12:34</td>\n",
       "      <td>M</td>\n",
       "      <td>2015-08-24 17:12:34</td>\n",
       "    </tr>\n",
       "    <tr>\n",
       "      <th>4</th>\n",
       "      <td>1.0</td>\n",
       "      <td>0.000000</td>\n",
       "      <td>0.000000</td>\n",
       "      <td>0.0</td>\n",
       "      <td>0.000000</td>\n",
       "      <td>0.000000</td>\n",
       "      <td>0.00</td>\n",
       "      <td>0.0</td>\n",
       "      <td>0.0</td>\n",
       "      <td>2015-09-08 03:14:06</td>\n",
       "      <td>F</td>\n",
       "      <td>2015-09-08 03:14:06</td>\n",
       "    </tr>\n",
       "    <tr>\n",
       "      <th>5</th>\n",
       "      <td>32.0</td>\n",
       "      <td>38.920002</td>\n",
       "      <td>362.581848</td>\n",
       "      <td>3.0</td>\n",
       "      <td>538.057007</td>\n",
       "      <td>19579.419922</td>\n",
       "      <td>28.34</td>\n",
       "      <td>79.0</td>\n",
       "      <td>3.0</td>\n",
       "      <td>2016-11-13 13:33:54</td>\n",
       "      <td>M</td>\n",
       "      <td>2016-11-13 13:30:02</td>\n",
       "    </tr>\n",
       "  </tbody>\n",
       "</table>\n",
       "</div>"
      ],
      "text/plain": [
       "         yzf_2      yzf_3       yzf_4  yzf_5       yzf_6         yzf_7  yzf_8  \\\n",
       "applyid                                                                         \n",
       "1          4.0   0.000000  200.059998    0.0   99.739998    400.119995   0.00   \n",
       "2          2.0   0.000000   28.070000    0.0    0.020000     28.070000   0.00   \n",
       "3          2.0   1.000000    0.000000    0.0    1.000000      0.000000   1.00   \n",
       "4          1.0   0.000000    0.000000    0.0    0.000000      0.000000   0.00   \n",
       "5         32.0  38.920002  362.581848    3.0  538.057007  19579.419922  28.34   \n",
       "\n",
       "         yzf_9  yzf_10            licaidate sex          shimingdate  \n",
       "applyid                                                               \n",
       "1         12.0     0.0  2015-11-12 08:05:16   M  2015-11-12 07:58:47  \n",
       "2         43.0     0.0             -9999999   M  2016-09-02 01:31:42  \n",
       "3          0.0     0.0  2015-08-24 17:12:34   M  2015-08-24 17:12:34  \n",
       "4          0.0     0.0  2015-09-08 03:14:06   F  2015-09-08 03:14:06  \n",
       "5         79.0     3.0  2016-11-13 13:33:54   M  2016-11-13 13:30:02  "
      ]
     },
     "execution_count": 17,
     "metadata": {},
     "output_type": "execute_result"
    }
   ],
   "source": [
    "X = data.drop(['applyid', 'Y', 'appmonth'], 1)\n",
    "X.head()"
   ]
  },
  {
   "cell_type": "code",
   "execution_count": 18,
   "metadata": {},
   "outputs": [
    {
     "data": {
      "text/plain": [
       "applyid\n",
       "1    1\n",
       "2    1\n",
       "3    1\n",
       "4    1\n",
       "5    1\n",
       "Name: Y, dtype: int64"
      ]
     },
     "execution_count": 18,
     "metadata": {},
     "output_type": "execute_result"
    }
   ],
   "source": [
    "y = data.Y\n",
    "y.head()"
   ]
  },
  {
   "cell_type": "code",
   "execution_count": 19,
   "metadata": {},
   "outputs": [
    {
     "data": {
      "text/html": [
       "<div>\n",
       "<style>\n",
       "    .dataframe thead tr:only-child th {\n",
       "        text-align: right;\n",
       "    }\n",
       "\n",
       "    .dataframe thead th {\n",
       "        text-align: left;\n",
       "    }\n",
       "\n",
       "    .dataframe tbody tr th {\n",
       "        vertical-align: top;\n",
       "    }\n",
       "</style>\n",
       "<table border=\"1\" class=\"dataframe\">\n",
       "  <thead>\n",
       "    <tr style=\"text-align: right;\">\n",
       "      <th></th>\n",
       "      <th>数据源</th>\n",
       "      <th>数据类型</th>\n",
       "      <th>变量类型</th>\n",
       "      <th>待确认</th>\n",
       "      <th>变量英文</th>\n",
       "      <th>中间层是否使用</th>\n",
       "      <th>JSON原始变量名称</th>\n",
       "      <th>线下变量英文</th>\n",
       "      <th>是否可以直接使用（不考虑业务含义）</th>\n",
       "      <th>变量中文</th>\n",
       "      <th>变量解释</th>\n",
       "      <th>取值解释</th>\n",
       "      <th>更新时间</th>\n",
       "    </tr>\n",
       "  </thead>\n",
       "  <tbody>\n",
       "    <tr>\n",
       "      <th>0</th>\n",
       "      <td>翼支付</td>\n",
       "      <td>varchar</td>\n",
       "      <td>原始变量</td>\n",
       "      <td>NaN</td>\n",
       "      <td>appmonth</td>\n",
       "      <td>NaN</td>\n",
       "      <td>NaN</td>\n",
       "      <td>NaN</td>\n",
       "      <td>NaN</td>\n",
       "      <td>提取时点</td>\n",
       "      <td>NaN</td>\n",
       "      <td>NaN</td>\n",
       "      <td>NaN</td>\n",
       "    </tr>\n",
       "    <tr>\n",
       "      <th>1</th>\n",
       "      <td>翼支付</td>\n",
       "      <td>integer</td>\n",
       "      <td>原始变量</td>\n",
       "      <td>NaN</td>\n",
       "      <td>yzf_2</td>\n",
       "      <td>NaN</td>\n",
       "      <td>NaN</td>\n",
       "      <td>NaN</td>\n",
       "      <td>NaN</td>\n",
       "      <td>上三个自然月累计有消费天数</td>\n",
       "      <td>NaN</td>\n",
       "      <td>NaN</td>\n",
       "      <td>NaN</td>\n",
       "    </tr>\n",
       "    <tr>\n",
       "      <th>2</th>\n",
       "      <td>翼支付</td>\n",
       "      <td>integer</td>\n",
       "      <td>原始变量</td>\n",
       "      <td>NaN</td>\n",
       "      <td>yzf_3</td>\n",
       "      <td>NaN</td>\n",
       "      <td>NaN</td>\n",
       "      <td>NaN</td>\n",
       "      <td>NaN</td>\n",
       "      <td>上三个自然月营销参与平均金额</td>\n",
       "      <td>NaN</td>\n",
       "      <td>NaN</td>\n",
       "      <td>NaN</td>\n",
       "    </tr>\n",
       "    <tr>\n",
       "      <th>3</th>\n",
       "      <td>翼支付</td>\n",
       "      <td>integer</td>\n",
       "      <td>原始变量</td>\n",
       "      <td>NaN</td>\n",
       "      <td>yzf_4</td>\n",
       "      <td>NaN</td>\n",
       "      <td>NaN</td>\n",
       "      <td>NaN</td>\n",
       "      <td>NaN</td>\n",
       "      <td>上三个自然月提现到本人银行卡平均金额</td>\n",
       "      <td>NaN</td>\n",
       "      <td>NaN</td>\n",
       "      <td>NaN</td>\n",
       "    </tr>\n",
       "    <tr>\n",
       "      <th>4</th>\n",
       "      <td>翼支付</td>\n",
       "      <td>integer</td>\n",
       "      <td>原始变量</td>\n",
       "      <td>NaN</td>\n",
       "      <td>yzf_5</td>\n",
       "      <td>NaN</td>\n",
       "      <td>NaN</td>\n",
       "      <td>NaN</td>\n",
       "      <td>NaN</td>\n",
       "      <td>上三个自然月通信缴费天数</td>\n",
       "      <td>NaN</td>\n",
       "      <td>NaN</td>\n",
       "      <td>NaN</td>\n",
       "    </tr>\n",
       "  </tbody>\n",
       "</table>\n",
       "</div>"
      ],
      "text/plain": [
       "   数据源     数据类型  变量类型  待确认      变量英文  中间层是否使用  JSON原始变量名称  线下变量英文  \\\n",
       "0  翼支付  varchar  原始变量  NaN  appmonth      NaN         NaN     NaN   \n",
       "1  翼支付  integer  原始变量  NaN     yzf_2      NaN         NaN     NaN   \n",
       "2  翼支付  integer  原始变量  NaN     yzf_3      NaN         NaN     NaN   \n",
       "3  翼支付  integer  原始变量  NaN     yzf_4      NaN         NaN     NaN   \n",
       "4  翼支付  integer  原始变量  NaN     yzf_5      NaN         NaN     NaN   \n",
       "\n",
       "   是否可以直接使用（不考虑业务含义）                变量中文  变量解释  取值解释  更新时间  \n",
       "0                NaN                提取时点   NaN   NaN   NaN  \n",
       "1                NaN       上三个自然月累计有消费天数   NaN   NaN   NaN  \n",
       "2                NaN      上三个自然月营销参与平均金额   NaN   NaN   NaN  \n",
       "3                NaN  上三个自然月提现到本人银行卡平均金额   NaN   NaN   NaN  \n",
       "4                NaN        上三个自然月通信缴费天数   NaN   NaN   NaN  "
      ]
     },
     "execution_count": 19,
     "metadata": {},
     "output_type": "execute_result"
    }
   ],
   "source": [
    "var_dict = pd.read_excel(os.path.join(DATA_PATH, '建模代码可用变量字典.xlsx'), encoding='utf-8')\n",
    "var_dict.head()"
   ]
  },
  {
   "cell_type": "markdown",
   "metadata": {},
   "source": [
    "# 处理缺失值"
   ]
  },
  {
   "cell_type": "markdown",
   "metadata": {},
   "source": [
    "处理缺失值的时候，发现-9999999是原始数据中已经标注的缺失值。"
   ]
  },
  {
   "cell_type": "code",
   "execution_count": 20,
   "metadata": {
    "collapsed": true
   },
   "outputs": [],
   "source": [
    "X = mu.process_missing(X, var_dict, known_missing={-9999999: -8887})"
   ]
  },
  {
   "cell_type": "code",
   "execution_count": 21,
   "metadata": {},
   "outputs": [
    {
     "data": {
      "text/html": [
       "<div>\n",
       "<style>\n",
       "    .dataframe thead tr:only-child th {\n",
       "        text-align: right;\n",
       "    }\n",
       "\n",
       "    .dataframe thead th {\n",
       "        text-align: left;\n",
       "    }\n",
       "\n",
       "    .dataframe tbody tr th {\n",
       "        vertical-align: top;\n",
       "    }\n",
       "</style>\n",
       "<table border=\"1\" class=\"dataframe\">\n",
       "  <thead>\n",
       "    <tr style=\"text-align: right;\">\n",
       "      <th></th>\n",
       "      <th>yzf_10</th>\n",
       "      <th>shimingdate</th>\n",
       "      <th>sex</th>\n",
       "      <th>yzf_5</th>\n",
       "      <th>yzf_4</th>\n",
       "      <th>yzf_7</th>\n",
       "      <th>yzf_6</th>\n",
       "      <th>licaidate</th>\n",
       "      <th>yzf_3</th>\n",
       "      <th>yzf_2</th>\n",
       "      <th>yzf_9</th>\n",
       "      <th>yzf_8</th>\n",
       "    </tr>\n",
       "    <tr>\n",
       "      <th>applyid</th>\n",
       "      <th></th>\n",
       "      <th></th>\n",
       "      <th></th>\n",
       "      <th></th>\n",
       "      <th></th>\n",
       "      <th></th>\n",
       "      <th></th>\n",
       "      <th></th>\n",
       "      <th></th>\n",
       "      <th></th>\n",
       "      <th></th>\n",
       "      <th></th>\n",
       "    </tr>\n",
       "  </thead>\n",
       "  <tbody>\n",
       "    <tr>\n",
       "      <th>1</th>\n",
       "      <td>0.0</td>\n",
       "      <td>2015-11-12 07:58:47</td>\n",
       "      <td>M</td>\n",
       "      <td>0.0</td>\n",
       "      <td>200.059998</td>\n",
       "      <td>400.119995</td>\n",
       "      <td>99.739998</td>\n",
       "      <td>2015-11-12 08:05:16</td>\n",
       "      <td>0.000000</td>\n",
       "      <td>4.0</td>\n",
       "      <td>12.0</td>\n",
       "      <td>0.00</td>\n",
       "    </tr>\n",
       "    <tr>\n",
       "      <th>2</th>\n",
       "      <td>0.0</td>\n",
       "      <td>2016-09-02 01:31:42</td>\n",
       "      <td>M</td>\n",
       "      <td>0.0</td>\n",
       "      <td>28.070000</td>\n",
       "      <td>28.070000</td>\n",
       "      <td>0.020000</td>\n",
       "      <td>-8887</td>\n",
       "      <td>0.000000</td>\n",
       "      <td>2.0</td>\n",
       "      <td>43.0</td>\n",
       "      <td>0.00</td>\n",
       "    </tr>\n",
       "    <tr>\n",
       "      <th>3</th>\n",
       "      <td>0.0</td>\n",
       "      <td>2015-08-24 17:12:34</td>\n",
       "      <td>M</td>\n",
       "      <td>0.0</td>\n",
       "      <td>0.000000</td>\n",
       "      <td>0.000000</td>\n",
       "      <td>1.000000</td>\n",
       "      <td>2015-08-24 17:12:34</td>\n",
       "      <td>1.000000</td>\n",
       "      <td>2.0</td>\n",
       "      <td>0.0</td>\n",
       "      <td>1.00</td>\n",
       "    </tr>\n",
       "    <tr>\n",
       "      <th>4</th>\n",
       "      <td>0.0</td>\n",
       "      <td>2015-09-08 03:14:06</td>\n",
       "      <td>F</td>\n",
       "      <td>0.0</td>\n",
       "      <td>0.000000</td>\n",
       "      <td>0.000000</td>\n",
       "      <td>0.000000</td>\n",
       "      <td>2015-09-08 03:14:06</td>\n",
       "      <td>0.000000</td>\n",
       "      <td>1.0</td>\n",
       "      <td>0.0</td>\n",
       "      <td>0.00</td>\n",
       "    </tr>\n",
       "    <tr>\n",
       "      <th>5</th>\n",
       "      <td>3.0</td>\n",
       "      <td>2016-11-13 13:30:02</td>\n",
       "      <td>M</td>\n",
       "      <td>3.0</td>\n",
       "      <td>362.581848</td>\n",
       "      <td>19579.419922</td>\n",
       "      <td>538.057007</td>\n",
       "      <td>2016-11-13 13:33:54</td>\n",
       "      <td>38.920002</td>\n",
       "      <td>32.0</td>\n",
       "      <td>79.0</td>\n",
       "      <td>28.34</td>\n",
       "    </tr>\n",
       "  </tbody>\n",
       "</table>\n",
       "</div>"
      ],
      "text/plain": [
       "         yzf_10          shimingdate sex  yzf_5       yzf_4         yzf_7  \\\n",
       "applyid                                                                     \n",
       "1           0.0  2015-11-12 07:58:47   M    0.0  200.059998    400.119995   \n",
       "2           0.0  2016-09-02 01:31:42   M    0.0   28.070000     28.070000   \n",
       "3           0.0  2015-08-24 17:12:34   M    0.0    0.000000      0.000000   \n",
       "4           0.0  2015-09-08 03:14:06   F    0.0    0.000000      0.000000   \n",
       "5           3.0  2016-11-13 13:30:02   M    3.0  362.581848  19579.419922   \n",
       "\n",
       "              yzf_6            licaidate      yzf_3  yzf_2  yzf_9  yzf_8  \n",
       "applyid                                                                   \n",
       "1         99.739998  2015-11-12 08:05:16   0.000000    4.0   12.0   0.00  \n",
       "2          0.020000                -8887   0.000000    2.0   43.0   0.00  \n",
       "3          1.000000  2015-08-24 17:12:34   1.000000    2.0    0.0   1.00  \n",
       "4          0.000000  2015-09-08 03:14:06   0.000000    1.0    0.0   0.00  \n",
       "5        538.057007  2016-11-13 13:33:54  38.920002   32.0   79.0  28.34  "
      ]
     },
     "execution_count": 21,
     "metadata": {},
     "output_type": "execute_result"
    }
   ],
   "source": [
    "X.head()"
   ]
  },
  {
   "cell_type": "markdown",
   "metadata": {},
   "source": [
    "# 转换数据类型"
   ]
  },
  {
   "cell_type": "code",
   "execution_count": 22,
   "metadata": {
    "collapsed": true
   },
   "outputs": [],
   "source": [
    "X = mu.convert_right_data_type(X, var_dict)"
   ]
  },
  {
   "cell_type": "markdown",
   "metadata": {},
   "source": [
    "# 整理清理好的数据并保存"
   ]
  },
  {
   "cell_type": "markdown",
   "metadata": {},
   "source": [
    "至此，数据预处理已经完成，直接存成pickle可保留处理过的数据类型。 <font size=4> 保存前确保index为applyid或其他uniqe identifier </font>"
   ]
  },
  {
   "cell_type": "code",
   "execution_count": null,
   "metadata": {
    "collapsed": true
   },
   "outputs": [],
   "source": [
    "all_with_y = X.merge(data[['applicationdate', 'Y']], left_index=True, right_index=True)\n",
    "all_with_y.loc[:, 'appmonth'] = all_with_y.applicationdate.apply(lambda x: str(x)[:7])"
   ]
  },
  {
   "cell_type": "code",
   "execution_count": 24,
   "metadata": {},
   "outputs": [
    {
     "data": {
      "text/html": [
       "<div>\n",
       "<style>\n",
       "    .dataframe thead tr:only-child th {\n",
       "        text-align: right;\n",
       "    }\n",
       "\n",
       "    .dataframe thead th {\n",
       "        text-align: left;\n",
       "    }\n",
       "\n",
       "    .dataframe tbody tr th {\n",
       "        vertical-align: top;\n",
       "    }\n",
       "</style>\n",
       "<table border=\"1\" class=\"dataframe\">\n",
       "  <thead>\n",
       "    <tr style=\"text-align: right;\">\n",
       "      <th></th>\n",
       "      <th>yzf_10</th>\n",
       "      <th>shimingdate</th>\n",
       "      <th>sex</th>\n",
       "      <th>yzf_5</th>\n",
       "      <th>yzf_4</th>\n",
       "      <th>yzf_7</th>\n",
       "      <th>yzf_6</th>\n",
       "      <th>licaidate</th>\n",
       "      <th>yzf_3</th>\n",
       "      <th>yzf_2</th>\n",
       "      <th>yzf_9</th>\n",
       "      <th>yzf_8</th>\n",
       "      <th>appmonth</th>\n",
       "      <th>Y</th>\n",
       "    </tr>\n",
       "    <tr>\n",
       "      <th>applyid</th>\n",
       "      <th></th>\n",
       "      <th></th>\n",
       "      <th></th>\n",
       "      <th></th>\n",
       "      <th></th>\n",
       "      <th></th>\n",
       "      <th></th>\n",
       "      <th></th>\n",
       "      <th></th>\n",
       "      <th></th>\n",
       "      <th></th>\n",
       "      <th></th>\n",
       "      <th></th>\n",
       "      <th></th>\n",
       "    </tr>\n",
       "  </thead>\n",
       "  <tbody>\n",
       "    <tr>\n",
       "      <th>1</th>\n",
       "      <td>0</td>\n",
       "      <td>2015-11-12 07:58:47</td>\n",
       "      <td>M</td>\n",
       "      <td>0</td>\n",
       "      <td>200</td>\n",
       "      <td>400</td>\n",
       "      <td>99</td>\n",
       "      <td>2015-11-12 08:05:16</td>\n",
       "      <td>0</td>\n",
       "      <td>4</td>\n",
       "      <td>12</td>\n",
       "      <td>0</td>\n",
       "      <td>2017-01</td>\n",
       "      <td>1</td>\n",
       "    </tr>\n",
       "    <tr>\n",
       "      <th>2</th>\n",
       "      <td>0</td>\n",
       "      <td>2016-09-02 01:31:42</td>\n",
       "      <td>M</td>\n",
       "      <td>0</td>\n",
       "      <td>28</td>\n",
       "      <td>28</td>\n",
       "      <td>0</td>\n",
       "      <td>-8887</td>\n",
       "      <td>0</td>\n",
       "      <td>2</td>\n",
       "      <td>43</td>\n",
       "      <td>0</td>\n",
       "      <td>2017-02</td>\n",
       "      <td>1</td>\n",
       "    </tr>\n",
       "    <tr>\n",
       "      <th>3</th>\n",
       "      <td>0</td>\n",
       "      <td>2015-08-24 17:12:34</td>\n",
       "      <td>M</td>\n",
       "      <td>0</td>\n",
       "      <td>0</td>\n",
       "      <td>0</td>\n",
       "      <td>1</td>\n",
       "      <td>2015-08-24 17:12:34</td>\n",
       "      <td>1</td>\n",
       "      <td>2</td>\n",
       "      <td>0</td>\n",
       "      <td>1</td>\n",
       "      <td>2016-12</td>\n",
       "      <td>1</td>\n",
       "    </tr>\n",
       "    <tr>\n",
       "      <th>4</th>\n",
       "      <td>0</td>\n",
       "      <td>2015-09-08 03:14:06</td>\n",
       "      <td>F</td>\n",
       "      <td>0</td>\n",
       "      <td>0</td>\n",
       "      <td>0</td>\n",
       "      <td>0</td>\n",
       "      <td>2015-09-08 03:14:06</td>\n",
       "      <td>0</td>\n",
       "      <td>1</td>\n",
       "      <td>0</td>\n",
       "      <td>0</td>\n",
       "      <td>2016-12</td>\n",
       "      <td>1</td>\n",
       "    </tr>\n",
       "    <tr>\n",
       "      <th>5</th>\n",
       "      <td>3</td>\n",
       "      <td>2016-11-13 13:30:02</td>\n",
       "      <td>M</td>\n",
       "      <td>3</td>\n",
       "      <td>362</td>\n",
       "      <td>19579</td>\n",
       "      <td>538</td>\n",
       "      <td>2016-11-13 13:33:54</td>\n",
       "      <td>38</td>\n",
       "      <td>32</td>\n",
       "      <td>79</td>\n",
       "      <td>28</td>\n",
       "      <td>2017-03</td>\n",
       "      <td>1</td>\n",
       "    </tr>\n",
       "  </tbody>\n",
       "</table>\n",
       "</div>"
      ],
      "text/plain": [
       "         yzf_10          shimingdate sex  yzf_5  yzf_4  yzf_7  yzf_6  \\\n",
       "applyid                                                                \n",
       "1             0  2015-11-12 07:58:47   M      0    200    400     99   \n",
       "2             0  2016-09-02 01:31:42   M      0     28     28      0   \n",
       "3             0  2015-08-24 17:12:34   M      0      0      0      1   \n",
       "4             0  2015-09-08 03:14:06   F      0      0      0      0   \n",
       "5             3  2016-11-13 13:30:02   M      3    362  19579    538   \n",
       "\n",
       "                   licaidate  yzf_3  yzf_2  yzf_9  yzf_8 appmonth  Y  \n",
       "applyid                                                               \n",
       "1        2015-11-12 08:05:16      0      4     12      0  2017-01  1  \n",
       "2                      -8887      0      2     43      0  2017-02  1  \n",
       "3        2015-08-24 17:12:34      1      2      0      1  2016-12  1  \n",
       "4        2015-09-08 03:14:06      0      1      0      0  2016-12  1  \n",
       "5        2016-11-13 13:33:54     38     32     79     28  2017-03  1  "
      ]
     },
     "execution_count": 24,
     "metadata": {},
     "output_type": "execute_result"
    }
   ],
   "source": [
    "all_with_y.head()"
   ]
  },
  {
   "cell_type": "code",
   "execution_count": 26,
   "metadata": {
    "collapsed": true
   },
   "outputs": [],
   "source": [
    "save_data_to_pickle(all_with_y, DATA_PATH, 'all_with_y.pkl')"
   ]
  },
  {
   "cell_type": "markdown",
   "metadata": {},
   "source": [
    "# 读入数据准备建模"
   ]
  },
  {
   "cell_type": "code",
   "execution_count": 28,
   "metadata": {
    "collapsed": true
   },
   "outputs": [],
   "source": [
    "all_with_y = load_data_from_pickle(DATA_PATH, 'all_with_y.pkl')\n",
    "var_dict = pd.read_excel(os.path.join(DATA_PATH, '建模代码可用变量字典.xlsx'), encoding='utf-8')"
   ]
  },
  {
   "cell_type": "code",
   "execution_count": null,
   "metadata": {
    "collapsed": true
   },
   "outputs": [],
   "source": [
    "X = all_with_y.drop(['applicationdate', 'appmonth', 'Y'], 1)"
   ]
  },
  {
   "cell_type": "markdown",
   "metadata": {},
   "source": [
    "# EDA"
   ]
  },
  {
   "cell_type": "markdown",
   "metadata": {},
   "source": [
    "所有变量的exploratory data analysis, 所有变量不同类型的缺失占比，连续型变量的最小值，最大值，均值以及各percentile的值。分类型变量的最高频出现的前三种分类数量和占比。以及一些简单的过滤规则结果(如缺失率过高，数据variation约等于0等)"
   ]
  },
  {
   "cell_type": "code",
   "execution_count": 32,
   "metadata": {
    "collapsed": true
   },
   "outputs": [],
   "source": [
    "useless_vars=['shimingdate', 'licaidate']\n",
    "ss.eda(X, var_dict, useless_vars=useless_vars, exempt_vars=[],\\\n",
    "       data_path=RESULT_PATH, save_label='all')"
   ]
  },
  {
   "cell_type": "markdown",
   "metadata": {},
   "source": [
    "# 筛掉Summary excluded变量进行综合排序"
   ]
  },
  {
   "cell_type": "code",
   "execution_count": 33,
   "metadata": {
    "collapsed": true
   },
   "outputs": [],
   "source": [
    "summary = pd.read_excel(os.path.join(RESULT_PATH, 'all_variables_summary.xlsx'), encoding='utf-8')\n",
    "kept = summary.loc[pd.isnull(summary.exclusion_reason), u'变量英文'].tolist()"
   ]
  },
  {
   "cell_type": "code",
   "execution_count": 34,
   "metadata": {
    "collapsed": true
   },
   "outputs": [],
   "source": [
    "X = all_with_y[kept]\n",
    "y = all_with_y.Y"
   ]
  },
  {
   "cell_type": "code",
   "execution_count": 35,
   "metadata": {},
   "outputs": [
    {
     "data": {
      "text/html": [
       "<div>\n",
       "<style>\n",
       "    .dataframe thead tr:only-child th {\n",
       "        text-align: right;\n",
       "    }\n",
       "\n",
       "    .dataframe thead th {\n",
       "        text-align: left;\n",
       "    }\n",
       "\n",
       "    .dataframe tbody tr th {\n",
       "        vertical-align: top;\n",
       "    }\n",
       "</style>\n",
       "<table border=\"1\" class=\"dataframe\">\n",
       "  <thead>\n",
       "    <tr style=\"text-align: right;\">\n",
       "      <th></th>\n",
       "      <th>yzf_2</th>\n",
       "      <th>yzf_3</th>\n",
       "      <th>yzf_4</th>\n",
       "      <th>yzf_5</th>\n",
       "      <th>yzf_6</th>\n",
       "      <th>yzf_7</th>\n",
       "      <th>yzf_8</th>\n",
       "      <th>yzf_9</th>\n",
       "      <th>yzf_10</th>\n",
       "      <th>sex</th>\n",
       "    </tr>\n",
       "    <tr>\n",
       "      <th>applyid</th>\n",
       "      <th></th>\n",
       "      <th></th>\n",
       "      <th></th>\n",
       "      <th></th>\n",
       "      <th></th>\n",
       "      <th></th>\n",
       "      <th></th>\n",
       "      <th></th>\n",
       "      <th></th>\n",
       "      <th></th>\n",
       "    </tr>\n",
       "  </thead>\n",
       "  <tbody>\n",
       "    <tr>\n",
       "      <th>1</th>\n",
       "      <td>4</td>\n",
       "      <td>0</td>\n",
       "      <td>200</td>\n",
       "      <td>0</td>\n",
       "      <td>99</td>\n",
       "      <td>400</td>\n",
       "      <td>0</td>\n",
       "      <td>12</td>\n",
       "      <td>0</td>\n",
       "      <td>M</td>\n",
       "    </tr>\n",
       "    <tr>\n",
       "      <th>2</th>\n",
       "      <td>2</td>\n",
       "      <td>0</td>\n",
       "      <td>28</td>\n",
       "      <td>0</td>\n",
       "      <td>0</td>\n",
       "      <td>28</td>\n",
       "      <td>0</td>\n",
       "      <td>43</td>\n",
       "      <td>0</td>\n",
       "      <td>M</td>\n",
       "    </tr>\n",
       "    <tr>\n",
       "      <th>3</th>\n",
       "      <td>2</td>\n",
       "      <td>1</td>\n",
       "      <td>0</td>\n",
       "      <td>0</td>\n",
       "      <td>1</td>\n",
       "      <td>0</td>\n",
       "      <td>1</td>\n",
       "      <td>0</td>\n",
       "      <td>0</td>\n",
       "      <td>M</td>\n",
       "    </tr>\n",
       "    <tr>\n",
       "      <th>4</th>\n",
       "      <td>1</td>\n",
       "      <td>0</td>\n",
       "      <td>0</td>\n",
       "      <td>0</td>\n",
       "      <td>0</td>\n",
       "      <td>0</td>\n",
       "      <td>0</td>\n",
       "      <td>0</td>\n",
       "      <td>0</td>\n",
       "      <td>F</td>\n",
       "    </tr>\n",
       "    <tr>\n",
       "      <th>5</th>\n",
       "      <td>32</td>\n",
       "      <td>38</td>\n",
       "      <td>362</td>\n",
       "      <td>3</td>\n",
       "      <td>538</td>\n",
       "      <td>19579</td>\n",
       "      <td>28</td>\n",
       "      <td>79</td>\n",
       "      <td>3</td>\n",
       "      <td>M</td>\n",
       "    </tr>\n",
       "  </tbody>\n",
       "</table>\n",
       "</div>"
      ],
      "text/plain": [
       "         yzf_2  yzf_3  yzf_4  yzf_5  yzf_6  yzf_7  yzf_8  yzf_9  yzf_10 sex\n",
       "applyid                                                                    \n",
       "1            4      0    200      0     99    400      0     12       0   M\n",
       "2            2      0     28      0      0     28      0     43       0   M\n",
       "3            2      1      0      0      1      0      1      0       0   M\n",
       "4            1      0      0      0      0      0      0      0       0   F\n",
       "5           32     38    362      3    538  19579     28     79       3   M"
      ]
     },
     "execution_count": 35,
     "metadata": {},
     "output_type": "execute_result"
    }
   ],
   "source": [
    "X.head()"
   ]
  },
  {
   "cell_type": "code",
   "execution_count": 36,
   "metadata": {},
   "outputs": [
    {
     "data": {
      "text/plain": [
       "applyid\n",
       "1    1\n",
       "2    1\n",
       "3    1\n",
       "4    1\n",
       "5    1\n",
       "Name: Y, dtype: int64"
      ]
     },
     "execution_count": 36,
     "metadata": {},
     "output_type": "execute_result"
    }
   ],
   "source": [
    "y.head()"
   ]
  },
  {
   "cell_type": "markdown",
   "metadata": {},
   "source": [
    "# 分Train，Test样本"
   ]
  },
  {
   "cell_type": "markdown",
   "metadata": {},
   "source": [
    "如果样本量太小，决定不分train， test样本，则可以跳过这一步。"
   ]
  },
  {
   "cell_type": "code",
   "execution_count": 37,
   "metadata": {
    "collapsed": true
   },
   "outputs": [],
   "source": [
    "from sklearn.model_selection import train_test_split\n",
    "train_apply, test_apply = train_test_split(data.applyid, test_size=0.30, random_state=42)\n",
    "\n",
    "data.loc[:, 'sample_set'] = np.where(data.applyid.isin(train_apply), 'train', 'test')"
   ]
  },
  {
   "cell_type": "code",
   "execution_count": 38,
   "metadata": {
    "scrolled": false
   },
   "outputs": [
    {
     "data": {
      "text/html": [
       "<div>\n",
       "<style>\n",
       "    .dataframe thead tr:only-child th {\n",
       "        text-align: right;\n",
       "    }\n",
       "\n",
       "    .dataframe thead th {\n",
       "        text-align: left;\n",
       "    }\n",
       "\n",
       "    .dataframe tbody tr th {\n",
       "        vertical-align: top;\n",
       "    }\n",
       "</style>\n",
       "<table border=\"1\" class=\"dataframe\">\n",
       "  <thead>\n",
       "    <tr style=\"text-align: right;\">\n",
       "      <th></th>\n",
       "      <th>applyid</th>\n",
       "      <th>appmonth</th>\n",
       "      <th>yzf_2</th>\n",
       "      <th>yzf_3</th>\n",
       "      <th>yzf_4</th>\n",
       "      <th>yzf_5</th>\n",
       "      <th>yzf_6</th>\n",
       "      <th>yzf_7</th>\n",
       "      <th>yzf_8</th>\n",
       "      <th>yzf_9</th>\n",
       "      <th>yzf_10</th>\n",
       "      <th>licaidate</th>\n",
       "      <th>sex</th>\n",
       "      <th>shimingdate</th>\n",
       "      <th>Y</th>\n",
       "      <th>sample_set</th>\n",
       "    </tr>\n",
       "    <tr>\n",
       "      <th>applyid</th>\n",
       "      <th></th>\n",
       "      <th></th>\n",
       "      <th></th>\n",
       "      <th></th>\n",
       "      <th></th>\n",
       "      <th></th>\n",
       "      <th></th>\n",
       "      <th></th>\n",
       "      <th></th>\n",
       "      <th></th>\n",
       "      <th></th>\n",
       "      <th></th>\n",
       "      <th></th>\n",
       "      <th></th>\n",
       "      <th></th>\n",
       "      <th></th>\n",
       "    </tr>\n",
       "  </thead>\n",
       "  <tbody>\n",
       "    <tr>\n",
       "      <th>1</th>\n",
       "      <td>1</td>\n",
       "      <td>2017-01</td>\n",
       "      <td>4.0</td>\n",
       "      <td>0.000000</td>\n",
       "      <td>200.059998</td>\n",
       "      <td>0.0</td>\n",
       "      <td>99.739998</td>\n",
       "      <td>400.119995</td>\n",
       "      <td>0.00</td>\n",
       "      <td>12.0</td>\n",
       "      <td>0.0</td>\n",
       "      <td>2015-11-12 08:05:16</td>\n",
       "      <td>M</td>\n",
       "      <td>2015-11-12 07:58:47</td>\n",
       "      <td>1</td>\n",
       "      <td>train</td>\n",
       "    </tr>\n",
       "    <tr>\n",
       "      <th>2</th>\n",
       "      <td>2</td>\n",
       "      <td>2017-02</td>\n",
       "      <td>2.0</td>\n",
       "      <td>0.000000</td>\n",
       "      <td>28.070000</td>\n",
       "      <td>0.0</td>\n",
       "      <td>0.020000</td>\n",
       "      <td>28.070000</td>\n",
       "      <td>0.00</td>\n",
       "      <td>43.0</td>\n",
       "      <td>0.0</td>\n",
       "      <td>-9999999</td>\n",
       "      <td>M</td>\n",
       "      <td>2016-09-02 01:31:42</td>\n",
       "      <td>1</td>\n",
       "      <td>train</td>\n",
       "    </tr>\n",
       "    <tr>\n",
       "      <th>3</th>\n",
       "      <td>3</td>\n",
       "      <td>2016-12</td>\n",
       "      <td>2.0</td>\n",
       "      <td>1.000000</td>\n",
       "      <td>0.000000</td>\n",
       "      <td>0.0</td>\n",
       "      <td>1.000000</td>\n",
       "      <td>0.000000</td>\n",
       "      <td>1.00</td>\n",
       "      <td>0.0</td>\n",
       "      <td>0.0</td>\n",
       "      <td>2015-08-24 17:12:34</td>\n",
       "      <td>M</td>\n",
       "      <td>2015-08-24 17:12:34</td>\n",
       "      <td>1</td>\n",
       "      <td>test</td>\n",
       "    </tr>\n",
       "    <tr>\n",
       "      <th>4</th>\n",
       "      <td>4</td>\n",
       "      <td>2016-12</td>\n",
       "      <td>1.0</td>\n",
       "      <td>0.000000</td>\n",
       "      <td>0.000000</td>\n",
       "      <td>0.0</td>\n",
       "      <td>0.000000</td>\n",
       "      <td>0.000000</td>\n",
       "      <td>0.00</td>\n",
       "      <td>0.0</td>\n",
       "      <td>0.0</td>\n",
       "      <td>2015-09-08 03:14:06</td>\n",
       "      <td>F</td>\n",
       "      <td>2015-09-08 03:14:06</td>\n",
       "      <td>1</td>\n",
       "      <td>train</td>\n",
       "    </tr>\n",
       "    <tr>\n",
       "      <th>5</th>\n",
       "      <td>5</td>\n",
       "      <td>2017-03</td>\n",
       "      <td>32.0</td>\n",
       "      <td>38.920002</td>\n",
       "      <td>362.581848</td>\n",
       "      <td>3.0</td>\n",
       "      <td>538.057007</td>\n",
       "      <td>19579.419922</td>\n",
       "      <td>28.34</td>\n",
       "      <td>79.0</td>\n",
       "      <td>3.0</td>\n",
       "      <td>2016-11-13 13:33:54</td>\n",
       "      <td>M</td>\n",
       "      <td>2016-11-13 13:30:02</td>\n",
       "      <td>1</td>\n",
       "      <td>train</td>\n",
       "    </tr>\n",
       "  </tbody>\n",
       "</table>\n",
       "</div>"
      ],
      "text/plain": [
       "         applyid appmonth  yzf_2      yzf_3       yzf_4  yzf_5       yzf_6  \\\n",
       "applyid                                                                      \n",
       "1              1  2017-01    4.0   0.000000  200.059998    0.0   99.739998   \n",
       "2              2  2017-02    2.0   0.000000   28.070000    0.0    0.020000   \n",
       "3              3  2016-12    2.0   1.000000    0.000000    0.0    1.000000   \n",
       "4              4  2016-12    1.0   0.000000    0.000000    0.0    0.000000   \n",
       "5              5  2017-03   32.0  38.920002  362.581848    3.0  538.057007   \n",
       "\n",
       "                yzf_7  yzf_8  yzf_9  yzf_10            licaidate sex  \\\n",
       "applyid                                                                \n",
       "1          400.119995   0.00   12.0     0.0  2015-11-12 08:05:16   M   \n",
       "2           28.070000   0.00   43.0     0.0             -9999999   M   \n",
       "3            0.000000   1.00    0.0     0.0  2015-08-24 17:12:34   M   \n",
       "4            0.000000   0.00    0.0     0.0  2015-09-08 03:14:06   F   \n",
       "5        19579.419922  28.34   79.0     3.0  2016-11-13 13:33:54   M   \n",
       "\n",
       "                 shimingdate  Y sample_set  \n",
       "applyid                                     \n",
       "1        2015-11-12 07:58:47  1      train  \n",
       "2        2016-09-02 01:31:42  1      train  \n",
       "3        2015-08-24 17:12:34  1       test  \n",
       "4        2015-09-08 03:14:06  1      train  \n",
       "5        2016-11-13 13:30:02  1      train  "
      ]
     },
     "execution_count": 38,
     "metadata": {},
     "output_type": "execute_result"
    }
   ],
   "source": [
    "data.head()"
   ]
  },
  {
   "cell_type": "code",
   "execution_count": 20,
   "metadata": {
    "collapsed": true
   },
   "outputs": [],
   "source": [
    "# data.to_excel(os.path.join(DATA_PATH, '返回数据-x.xlsx'), encoding='gbk')"
   ]
  },
  {
   "cell_type": "code",
   "execution_count": 39,
   "metadata": {
    "collapsed": true
   },
   "outputs": [],
   "source": [
    "X_train = X.loc[data.loc[data.sample_set=='train', 'applyid'].tolist(), :]\n",
    "X_test = X.loc[data.loc[data.sample_set=='test', 'applyid'].tolist(), :]\n",
    "y_train = y.loc[data.loc[data.sample_set=='train', 'applyid'].tolist()]\n",
    "y_test = y.loc[data.loc[data.sample_set=='test', 'applyid'].tolist()]"
   ]
  },
  {
   "cell_type": "markdown",
   "metadata": {},
   "source": [
    "# 各算法的overall_ranking"
   ]
  },
  {
   "cell_type": "markdown",
   "metadata": {},
   "source": [
    "`IV` 是必会包含的, 输出中就有`WOE`表和整理好的相应的`rebin_spec`分箱字典。。其他算法如`random_forest`, `lasso`, `xgboost`可选。\n",
    "当变量很多时，可以用多种算法对所有变量进行综合排序。最后只取综合排序靠前的变量放入stepwise中进一步选择并调整分箱。"
   ]
  },
  {
   "cell_type": "code",
   "execution_count": 46,
   "metadata": {
    "collapsed": true
   },
   "outputs": [],
   "source": [
    "# 用于需要用grid search cv tune parameter\n",
    "args_dict = {\n",
    "    'random_forest': {\n",
    "        'grid_search': True,\n",
    "        'param': None\n",
    "    },\n",
    "    'xgboost': {\n",
    "        'grid_search': True,\n",
    "        'param': None\n",
    "    }\n",
    "}\n",
    "methods = [\n",
    "    'random_forest', \n",
    "    'lasso', \n",
    "#     'xgboost'\n",
    "]\n",
    "\n",
    "fs_obj = fs.FeatureSelection()"
   ]
  },
  {
   "cell_type": "markdown",
   "metadata": {},
   "source": [
    "## 如果决定用train， test 样本"
   ]
  },
  {
   "cell_type": "markdown",
   "metadata": {},
   "source": [
    "</font> <font size=5 color=red> ***\n",
    "`num_max_bins` 默认为自动分10箱。如果数据样本过小（大），数据过于稀疏（密集）可以相应调整。\n",
    "*** </font>"
   ]
  },
  {
   "cell_type": "code",
   "execution_count": 47,
   "metadata": {
    "collapsed": true
   },
   "outputs": [],
   "source": [
    "X_cat_train, woe_iv_df, rebin_spec, ranking_result = fs_obj.overall_ranking(X_train, y_train, \\\n",
    "                                                                            var_dict, args_dict, \\\n",
    "                                                                            methods, num_max_bins=10)"
   ]
  },
  {
   "cell_type": "code",
   "execution_count": 48,
   "metadata": {
    "collapsed": true
   },
   "outputs": [],
   "source": [
    "save_data_to_pickle(X_cat_train, RESULT_PATH, 'X_cat_train_auto.pkl')\n",
    "woe_iv_df.to_excel(os.path.join(RESULT_PATH, 'auto_classing_woe_iv_df.xlsx'), index=False, encoding='utf-8')\n",
    "save_data_to_pickle(rebin_spec, RESULT_PATH, 'all_auto_rebin_spec.pkl')\n",
    "ranking_result.to_excel(os.path.join(RESULT_PATH, 'overall_ranking_result.xlsx'), index=False, encoding='utf-8')"
   ]
  },
  {
   "cell_type": "markdown",
   "metadata": {},
   "source": [
    "## 如果不分train，test样本"
   ]
  },
  {
   "cell_type": "code",
   "execution_count": null,
   "metadata": {
    "collapsed": true
   },
   "outputs": [],
   "source": [
    "X_cat, woe_iv_df, rebin_spec, ranking_result = fs_obj.overall_ranking(X, y, var_dict, args_dict,\\\n",
    "                                                                      methods, num_max_bins=5)"
   ]
  },
  {
   "cell_type": "code",
   "execution_count": null,
   "metadata": {
    "collapsed": true
   },
   "outputs": [],
   "source": [
    "save_data_to_pickle(X_cat, PATH, 'X_cat_auto.pkl')\n",
    "woe_iv_df.to_excel(os.path.join(RESULT_PATH, 'auto_classing_woe_iv_df.xlsx'), index=False, encoding='utf-8')\n",
    "save_data_to_pickle(rebin_spec, RESULT_PATH, 'all_auto_rebin_spec.pkl')\n",
    "ranking_result.to_excel(os.path.join(RESULT_PATH, 'overall_ranking_result.xlsx'), index=False, encoding='utf-8')"
   ]
  },
  {
   "cell_type": "markdown",
   "metadata": {},
   "source": [
    "# Stepwise"
   ]
  },
  {
   "cell_type": "markdown",
   "metadata": {},
   "source": [
    "## 如果决定用train，test样本"
   ]
  },
  {
   "cell_type": "markdown",
   "metadata": {},
   "source": [
    "### 前期准备工作"
   ]
  },
  {
   "cell_type": "code",
   "execution_count": 49,
   "metadata": {
    "collapsed": true
   },
   "outputs": [],
   "source": [
    "# 确定需要留下的排名靠前变量的数量\n",
    "n = 100\n",
    "top_n = ranking_result.sort_values('overall_rank')[u'变量英文'].iloc[:n].tolist()\n",
    "# 决定从top_n中剔除的字段名称\n",
    "exclusion = []\n",
    "# 决定模型一定要有的字段，即使可能不显著\n",
    "start_from = []\n",
    "# 通过综合排序选中的\n",
    "selected = list(set(top_n) - set(exclusion))\n",
    "\n",
    "# 将数据分箱后并转换woe值\n",
    "X_transformed_train = mt.BinWoe().transform_x_all(X_cat_train, woe_iv_df)\n",
    "# clean data\n",
    "X_transformed_train = X_transformed_train[selected]"
   ]
  },
  {
   "cell_type": "markdown",
   "metadata": {},
   "source": [
    "### Colinearity筛选"
   ]
  },
  {
   "cell_type": "markdown",
   "metadata": {},
   "source": [
    "可以通过调整`corr_threshold`和`vif_threshold`来控制会被筛掉的数量。两个都是设置的值越高，被筛掉的变量数量越小"
   ]
  },
  {
   "cell_type": "code",
   "execution_count": 50,
   "metadata": {
    "collapsed": true
   },
   "outputs": [],
   "source": [
    "corr_threshold = 0.7 # 可调\n",
    "vif_threshold = 10 # 可调\n",
    "vif_result = fs.Colinearity().vif(X_transformed_train)\n",
    "corr = fs.Colinearity().calculate_corr(X_transformed_train)\n",
    "cor_vif, exclusion_cols = fs.Colinearity().combine_corr_vif(vif_result, corr, corr_threshold, vif_threshold)\n",
    "cor_vif.to_csv(os.path.join(RESULT_PATH, 'correlation.csv'), encoding='utf-8', index=False)\n",
    "# 经过colinearity决定筛掉的字段\n",
    "exclusion_cols = list(set(exclusion_cols) - set(start_from))"
   ]
  },
  {
   "cell_type": "markdown",
   "metadata": {},
   "source": [
    "### 正式进行stepwise"
   ]
  },
  {
   "cell_type": "markdown",
   "metadata": {},
   "source": [
    "正式进行stepwise。stepwise过程中的数据每一步的输出都会记录在log file中。最后输出的`model_result`,就是auto classing的WOE表，并且额外多了一列记录每个变量在`forward selection`中根据`AIC`的排名`FORWARD_AIC_rank`。\n",
    "\n",
    "选中的变量可以放入模型，进行进一步调整分箱和变量挑选。有的时候，在建模调优后剩下的变量比较少的时候，可以在已经确定的变量基础上再进行一遍stepwise"
   ]
  },
  {
   "cell_type": "code",
   "execution_count": 28,
   "metadata": {
    "collapsed": true
   },
   "outputs": [],
   "source": [
    "new_X_train = X_transformed_train.drop(exclusion_cols, 1)\n",
    "\n",
    "logging.basicConfig(filename=os.path.join(RESULT_PATH, 'test_log.log'), level=logging.INFO, filemode='w')\n",
    "LOG = logging.getLogger(__name__)\n",
    "# default是采取likelihood ratio test, 并且设置的alpha是0.05\n",
    "model_result = fs.FeatureSelection().stepwise(new_X_train, y_train, LOG, start_from)\n",
    "# 可以调整likelihood ratio test的阈值\n",
    "model_result = fs.FeatureSelection().stepwise(new_X_train, y_train, LOG, start_from, lrt_threshold=0.1)\n",
    "# 决定是否用likelihood ratio test\n",
    "model_result = fs.FeatureSelection().stepwise(new_X_train, y_train, LOG, start_from, lrt=False)\n",
    "\n",
    "model_result = woe_iv_df.merge(model_result, left_on=u'变量英文', right_on='var_code').drop('var_code', 1)\n",
    "model_result = model_result.sort_values(['FORWARD_AIC_rank', u'变量英文','sort_val'])\n",
    "model_result.to_excel(os.path.join(RESULT_PATH, 'stepwise_woe_iv_df.xlsx'), encoding='utf-8', index=False)"
   ]
  },
  {
   "cell_type": "markdown",
   "metadata": {},
   "source": [
    "## 如果不分train, test样本"
   ]
  },
  {
   "cell_type": "markdown",
   "metadata": {},
   "source": [
    "### 前期准备工作"
   ]
  },
  {
   "cell_type": "code",
   "execution_count": null,
   "metadata": {
    "collapsed": true
   },
   "outputs": [],
   "source": [
    "# 确定需要留下的排名靠前变量的数量\n",
    "n = 100\n",
    "top_n = ranking_result.sort_values('overall_rank')[u'变量英文'].iloc[:n].tolist()\n",
    "# 决定从top_n中剔除的字段名称\n",
    "exclusion = []\n",
    "# 决定模型一定要有的字段，即使可能不显著\n",
    "start_from = ['zx_searchReasonApprPct2Y']\n",
    "# 通过综合排序选中的\n",
    "selected = list(set(top_n) - set(exclusion))\n",
    "\n",
    "# 将数据分箱后并转换woe值\n",
    "X_transformed = mt.BinWoe().transform_x_all(X_cat, woe_iv_input)\n",
    "# clean data\n",
    "X_transformed = X_transformed[selected]"
   ]
  },
  {
   "cell_type": "markdown",
   "metadata": {},
   "source": [
    "### Colinearity筛选"
   ]
  },
  {
   "cell_type": "markdown",
   "metadata": {},
   "source": [
    "可以通过调整`corr_threshold`和`vif_threshold`来控制会被筛掉的数量。两个都是设置的值越高，被筛掉的变量数量越小"
   ]
  },
  {
   "cell_type": "code",
   "execution_count": null,
   "metadata": {
    "collapsed": true
   },
   "outputs": [],
   "source": [
    "corr_threshold = 0.7 # 可调\n",
    "vif_threshold = 10 # 可调\n",
    "vif_result = fs.Colinearity().vif(X_transformed)\n",
    "corr = fs.Colinearity().calculate_corr(X_transformed)\n",
    "cor_vif, exclusion_cols = fs.Colinearity().combine_corr_vif(vif_result, corr, corr_threshold, vif_threshold)\n",
    "cor_vif.to_csv(os.path.join(RESULT_PATH, 'correlation.csv'), encoding='utf-8', index=False)\n",
    "# 经过colinearity决定筛掉的字段\n",
    "exclusion_cols = list(set(exclusion_cols) - set(start_from))"
   ]
  },
  {
   "cell_type": "markdown",
   "metadata": {},
   "source": [
    "### 正式进行stepwise"
   ]
  },
  {
   "cell_type": "markdown",
   "metadata": {},
   "source": [
    "正式进行stepwise。stepwise过程中的数据每一步的输出都会记录在log file中。最后输出的`model_result`,就是auto classing的WOE表，并且额外多了一列记录每个变量在`forward selection`中根据`AIC`的排名`FORWARD_AIC_rank`。\n",
    "\n",
    "选中的变量可以放入模型，进行进一步调整分箱和变量挑选。有的时候，在建模调优后剩下的变量比较少的时候，可以在已经确定的变量基础上再进行一遍stepwise"
   ]
  },
  {
   "cell_type": "code",
   "execution_count": null,
   "metadata": {
    "collapsed": true
   },
   "outputs": [],
   "source": [
    "new_X = X_transformed.drop(exclusion_cols, 1)\n",
    "\n",
    "logging.basicConfig(filename=os.path.join(DATA_PATH, 'test_log.log'), level=logging.INFO, filemode='w')\n",
    "LOG = logging.getLogger(__name__)\n",
    "# default是采取likelihood ratio test, 并且设置的alpha是0.05\n",
    "model_result = fs.FeatureSelection().stepwise(new_X, y, LOG, start_from)\n",
    "# 可以调整likelihood ratio test的阈值\n",
    "model_result = fs.FeatureSelection().stepwise(new_X, y, LOG, start_from, lrt_threshold=0.1)\n",
    "# 决定是否用likelihood ratio test\n",
    "model_result = fs.FeatureSelection().stepwise(new_X, y, LOG, start_from, lrt=False)\n",
    "\n",
    "model_result = woe_iv_df.merge(model_result, left_on=u'变量英文', right_on='var_code').drop('var_code', 1)\n",
    "model_result = model_result.sort_values(['FORWARD_AIC_rank', u'变量英文','sort_val'])\n",
    "model_result.to_excel(os.path.join(RESULT_PATH, 'stepwise_woe_iv_df.xlsx'), encoding='utf-8', index=False)"
   ]
  },
  {
   "cell_type": "markdown",
   "metadata": {},
   "source": [
    "# 调整粗分箱"
   ]
  },
  {
   "cell_type": "markdown",
   "metadata": {},
   "source": [
    "这一步会有弹框窗口跳出，展示每个变量的分布和相应分箱的逾期率。并可在窗口中加入新分箱的边界并在画图窗口中看到新的分布和逾期率趋势。可以就此决定是否采用此分箱。图面会保留到`RESULT_PATH`下的`figure/distNbad/`路径下。调整后的分箱边界会保存到新的`rebin_spec`中"
   ]
  },
  {
   "cell_type": "code",
   "execution_count": 19,
   "metadata": {
    "collapsed": true
   },
   "outputs": [],
   "source": [
    "model_result = pd.read_excel(os.path.join(RESULT_PATH, 'stepwise_woe_iv_df.xlsx'),\\\n",
    "                             encoding='utf-8')\n"
   ]
  },
  {
   "cell_type": "code",
   "execution_count": 20,
   "metadata": {},
   "outputs": [
    {
     "data": {
      "text/plain": [
       "array([u'yzf_9', u'yzf_4', u'yzf_5', u'sex', u'yzf_3'], dtype=object)"
      ]
     },
     "execution_count": 20,
     "metadata": {},
     "output_type": "execute_result"
    }
   ],
   "source": [
    "selected = model_result.loc[model_result.FORWARD_AIC_rank.notnull(), u'变量英文'].unique()\n",
    "selected\n"
   ]
  },
  {
   "cell_type": "markdown",
   "metadata": {},
   "source": [
    "## 如果决定用train, test样本"
   ]
  },
  {
   "cell_type": "code",
   "execution_count": 28,
   "metadata": {},
   "outputs": [
    {
     "data": {
      "text/plain": [
       "<matplotlib.figure.Figure at 0x11c86f2d0>"
      ]
     },
     "metadata": {},
     "output_type": "display_data"
    }
   ],
   "source": [
    "ui_obj = pl.BinPlotAdjustUI(X_train, y_train, RESULT_PATH, rebin_spec, var_dict)\n",
    "ui_obj.main_ui(selected)"
   ]
  },
  {
   "cell_type": "code",
   "execution_count": 29,
   "metadata": {
    "collapsed": true
   },
   "outputs": [],
   "source": [
    "rebin_spec_bin_adjusted = {k:v for k,v in ui_obj.rebin_spec.items() if k in selected}"
   ]
  },
  {
   "cell_type": "code",
   "execution_count": 31,
   "metadata": {
    "collapsed": true
   },
   "outputs": [],
   "source": [
    "save_data_to_pickle(rebin_spec_bin_adjusted, RESULT_PATH, 'selected_coarse_rebin_spec.pkl')"
   ]
  },
  {
   "cell_type": "code",
   "execution_count": 61,
   "metadata": {
    "collapsed": true
   },
   "outputs": [],
   "source": [
    "# rebin_spec_bin_adjusted = load_data_from_pickle(RESULT_PATH, 'selected_coarse_rebin_spec.pkl')"
   ]
  },
  {
   "cell_type": "code",
   "execution_count": 62,
   "metadata": {
    "collapsed": true
   },
   "outputs": [],
   "source": [
    "# apply new bin cutting to the data\n",
    "bin_obj = mt.BinWoe()\n",
    "new_X = X_train[selected]\n",
    "X_cat_train = bin_obj.convert_to_category(new_X, var_dict, rebin_spec_bin_adjusted)\n",
    "woe_iv_df_coarse = bin_obj.calculate_woe_all(X_cat_train, y_train, var_dict, rebin_spec_bin_adjusted)\n",
    "X_transformed_train= bin_obj.transform_x_all(X_cat_train, woe_iv_df_coarse)"
   ]
  },
  {
   "cell_type": "code",
   "execution_count": 63,
   "metadata": {
    "collapsed": true
   },
   "outputs": [],
   "source": [
    "new_X = X_test[selected]\n",
    "X_cat_test = bin_obj.convert_to_category(new_X, var_dict, rebin_spec_bin_adjusted)\n",
    "X_transformed_test= bin_obj.transform_x_all(X_cat_test, woe_iv_df_coarse)"
   ]
  },
  {
   "cell_type": "code",
   "execution_count": 64,
   "metadata": {
    "collapsed": true
   },
   "outputs": [],
   "source": [
    "save_data_to_pickle(X_cat_train, DATA_PATH, 'X_cat_train.pkl')\n",
    "save_data_to_pickle(X_cat_test, DATA_PATH, 'X_cat_test.pkl')\n",
    "save_data_to_pickle(X_transformed_train, DATA_PATH, 'X_transformed_train.pkl')\n",
    "save_data_to_pickle(X_transformed_test, DATA_PATH, 'X_transformed_test.pkl')\n",
    "\n",
    "woe_iv_df_coarse.to_excel(os.path.join(RESULT_PATH, 'coarse_classing_woe_iv_df.xlsx'), index=False, encoding='utf-8')"
   ]
  },
  {
   "cell_type": "markdown",
   "metadata": {},
   "source": [
    "## 如果不分train, test样本"
   ]
  },
  {
   "cell_type": "code",
   "execution_count": null,
   "metadata": {
    "collapsed": true
   },
   "outputs": [],
   "source": [
    "ui_obj = pl.BinPlotAdjustUI(X, y, RESULT_PATH, rebin_spec, var_dict)\n",
    "ui_obj.main_ui(selected)"
   ]
  },
  {
   "cell_type": "code",
   "execution_count": null,
   "metadata": {
    "collapsed": true
   },
   "outputs": [],
   "source": [
    "rebin_spec_bin_adjusted = ui_obj.rebin_spec"
   ]
  },
  {
   "cell_type": "code",
   "execution_count": 212,
   "metadata": {
    "collapsed": true
   },
   "outputs": [],
   "source": [
    "save_data_to_pickle(rebin_spec_bin_adjusted, RESULT_PATH, 'selected_coarse_rebin_spec.pkl')"
   ]
  },
  {
   "cell_type": "code",
   "execution_count": null,
   "metadata": {
    "collapsed": true
   },
   "outputs": [],
   "source": [
    "# apply new bin cutting to the data\n",
    "bin_obj = mt.BinWoe()\n",
    "new_X = X[selected]\n",
    "X_cat = bin_obj.convert_to_category(new_X, var_dict, rebin_spec_bin_adjusted)\n",
    "woe_iv_df_coarse = bin_obj.calculate_woe_all(X_cat, y, var_dict, rebin_spec_bin_adjusted)\n",
    "X_transformed = bin_obj.transform_x_all(X_cat, woe_iv_df_coarse)"
   ]
  },
  {
   "cell_type": "code",
   "execution_count": null,
   "metadata": {
    "collapsed": true
   },
   "outputs": [],
   "source": [
    "save_data_to_pickle(X_cat, DATA_PATH, 'X_cat.pkl')\n",
    "save_data_to_pickle(X_transformed, DATA_PATH, 'X_transformed.pkl')\n",
    "\n",
    "woe_iv_df_coarse.to_excel(os.path.join(RESULT_PATH, 'coarse_classing_woe_iv_df.xlsx'), index=False, encoding='utf-8')"
   ]
  },
  {
   "cell_type": "markdown",
   "metadata": {},
   "source": [
    "# 检查变量按月分布的逾期率"
   ]
  },
  {
   "cell_type": "markdown",
   "metadata": {},
   "source": [
    "在执行画图函数时图已经被存到 `result_path` 目录下的`figure/badByTime/`路径"
   ]
  },
  {
   "cell_type": "code",
   "execution_count": 35,
   "metadata": {
    "collapsed": true
   },
   "outputs": [],
   "source": [
    "the_var = 'yzf_9'\n",
    "month = data.appmonth"
   ]
  },
  {
   "cell_type": "markdown",
   "metadata": {},
   "source": [
    "## 如果决定用train，test样本"
   ]
  },
  {
   "cell_type": "code",
   "execution_count": 36,
   "metadata": {},
   "outputs": [
    {
     "data": {
      "image/png": "[encoded data removed]",
      "text/plain": [
       "<matplotlib.figure.Figure at 0x112b489d0>"
      ]
     },
     "metadata": {},
     "output_type": "display_data"
    }
   ],
   "source": [
    "monthly_woe_pivot, f = pl.check_badrate_trend(X_cat_train.loc[:, the_var], y_train, month, \\\n",
    "                                              RESULT_PATH, normalize=True)"
   ]
  },
  {
   "cell_type": "markdown",
   "metadata": {},
   "source": [
    "## 如果决定不分train，test样本"
   ]
  },
  {
   "cell_type": "code",
   "execution_count": null,
   "metadata": {
    "collapsed": true
   },
   "outputs": [],
   "source": [
    "monthly_woe_pivot, f = pl.check_badrate_trend(X_cat.loc[:, the_var], y, month, \\\n",
    "                                              RESULT_PATH, normalize=True)"
   ]
  },
  {
   "cell_type": "markdown",
   "metadata": {},
   "source": [
    "# 检查变量按月分布的缺失率"
   ]
  },
  {
   "cell_type": "markdown",
   "metadata": {},
   "source": [
    "在执行画图函数时图已经被存到 `result_path` 目录下的`figure/missingByTime/`路径"
   ]
  },
  {
   "cell_type": "code",
   "execution_count": 40,
   "metadata": {
    "collapsed": true
   },
   "outputs": [],
   "source": [
    "the_var = 'yzf_9'\n",
    "month = data.appmonth"
   ]
  },
  {
   "cell_type": "markdown",
   "metadata": {},
   "source": [
    "## 如果决定用train，test样本"
   ]
  },
  {
   "cell_type": "code",
   "execution_count": 41,
   "metadata": {},
   "outputs": [
    {
     "data": {
      "image/png": "[encoded data removed]",
      "text/plain": [
       "<matplotlib.figure.Figure at 0x1262a7290>"
      ]
     },
     "metadata": {},
     "output_type": "display_data"
    }
   ],
   "source": [
    "rates_by_month, f = pl.missing_trend(X_train.loc[:, the_var], month, RESULT_PATH)"
   ]
  },
  {
   "cell_type": "markdown",
   "metadata": {},
   "source": [
    "## 如果决定不分train，test样本"
   ]
  },
  {
   "cell_type": "code",
   "execution_count": null,
   "metadata": {
    "collapsed": true
   },
   "outputs": [],
   "source": [
    "rates_by_month, f = pl.missing_trend(X.loc[:, the_var], month, RESULT_PATH)"
   ]
  },
  {
   "cell_type": "code",
   "execution_count": null,
   "metadata": {
    "collapsed": true
   },
   "outputs": [],
   "source": [
    "rates_by_month"
   ]
  },
  {
   "cell_type": "code",
   "execution_count": null,
   "metadata": {
    "collapsed": true
   },
   "outputs": [],
   "source": [
    "f"
   ]
  },
  {
   "cell_type": "markdown",
   "metadata": {},
   "source": [
    "# 建模 & 评估"
   ]
  },
  {
   "cell_type": "code",
   "execution_count": 126,
   "metadata": {},
   "outputs": [
    {
     "data": {
      "text/plain": [
       "[u'yzf_5', u'yzf_4', u'yzf_9', u'yzf_3']"
      ]
     },
     "execution_count": 126,
     "metadata": {},
     "output_type": "execute_result"
    }
   ],
   "source": [
    "rebin_spec_bin_adjusted.keys()"
   ]
  },
  {
   "cell_type": "code",
   "execution_count": 43,
   "metadata": {
    "collapsed": true
   },
   "outputs": [],
   "source": [
    "to_keep = [\n",
    "#     u'yzf_5', \n",
    "    u'yzf_4', \n",
    "    u'yzf_9', \n",
    "    u'yzf_3'\n",
    "]"
   ]
  },
  {
   "cell_type": "markdown",
   "metadata": {},
   "source": [
    "## 如果决定用train，test样本"
   ]
  },
  {
   "cell_type": "markdown",
   "metadata": {},
   "source": [
    "### 建模"
   ]
  },
  {
   "cell_type": "code",
   "execution_count": 133,
   "metadata": {},
   "outputs": [
    {
     "data": {
      "text/plain": [
       "(1426, 5)"
      ]
     },
     "execution_count": 133,
     "metadata": {},
     "output_type": "execute_result"
    }
   ],
   "source": [
    "X_transformed_train.shape"
   ]
  },
  {
   "cell_type": "code",
   "execution_count": 134,
   "metadata": {},
   "outputs": [
    {
     "data": {
      "text/plain": [
       "(1426,)"
      ]
     },
     "execution_count": 134,
     "metadata": {},
     "output_type": "execute_result"
    }
   ],
   "source": [
    "y_train.shape"
   ]
  },
  {
   "cell_type": "code",
   "execution_count": null,
   "metadata": {
    "collapsed": true
   },
   "outputs": [],
   "source": [
    "# 统计训练集和测试集的划分比例\n",
    "sample_split_summary = ss.sample_split_summary(y_train,y_test)"
   ]
  },
  {
   "cell_type": "code",
   "execution_count": 44,
   "metadata": {
    "collapsed": true
   },
   "outputs": [],
   "source": [
    "model_final, p_train, p_test = fs.FeatureSelection().logistic_regression(X_transformed_train[to_keep],\\\n",
    "                                                                           X_transformed_test[to_keep],\\\n",
    "                                                                           y_train)"
   ]
  },
  {
   "cell_type": "code",
   "execution_count": 45,
   "metadata": {
    "scrolled": false
   },
   "outputs": [
    {
     "data": {
      "text/html": [
       "<table class=\"simpletable\">\n",
       "<caption>Generalized Linear Model Regression Results</caption>\n",
       "<tr>\n",
       "  <th>Dep. Variable:</th>          <td>Y</td>        <th>  No. Observations:  </th>  <td>  1426</td> \n",
       "</tr>\n",
       "<tr>\n",
       "  <th>Model:</th>                 <td>GLM</td>       <th>  Df Residuals:      </th>  <td>  1422</td> \n",
       "</tr>\n",
       "<tr>\n",
       "  <th>Model Family:</th>       <td>Binomial</td>     <th>  Df Model:          </th>  <td>     3</td> \n",
       "</tr>\n",
       "<tr>\n",
       "  <th>Link Function:</th>        <td>logit</td>      <th>  Scale:             </th>    <td>1.0</td>  \n",
       "</tr>\n",
       "<tr>\n",
       "  <th>Method:</th>               <td>IRLS</td>       <th>  Log-Likelihood:    </th> <td> -608.59</td>\n",
       "</tr>\n",
       "<tr>\n",
       "  <th>Date:</th>           <td>Tue, 21 Nov 2017</td> <th>  Deviance:          </th> <td>  1217.2</td>\n",
       "</tr>\n",
       "<tr>\n",
       "  <th>Time:</th>               <td>13:53:05</td>     <th>  Pearson chi2:      </th> <td>1.43e+03</td>\n",
       "</tr>\n",
       "<tr>\n",
       "  <th>No. Iterations:</th>         <td>6</td>        <th>                     </th>     <td> </td>   \n",
       "</tr>\n",
       "</table>\n",
       "<table class=\"simpletable\">\n",
       "<tr>\n",
       "    <td></td>       <th>coef</th>     <th>std err</th>      <th>z</th>      <th>P>|z|</th>  <th>[0.025</th>    <th>0.975]</th>  \n",
       "</tr>\n",
       "<tr>\n",
       "  <th>const</th> <td>   -1.6421</td> <td>    0.075</td> <td>  -21.974</td> <td> 0.000</td> <td>   -1.789</td> <td>   -1.496</td>\n",
       "</tr>\n",
       "<tr>\n",
       "  <th>yzf_4</th> <td>    0.8108</td> <td>    0.244</td> <td>    3.329</td> <td> 0.001</td> <td>    0.333</td> <td>    1.288</td>\n",
       "</tr>\n",
       "<tr>\n",
       "  <th>yzf_9</th> <td>    0.8232</td> <td>    0.209</td> <td>    3.941</td> <td> 0.000</td> <td>    0.414</td> <td>    1.233</td>\n",
       "</tr>\n",
       "<tr>\n",
       "  <th>yzf_3</th> <td>    0.8004</td> <td>    0.327</td> <td>    2.450</td> <td> 0.014</td> <td>    0.160</td> <td>    1.441</td>\n",
       "</tr>\n",
       "</table>"
      ],
      "text/plain": [
       "<class 'statsmodels.iolib.summary.Summary'>\n",
       "\"\"\"\n",
       "                 Generalized Linear Model Regression Results                  \n",
       "==============================================================================\n",
       "Dep. Variable:                      Y   No. Observations:                 1426\n",
       "Model:                            GLM   Df Residuals:                     1422\n",
       "Model Family:                Binomial   Df Model:                            3\n",
       "Link Function:                  logit   Scale:                             1.0\n",
       "Method:                          IRLS   Log-Likelihood:                -608.59\n",
       "Date:                Tue, 21 Nov 2017   Deviance:                       1217.2\n",
       "Time:                        13:53:05   Pearson chi2:                 1.43e+03\n",
       "No. Iterations:                     6                                         \n",
       "==============================================================================\n",
       "                 coef    std err          z      P>|z|      [0.025      0.975]\n",
       "------------------------------------------------------------------------------\n",
       "const         -1.6421      0.075    -21.974      0.000      -1.789      -1.496\n",
       "yzf_4          0.8108      0.244      3.329      0.001       0.333       1.288\n",
       "yzf_9          0.8232      0.209      3.941      0.000       0.414       1.233\n",
       "yzf_3          0.8004      0.327      2.450      0.014       0.160       1.441\n",
       "==============================================================================\n",
       "\"\"\""
      ]
     },
     "execution_count": 45,
     "metadata": {},
     "output_type": "execute_result"
    }
   ],
   "source": [
    "# 训练集统计结果\n",
    "train_stat = fs.FeatureSelection().model_stat_result(model_final,var_dict)\n",
    "train_stat"
   ]
  },
  {
   "cell_type": "code",
   "execution_count": 46,
   "metadata": {
    "collapsed": true
   },
   "outputs": [],
   "source": [
    "model_final_test, _, _ = fs.FeatureSelection().logistic_regression(X_transformed_test[to_keep],\\\n",
    "                                                                X_transformed_test[to_keep],\\\n",
    "                                                                y_test)\n"
   ]
  },
  {
   "cell_type": "code",
   "execution_count": 47,
   "metadata": {},
   "outputs": [
    {
     "data": {
      "text/html": [
       "<table class=\"simpletable\">\n",
       "<caption>Generalized Linear Model Regression Results</caption>\n",
       "<tr>\n",
       "  <th>Dep. Variable:</th>          <td>Y</td>        <th>  No. Observations:  </th>  <td>   612</td> \n",
       "</tr>\n",
       "<tr>\n",
       "  <th>Model:</th>                 <td>GLM</td>       <th>  Df Residuals:      </th>  <td>   608</td> \n",
       "</tr>\n",
       "<tr>\n",
       "  <th>Model Family:</th>       <td>Binomial</td>     <th>  Df Model:          </th>  <td>     3</td> \n",
       "</tr>\n",
       "<tr>\n",
       "  <th>Link Function:</th>        <td>logit</td>      <th>  Scale:             </th>    <td>1.0</td>  \n",
       "</tr>\n",
       "<tr>\n",
       "  <th>Method:</th>               <td>IRLS</td>       <th>  Log-Likelihood:    </th> <td> -269.07</td>\n",
       "</tr>\n",
       "<tr>\n",
       "  <th>Date:</th>           <td>Tue, 21 Nov 2017</td> <th>  Deviance:          </th> <td>  538.14</td>\n",
       "</tr>\n",
       "<tr>\n",
       "  <th>Time:</th>               <td>13:53:14</td>     <th>  Pearson chi2:      </th>  <td>  617.</td> \n",
       "</tr>\n",
       "<tr>\n",
       "  <th>No. Iterations:</th>         <td>5</td>        <th>                     </th>     <td> </td>   \n",
       "</tr>\n",
       "</table>\n",
       "<table class=\"simpletable\">\n",
       "<tr>\n",
       "    <td></td>       <th>coef</th>     <th>std err</th>      <th>z</th>      <th>P>|z|</th>  <th>[0.025</th>    <th>0.975]</th>  \n",
       "</tr>\n",
       "<tr>\n",
       "  <th>const</th> <td>   -1.5995</td> <td>    0.110</td> <td>  -14.510</td> <td> 0.000</td> <td>   -1.816</td> <td>   -1.383</td>\n",
       "</tr>\n",
       "<tr>\n",
       "  <th>yzf_4</th> <td>    0.4914</td> <td>    0.321</td> <td>    1.533</td> <td> 0.125</td> <td>   -0.137</td> <td>    1.120</td>\n",
       "</tr>\n",
       "<tr>\n",
       "  <th>yzf_9</th> <td>    0.5925</td> <td>    0.281</td> <td>    2.107</td> <td> 0.035</td> <td>    0.041</td> <td>    1.143</td>\n",
       "</tr>\n",
       "<tr>\n",
       "  <th>yzf_3</th> <td>    0.4044</td> <td>    0.492</td> <td>    0.822</td> <td> 0.411</td> <td>   -0.560</td> <td>    1.369</td>\n",
       "</tr>\n",
       "</table>"
      ],
      "text/plain": [
       "<class 'statsmodels.iolib.summary.Summary'>\n",
       "\"\"\"\n",
       "                 Generalized Linear Model Regression Results                  \n",
       "==============================================================================\n",
       "Dep. Variable:                      Y   No. Observations:                  612\n",
       "Model:                            GLM   Df Residuals:                      608\n",
       "Model Family:                Binomial   Df Model:                            3\n",
       "Link Function:                  logit   Scale:                             1.0\n",
       "Method:                          IRLS   Log-Likelihood:                -269.07\n",
       "Date:                Tue, 21 Nov 2017   Deviance:                       538.14\n",
       "Time:                        13:53:14   Pearson chi2:                     617.\n",
       "No. Iterations:                     5                                         \n",
       "==============================================================================\n",
       "                 coef    std err          z      P>|z|      [0.025      0.975]\n",
       "------------------------------------------------------------------------------\n",
       "const         -1.5995      0.110    -14.510      0.000      -1.816      -1.383\n",
       "yzf_4          0.4914      0.321      1.533      0.125      -0.137       1.120\n",
       "yzf_9          0.5925      0.281      2.107      0.035       0.041       1.143\n",
       "yzf_3          0.4044      0.492      0.822      0.411      -0.560       1.369\n",
       "==============================================================================\n",
       "\"\"\""
      ]
     },
     "execution_count": 47,
     "metadata": {},
     "output_type": "execute_result"
    }
   ],
   "source": [
    "# 测试集统计结果\n",
    "test_stat = fs.FeatureSelection().model_stat_result(model_final_test,var_dict)\n",
    "test_stat"
   ]
  },
  {
   "cell_type": "markdown",
   "metadata": {},
   "source": [
    "### KS"
   ]
  },
  {
   "cell_type": "code",
   "execution_count": null,
   "metadata": {
    "collapsed": true
   },
   "outputs": [],
   "source": [
    "save_label = 'withZhima'"
   ]
  },
  {
   "cell_type": "code",
   "execution_count": 48,
   "metadata": {},
   "outputs": [
    {
     "data": {
      "text/plain": [
       "<module 'matplotlib.pyplot' from '/Users/xiangyu/ENV/lib/python2.7/site-packages/matplotlib/pyplot.pyc'>"
      ]
     },
     "execution_count": 48,
     "metadata": {},
     "output_type": "execute_result"
    },
    {
     "data": {
      "image/png": "[encoded data removed]",
      "text/plain": [
       "<matplotlib.figure.Figure at 0x11b59b1d0>"
      ]
     },
     "metadata": {},
     "output_type": "display_data"
    }
   ],
   "source": [
    "# Train KS\n",
    "pl.ks_new(np.array(p_train), np.array(y_train), save_label='model_%s_train' % save_label, \\\n",
    "          plot=True, result_path=RESULT_PATH)"
   ]
  },
  {
   "cell_type": "code",
   "execution_count": 49,
   "metadata": {},
   "outputs": [
    {
     "data": {
      "text/plain": [
       "<module 'matplotlib.pyplot' from '/Users/xiangyu/ENV/lib/python2.7/site-packages/matplotlib/pyplot.pyc'>"
      ]
     },
     "execution_count": 49,
     "metadata": {},
     "output_type": "execute_result"
    },
    {
     "data": {
      "image/png": "[encoded data removed]",
      "text/plain": [
       "<matplotlib.figure.Figure at 0x11b59b390>"
      ]
     },
     "metadata": {},
     "output_type": "display_data"
    }
   ],
   "source": [
    "# Test KS\n",
    "pl.ks_new(np.array(p_test), np.array(y_test), save_label='model_%s_test' % save_label, \\\n",
    "          plot=True, result_path=RESULT_PATH)"
   ]
  },
  {
   "cell_type": "markdown",
   "metadata": {},
   "source": [
    "### AUC"
   ]
  },
  {
   "cell_type": "code",
   "execution_count": 50,
   "metadata": {},
   "outputs": [
    {
     "data": {
      "text/plain": [
       "(0.62984823543002366, <matplotlib.figure.Figure at 0x125e178d0>)"
      ]
     },
     "execution_count": 50,
     "metadata": {},
     "output_type": "execute_result"
    },
    {
     "data": {
      "image/png": "[encoded data removed]",
      "text/plain": [
       "<matplotlib.figure.Figure at 0x125e178d0>"
      ]
     },
     "metadata": {},
     "output_type": "display_data"
    }
   ],
   "source": [
    "pl.print_AUC_one(y_train, p_train, save_label='model_%s_train' % save_label, result_path=RESULT_PATH)"
   ]
  },
  {
   "cell_type": "code",
   "execution_count": 51,
   "metadata": {},
   "outputs": [
    {
     "data": {
      "text/plain": [
       "(0.5908527251942417, <matplotlib.figure.Figure at 0x11b5c32d0>)"
      ]
     },
     "execution_count": 51,
     "metadata": {},
     "output_type": "execute_result"
    },
    {
     "data": {
      "image/png": "[encoded data removed]",
      "text/plain": [
       "<matplotlib.figure.Figure at 0x11b5c32d0>"
      ]
     },
     "metadata": {},
     "output_type": "display_data"
    }
   ],
   "source": [
    "pl.print_AUC_one(y_test, p_test, save_label='model_%s_test' % save_label, result_path=RESULT_PATH)"
   ]
  },
  {
   "cell_type": "code",
   "execution_count": 146,
   "metadata": {
    "collapsed": true
   },
   "outputs": [],
   "source": [
    "save_data_to_pickle(model_final, RESULT_PATH, 'model_%s.pkl' % save_label)"
   ]
  },
  {
   "cell_type": "markdown",
   "metadata": {},
   "source": [
    "### 选中变量correlation"
   ]
  },
  {
   "cell_type": "code",
   "execution_count": 52,
   "metadata": {},
   "outputs": [
    {
     "data": {
      "text/html": [
       "<div>\n",
       "<style>\n",
       "    .dataframe thead tr:only-child th {\n",
       "        text-align: right;\n",
       "    }\n",
       "\n",
       "    .dataframe thead th {\n",
       "        text-align: left;\n",
       "    }\n",
       "\n",
       "    .dataframe tbody tr th {\n",
       "        vertical-align: top;\n",
       "    }\n",
       "</style>\n",
       "<table border=\"1\" class=\"dataframe\">\n",
       "  <thead>\n",
       "    <tr style=\"text-align: right;\">\n",
       "      <th></th>\n",
       "      <th>yzf_4</th>\n",
       "      <th>yzf_9</th>\n",
       "      <th>yzf_3</th>\n",
       "    </tr>\n",
       "  </thead>\n",
       "  <tbody>\n",
       "    <tr>\n",
       "      <th>yzf_4</th>\n",
       "      <td>1.000000</td>\n",
       "      <td>0.254088</td>\n",
       "      <td>0.120612</td>\n",
       "    </tr>\n",
       "    <tr>\n",
       "      <th>yzf_9</th>\n",
       "      <td>0.254088</td>\n",
       "      <td>1.000000</td>\n",
       "      <td>0.088962</td>\n",
       "    </tr>\n",
       "    <tr>\n",
       "      <th>yzf_3</th>\n",
       "      <td>0.120612</td>\n",
       "      <td>0.088962</td>\n",
       "      <td>1.000000</td>\n",
       "    </tr>\n",
       "  </tbody>\n",
       "</table>\n",
       "</div>"
      ],
      "text/plain": [
       "          yzf_4     yzf_9     yzf_3\n",
       "yzf_4  1.000000  0.254088  0.120612\n",
       "yzf_9  0.254088  1.000000  0.088962\n",
       "yzf_3  0.120612  0.088962  1.000000"
      ]
     },
     "execution_count": 52,
     "metadata": {},
     "output_type": "execute_result"
    }
   ],
   "source": [
    "X_transformed_train[to_keep].corr()"
   ]
  },
  {
   "cell_type": "markdown",
   "metadata": {},
   "source": [
    "### 评分卡"
   ]
  },
  {
   "cell_type": "code",
   "execution_count": 52,
   "metadata": {
    "collapsed": true
   },
   "outputs": [],
   "source": [
    "final_model = load_data_from_pickle(RESULT_PATH, 'model_%s.pkl' % save_label)\n",
    "coefficients = final_model.params.to_frame('beta').reset_index().rename(columns={'index':'var_code'})"
   ]
  },
  {
   "cell_type": "code",
   "execution_count": 53,
   "metadata": {},
   "outputs": [
    {
     "data": {
      "text/html": [
       "<div>\n",
       "<style>\n",
       "    .dataframe thead tr:only-child th {\n",
       "        text-align: right;\n",
       "    }\n",
       "\n",
       "    .dataframe thead th {\n",
       "        text-align: left;\n",
       "    }\n",
       "\n",
       "    .dataframe tbody tr th {\n",
       "        vertical-align: top;\n",
       "    }\n",
       "</style>\n",
       "<table border=\"1\" class=\"dataframe\">\n",
       "  <thead>\n",
       "    <tr style=\"text-align: right;\">\n",
       "      <th></th>\n",
       "      <th>var_code</th>\n",
       "      <th>beta</th>\n",
       "    </tr>\n",
       "  </thead>\n",
       "  <tbody>\n",
       "    <tr>\n",
       "      <th>0</th>\n",
       "      <td>const</td>\n",
       "      <td>-1.641179</td>\n",
       "    </tr>\n",
       "    <tr>\n",
       "      <th>1</th>\n",
       "      <td>yzf_4</td>\n",
       "      <td>0.875702</td>\n",
       "    </tr>\n",
       "    <tr>\n",
       "      <th>2</th>\n",
       "      <td>yzf_9</td>\n",
       "      <td>0.855241</td>\n",
       "    </tr>\n",
       "    <tr>\n",
       "      <th>3</th>\n",
       "      <td>yzf_3</td>\n",
       "      <td>0.754064</td>\n",
       "    </tr>\n",
       "  </tbody>\n",
       "</table>\n",
       "</div>"
      ],
      "text/plain": [
       "  var_code      beta\n",
       "0    const -1.641179\n",
       "1    yzf_4  0.875702\n",
       "2    yzf_9  0.855241\n",
       "3    yzf_3  0.754064"
      ]
     },
     "execution_count": 53,
     "metadata": {},
     "output_type": "execute_result"
    }
   ],
   "source": [
    "coefficients"
   ]
  },
  {
   "cell_type": "code",
   "execution_count": 55,
   "metadata": {
    "collapsed": true
   },
   "outputs": [],
   "source": [
    "woe_iv_df_coarse = pd.read_excel(os.path.join(RESULT_PATH, 'coarse_classing_woe_iv_df.xlsx'), encoding='utf-8')"
   ]
  },
  {
   "cell_type": "code",
   "execution_count": 56,
   "metadata": {},
   "outputs": [
    {
     "data": {
      "text/html": [
       "<div>\n",
       "<style>\n",
       "    .dataframe thead tr:only-child th {\n",
       "        text-align: right;\n",
       "    }\n",
       "\n",
       "    .dataframe thead th {\n",
       "        text-align: left;\n",
       "    }\n",
       "\n",
       "    .dataframe tbody tr th {\n",
       "        vertical-align: top;\n",
       "    }\n",
       "</style>\n",
       "<table border=\"1\" class=\"dataframe\">\n",
       "  <thead>\n",
       "    <tr style=\"text-align: right;\">\n",
       "      <th></th>\n",
       "      <th>变量英文</th>\n",
       "      <th>分箱</th>\n",
       "      <th>N</th>\n",
       "      <th>分布占比</th>\n",
       "      <th>WOE</th>\n",
       "      <th>逾期率</th>\n",
       "      <th>Bad分布占比</th>\n",
       "    </tr>\n",
       "  </thead>\n",
       "  <tbody>\n",
       "    <tr>\n",
       "      <th>0</th>\n",
       "      <td>yzf_3</td>\n",
       "      <td>(-inf, 20.0]</td>\n",
       "      <td>127</td>\n",
       "      <td>0.089060</td>\n",
       "      <td>0.129430</td>\n",
       "      <td>0.181102</td>\n",
       "      <td>0.099138</td>\n",
       "    </tr>\n",
       "    <tr>\n",
       "      <th>1</th>\n",
       "      <td>yzf_3</td>\n",
       "      <td>0.0</td>\n",
       "      <td>466</td>\n",
       "      <td>0.326788</td>\n",
       "      <td>0.276002</td>\n",
       "      <td>0.203863</td>\n",
       "      <td>0.409483</td>\n",
       "    </tr>\n",
       "    <tr>\n",
       "      <th>2</th>\n",
       "      <td>yzf_3</td>\n",
       "      <td>(20.0, 30.0]</td>\n",
       "      <td>111</td>\n",
       "      <td>0.077840</td>\n",
       "      <td>-0.217971</td>\n",
       "      <td>0.135135</td>\n",
       "      <td>0.064655</td>\n",
       "    </tr>\n",
       "    <tr>\n",
       "      <th>3</th>\n",
       "      <td>yzf_3</td>\n",
       "      <td>(30.0, 43.0]</td>\n",
       "      <td>120</td>\n",
       "      <td>0.084151</td>\n",
       "      <td>-0.096274</td>\n",
       "      <td>0.150000</td>\n",
       "      <td>0.077586</td>\n",
       "    </tr>\n",
       "    <tr>\n",
       "      <th>4</th>\n",
       "      <td>yzf_3</td>\n",
       "      <td>(43.0, 59.0]</td>\n",
       "      <td>125</td>\n",
       "      <td>0.087658</td>\n",
       "      <td>-0.019901</td>\n",
       "      <td>0.160000</td>\n",
       "      <td>0.086207</td>\n",
       "    </tr>\n",
       "  </tbody>\n",
       "</table>\n",
       "</div>"
      ],
      "text/plain": [
       "    变量英文            分箱    N      分布占比       WOE       逾期率   Bad分布占比\n",
       "0  yzf_3  (-inf, 20.0]  127  0.089060  0.129430  0.181102  0.099138\n",
       "1  yzf_3           0.0  466  0.326788  0.276002  0.203863  0.409483\n",
       "2  yzf_3  (20.0, 30.0]  111  0.077840 -0.217971  0.135135  0.064655\n",
       "3  yzf_3  (30.0, 43.0]  120  0.084151 -0.096274  0.150000  0.077586\n",
       "4  yzf_3  (43.0, 59.0]  125  0.087658 -0.019901  0.160000  0.086207"
      ]
     },
     "execution_count": 56,
     "metadata": {},
     "output_type": "execute_result"
    }
   ],
   "source": [
    "cleaned_woe = woe_iv_df_coarse.loc[woe_iv_df_coarse[u'变量英文'].isin(coefficients.var_code), [u'变量英文', u'分箱', 'N', u'分布占比', 'WOE', u'逾期率', u'Bad分布占比']]\n",
    "cleaned_woe.head()"
   ]
  },
  {
   "cell_type": "code",
   "execution_count": 57,
   "metadata": {
    "collapsed": true
   },
   "outputs": [],
   "source": [
    "score_card = mt.Performance().calculate_score(coefficients, cleaned_woe, 'var_score', var_dict)"
   ]
  },
  {
   "cell_type": "code",
   "execution_count": 58,
   "metadata": {
    "collapsed": true
   },
   "outputs": [],
   "source": [
    "score_card.to_excel(os.path.join(RESULT_PATH, '%s_score_card.xlsx' % save_label), \\\n",
    "                    encoding='utf-8', index=False)"
   ]
  },
  {
   "cell_type": "markdown",
   "metadata": {},
   "source": [
    "### 算分 & decile"
   ]
  },
  {
   "cell_type": "code",
   "execution_count": 65,
   "metadata": {
    "collapsed": true
   },
   "outputs": [],
   "source": [
    "selected = [i for i in coefficients.var_code if i != 'const']\n",
    "train_score = mt.Performance().calculate_score_by_scrd(X_cat_train[selected], score_card)\n",
    "test_score = mt.Performance().calculate_score_by_scrd(X_cat_test[selected], score_card)\n"
   ]
  },
  {
   "cell_type": "code",
   "execution_count": 66,
   "metadata": {},
   "outputs": [
    {
     "data": {
      "text/html": [
       "<div>\n",
       "<style>\n",
       "    .dataframe thead tr:only-child th {\n",
       "        text-align: right;\n",
       "    }\n",
       "\n",
       "    .dataframe thead th {\n",
       "        text-align: left;\n",
       "    }\n",
       "\n",
       "    .dataframe tbody tr th {\n",
       "        vertical-align: top;\n",
       "    }\n",
       "</style>\n",
       "<table border=\"1\" class=\"dataframe\">\n",
       "  <thead>\n",
       "    <tr style=\"text-align: right;\">\n",
       "      <th>col_0</th>\n",
       "      <th>分箱</th>\n",
       "      <th>样本数</th>\n",
       "      <th>好样本数</th>\n",
       "      <th>坏样本数</th>\n",
       "      <th>逾期率</th>\n",
       "      <th>Bad分布占比</th>\n",
       "      <th>Good分布占比</th>\n",
       "      <th>累积Bad占比</th>\n",
       "      <th>累积Good占比</th>\n",
       "      <th>KS</th>\n",
       "      <th>odds(good:bad)</th>\n",
       "    </tr>\n",
       "  </thead>\n",
       "  <tbody>\n",
       "    <tr>\n",
       "      <th>0</th>\n",
       "      <td>(469.0, 526.0]</td>\n",
       "      <td>575</td>\n",
       "      <td>435</td>\n",
       "      <td>140</td>\n",
       "      <td>0.243478</td>\n",
       "      <td>0.603448</td>\n",
       "      <td>0.364322</td>\n",
       "      <td>0.603448</td>\n",
       "      <td>0.364322</td>\n",
       "      <td>0.239127</td>\n",
       "      <td>3.1</td>\n",
       "    </tr>\n",
       "    <tr>\n",
       "      <th>1</th>\n",
       "      <td>(526.0, 564.0]</td>\n",
       "      <td>306</td>\n",
       "      <td>253</td>\n",
       "      <td>53</td>\n",
       "      <td>0.173203</td>\n",
       "      <td>0.228448</td>\n",
       "      <td>0.211893</td>\n",
       "      <td>0.831897</td>\n",
       "      <td>0.576214</td>\n",
       "      <td>0.255682</td>\n",
       "      <td>4.8</td>\n",
       "    </tr>\n",
       "    <tr>\n",
       "      <th>2</th>\n",
       "      <td>(564.0, 655.0]</td>\n",
       "      <td>262</td>\n",
       "      <td>234</td>\n",
       "      <td>28</td>\n",
       "      <td>0.106870</td>\n",
       "      <td>0.120690</td>\n",
       "      <td>0.195980</td>\n",
       "      <td>0.952586</td>\n",
       "      <td>0.772194</td>\n",
       "      <td>0.180392</td>\n",
       "      <td>8.4</td>\n",
       "    </tr>\n",
       "    <tr>\n",
       "      <th>3</th>\n",
       "      <td>(655.0, 939.0]</td>\n",
       "      <td>283</td>\n",
       "      <td>272</td>\n",
       "      <td>11</td>\n",
       "      <td>0.038869</td>\n",
       "      <td>0.047414</td>\n",
       "      <td>0.227806</td>\n",
       "      <td>1.000000</td>\n",
       "      <td>1.000000</td>\n",
       "      <td>0.000000</td>\n",
       "      <td>24.7</td>\n",
       "    </tr>\n",
       "  </tbody>\n",
       "</table>\n",
       "</div>"
      ],
      "text/plain": [
       "col_0              分箱  样本数  好样本数  坏样本数       逾期率   Bad分布占比  Good分布占比  \\\n",
       "0      (469.0, 526.0]  575   435   140  0.243478  0.603448  0.364322   \n",
       "1      (526.0, 564.0]  306   253    53  0.173203  0.228448  0.211893   \n",
       "2      (564.0, 655.0]  262   234    28  0.106870  0.120690  0.195980   \n",
       "3      (655.0, 939.0]  283   272    11  0.038869  0.047414  0.227806   \n",
       "\n",
       "col_0   累积Bad占比  累积Good占比        KS  odds(good:bad)  \n",
       "0      0.603448  0.364322  0.239127             3.1  \n",
       "1      0.831897  0.576214  0.255682             4.8  \n",
       "2      0.952586  0.772194  0.180392             8.4  \n",
       "3      1.000000  1.000000  0.000000            24.7  "
      ]
     },
     "execution_count": 66,
     "metadata": {},
     "output_type": "execute_result"
    }
   ],
   "source": [
    "ks_decile_train = mt.Performance().calculate_ks_by_decile(train_score, np.array(y_train), 'decile', q=5)\n",
    "ks_decile_train"
   ]
  },
  {
   "cell_type": "code",
   "execution_count": 67,
   "metadata": {
    "collapsed": true
   },
   "outputs": [],
   "source": [
    "point_bounds = mt.BinWoe().obtain_boundaries(ks_decile_train[u'分箱'])['cut_boundaries']"
   ]
  },
  {
   "cell_type": "code",
   "execution_count": 68,
   "metadata": {},
   "outputs": [
    {
     "data": {
      "text/html": [
       "<div>\n",
       "<style>\n",
       "    .dataframe thead tr:only-child th {\n",
       "        text-align: right;\n",
       "    }\n",
       "\n",
       "    .dataframe thead th {\n",
       "        text-align: left;\n",
       "    }\n",
       "\n",
       "    .dataframe tbody tr th {\n",
       "        vertical-align: top;\n",
       "    }\n",
       "</style>\n",
       "<table border=\"1\" class=\"dataframe\">\n",
       "  <thead>\n",
       "    <tr style=\"text-align: right;\">\n",
       "      <th>col_0</th>\n",
       "      <th>分箱</th>\n",
       "      <th>样本数</th>\n",
       "      <th>好样本数</th>\n",
       "      <th>坏样本数</th>\n",
       "      <th>逾期率</th>\n",
       "      <th>Bad分布占比</th>\n",
       "      <th>Good分布占比</th>\n",
       "      <th>累积Bad占比</th>\n",
       "      <th>累积Good占比</th>\n",
       "      <th>KS</th>\n",
       "      <th>odds(good:bad)</th>\n",
       "    </tr>\n",
       "  </thead>\n",
       "  <tbody>\n",
       "    <tr>\n",
       "      <th>0</th>\n",
       "      <td>(-inf, 526.0]</td>\n",
       "      <td>256</td>\n",
       "      <td>205</td>\n",
       "      <td>51</td>\n",
       "      <td>0.199219</td>\n",
       "      <td>0.504950</td>\n",
       "      <td>0.401174</td>\n",
       "      <td>0.504950</td>\n",
       "      <td>0.401174</td>\n",
       "      <td>0.103776</td>\n",
       "      <td>4.0</td>\n",
       "    </tr>\n",
       "    <tr>\n",
       "      <th>1</th>\n",
       "      <td>(526.0, 564.0]</td>\n",
       "      <td>117</td>\n",
       "      <td>91</td>\n",
       "      <td>26</td>\n",
       "      <td>0.222222</td>\n",
       "      <td>0.257426</td>\n",
       "      <td>0.178082</td>\n",
       "      <td>0.762376</td>\n",
       "      <td>0.579256</td>\n",
       "      <td>0.183120</td>\n",
       "      <td>3.5</td>\n",
       "    </tr>\n",
       "    <tr>\n",
       "      <th>2</th>\n",
       "      <td>(564.0, 655.0]</td>\n",
       "      <td>122</td>\n",
       "      <td>110</td>\n",
       "      <td>12</td>\n",
       "      <td>0.098361</td>\n",
       "      <td>0.118812</td>\n",
       "      <td>0.215264</td>\n",
       "      <td>0.881188</td>\n",
       "      <td>0.794521</td>\n",
       "      <td>0.086668</td>\n",
       "      <td>9.2</td>\n",
       "    </tr>\n",
       "    <tr>\n",
       "      <th>3</th>\n",
       "      <td>(655.0, inf]</td>\n",
       "      <td>117</td>\n",
       "      <td>105</td>\n",
       "      <td>12</td>\n",
       "      <td>0.102564</td>\n",
       "      <td>0.118812</td>\n",
       "      <td>0.205479</td>\n",
       "      <td>1.000000</td>\n",
       "      <td>1.000000</td>\n",
       "      <td>0.000000</td>\n",
       "      <td>8.8</td>\n",
       "    </tr>\n",
       "  </tbody>\n",
       "</table>\n",
       "</div>"
      ],
      "text/plain": [
       "col_0              分箱  样本数  好样本数  坏样本数       逾期率   Bad分布占比  Good分布占比  \\\n",
       "0       (-inf, 526.0]  256   205    51  0.199219  0.504950  0.401174   \n",
       "1      (526.0, 564.0]  117    91    26  0.222222  0.257426  0.178082   \n",
       "2      (564.0, 655.0]  122   110    12  0.098361  0.118812  0.215264   \n",
       "3        (655.0, inf]  117   105    12  0.102564  0.118812  0.205479   \n",
       "\n",
       "col_0   累积Bad占比  累积Good占比        KS  odds(good:bad)  \n",
       "0      0.504950  0.401174  0.103776             4.0  \n",
       "1      0.762376  0.579256  0.183120             3.5  \n",
       "2      0.881188  0.794521  0.086668             9.2  \n",
       "3      1.000000  1.000000  0.000000             8.8  "
      ]
     },
     "execution_count": 68,
     "metadata": {},
     "output_type": "execute_result"
    }
   ],
   "source": [
    "ks_decile_test = mt.Performance().calculate_ks_by_decile(test_score, np.array(y_test), 'decile', \\\n",
    "                                                         manual_cut_bounds=point_bounds)\n",
    "ks_decile_test"
   ]
  },
  {
   "cell_type": "code",
   "execution_count": 69,
   "metadata": {
    "collapsed": true
   },
   "outputs": [],
   "source": [
    "ks_decile_train.to_csv(os.path.join(RESULT_PATH, '%s_ks_decile_train.csv' % save_label), encoding='gbk')\n",
    "ks_decile_test.to_csv(os.path.join(RESULT_PATH, '%s_ks_decile_test.csv' % save_label), encoding='gbk')"
   ]
  },
  {
   "cell_type": "markdown",
   "metadata": {},
   "source": [
    "### 分数分布"
   ]
  },
  {
   "cell_type": "markdown",
   "metadata": {},
   "source": [
    "plot的同时会把图存到提供的`result_path`目录下的`figure/score_dist/`路径"
   ]
  },
  {
   "cell_type": "code",
   "execution_count": 83,
   "metadata": {},
   "outputs": [
    {
     "data": {
      "text/plain": [
       "<matplotlib.axes._subplots.AxesSubplot at 0x117ecc0d0>"
      ]
     },
     "execution_count": 83,
     "metadata": {},
     "output_type": "execute_result"
    },
    {
     "data": {
      "image/png": "[encoded data removed]",
      "text/plain": [
       "<matplotlib.figure.Figure at 0x117eafa90>"
      ]
     },
     "metadata": {},
     "output_type": "display_data"
    }
   ],
   "source": [
    "pl.score_dist_plot(train_score, 10, '%s_train_score' % save_label, RESULT_PATH)"
   ]
  },
  {
   "cell_type": "code",
   "execution_count": 84,
   "metadata": {},
   "outputs": [
    {
     "data": {
      "text/plain": [
       "<matplotlib.axes._subplots.AxesSubplot at 0x117ef6b10>"
      ]
     },
     "execution_count": 84,
     "metadata": {},
     "output_type": "execute_result"
    },
    {
     "data": {
      "image/png": "[encoded data removed]",
      "text/plain": [
       "<matplotlib.figure.Figure at 0x117f20e10>"
      ]
     },
     "metadata": {},
     "output_type": "display_data"
    }
   ],
   "source": [
    "pl.score_dist_plot(test_score, 8, '%s_test_score' % save_label, RESULT_PATH)"
   ]
  },
  {
   "cell_type": "code",
   "execution_count": 72,
   "metadata": {
    "collapsed": true
   },
   "outputs": [],
   "source": [
    "train_score_data = train_score.to_frame('score').reset_index()\\\n",
    "                              .merge(data[['applyid', 'Y']], on='applyid')\n",
    "train_score_data.loc[:, 'Y'] = np.where(train_score_data.Y==1, 'bad', 'good')\n",
    "test_score_data = test_score.to_frame('score').reset_index()\\\n",
    "                      .merge(data[['applyid', 'Y']], on='applyid')\n",
    "test_score_data.loc[:, 'Y'] = np.where(test_score_data.Y==1, 'bad', 'good')"
   ]
  },
  {
   "cell_type": "code",
   "execution_count": 73,
   "metadata": {
    "collapsed": true
   },
   "outputs": [],
   "source": [
    "point_bounds = mt.BinWoe().obtain_boundaries(ks_decile_train[u'分箱'])['cut_boundaries']"
   ]
  },
  {
   "cell_type": "code",
   "execution_count": 85,
   "metadata": {},
   "outputs": [
    {
     "data": {
      "text/plain": [
       "<module 'matplotlib.pyplot' from '/Users/xiangyu/ENV/lib/python2.7/site-packages/matplotlib/pyplot.pyc'>"
      ]
     },
     "execution_count": 85,
     "metadata": {},
     "output_type": "execute_result"
    },
    {
     "data": {
      "image/png": "[encoded data removed]",
      "text/plain": [
       "<matplotlib.figure.Figure at 0x118343450>"
      ]
     },
     "metadata": {},
     "output_type": "display_data"
    }
   ],
   "source": [
    "pl.compare_dist(train_score_data, 'score', 'Y', \\\n",
    "                          '%s_train_good_bad' % save_label, RESULT_PATH)"
   ]
  },
  {
   "cell_type": "code",
   "execution_count": 86,
   "metadata": {},
   "outputs": [
    {
     "data": {
      "text/plain": [
       "<module 'matplotlib.pyplot' from '/Users/xiangyu/ENV/lib/python2.7/site-packages/matplotlib/pyplot.pyc'>"
      ]
     },
     "execution_count": 86,
     "metadata": {},
     "output_type": "execute_result"
    },
    {
     "data": {
      "image/png": "[encoded data removed]",
      "text/plain": [
       "<matplotlib.figure.Figure at 0x1185d8950>"
      ]
     },
     "metadata": {},
     "output_type": "display_data"
    }
   ],
   "source": [
    "pl.compare_dist(test_score_data, 'score', 'Y', \\\n",
    "                          '%s_test_good_bad' % save_label, RESULT_PATH)"
   ]
  },
  {
   "cell_type": "markdown",
   "metadata": {},
   "source": [
    "## 如果决定不分train，test样本"
   ]
  },
  {
   "cell_type": "markdown",
   "metadata": {},
   "source": [
    "### 建模"
   ]
  },
  {
   "cell_type": "code",
   "execution_count": 10,
   "metadata": {},
   "outputs": [
    {
     "data": {
      "text/plain": [
       "(2447, 14)"
      ]
     },
     "execution_count": 10,
     "metadata": {},
     "output_type": "execute_result"
    }
   ],
   "source": [
    "X_transformed.shape"
   ]
  },
  {
   "cell_type": "code",
   "execution_count": 16,
   "metadata": {},
   "outputs": [
    {
     "data": {
      "text/plain": [
       "(2447,)"
      ]
     },
     "execution_count": 16,
     "metadata": {},
     "output_type": "execute_result"
    }
   ],
   "source": [
    "y.shape"
   ]
  },
  {
   "cell_type": "code",
   "execution_count": 56,
   "metadata": {
    "collapsed": true
   },
   "outputs": [],
   "source": [
    "model_final, p_train, p_train = fs.FeatureSelection().logistic_regression(X_transformed[to_keep],\\\n",
    "                                                                           X_transformed[to_keep],\\\n",
    "                                                                           y)"
   ]
  },
  {
   "cell_type": "code",
   "execution_count": 57,
   "metadata": {
    "scrolled": false
   },
   "outputs": [
    {
     "data": {
      "text/html": [
       "<table class=\"simpletable\">\n",
       "<caption>Generalized Linear Model Regression Results</caption>\n",
       "<tr>\n",
       "  <th>Dep. Variable:</th>          <td>Y</td>        <th>  No. Observations:  </th>  <td>  2447</td> \n",
       "</tr>\n",
       "<tr>\n",
       "  <th>Model:</th>                 <td>GLM</td>       <th>  Df Residuals:      </th>  <td>  2441</td> \n",
       "</tr>\n",
       "<tr>\n",
       "  <th>Model Family:</th>       <td>Binomial</td>     <th>  Df Model:          </th>  <td>     5</td> \n",
       "</tr>\n",
       "<tr>\n",
       "  <th>Link Function:</th>        <td>logit</td>      <th>  Scale:             </th>    <td>1.0</td>  \n",
       "</tr>\n",
       "<tr>\n",
       "  <th>Method:</th>               <td>IRLS</td>       <th>  Log-Likelihood:    </th> <td> -315.61</td>\n",
       "</tr>\n",
       "<tr>\n",
       "  <th>Date:</th>           <td>Tue, 14 Nov 2017</td> <th>  Deviance:          </th> <td>  631.21</td>\n",
       "</tr>\n",
       "<tr>\n",
       "  <th>Time:</th>               <td>15:12:02</td>     <th>  Pearson chi2:      </th> <td>2.56e+03</td>\n",
       "</tr>\n",
       "<tr>\n",
       "  <th>No. Iterations:</th>         <td>7</td>        <th>                     </th>     <td> </td>   \n",
       "</tr>\n",
       "</table>\n",
       "<table class=\"simpletable\">\n",
       "<tr>\n",
       "               <td></td>                 <th>coef</th>     <th>std err</th>      <th>z</th>      <th>P>|z|</th>  <th>[0.025</th>    <th>0.975]</th>  \n",
       "</tr>\n",
       "<tr>\n",
       "  <th>const</th>                      <td>   -3.3860</td> <td>    0.128</td> <td>  -26.467</td> <td> 0.000</td> <td>   -3.637</td> <td>   -3.135</td>\n",
       "</tr>\n",
       "<tr>\n",
       "  <th>tongdunIdMultiLoanNumPf</th>    <td>    1.0609</td> <td>    0.162</td> <td>    6.563</td> <td> 0.000</td> <td>    0.744</td> <td>    1.378</td>\n",
       "</tr>\n",
       "<tr>\n",
       "  <th>ls_sales_amountSmIncrPct6M</th> <td>    1.4388</td> <td>    0.708</td> <td>    2.034</td> <td> 0.042</td> <td>    0.052</td> <td>    2.826</td>\n",
       "</tr>\n",
       "<tr>\n",
       "  <th>first_industry</th>             <td>    0.9146</td> <td>    0.333</td> <td>    2.749</td> <td> 0.006</td> <td>    0.262</td> <td>    1.567</td>\n",
       "</tr>\n",
       "<tr>\n",
       "  <th>appAmtBinByZhimaScore</th>      <td>    1.0111</td> <td>    0.255</td> <td>    3.969</td> <td> 0.000</td> <td>    0.512</td> <td>    1.510</td>\n",
       "</tr>\n",
       "<tr>\n",
       "  <th>operationMonth</th>             <td>    1.0405</td> <td>    0.297</td> <td>    3.508</td> <td> 0.000</td> <td>    0.459</td> <td>    1.622</td>\n",
       "</tr>\n",
       "</table>"
      ],
      "text/plain": [
       "<class 'statsmodels.iolib.summary.Summary'>\n",
       "\"\"\"\n",
       "                 Generalized Linear Model Regression Results                  \n",
       "==============================================================================\n",
       "Dep. Variable:                      Y   No. Observations:                 2447\n",
       "Model:                            GLM   Df Residuals:                     2441\n",
       "Model Family:                Binomial   Df Model:                            5\n",
       "Link Function:                  logit   Scale:                             1.0\n",
       "Method:                          IRLS   Log-Likelihood:                -315.61\n",
       "Date:                Tue, 14 Nov 2017   Deviance:                       631.21\n",
       "Time:                        15:12:02   Pearson chi2:                 2.56e+03\n",
       "No. Iterations:                     7                                         \n",
       "==============================================================================================\n",
       "                                 coef    std err          z      P>|z|      [0.025      0.975]\n",
       "----------------------------------------------------------------------------------------------\n",
       "const                         -3.3860      0.128    -26.467      0.000      -3.637      -3.135\n",
       "tongdunIdMultiLoanNumPf        1.0609      0.162      6.563      0.000       0.744       1.378\n",
       "ls_sales_amountSmIncrPct6M     1.4388      0.708      2.034      0.042       0.052       2.826\n",
       "first_industry                 0.9146      0.333      2.749      0.006       0.262       1.567\n",
       "appAmtBinByZhimaScore          1.0111      0.255      3.969      0.000       0.512       1.510\n",
       "operationMonth                 1.0405      0.297      3.508      0.000       0.459       1.622\n",
       "==============================================================================================\n",
       "\"\"\""
      ]
     },
     "execution_count": 57,
     "metadata": {},
     "output_type": "execute_result"
    }
   ],
   "source": [
    "model_stat = fs.FeatureSelection().model_stat_result(model_final,var_dict)\n",
    "model_stat"
   ]
  },
  {
   "cell_type": "code",
   "execution_count": null,
   "metadata": {
    "collapsed": true
   },
   "outputs": [],
   "source": [
    "p_test = fs.FeatureSelection().logistic_cv(X_transformed[to_keep], y, folds=10)"
   ]
  },
  {
   "cell_type": "markdown",
   "metadata": {},
   "source": [
    "### KS"
   ]
  },
  {
   "cell_type": "code",
   "execution_count": null,
   "metadata": {
    "collapsed": true
   },
   "outputs": [],
   "source": [
    "save_label = 'withZhima'"
   ]
  },
  {
   "cell_type": "code",
   "execution_count": null,
   "metadata": {
    "collapsed": true
   },
   "outputs": [],
   "source": [
    "# Train KS\n",
    "pl.ks_new(np.array(p_train), np.array(y), save_label='model_%s_train' % save_label, \\\n",
    "          plot=True, result_path=RESULT_PATH)"
   ]
  },
  {
   "cell_type": "code",
   "execution_count": null,
   "metadata": {
    "collapsed": true
   },
   "outputs": [],
   "source": [
    "# Test KS\n",
    "pl.ks_new(np.array(p_test), np.array(y), save_label='model_%s_test' % save_label, \\\n",
    "          plot=True, result_path=RESULT_PATH)"
   ]
  },
  {
   "cell_type": "markdown",
   "metadata": {},
   "source": [
    "### AUC"
   ]
  },
  {
   "cell_type": "code",
   "execution_count": null,
   "metadata": {
    "collapsed": true
   },
   "outputs": [],
   "source": [
    "pl.print_AUC_one(y, p_train, save_label='model_%s_train' % save_label, result_path=RESULT_PATH)"
   ]
  },
  {
   "cell_type": "code",
   "execution_count": null,
   "metadata": {
    "collapsed": true
   },
   "outputs": [],
   "source": [
    "pl.print_AUC_one(y, p_test, save_label='model_%s_test' % save_label, result_path=RESULT_PATH)"
   ]
  },
  {
   "cell_type": "code",
   "execution_count": null,
   "metadata": {
    "collapsed": true
   },
   "outputs": [],
   "source": [
    "save_data_to_pickle(model_final, RESULT_PATH, 'model_%s.pkl' % save_label)"
   ]
  },
  {
   "cell_type": "markdown",
   "metadata": {},
   "source": [
    "### 选中变量correlation"
   ]
  },
  {
   "cell_type": "code",
   "execution_count": null,
   "metadata": {
    "collapsed": true
   },
   "outputs": [],
   "source": [
    "X_transformed[to_keep].corr()"
   ]
  },
  {
   "cell_type": "markdown",
   "metadata": {},
   "source": [
    "### 评分卡"
   ]
  },
  {
   "cell_type": "code",
   "execution_count": null,
   "metadata": {
    "collapsed": true
   },
   "outputs": [],
   "source": [
    "num_vars = 5"
   ]
  },
  {
   "cell_type": "code",
   "execution_count": null,
   "metadata": {
    "collapsed": true
   },
   "outputs": [],
   "source": [
    "final_model = load_data_from_pickle(RESULT_PATH, 'model_%s.pkl' % save_label)\n",
    "coefficients = final_model.params.to_frame('beta').reset_index().rename(columns={'index':'var_code'})"
   ]
  },
  {
   "cell_type": "code",
   "execution_count": null,
   "metadata": {
    "collapsed": true
   },
   "outputs": [],
   "source": [
    "coefficients"
   ]
  },
  {
   "cell_type": "code",
   "execution_count": null,
   "metadata": {
    "collapsed": true
   },
   "outputs": [],
   "source": [
    "cleaned_woe = woe_iv_df_coarse.loc[woe_iv_df_coarse[u'变量英文'].isin(coefficients.var_code), [u'变量英文', u'分箱', 'N', u'分布占比', 'WOE', u'逾期率', u'Bad分布占比']]\n",
    "cleaned_woe.head()"
   ]
  },
  {
   "cell_type": "code",
   "execution_count": null,
   "metadata": {
    "collapsed": true
   },
   "outputs": [],
   "source": [
    "score_card = mt.Performance().calculate_score(coefficients, cleaned_woe, 'var_score', var_dict)"
   ]
  },
  {
   "cell_type": "code",
   "execution_count": null,
   "metadata": {
    "collapsed": true
   },
   "outputs": [],
   "source": [
    "score_card.to_excel(os.path.join(RESULT_PATH, '%s_score_card.xlsx' % save_label), \\\n",
    "                    encoding='utf-8', index=False)"
   ]
  },
  {
   "cell_type": "markdown",
   "metadata": {},
   "source": [
    "### 算分 & decile"
   ]
  },
  {
   "cell_type": "code",
   "execution_count": null,
   "metadata": {
    "collapsed": true
   },
   "outputs": [],
   "source": [
    "selected = [i for i in coefficients.var_code if i != 'const']\n",
    "all_score = mt.Performance().calculate_score_by_scrd(X_cat[selected], score_card)\n"
   ]
  },
  {
   "cell_type": "code",
   "execution_count": null,
   "metadata": {
    "collapsed": true
   },
   "outputs": [],
   "source": [
    "ks_decile = mt.Performance().calculate_ks_by_decile(all_score, np.array(y), 'decile', q=5)\n",
    "ks_decile"
   ]
  },
  {
   "cell_type": "code",
   "execution_count": null,
   "metadata": {
    "collapsed": true
   },
   "outputs": [],
   "source": [
    "point_bounds = mt.BinWoe().obtain_boundaries(ks_decile[u'分箱'])['cut_boundaries']"
   ]
  },
  {
   "cell_type": "code",
   "execution_count": null,
   "metadata": {
    "collapsed": true
   },
   "outputs": [],
   "source": [
    "ks_decile.to_csv(os.path.join(RESULT_PATH, '%s_ks_decile.csv' % save_label), encoding='gbk')"
   ]
  },
  {
   "cell_type": "markdown",
   "metadata": {},
   "source": [
    "### 分数分布"
   ]
  },
  {
   "cell_type": "markdown",
   "metadata": {},
   "source": [
    "plot的同时会把图存到提供的`result_path`目录下的`figure/score_dist/`路径"
   ]
  },
  {
   "cell_type": "code",
   "execution_count": null,
   "metadata": {
    "collapsed": true
   },
   "outputs": [],
   "source": [
    "pl.score_dist_plot(all_score, 8, savel_label='%s_score_dist' % save_label, RESULT_PATH)"
   ]
  },
  {
   "cell_type": "code",
   "execution_count": null,
   "metadata": {
    "collapsed": true
   },
   "outputs": [],
   "source": [
    "score_data = all_score.to_frame('score').reset_index()\\\n",
    "                      .merge(data[['applyid', 'Y']], on='applyid')\n"
   ]
  },
  {
   "cell_type": "code",
   "execution_count": null,
   "metadata": {
    "collapsed": true
   },
   "outputs": [],
   "source": [
    "pl.compare_dist(score_data, 'score', 'Y', \\\n",
    "              '%s_good_bad' % save_label, RESULT_PATH)"
   ]
  },
  {
   "cell_type": "markdown",
   "metadata": {},
   "source": [
    "# 稳定性评估"
   ]
  },
  {
   "cell_type": "markdown",
   "metadata": {},
   "source": [
    "## 如果决定用train，test样本"
   ]
  },
  {
   "cell_type": "markdown",
   "metadata": {},
   "source": [
    "### train vs test PSI"
   ]
  },
  {
   "cell_type": "code",
   "execution_count": 14,
   "metadata": {
    "collapsed": true
   },
   "outputs": [],
   "source": [
    "reload(mt)\n",
    "perf = mt.Performance()\n",
    "var_psi_result = perf.variable_psi(X_cat_train, X_cat_test, var_dict)"
   ]
  },
  {
   "cell_type": "code",
   "execution_count": 15,
   "metadata": {
    "scrolled": true
   },
   "outputs": [
    {
     "data": {
      "text/html": [
       "<div>\n",
       "<style>\n",
       "    .dataframe thead tr:only-child th {\n",
       "        text-align: right;\n",
       "    }\n",
       "\n",
       "    .dataframe thead th {\n",
       "        text-align: left;\n",
       "    }\n",
       "\n",
       "    .dataframe tbody tr th {\n",
       "        vertical-align: top;\n",
       "    }\n",
       "</style>\n",
       "<table border=\"1\" class=\"dataframe\">\n",
       "  <thead>\n",
       "    <tr style=\"text-align: right;\">\n",
       "      <th></th>\n",
       "      <th>数据源</th>\n",
       "      <th>变量英文</th>\n",
       "      <th>变量中文</th>\n",
       "      <th>数据类型</th>\n",
       "      <th>变量类型</th>\n",
       "      <th>分箱</th>\n",
       "      <th>基准时点_N</th>\n",
       "      <th>基准时点占比</th>\n",
       "      <th>比较时点_N</th>\n",
       "      <th>比较时点占比</th>\n",
       "      <th>PSI</th>\n",
       "    </tr>\n",
       "  </thead>\n",
       "  <tbody>\n",
       "    <tr>\n",
       "      <th>0</th>\n",
       "      <td>翼支付</td>\n",
       "      <td>yzf_4</td>\n",
       "      <td>上三个自然月提现到本人银行卡平均金额</td>\n",
       "      <td>integer</td>\n",
       "      <td>原始变量</td>\n",
       "      <td>0</td>\n",
       "      <td>1004</td>\n",
       "      <td>0.704067</td>\n",
       "      <td>440</td>\n",
       "      <td>0.718954</td>\n",
       "      <td>0.001971</td>\n",
       "    </tr>\n",
       "    <tr>\n",
       "      <th>1</th>\n",
       "      <td>翼支付</td>\n",
       "      <td>yzf_4</td>\n",
       "      <td>上三个自然月提现到本人银行卡平均金额</td>\n",
       "      <td>integer</td>\n",
       "      <td>原始变量</td>\n",
       "      <td>(0.0, 77.0]</td>\n",
       "      <td>142</td>\n",
       "      <td>0.099579</td>\n",
       "      <td>62</td>\n",
       "      <td>0.101307</td>\n",
       "      <td>0.001971</td>\n",
       "    </tr>\n",
       "    <tr>\n",
       "      <th>2</th>\n",
       "      <td>翼支付</td>\n",
       "      <td>yzf_4</td>\n",
       "      <td>上三个自然月提现到本人银行卡平均金额</td>\n",
       "      <td>integer</td>\n",
       "      <td>原始变量</td>\n",
       "      <td>(77.0, 341.0]</td>\n",
       "      <td>139</td>\n",
       "      <td>0.097475</td>\n",
       "      <td>53</td>\n",
       "      <td>0.086601</td>\n",
       "      <td>0.001971</td>\n",
       "    </tr>\n",
       "    <tr>\n",
       "      <th>3</th>\n",
       "      <td>翼支付</td>\n",
       "      <td>yzf_4</td>\n",
       "      <td>上三个自然月提现到本人银行卡平均金额</td>\n",
       "      <td>integer</td>\n",
       "      <td>原始变量</td>\n",
       "      <td>(341.0, inf]</td>\n",
       "      <td>141</td>\n",
       "      <td>0.098878</td>\n",
       "      <td>57</td>\n",
       "      <td>0.093137</td>\n",
       "      <td>0.001971</td>\n",
       "    </tr>\n",
       "    <tr>\n",
       "      <th>4</th>\n",
       "      <td>翼支付</td>\n",
       "      <td>yzf_9</td>\n",
       "      <td>上三个自然月添益宝利息次数</td>\n",
       "      <td>integer</td>\n",
       "      <td>原始变量</td>\n",
       "      <td>0</td>\n",
       "      <td>1038</td>\n",
       "      <td>0.727910</td>\n",
       "      <td>434</td>\n",
       "      <td>0.709150</td>\n",
       "      <td>0.003019</td>\n",
       "    </tr>\n",
       "    <tr>\n",
       "      <th>5</th>\n",
       "      <td>翼支付</td>\n",
       "      <td>yzf_9</td>\n",
       "      <td>上三个自然月添益宝利息次数</td>\n",
       "      <td>integer</td>\n",
       "      <td>原始变量</td>\n",
       "      <td>(0.0, 16.0]</td>\n",
       "      <td>133</td>\n",
       "      <td>0.093268</td>\n",
       "      <td>56</td>\n",
       "      <td>0.091503</td>\n",
       "      <td>0.003019</td>\n",
       "    </tr>\n",
       "    <tr>\n",
       "      <th>6</th>\n",
       "      <td>翼支付</td>\n",
       "      <td>yzf_9</td>\n",
       "      <td>上三个自然月添益宝利息次数</td>\n",
       "      <td>integer</td>\n",
       "      <td>原始变量</td>\n",
       "      <td>(16.0, 60.0]</td>\n",
       "      <td>126</td>\n",
       "      <td>0.088359</td>\n",
       "      <td>58</td>\n",
       "      <td>0.094771</td>\n",
       "      <td>0.003019</td>\n",
       "    </tr>\n",
       "    <tr>\n",
       "      <th>7</th>\n",
       "      <td>翼支付</td>\n",
       "      <td>yzf_9</td>\n",
       "      <td>上三个自然月添益宝利息次数</td>\n",
       "      <td>integer</td>\n",
       "      <td>原始变量</td>\n",
       "      <td>(60.0, inf]</td>\n",
       "      <td>129</td>\n",
       "      <td>0.090463</td>\n",
       "      <td>64</td>\n",
       "      <td>0.104575</td>\n",
       "      <td>0.003019</td>\n",
       "    </tr>\n",
       "    <tr>\n",
       "      <th>8</th>\n",
       "      <td>翼支付</td>\n",
       "      <td>yzf_3</td>\n",
       "      <td>上三个自然月营销参与平均金额</td>\n",
       "      <td>integer</td>\n",
       "      <td>原始变量</td>\n",
       "      <td>(-inf, 20.0]</td>\n",
       "      <td>131</td>\n",
       "      <td>0.091865</td>\n",
       "      <td>68</td>\n",
       "      <td>0.111111</td>\n",
       "      <td>0.022001</td>\n",
       "    </tr>\n",
       "    <tr>\n",
       "      <th>9</th>\n",
       "      <td>翼支付</td>\n",
       "      <td>yzf_3</td>\n",
       "      <td>上三个自然月营销参与平均金额</td>\n",
       "      <td>integer</td>\n",
       "      <td>原始变量</td>\n",
       "      <td>0</td>\n",
       "      <td>472</td>\n",
       "      <td>0.330996</td>\n",
       "      <td>220</td>\n",
       "      <td>0.359477</td>\n",
       "      <td>0.022001</td>\n",
       "    </tr>\n",
       "    <tr>\n",
       "      <th>10</th>\n",
       "      <td>翼支付</td>\n",
       "      <td>yzf_3</td>\n",
       "      <td>上三个自然月营销参与平均金额</td>\n",
       "      <td>integer</td>\n",
       "      <td>原始变量</td>\n",
       "      <td>(20.0, 30.0]</td>\n",
       "      <td>109</td>\n",
       "      <td>0.076438</td>\n",
       "      <td>44</td>\n",
       "      <td>0.071895</td>\n",
       "      <td>0.022001</td>\n",
       "    </tr>\n",
       "    <tr>\n",
       "      <th>11</th>\n",
       "      <td>翼支付</td>\n",
       "      <td>yzf_3</td>\n",
       "      <td>上三个自然月营销参与平均金额</td>\n",
       "      <td>integer</td>\n",
       "      <td>原始变量</td>\n",
       "      <td>(30.0, 43.0]</td>\n",
       "      <td>125</td>\n",
       "      <td>0.087658</td>\n",
       "      <td>45</td>\n",
       "      <td>0.073529</td>\n",
       "      <td>0.022001</td>\n",
       "    </tr>\n",
       "    <tr>\n",
       "      <th>12</th>\n",
       "      <td>翼支付</td>\n",
       "      <td>yzf_3</td>\n",
       "      <td>上三个自然月营销参与平均金额</td>\n",
       "      <td>integer</td>\n",
       "      <td>原始变量</td>\n",
       "      <td>(43.0, 59.0]</td>\n",
       "      <td>116</td>\n",
       "      <td>0.081346</td>\n",
       "      <td>50</td>\n",
       "      <td>0.081699</td>\n",
       "      <td>0.022001</td>\n",
       "    </tr>\n",
       "    <tr>\n",
       "      <th>13</th>\n",
       "      <td>翼支付</td>\n",
       "      <td>yzf_3</td>\n",
       "      <td>上三个自然月营销参与平均金额</td>\n",
       "      <td>integer</td>\n",
       "      <td>原始变量</td>\n",
       "      <td>(59.0, 79.0]</td>\n",
       "      <td>117</td>\n",
       "      <td>0.082048</td>\n",
       "      <td>40</td>\n",
       "      <td>0.065359</td>\n",
       "      <td>0.022001</td>\n",
       "    </tr>\n",
       "    <tr>\n",
       "      <th>14</th>\n",
       "      <td>翼支付</td>\n",
       "      <td>yzf_3</td>\n",
       "      <td>上三个自然月营销参与平均金额</td>\n",
       "      <td>integer</td>\n",
       "      <td>原始变量</td>\n",
       "      <td>(79.0, 120.0]</td>\n",
       "      <td>117</td>\n",
       "      <td>0.082048</td>\n",
       "      <td>43</td>\n",
       "      <td>0.070261</td>\n",
       "      <td>0.022001</td>\n",
       "    </tr>\n",
       "    <tr>\n",
       "      <th>15</th>\n",
       "      <td>翼支付</td>\n",
       "      <td>yzf_3</td>\n",
       "      <td>上三个自然月营销参与平均金额</td>\n",
       "      <td>integer</td>\n",
       "      <td>原始变量</td>\n",
       "      <td>(120.0, 239.0]</td>\n",
       "      <td>119</td>\n",
       "      <td>0.083450</td>\n",
       "      <td>40</td>\n",
       "      <td>0.065359</td>\n",
       "      <td>0.022001</td>\n",
       "    </tr>\n",
       "    <tr>\n",
       "      <th>16</th>\n",
       "      <td>翼支付</td>\n",
       "      <td>yzf_3</td>\n",
       "      <td>上三个自然月营销参与平均金额</td>\n",
       "      <td>integer</td>\n",
       "      <td>原始变量</td>\n",
       "      <td>(239.0, inf]</td>\n",
       "      <td>120</td>\n",
       "      <td>0.084151</td>\n",
       "      <td>62</td>\n",
       "      <td>0.101307</td>\n",
       "      <td>0.022001</td>\n",
       "    </tr>\n",
       "  </tbody>\n",
       "</table>\n",
       "</div>"
      ],
      "text/plain": [
       "    数据源   变量英文                变量中文     数据类型  变量类型              分箱  基准时点_N  \\\n",
       "0   翼支付  yzf_4  上三个自然月提现到本人银行卡平均金额  integer  原始变量               0    1004   \n",
       "1   翼支付  yzf_4  上三个自然月提现到本人银行卡平均金额  integer  原始变量     (0.0, 77.0]     142   \n",
       "2   翼支付  yzf_4  上三个自然月提现到本人银行卡平均金额  integer  原始变量   (77.0, 341.0]     139   \n",
       "3   翼支付  yzf_4  上三个自然月提现到本人银行卡平均金额  integer  原始变量    (341.0, inf]     141   \n",
       "4   翼支付  yzf_9       上三个自然月添益宝利息次数  integer  原始变量               0    1038   \n",
       "5   翼支付  yzf_9       上三个自然月添益宝利息次数  integer  原始变量     (0.0, 16.0]     133   \n",
       "6   翼支付  yzf_9       上三个自然月添益宝利息次数  integer  原始变量    (16.0, 60.0]     126   \n",
       "7   翼支付  yzf_9       上三个自然月添益宝利息次数  integer  原始变量     (60.0, inf]     129   \n",
       "8   翼支付  yzf_3      上三个自然月营销参与平均金额  integer  原始变量    (-inf, 20.0]     131   \n",
       "9   翼支付  yzf_3      上三个自然月营销参与平均金额  integer  原始变量               0     472   \n",
       "10  翼支付  yzf_3      上三个自然月营销参与平均金额  integer  原始变量    (20.0, 30.0]     109   \n",
       "11  翼支付  yzf_3      上三个自然月营销参与平均金额  integer  原始变量    (30.0, 43.0]     125   \n",
       "12  翼支付  yzf_3      上三个自然月营销参与平均金额  integer  原始变量    (43.0, 59.0]     116   \n",
       "13  翼支付  yzf_3      上三个自然月营销参与平均金额  integer  原始变量    (59.0, 79.0]     117   \n",
       "14  翼支付  yzf_3      上三个自然月营销参与平均金额  integer  原始变量   (79.0, 120.0]     117   \n",
       "15  翼支付  yzf_3      上三个自然月营销参与平均金额  integer  原始变量  (120.0, 239.0]     119   \n",
       "16  翼支付  yzf_3      上三个自然月营销参与平均金额  integer  原始变量    (239.0, inf]     120   \n",
       "\n",
       "      基准时点占比  比较时点_N    比较时点占比       PSI  \n",
       "0   0.704067     440  0.718954  0.001971  \n",
       "1   0.099579      62  0.101307  0.001971  \n",
       "2   0.097475      53  0.086601  0.001971  \n",
       "3   0.098878      57  0.093137  0.001971  \n",
       "4   0.727910     434  0.709150  0.003019  \n",
       "5   0.093268      56  0.091503  0.003019  \n",
       "6   0.088359      58  0.094771  0.003019  \n",
       "7   0.090463      64  0.104575  0.003019  \n",
       "8   0.091865      68  0.111111  0.022001  \n",
       "9   0.330996     220  0.359477  0.022001  \n",
       "10  0.076438      44  0.071895  0.022001  \n",
       "11  0.087658      45  0.073529  0.022001  \n",
       "12  0.081346      50  0.081699  0.022001  \n",
       "13  0.082048      40  0.065359  0.022001  \n",
       "14  0.082048      43  0.070261  0.022001  \n",
       "15  0.083450      40  0.065359  0.022001  \n",
       "16  0.084151      62  0.101307  0.022001  "
      ]
     },
     "execution_count": 15,
     "metadata": {},
     "output_type": "execute_result"
    }
   ],
   "source": [
    "var_psi_result"
   ]
  },
  {
   "cell_type": "code",
   "execution_count": 72,
   "metadata": {
    "collapsed": true
   },
   "outputs": [],
   "source": [
    "score_psi_result = perf.score_psi(train_score, test_score, score_cut_bins=[-np.inf, 500, 800, 1000, np.inf])"
   ]
  },
  {
   "cell_type": "markdown",
   "metadata": {},
   "source": [
    "**需要先整理数据至可以plot的情况**"
   ]
  },
  {
   "cell_type": "code",
   "execution_count": 150,
   "metadata": {},
   "outputs": [
    {
     "data": {
      "text/html": [
       "<div>\n",
       "<style>\n",
       "    .dataframe thead tr:only-child th {\n",
       "        text-align: right;\n",
       "    }\n",
       "\n",
       "    .dataframe thead th {\n",
       "        text-align: left;\n",
       "    }\n",
       "\n",
       "    .dataframe tbody tr th {\n",
       "        vertical-align: top;\n",
       "    }\n",
       "</style>\n",
       "<table border=\"1\" class=\"dataframe\">\n",
       "  <thead>\n",
       "    <tr style=\"text-align: right;\">\n",
       "      <th></th>\n",
       "      <th>score</th>\n",
       "      <th>group_label</th>\n",
       "    </tr>\n",
       "    <tr>\n",
       "      <th>applyid</th>\n",
       "      <th></th>\n",
       "      <th></th>\n",
       "    </tr>\n",
       "  </thead>\n",
       "  <tbody>\n",
       "    <tr>\n",
       "      <th>1</th>\n",
       "      <td>632.0</td>\n",
       "      <td>train</td>\n",
       "    </tr>\n",
       "    <tr>\n",
       "      <th>2</th>\n",
       "      <td>521.0</td>\n",
       "      <td>train</td>\n",
       "    </tr>\n",
       "    <tr>\n",
       "      <th>4</th>\n",
       "      <td>493.0</td>\n",
       "      <td>train</td>\n",
       "    </tr>\n",
       "    <tr>\n",
       "      <th>5</th>\n",
       "      <td>805.0</td>\n",
       "      <td>train</td>\n",
       "    </tr>\n",
       "    <tr>\n",
       "      <th>6</th>\n",
       "      <td>505.0</td>\n",
       "      <td>train</td>\n",
       "    </tr>\n",
       "  </tbody>\n",
       "</table>\n",
       "</div>"
      ],
      "text/plain": [
       "         score group_label\n",
       "applyid                   \n",
       "1        632.0       train\n",
       "2        521.0       train\n",
       "4        493.0       train\n",
       "5        805.0       train\n",
       "6        505.0       train"
      ]
     },
     "execution_count": 150,
     "metadata": {},
     "output_type": "execute_result"
    }
   ],
   "source": [
    "# 整理数据\n",
    "train_score = train_score.to_frame('score')\n",
    "train_score.loc[:, 'group_label'] = 'train'\n",
    "test_score = test_score.to_frame('score')\n",
    "test_score.loc[:, 'group_label'] = 'test'\n",
    "\n",
    "all_score_to_plot = pd.concat([train_score, test_score])\n",
    "all_score_to_plot.head()"
   ]
  },
  {
   "cell_type": "code",
   "execution_count": 151,
   "metadata": {
    "scrolled": false
   },
   "outputs": [
    {
     "data": {
      "text/plain": [
       "<module 'matplotlib.pyplot' from '/Users/xiangyu/ENV/lib/python2.7/site-packages/matplotlib/pyplot.pyc'>"
      ]
     },
     "execution_count": 151,
     "metadata": {},
     "output_type": "execute_result"
    },
    {
     "data": {
      "image/png": "[encoded data removed]",
      "text/plain": [
       "<matplotlib.figure.Figure at 0x1258aae90>"
      ]
     },
     "metadata": {},
     "output_type": "display_data"
    }
   ],
   "source": [
    "pl.compare_dist(all_score_to_plot, 'score', 'group_label', \\\n",
    "              'train_test', RESULT_PATH)"
   ]
  },
  {
   "cell_type": "code",
   "execution_count": 154,
   "metadata": {},
   "outputs": [
    {
     "data": {
      "text/html": [
       "<div>\n",
       "<style>\n",
       "    .dataframe thead tr:only-child th {\n",
       "        text-align: right;\n",
       "    }\n",
       "\n",
       "    .dataframe thead th {\n",
       "        text-align: left;\n",
       "    }\n",
       "\n",
       "    .dataframe tbody tr th {\n",
       "        vertical-align: top;\n",
       "    }\n",
       "</style>\n",
       "<table border=\"1\" class=\"dataframe\">\n",
       "  <thead>\n",
       "    <tr style=\"text-align: right;\">\n",
       "      <th></th>\n",
       "      <th>score</th>\n",
       "      <th>group_label</th>\n",
       "      <th>label2</th>\n",
       "    </tr>\n",
       "    <tr>\n",
       "      <th>applyid</th>\n",
       "      <th></th>\n",
       "      <th></th>\n",
       "      <th></th>\n",
       "    </tr>\n",
       "  </thead>\n",
       "  <tbody>\n",
       "    <tr>\n",
       "      <th>1</th>\n",
       "      <td>632.0</td>\n",
       "      <td>train</td>\n",
       "      <td>train_bad</td>\n",
       "    </tr>\n",
       "    <tr>\n",
       "      <th>2</th>\n",
       "      <td>521.0</td>\n",
       "      <td>train</td>\n",
       "      <td>train_bad</td>\n",
       "    </tr>\n",
       "    <tr>\n",
       "      <th>4</th>\n",
       "      <td>493.0</td>\n",
       "      <td>train</td>\n",
       "      <td>train_bad</td>\n",
       "    </tr>\n",
       "    <tr>\n",
       "      <th>5</th>\n",
       "      <td>805.0</td>\n",
       "      <td>train</td>\n",
       "      <td>train_bad</td>\n",
       "    </tr>\n",
       "    <tr>\n",
       "      <th>6</th>\n",
       "      <td>505.0</td>\n",
       "      <td>train</td>\n",
       "      <td>train_bad</td>\n",
       "    </tr>\n",
       "  </tbody>\n",
       "</table>\n",
       "</div>"
      ],
      "text/plain": [
       "         score group_label     label2\n",
       "applyid                              \n",
       "1        632.0       train  train_bad\n",
       "2        521.0       train  train_bad\n",
       "4        493.0       train  train_bad\n",
       "5        805.0       train  train_bad\n",
       "6        505.0       train  train_bad"
      ]
     },
     "execution_count": 154,
     "metadata": {},
     "output_type": "execute_result"
    }
   ],
   "source": [
    "all_score_to_plot.loc[y[y==1].index, 'label2'] = np.where(all_score_to_plot.loc[y[y==1].index, 'group_label']=='train', 'train_bad', 'test_bad')\n",
    "all_score_to_plot.loc[y[y==0].index, 'label2'] = np.where(all_score_to_plot.loc[y[y==0].index, 'group_label']=='train', 'train_good', 'test_good')\n",
    "\n",
    "all_score_to_plot.head()"
   ]
  },
  {
   "cell_type": "code",
   "execution_count": 155,
   "metadata": {},
   "outputs": [
    {
     "data": {
      "text/plain": [
       "<module 'matplotlib.pyplot' from '/Users/xiangyu/ENV/lib/python2.7/site-packages/matplotlib/pyplot.pyc'>"
      ]
     },
     "execution_count": 155,
     "metadata": {},
     "output_type": "execute_result"
    },
    {
     "data": {
      "image/png": "[encoded data removed]",
      "text/plain": [
       "<matplotlib.figure.Figure at 0x125a6ba10>"
      ]
     },
     "metadata": {},
     "output_type": "display_data"
    }
   ],
   "source": [
    "pl.compare_dist(all_score_to_plot, 'score', 'label2', \\\n",
    "              'train_test by good_bad', RESULT_PATH, \\\n",
    "              cut_bounds=point_bounds)\n"
   ]
  },
  {
   "cell_type": "markdown",
   "metadata": {},
   "source": [
    "# 统计模型输出文档（暂时只有划分训练集和测试集的，无PSI版本）"
   ]
  },
  {
   "cell_type": "markdown",
   "metadata": {},
   "source": [
    "## 从新存储解决编解码问题"
   ]
  },
  {
   "cell_type": "code",
   "execution_count": null,
   "metadata": {
    "collapsed": true
   },
   "outputs": [],
   "source": [
    "# 这部分会存在编解码问题，从新按照utf-8存储一下即可\n",
    "model_result.to_excel(os.path.join(Result_path, 'stepwise_woe_iv_df.xlsx'), index=False, encoding='utf-8')\n",
    "stepwise_woe_iv = pd.read_excel(os.path.join(Result_path, 'stepwise_woe_iv_df.xlsx'))\n",
    "\n",
    "woe_iv_df_coarse.to_excel(os.path.join(Result_path, 'woe_iv_df_coarse_df.xlsx'), index=False, encoding='utf-8')\n",
    "woe_iv_df_coarse = pd.read_excel(os.path.join(Result_path, 'woe_iv_df_coarse_df.xlsx'))"
   ]
  },
  {
   "cell_type": "markdown",
   "metadata": {},
   "source": [
    "## 汇总所有建模结果"
   ]
  },
  {
   "cell_type": "code",
   "execution_count": null,
   "metadata": {
    "collapsed": true
   },
   "outputs": [],
   "source": [
    "Fig_path = u'/Users/pintec/Documents/seafile/分析文件/modeling/个贷/XJD_WK_A_V1/result/figure'\n",
    "Result_path_2 = u'/Users/pintec/Desktop/'\n",
    "# 评分分布的图片，list中的顺序必须是训练集的图片名，然后才是测试集的图片名称\n",
    "score_dis = [u'score_dist/var6_train_nozhima_score_dist_plot.png',u'score_dist/var6_test_nozhima_score_dist_plot.png']\n",
    "# KS和AUC的图片，list中的顺序必须是训练集测试集KS图片，然后才是训练集测试集AUC的图片名称，存储顺序不可改变\n",
    "ks_auc = [u'KS/model_nozhima_train_KS.png',u'KS/model_nozhima_test_KS.png'\\\n",
    "                      ,u'AUC/model_nozhima_train_AUC.png',u'AUC/model_nozhima_test_AUC.png']"
   ]
  },
  {
   "cell_type": "code",
   "execution_count": null,
   "metadata": {
    "collapsed": true
   },
   "outputs": [],
   "source": [
    "# 采用OrderedDict保证生成的all_data_dict中生成的keys的顺序不会改变\n",
    "import collections\n",
    "all_data_dic_c = collections.OrderedDict()\n",
    "all_data_dic_c[u'附2变量字典'] = var_dict\n",
    "all_data_dic_c[u'附1变量进入过程'] = selection_process\n",
    "# ks_decile_train,ks_decile_test,run_book三者顺序不能变\n",
    "all_data_dic_c[u'S3.7决策参考'] = [ks_decile_train,ks_decile_test,run_book]\n",
    "all_data_dic_c[u'S3.6评分卡'] = score_card\n",
    "# sample_split_summary,train_stat,test_stat,corr四者顺序不能变\n",
    "all_data_dic_c[u'S3.5模型结果'] = [sample_split_summary,train_stat\\\n",
    "                               ,test_stat,corr]\n",
    "all_data_dic_c[u'S3.4变量粗分箱'] = woe_iv_df_coarse\n",
    "all_data_dic_c[u'S3.3变量细分箱'] = stepwise_woe_iv\n",
    "all_data_dic_c[u'S3.2变量重要性排序'] = ranking_result\n",
    "all_data_dic_c[u'S3.1变量描述性统计'] = summary"
   ]
  },
  {
   "cell_type": "markdown",
   "metadata": {},
   "source": [
    "## 汇总所有的结果"
   ]
  },
  {
   "cell_type": "code",
   "execution_count": null,
   "metadata": {
    "collapsed": true
   },
   "outputs": [],
   "source": [
    "ss.XlModelSummary(Result_path_2,Fig_path,u'test.xlsx',all_data_dic_c,score_dis,ks_auc).run()"
   ]
  },
  {
   "cell_type": "markdown",
   "metadata": {},
   "source": [
    "# Back test/Out-of-sample/Indeterminate "
   ]
  },
  {
   "cell_type": "markdown",
   "metadata": {},
   "source": [
    "**假设新进来的X数据是`back_X`, 且`index`为`applyid`或其他unique identifier**"
   ]
  },
  {
   "cell_type": "markdown",
   "metadata": {},
   "source": [
    "## 打分"
   ]
  },
  {
   "cell_type": "code",
   "execution_count": null,
   "metadata": {
    "collapsed": true
   },
   "outputs": [],
   "source": [
    "var_dict = var_dict = pd.read_excel(os.path.join(DATA_PATH, '外部数据变量字典20171024-翼支付.xlsx'), \\\n",
    "                         encoding='utf-8', sheetname='变量字典')\n",
    "\n",
    "rebin_spec_bin_adjusted = load_data_from_pickle(RESULT_PATH, 'selected_coarse_rebin_spec.pkl')\n",
    "woe_iv_df_coarse = pd.read_excel(os.path.join(RESULT_PATH, 'coarse_classing_woe_iv_df.xlsx'), encoding='utf-8')\n",
    "\n",
    "final_model = load_data_from_pickle(RESULT_PATH, 'model_5vars.pkl')\n",
    "coefficients = final_model.params.to_frame('beta').reset_index().rename(columns={'index':'var_code'})\n",
    "score_card = pd.read_excel(os.path.join(RESULT_PATH, 'var5_score_card.xlsx'), \\\n",
    "                    encoding='utf-8')"
   ]
  },
  {
   "cell_type": "code",
   "execution_count": null,
   "metadata": {
    "collapsed": true
   },
   "outputs": [],
   "source": [
    "back_X = mu.process_missing(back_X, var_dict, known_missing={-9999999: -8887})"
   ]
  },
  {
   "cell_type": "code",
   "execution_count": null,
   "metadata": {
    "collapsed": true
   },
   "outputs": [],
   "source": [
    "bin_obj = mt.BinWoe()\n",
    "back_X_cat = bin_obj.convert_to_category(back_X, var_dict, rebin_spec_bin_adjusted)\n",
    "back_X_transformed = bin_obj.transform_x_all(back_X_cat, woe_iv_df_coarse)"
   ]
  },
  {
   "cell_type": "code",
   "execution_count": null,
   "metadata": {
    "collapsed": true
   },
   "outputs": [],
   "source": [
    "selected = [i for i in coefficients.var_code if i != 'const']\n",
    "back_score = mt.Performance().calculate_score_by_scrd(back_X_cat[selected], score_card)\n"
   ]
  },
  {
   "cell_type": "markdown",
   "metadata": {},
   "source": [
    "## PSI"
   ]
  },
  {
   "cell_type": "markdown",
   "metadata": {},
   "source": [
    "### 如果建模时有用train，test样本"
   ]
  },
  {
   "cell_type": "code",
   "execution_count": null,
   "metadata": {
    "collapsed": true
   },
   "outputs": [],
   "source": [
    "perf = mt.Performance()\n",
    "var_psi_result = perf.variable_psi(X_cat_train, back_X_cat, var_dict)"
   ]
  },
  {
   "cell_type": "code",
   "execution_count": null,
   "metadata": {
    "collapsed": true
   },
   "outputs": [],
   "source": [
    "score_psi_result = perf.score_psi(train_score, back_score, score_cut_bins=[-np.inf, 100, 200, np.inf])"
   ]
  },
  {
   "cell_type": "code",
   "execution_count": 150,
   "metadata": {},
   "outputs": [
    {
     "data": {
      "text/html": [
       "<div>\n",
       "<style>\n",
       "    .dataframe thead tr:only-child th {\n",
       "        text-align: right;\n",
       "    }\n",
       "\n",
       "    .dataframe thead th {\n",
       "        text-align: left;\n",
       "    }\n",
       "\n",
       "    .dataframe tbody tr th {\n",
       "        vertical-align: top;\n",
       "    }\n",
       "</style>\n",
       "<table border=\"1\" class=\"dataframe\">\n",
       "  <thead>\n",
       "    <tr style=\"text-align: right;\">\n",
       "      <th></th>\n",
       "      <th>score</th>\n",
       "      <th>group_label</th>\n",
       "    </tr>\n",
       "    <tr>\n",
       "      <th>applyid</th>\n",
       "      <th></th>\n",
       "      <th></th>\n",
       "    </tr>\n",
       "  </thead>\n",
       "  <tbody>\n",
       "    <tr>\n",
       "      <th>1</th>\n",
       "      <td>632.0</td>\n",
       "      <td>train</td>\n",
       "    </tr>\n",
       "    <tr>\n",
       "      <th>2</th>\n",
       "      <td>521.0</td>\n",
       "      <td>train</td>\n",
       "    </tr>\n",
       "    <tr>\n",
       "      <th>4</th>\n",
       "      <td>493.0</td>\n",
       "      <td>train</td>\n",
       "    </tr>\n",
       "    <tr>\n",
       "      <th>5</th>\n",
       "      <td>805.0</td>\n",
       "      <td>train</td>\n",
       "    </tr>\n",
       "    <tr>\n",
       "      <th>6</th>\n",
       "      <td>505.0</td>\n",
       "      <td>train</td>\n",
       "    </tr>\n",
       "  </tbody>\n",
       "</table>\n",
       "</div>"
      ],
      "text/plain": [
       "         score group_label\n",
       "applyid                   \n",
       "1        632.0       train\n",
       "2        521.0       train\n",
       "4        493.0       train\n",
       "5        805.0       train\n",
       "6        505.0       train"
      ]
     },
     "execution_count": 150,
     "metadata": {},
     "output_type": "execute_result"
    }
   ],
   "source": [
    "# 整理数据\n",
    "train_score = train_score.to_frame('score')\n",
    "train_score.loc[:, 'group_label'] = 'train'\n",
    "back_score = back_score.to_frame('score')\n",
    "back_score.loc[:, 'group_label'] = 'back'\n",
    "\n",
    "all_score_to_plot = pd.concat([train_score, back_score])\n",
    "all_score_to_plot.head()"
   ]
  },
  {
   "cell_type": "code",
   "execution_count": 151,
   "metadata": {
    "scrolled": false
   },
   "outputs": [
    {
     "data": {
      "text/plain": [
       "<module 'matplotlib.pyplot' from '/Users/xiangyu/ENV/lib/python2.7/site-packages/matplotlib/pyplot.pyc'>"
      ]
     },
     "execution_count": 151,
     "metadata": {},
     "output_type": "execute_result"
    },
    {
     "data": {
      "image/png": "[encoded data removed]",
      "text/plain": [
       "<matplotlib.figure.Figure at 0x1258aae90>"
      ]
     },
     "metadata": {},
     "output_type": "display_data"
    }
   ],
   "source": [
    "pl.compare_dist(all_score_to_plot, 'score', 'group_label', \\\n",
    "              'train_test', RESULT_PATH)"
   ]
  },
  {
   "cell_type": "markdown",
   "metadata": {},
   "source": [
    "### 如果建模时没有用train，test样本"
   ]
  },
  {
   "cell_type": "code",
   "execution_count": null,
   "metadata": {
    "collapsed": true
   },
   "outputs": [],
   "source": [
    "perf = mt.Performance()\n",
    "var_psi_result = perf.variable_psi(X_cat, back_X_cat, var_dict)"
   ]
  },
  {
   "cell_type": "code",
   "execution_count": null,
   "metadata": {
    "collapsed": true
   },
   "outputs": [],
   "source": [
    "score_psi_result = perf.score_psi(all_score, back_score, score_cut_bins=[-np.inf, 100, 200, np.inf])"
   ]
  },
  {
   "cell_type": "code",
   "execution_count": 150,
   "metadata": {},
   "outputs": [
    {
     "data": {
      "text/html": [
       "<div>\n",
       "<style>\n",
       "    .dataframe thead tr:only-child th {\n",
       "        text-align: right;\n",
       "    }\n",
       "\n",
       "    .dataframe thead th {\n",
       "        text-align: left;\n",
       "    }\n",
       "\n",
       "    .dataframe tbody tr th {\n",
       "        vertical-align: top;\n",
       "    }\n",
       "</style>\n",
       "<table border=\"1\" class=\"dataframe\">\n",
       "  <thead>\n",
       "    <tr style=\"text-align: right;\">\n",
       "      <th></th>\n",
       "      <th>score</th>\n",
       "      <th>group_label</th>\n",
       "    </tr>\n",
       "    <tr>\n",
       "      <th>applyid</th>\n",
       "      <th></th>\n",
       "      <th></th>\n",
       "    </tr>\n",
       "  </thead>\n",
       "  <tbody>\n",
       "    <tr>\n",
       "      <th>1</th>\n",
       "      <td>632.0</td>\n",
       "      <td>train</td>\n",
       "    </tr>\n",
       "    <tr>\n",
       "      <th>2</th>\n",
       "      <td>521.0</td>\n",
       "      <td>train</td>\n",
       "    </tr>\n",
       "    <tr>\n",
       "      <th>4</th>\n",
       "      <td>493.0</td>\n",
       "      <td>train</td>\n",
       "    </tr>\n",
       "    <tr>\n",
       "      <th>5</th>\n",
       "      <td>805.0</td>\n",
       "      <td>train</td>\n",
       "    </tr>\n",
       "    <tr>\n",
       "      <th>6</th>\n",
       "      <td>505.0</td>\n",
       "      <td>train</td>\n",
       "    </tr>\n",
       "  </tbody>\n",
       "</table>\n",
       "</div>"
      ],
      "text/plain": [
       "         score group_label\n",
       "applyid                   \n",
       "1        632.0       train\n",
       "2        521.0       train\n",
       "4        493.0       train\n",
       "5        805.0       train\n",
       "6        505.0       train"
      ]
     },
     "execution_count": 150,
     "metadata": {},
     "output_type": "execute_result"
    }
   ],
   "source": [
    "# 整理数据\n",
    "all_score = all_score.to_frame('score')\n",
    "all_score.loc[:, 'group_label'] = 'train'\n",
    "back_score = back_score.to_frame('score')\n",
    "back_score.loc[:, 'group_label'] = 'back'\n",
    "\n",
    "all_score_to_plot = pd.concat([all_score, back_score])\n",
    "all_score_to_plot.head()"
   ]
  },
  {
   "cell_type": "code",
   "execution_count": 151,
   "metadata": {
    "scrolled": false
   },
   "outputs": [
    {
     "data": {
      "text/plain": [
       "<module 'matplotlib.pyplot' from '/Users/xiangyu/ENV/lib/python2.7/site-packages/matplotlib/pyplot.pyc'>"
      ]
     },
     "execution_count": 151,
     "metadata": {},
     "output_type": "execute_result"
    },
    {
     "data": {
      "image/png": "[encoded data removed]",
      "text/plain": [
       "<matplotlib.figure.Figure at 0x1258aae90>"
      ]
     },
     "metadata": {},
     "output_type": "display_data"
    }
   ],
   "source": [
    "pl.compare_dist(all_score_to_plot, 'score', 'group_label', \\\n",
    "              'train_test', RESULT_PATH)"
   ]
  },
  {
   "cell_type": "markdown",
   "metadata": {},
   "source": [
    "## 分数分布"
   ]
  },
  {
   "cell_type": "code",
   "execution_count": null,
   "metadata": {
    "collapsed": true
   },
   "outputs": [],
   "source": [
    "pl.score_dist_plot(back_score, 10, savel_label='var5_back_score', RESULT_PATH)"
   ]
  },
  {
   "cell_type": "markdown",
   "metadata": {},
   "source": [
    "# Reject Inference"
   ]
  },
  {
   "cell_type": "markdown",
   "metadata": {},
   "source": [
    "给已经拒绝的样本/样本外样本/indeterminate样本打分，对比其分数分布。和建模样本的分布对比，与建模样本中好客户的分数分布对比，坏客户的分数分布对比。\n",
    "\n",
    "\n",
    "**假设拒绝样本的X变量为`reject_X`, 且`index`为`applyid`或其他unique identifier**"
   ]
  },
  {
   "cell_type": "markdown",
   "metadata": {},
   "source": [
    "## 打分"
   ]
  },
  {
   "cell_type": "code",
   "execution_count": null,
   "metadata": {
    "collapsed": true
   },
   "outputs": [],
   "source": [
    "var_dict = var_dict = pd.read_excel(os.path.join(DATA_PATH, '外部数据变量字典20171024-翼支付.xlsx'), \\\n",
    "                         encoding='utf-8', sheetname='变量字典')\n",
    "\n",
    "rebin_spec_bin_adjusted = load_data_from_pickle(RESULT_PATH, 'selected_coarse_rebin_spec.pkl')\n",
    "woe_iv_df_coarse = pd.read_excel(os.path.join(RESULT_PATH, 'coarse_classing_woe_iv_df.xlsx'), encoding='utf-8')\n",
    "\n",
    "final_model = load_data_from_pickle(RESULT_PATH, 'model_5vars.pkl')\n",
    "coefficients = final_model.params.to_frame('beta').reset_index().rename(columns={'index':'var_code'})\n",
    "score_card = pd.read_excel(os.path.join(RESULT_PATH, 'var5_score_card.xlsx'), \\\n",
    "                    encoding='utf-8')"
   ]
  },
  {
   "cell_type": "code",
   "execution_count": null,
   "metadata": {
    "collapsed": true
   },
   "outputs": [],
   "source": [
    "reject_X = mu.process_missing(reject_X, var_dict, known_missing={-9999999: -8887})"
   ]
  },
  {
   "cell_type": "code",
   "execution_count": null,
   "metadata": {
    "collapsed": true
   },
   "outputs": [],
   "source": [
    "bin_obj = mt.BinWoe()\n",
    "reject_X_cat = bin_obj.convert_to_category(reject_X, var_dict, rebin_spec_bin_adjusted)\n",
    "reject_X_transformed = bin_obj.transform_x_all(reject_X_cat, woe_iv_df_coarse)"
   ]
  },
  {
   "cell_type": "code",
   "execution_count": null,
   "metadata": {
    "collapsed": true
   },
   "outputs": [],
   "source": [
    "selected = [i for i in coefficients.var_code if i != 'const']\n",
    "reject_score = mt.Performance().calculate_score_by_scrd(reject_X_cat[selected], score_card)\n"
   ]
  },
  {
   "cell_type": "code",
   "execution_count": null,
   "metadata": {
    "collapsed": true
   },
   "outputs": [],
   "source": [
    "reject_score = reject_score.to_frame('score').reset_index()\n",
    "reject_score.loc[:, 'Y'] = 'reject'"
   ]
  },
  {
   "cell_type": "markdown",
   "metadata": {},
   "source": [
    "## 分数分布对比"
   ]
  },
  {
   "cell_type": "markdown",
   "metadata": {},
   "source": [
    "\n",
    "### 如果建模时有用train，test样本"
   ]
  },
  {
   "cell_type": "code",
   "execution_count": null,
   "metadata": {
    "collapsed": true
   },
   "outputs": [],
   "source": [
    "train_score_data = train_score.to_frame('score').reset_index()\\\n",
    "                              .merge(data[['applyid', 'Y']], on='applyid')\n",
    "train_score_data.loc[:, 'Y'] = np.where(train_score_data.Y==1, 'bad', 'good')\n",
    "\n",
    "plot_score_data = pd.concat([reject_score, train_score_data])"
   ]
  },
  {
   "cell_type": "code",
   "execution_count": null,
   "metadata": {
    "collapsed": true
   },
   "outputs": [],
   "source": [
    "pl.compare_dist(plot_score_data, 'score', 'Y', \\\n",
    "              'train_test', RESULT_PATH)"
   ]
  },
  {
   "cell_type": "markdown",
   "metadata": {},
   "source": [
    "### 如果建模时没有用train，test样本"
   ]
  },
  {
   "cell_type": "code",
   "execution_count": null,
   "metadata": {
    "collapsed": true
   },
   "outputs": [],
   "source": [
    "score_data = all_score.to_frame('score').reset_index()\\\n",
    "                      .merge(data[['applyid', 'Y']], on='applyid')\n",
    "\n",
    "plot_score_data = pd.concat([reject_score, score_data])"
   ]
  },
  {
   "cell_type": "code",
   "execution_count": null,
   "metadata": {
    "collapsed": true
   },
   "outputs": [],
   "source": [
    "pl.compare_dist(plot_score_data, 'score', 'Y', \\\n",
    "              'train_test', RESULT_PATH)"
   ]
  },
  {
   "cell_type": "markdown",
   "metadata": {},
   "source": [
    "# 全样本结果输出写入数据库"
   ]
  },
  {
   "cell_type": "markdown",
   "metadata": {},
   "source": [
    "## 如果建模时有用train，test样本"
   ]
  },
  {
   "cell_type": "code",
   "execution_count": null,
   "metadata": {
    "collapsed": true
   },
   "outputs": [],
   "source": [
    "X_cat_train = load_data_from_pickle(PATH, 'X_cat_train.pkl')\n",
    "X_cat_test = load_data_from_pickle(PATH, 'X_cat_test.pkl')\n",
    "X_cat = pd.concat([X_cat_train, X_cat_test])"
   ]
  },
  {
   "cell_type": "markdown",
   "metadata": {},
   "source": [
    "## 如果建模时没有用train，test样本"
   ]
  },
  {
   "cell_type": "code",
   "execution_count": null,
   "metadata": {
    "collapsed": true
   },
   "outputs": [],
   "source": [
    "X_cat = load_data_from_pickle(PATH, 'X_cat.pkl')"
   ]
  },
  {
   "cell_type": "markdown",
   "metadata": {},
   "source": [
    "----------------- 分割线，以下为通用部分 -----------------"
   ]
  },
  {
   "cell_type": "code",
   "execution_count": null,
   "metadata": {
    "collapsed": true
   },
   "outputs": [],
   "source": [
    "score_card = pd.read_excel(os.path.join(RESULT_PATH, 'var5_score_card.xlsx'), encoding='utf-8')"
   ]
  },
  {
   "cell_type": "code",
   "execution_count": null,
   "metadata": {
    "collapsed": true
   },
   "outputs": [],
   "source": [
    "selected = score_card[[u'变量英文']].unique()\n",
    "all_score = mt.Performance().calculate_score2(X_cat[selected], score_card)\n",
    "\n",
    "all_score = all_score.to_frame('score').reset_index()\n",
    "# data_with_y: 为包含申请时点信息的表格。all_with_y为包含所有原始X数据的。应该处理过缺失值的\n",
    "score_output = data_with_y[['apply_id', 'projectid', 'applicationdate', 'drawdownstamp', 'Y']]\\\n",
    "                    .merge(all_with_y[selected].reset_index(), on='apply_id')\\\n",
    "                    .merge(all_score, on='apply_id')"
   ]
  },
  {
   "cell_type": "markdown",
   "metadata": {},
   "source": [
    "**以下仅为示例，请勿直接照搬**"
   ]
  },
  {
   "cell_type": "code",
   "execution_count": null,
   "metadata": {
    "collapsed": true
   },
   "outputs": [],
   "source": [
    "# 将此段SQL在DBeaver里执行更快捷方便，这里留存只为做记录用。\n",
    "# 表名规范： tmp_{name_pinyin_initial}_{table_name}\n",
    "SQL_CREATE_TABLE = \"\"\"\n",
    "CREATE TABLE IF NOT EXISTS hive_pro.hdp_data_sd.tmp_xx_xxxxx (\n",
    "    apply_id INT,\n",
    "    projectid INT,\n",
    "    applicationdate VARCHAR(255),\n",
    "    drawdownstamp VARCHAR(255),\n",
    "    Y INT,\n",
    "    score DOUBLE,\n",
    "    tongdunIdMultiLoanNumPf INT,\n",
    "    ls_sales_amountSmIncrPct6M DOUBLE, \n",
    "    first_industry VARCHAR(255),\n",
    "    appAmtBinByZhimaScore VARCHAR(255)\n",
    "    operationMonth INT\n",
    ")\n",
    "\"\"\""
   ]
  },
  {
   "cell_type": "code",
   "execution_count": null,
   "metadata": {
    "collapsed": true
   },
   "outputs": [],
   "source": [
    "SQL_INSERT_TEMP = \"\"\"\n",
    "INSERT INTO hive_pro.hdp_data_sd.tmp_xx_xxxxx\n",
    "(apply_id, projectid, applicationdate, drawdownstamp, Y, score, tongdunIdMultiLoanNumPf, ls_sales_amountSmIncrPct6M, first_industry, appAmtBinByZhimaScore, operationMonth)\n",
    "values\n",
    "{% for i in var_list %}\n",
    "{{ i }},\n",
    "{% endfor %}\n",
    "\"\"\""
   ]
  },
  {
   "cell_type": "code",
   "execution_count": null,
   "metadata": {
    "collapsed": true
   },
   "outputs": [],
   "source": [
    "var_list = []\n",
    "for index, row in score_output.iterrows():\n",
    "        t = \"({apply_id}, {projectid}, '{applicationdate}', '{drawdownstamp}', {Y}, {score}, {tongdunIdMultiLoanNumPf}, \\\n",
    "            {ls_sales_amountSmIncrPct6M}, '{first_industry}', '{appAmtBinByZhimaScore}', {operationMonth})\"\n",
    "        t2 = t.format(apply_id = int(row['apply_id']),\\\n",
    "                      projectid = int(row['projectid']),\\\n",
    "                      applicationdate = str(row['applicationdate']),\\\n",
    "                      drawdownstamp = str(row['drawdownstamp']),\\\n",
    "                      Y = int(row['Y']),\\\n",
    "                      score = float(row['score']),\\\n",
    "                      tongdunIdMultiLoanNumPf = int(row['tongdunIdMultiLoanNumPf']),\\\n",
    "                      ls_sales_amountSmIncrPct6M = float(row['ls_sales_amountSmIncrPct6M']),\\\n",
    "                      first_industry = str(row['first_industry']),\\\n",
    "                      appAmtBinByZhimaScore = str(row['appAmtBinByZhimaScore']),\\\n",
    "                      operationMonth = int(row['operationMonth']))\n",
    "        var_list.append(t2)\n",
    "\n"
   ]
  },
  {
   "cell_type": "code",
   "execution_count": null,
   "metadata": {
    "collapsed": true
   },
   "outputs": [],
   "source": [
    "# insert var_list to table\n",
    "insert_sql = Template(SQL_INSERT_TEMP).render(var_list=var_list)\n",
    "print insert_sql"
   ]
  },
  {
   "cell_type": "code",
   "execution_count": null,
   "metadata": {
    "collapsed": true
   },
   "outputs": [],
   "source": [
    "presto_upload_data(insert_sql[:-2])"
   ]
  },
  {
   "cell_type": "code",
   "execution_count": null,
   "metadata": {
    "collapsed": true
   },
   "outputs": [],
   "source": [
    "score_output.to_excel(os.path.join(RESULT_PATH, 'var5_xAndScore.xlsx'), index=False, encoding='utf-8')"
   ]
  },
  {
   "cell_type": "markdown",
   "metadata": {},
   "source": [
    "# 变量进入过程"
   ]
  },
  {
   "cell_type": "code",
   "execution_count": null,
   "metadata": {
    "collapsed": true
   },
   "outputs": [],
   "source": [
    "summary = pd.read_excel(os.path.join(PATH, 'all_variables_summary.xlsx'), encoding='utf-8')\n",
    "model_result = pd.read_excel(os.path.join(RESULT_PATH, 'stepwise_woe_iv_df.xlsx'), encoding='utf-8')\n",
    "ranking_result = pd.read_excel(os.path.join(RESULT_PATH, 'overall_ranking_result.xlsx'), encoding='utf-8')\n",
    "\n",
    "n=100\n",
    "top_n = ranking_result.sort_values('overall_rank')[u'变量英文'].iloc[:n].tolist()\n",
    "exclusion = ['hd_callsSource', 'hd_Call_DownFlag', 'hd_applyCity', 'applyMonths', 'hd_onlineDuration_v2',\\\n",
    "            'hd_operatorCity', 'hd_topOneCity', 'Zixin_DownFlag']\n",
    "start_from = ['zhimaScore', 'tongdun6MIdSumLoanNumPf', 'shop_type']\n",
    "# 通过综合排序选中的\n",
    "selected = list(set(top_n) - set(exclusion))\n"
   ]
  },
  {
   "cell_type": "code",
   "execution_count": null,
   "metadata": {
    "collapsed": true
   },
   "outputs": [],
   "source": [
    "selection_process = summary.loc[:, [u'变量英文', u'变量中文','exclusion_reason']]\n",
    "\n",
    "selection_process.loc[:, 'kept_after_EDA'] = np.where(selection_process.exclusion_reason.notnull(), 0, 1)\n",
    "selection_process.loc[:, 'kept_after_ranking'] = np.where(selection_process[u'变量英文'].isin(selected), 1, 0)\n",
    "\n",
    "kept2 = list(model_result.loc[model_result.FORWARD_AIC_rank.notnull(), u'变量英文'].unique()) + ['zhimaScore', 'tongdun6MIdSumLoanNumPf', 'shop_type']\n",
    "selection_process.loc[:, 'kept_after_stepwise_and_correlation'] = np.where(selection_process[u'变量英文'].isin(kept2), 1, 0)\n",
    "\n",
    "final_selected = [i for i in coefficients.var_code if i != 'const']\n",
    "\n",
    "selection_process.loc[:, 'final_selected'] = np.where(selection_process[u'变量英文'].isin(final_selected), 1, 0)"
   ]
  },
  {
   "cell_type": "code",
   "execution_count": null,
   "metadata": {
    "collapsed": true
   },
   "outputs": [],
   "source": [
    "selection_process.rename(columns = {'exclusion_reason': 'EDA后去掉的原因',\\\n",
    "                                    'kept_after_EDA': 'EDA后保留',\\\n",
    "                                    'kept_after_ranking': '综合排序后保留',\\\n",
    "                                    'kept_after_stepwise_and_correlation': 'Stepwise和共线性处理后保留',\\\n",
    "                                    'final_selected': '最终模型保留'\n",
    "                                   }, inplace=True)"
   ]
  },
  {
   "cell_type": "code",
   "execution_count": null,
   "metadata": {
    "collapsed": true
   },
   "outputs": [],
   "source": [
    "# double check\n",
    "selection_process.loc[selection_process['最终模型保留'] == 1]"
   ]
  },
  {
   "cell_type": "code",
   "execution_count": null,
   "metadata": {
    "collapsed": true
   },
   "outputs": [],
   "source": [
    "selection_process.to_excel(os.path.join(RESULT_PATH, 'selection_process_table.xlsx'), index=False, encoding='utf-8')"
   ]
  },
  {
   "cell_type": "markdown",
   "metadata": {},
   "source": [
    "# 部署"
   ]
  },
  {
   "cell_type": "markdown",
   "metadata": {},
   "source": [
    "`model_label`为标注这个模型的简称，此步骤根据评分卡和分箱定义生成部署需要的2个json文档。这两个文档发给部署人员（胡湘雨 as of 2017/11/20)用于模型部署"
   ]
  },
  {
   "cell_type": "code",
   "execution_count": null,
   "metadata": {
    "collapsed": true
   },
   "outputs": [],
   "source": [
    "rebin_spec = load_data_from_pickle(RESULT_PATH, 'selected_coarse_rebin_spec.pkl')\n",
    "var_dict = pd.read_excel(os.path.join(DATA_PATH, '流水贷建模代码可直接用变量字典.xlsx'), encoding='utf-8')\n",
    "scorecard = pd.read_excel(os.path.join(RESULT_PATH, 'var5_score_card.xlsx'), encoding='utf-8')\n",
    "selected = score_card[[u'变量英文']].unique()"
   ]
  },
  {
   "cell_type": "code",
   "execution_count": null,
   "metadata": {
    "collapsed": true
   },
   "outputs": [],
   "source": [
    "rebin_spec_json = mu.process_rebin_spec(rebin_spec, var_dict, selected)"
   ]
  },
  {
   "cell_type": "code",
   "execution_count": null,
   "metadata": {
    "collapsed": true
   },
   "outputs": [],
   "source": [
    "bin_to_score_json = mu.process_bin_to_score(scorecard.rename(columns={u'变量英文': u'中间层指标名称'}))"
   ]
  },
  {
   "cell_type": "code",
   "execution_count": null,
   "metadata": {
    "collapsed": true
   },
   "outputs": [],
   "source": [
    "save_data_to_json(rebin_spec_json, RESULT_PATH, '%s_selected_rebin_spec.json' % model_label)"
   ]
  },
  {
   "cell_type": "code",
   "execution_count": null,
   "metadata": {
    "collapsed": true
   },
   "outputs": [],
   "source": [
    "save_data_to_json(bin_to_score_json, RESULT_PATH, '%s_bin_to_score.json' % model_label)"
   ]
  }
 ],
 "metadata": {
  "kernelspec": {
   "display_name": "Python 3",
   "language": "python",
   "name": "python3"
  },
  "language_info": {
   "codemirror_mode": {
    "name": "ipython",
    "version": 3
   },
   "file_extension": ".py",
   "mimetype": "text/x-python",
   "name": "python",
   "nbconvert_exporter": "python",
   "pygments_lexer": "ipython3",
   "version": "3.6.3"
  },
  "toc": {
   "nav_menu": {
    "height": "512px",
    "width": "252px"
   },
   "number_sections": true,
   "sideBar": true,
   "skip_h1_title": false,
   "toc_cell": false,
   "toc_position": {
    "height": "885px",
    "left": "0px",
    "right": "1034px",
    "top": "106px",
    "width": "246px"
   },
   "toc_section_display": "block",
   "toc_window_display": true
  }
 },
 "nbformat": 4,
 "nbformat_minor": 2
}
