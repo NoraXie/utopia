{
 "cells": [
  {
   "cell_type": "code",
   "execution_count": 2,
   "metadata": {},
   "outputs": [],
   "source": [
    "%matplotlib inline\n",
    "\n",
    "import os\n",
    "import sys\n",
    "import json\n",
    "import logging\n",
    "import warnings\n",
    "warnings.filterwarnings('ignore')\n",
    "\n",
    "# 更改为自己的路径,或者直接在环境变量中添加\n",
    "sys.path.append('/Users/zhenwei.jin/Documents/repos/genie')\n",
    "\n",
    "import pandas as pd\n",
    "import numpy as np\n",
    "from jinja2 import Template\n",
    "\n",
    "#python3种reload函数不能直接使用\n",
    "from imp import reload\n",
    "\n",
    "from utils3.data_io_utils import *\n",
    "import utils3.misc_utils as mu\n",
    "import utils3.summary_statistics as ss\n",
    "import utils3.metrics as mt\n",
    "import utils3.feature_selection as fs\n",
    "import utils3.plotting as pl\n",
    "import utils3.modeling as ml\n",
    "from functools import reduce\n",
    "import xgboost as xgb\n",
    "import utils3.verify_performance as vp"
   ]
  },
  {
   "cell_type": "markdown",
   "metadata": {},
   "source": [
    "# 设置工作路径"
   ]
  },
  {
   "cell_type": "code",
   "execution_count": 3,
   "metadata": {},
   "outputs": [],
   "source": [
    "DATA_PATH='/Users/zhenwei.jin/Desktop/sample_weight/logistic/02_data'\n",
    "RESULT_PATH='/Users/zhenwei.jin/Desktop/sample_weight/logistic/03_result/'"
   ]
  },
  {
   "cell_type": "markdown",
   "metadata": {},
   "source": [
    "# 读取建模字典"
   ]
  },
  {
   "cell_type": "code",
   "execution_count": 4,
   "metadata": {},
   "outputs": [],
   "source": [
    "var_dict=pd.read_excel(DATA_PATH+'/建模字典.xlsx')"
   ]
  },
  {
   "cell_type": "markdown",
   "metadata": {},
   "source": [
    "# 读取建模数据"
   ]
  },
  {
   "cell_type": "markdown",
   "metadata": {},
   "source": [
    "注该样本已完成数据格式和缺失值的填充,若未完成,需要提前做好。"
   ]
  },
  {
   "cell_type": "code",
   "execution_count": 5,
   "metadata": {},
   "outputs": [],
   "source": [
    "all_x_y=load_data_from_pickle(DATA_PATH,'抽样建模DEMO.pkl')"
   ]
  },
  {
   "cell_type": "code",
   "execution_count": 6,
   "metadata": {},
   "outputs": [],
   "source": [
    "all_x_y.index=all_x_y.apply_id"
   ]
  },
  {
   "cell_type": "markdown",
   "metadata": {},
   "source": [
    "## 增加sample_weight"
   ]
  },
  {
   "cell_type": "markdown",
   "metadata": {},
   "source": [
    "sample_weight的添加方式，建议结合自身的抽样情况决定。"
   ]
  },
  {
   "cell_type": "code",
   "execution_count": 7,
   "metadata": {},
   "outputs": [],
   "source": [
    "segment_label='channel_class'\n",
    "sample_weight_model={'Bad Channel':{'good_sample':7.46,'bad_sample':2.43},\\\n",
    "               'Good Channel':{'good_sample':6.42,'bad_sample':1},\\\n",
    "              'Normal Channel':{'good_sample':20.79,'bad_sample':3.19}}"
   ]
  },
  {
   "cell_type": "code",
   "execution_count": 8,
   "metadata": {},
   "outputs": [],
   "source": [
    "model_data=all_x_y[all_x_y['sample_set']!='OOT']"
   ]
  },
  {
   "cell_type": "code",
   "execution_count": 9,
   "metadata": {},
   "outputs": [],
   "source": [
    "model_data=mt.BinWoe().add_sample_weight(model_data,segment_label,sample_weight_model)"
   ]
  },
  {
   "cell_type": "markdown",
   "metadata": {},
   "source": [
    "# 整理X,y,sample_weight数据"
   ]
  },
  {
   "cell_type": "code",
   "execution_count": 17,
   "metadata": {},
   "outputs": [],
   "source": [
    "X=model_data[var_dict[u'指标英文']]\n",
    "y=model_data['y']\n",
    "sample_weight=model_data['sample_weight']"
   ]
  },
  {
   "cell_type": "markdown",
   "metadata": {},
   "source": [
    "# EDA"
   ]
  },
  {
   "cell_type": "markdown",
   "metadata": {},
   "source": [
    "## 不包含sample_weight"
   ]
  },
  {
   "cell_type": "code",
   "execution_count": 11,
   "metadata": {},
   "outputs": [],
   "source": [
    "ss.eda(X, var_dict, useless_vars=[], exempt_vars=[],\\\n",
    "       data_path=RESULT_PATH, save_label='model_data')"
   ]
  },
  {
   "cell_type": "markdown",
   "metadata": {},
   "source": [
    "## 包含sample_weight"
   ]
  },
  {
   "cell_type": "code",
   "execution_count": 19,
   "metadata": {},
   "outputs": [],
   "source": [
    "ss.eda_sw(X, var_dict,sample_weight, useless_vars=[], exempt_vars=[],\\\n",
    "       data_path=RESULT_PATH, save_label='model_data_sw')"
   ]
  },
  {
   "cell_type": "markdown",
   "metadata": {},
   "source": [
    "# 筛掉Summary excluded变量进行综合排序"
   ]
  },
  {
   "cell_type": "code",
   "execution_count": 20,
   "metadata": {},
   "outputs": [],
   "source": [
    "summary = pd.read_excel(RESULT_PATH+'/model_data_sw_variables_summary.xlsx')\n",
    "kept = summary.loc[pd.isnull(summary.exclusion_reason), u'指标英文'].tolist()"
   ]
  },
  {
   "cell_type": "markdown",
   "metadata": {},
   "source": [
    "由于该样本已完成train、test的划分，故此处省略"
   ]
  },
  {
   "cell_type": "code",
   "execution_count": 21,
   "metadata": {},
   "outputs": [
    {
     "data": {
      "text/plain": [
       "MODELING_TRAIN    14000\n",
       "MODELING_TEST      6000\n",
       "Name: sample_set, dtype: int64"
      ]
     },
     "execution_count": 21,
     "metadata": {},
     "output_type": "execute_result"
    }
   ],
   "source": [
    "pd.value_counts(model_data['sample_set'])"
   ]
  },
  {
   "cell_type": "code",
   "execution_count": 22,
   "metadata": {},
   "outputs": [],
   "source": [
    "X_train=model_data.loc[model_data['sample_set']=='MODELING_TRAIN',kept]\n",
    "y_train=model_data.loc[model_data['sample_set']=='MODELING_TRAIN','y']\n",
    "sample_weight_train=model_data.loc[model_data['sample_set']=='MODELING_TRAIN','sample_weight']\n",
    "\n",
    "X_test=model_data.loc[model_data['sample_set']=='MODELING_TEST',kept]\n",
    "y_test=model_data.loc[model_data['sample_set']=='MODELING_TEST','y']\n",
    "sample_weight_test=model_data.loc[model_data['sample_set']=='MODELING_TEST','sample_weight']"
   ]
  },
  {
   "cell_type": "markdown",
   "metadata": {},
   "source": [
    "# 各种算法的overall_ranking"
   ]
  },
  {
   "cell_type": "markdown",
   "metadata": {},
   "source": [
    "注：目前lasso不支持sample_weight"
   ]
  },
  {
   "cell_type": "code",
   "execution_count": 23,
   "metadata": {},
   "outputs": [
    {
     "data": {
      "text/plain": [
       "<module 'utils3.feature_selection' from '/Users/zhenwei.jin/Documents/repos/genie/utils3/feature_selection.py'>"
      ]
     },
     "execution_count": 23,
     "metadata": {},
     "output_type": "execute_result"
    }
   ],
   "source": [
    "reload(fs)"
   ]
  },
  {
   "cell_type": "code",
   "execution_count": 24,
   "metadata": {},
   "outputs": [],
   "source": [
    "args_dict = {\n",
    "    'random_forest': {\n",
    "        'grid_search': False,#选择了True则会进行网格筛选速度会比较慢\n",
    "        'param': None\n",
    "    },\n",
    "    'xgboost': {\n",
    "        'grid_search': False,\n",
    "        'param': None\n",
    "    }\n",
    "}\n",
    "methods = [\n",
    "    'random_forest', \n",
    "    'xgboost'\n",
    "]\n",
    "\n",
    "fs_obj = fs.FeatureSelection()"
   ]
  },
  {
   "cell_type": "code",
   "execution_count": 25,
   "metadata": {},
   "outputs": [],
   "source": [
    "# 使用日志在result_path中可以通过日志观察overall_ranking进行到哪一步了\n",
    "logging.basicConfig(filename=os.path.join(RESULT_PATH, 'test_log.log'), level=logging.INFO, filemode='w')\n",
    "LOG = logging.getLogger(__name__)"
   ]
  },
  {
   "cell_type": "code",
   "execution_count": 26,
   "metadata": {},
   "outputs": [
    {
     "name": "stdout",
     "output_type": "stream",
     "text": [
      "[0]\ttrain-auc:0.642005\ttest-auc:0.631775\n",
      "[10]\ttrain-auc:0.686562\ttest-auc:0.665268\n",
      "[20]\ttrain-auc:0.701183\ttest-auc:0.674871\n",
      "[30]\ttrain-auc:0.714785\ttest-auc:0.680553\n",
      "[40]\ttrain-auc:0.726777\ttest-auc:0.686103\n",
      "[50]\ttrain-auc:0.7353\ttest-auc:0.690343\n",
      "[60]\ttrain-auc:0.742019\ttest-auc:0.693012\n",
      "[70]\ttrain-auc:0.747779\ttest-auc:0.694658\n",
      "[80]\ttrain-auc:0.752129\ttest-auc:0.695928\n",
      "[90]\ttrain-auc:0.756814\ttest-auc:0.696822\n",
      "[100]\ttrain-auc:0.760749\ttest-auc:0.697009\n",
      "[110]\ttrain-auc:0.764285\ttest-auc:0.697859\n",
      "[120]\ttrain-auc:0.768262\ttest-auc:0.698406\n",
      "[130]\ttrain-auc:0.771692\ttest-auc:0.698912\n",
      "[140]\ttrain-auc:0.774749\ttest-auc:0.698815\n",
      "[150]\ttrain-auc:0.77803\ttest-auc:0.699067\n",
      "[160]\ttrain-auc:0.781188\ttest-auc:0.698806\n",
      "[170]\ttrain-auc:0.784066\ttest-auc:0.698356\n"
     ]
    }
   ],
   "source": [
    "X_cat_train,X_transformed, woe_iv_df, rebin_spec, ranking_result = fs_obj.overall_ranking_sw(X_train, y_train,sample_weight_train, \\\n",
    "                                                                            var_dict, args_dict, \\\n",
    "                                                                            methods, num_max_bins=5)"
   ]
  },
  {
   "cell_type": "markdown",
   "metadata": {},
   "source": [
    "建议：将X_cat_train、rebin_spec、woe_iv_df这些数据存储出去，这样就算中途挂掉后续也可以不用重来之前的工作，因为overall_ranking还是很消耗时间的"
   ]
  },
  {
   "cell_type": "code",
   "execution_count": 27,
   "metadata": {},
   "outputs": [],
   "source": [
    "save_data_to_pickle(X_cat_train,RESULT_PATH,'X_cat_train.pkl')\n",
    "save_data_to_pickle(woe_iv_df,RESULT_PATH,'woe_iv_df.pkl')\n",
    "save_data_to_pickle(rebin_spec,RESULT_PATH,'rebin_spec.pkl')\n",
    "save_data_to_pickle(X_transformed,RESULT_PATH,'X_transformed.pkl')\n",
    "save_data_to_pickle(ranking_result,RESULT_PATH,'ranking_result.pkl')"
   ]
  },
  {
   "cell_type": "markdown",
   "metadata": {},
   "source": [
    "# Stepwise步骤"
   ]
  },
  {
   "cell_type": "markdown",
   "metadata": {},
   "source": [
    "## 留下整体排名靠前的变量"
   ]
  },
  {
   "cell_type": "code",
   "execution_count": 28,
   "metadata": {},
   "outputs": [],
   "source": [
    "# 确定需要留下的排名靠前变量的数量\n",
    "n = 250\n",
    "top_n = ranking_result.sort_values('overall_rank')[u'指标英文'].iloc[:n].tolist()"
   ]
  },
  {
   "cell_type": "code",
   "execution_count": 29,
   "metadata": {},
   "outputs": [],
   "source": [
    "# 决定从top_n中剔除的字段名称\n",
    "exclusion = []\n",
    "# 决定模型一定要有的字段，即使可能不显著\n",
    "start_from = []\n",
    "# 通过综合排序选中的\n",
    "selected = list(set(top_n) - set(exclusion))"
   ]
  },
  {
   "cell_type": "code",
   "execution_count": 30,
   "metadata": {},
   "outputs": [],
   "source": [
    "# 将数据分箱后并转换woe值\n",
    "X_transformed_train = X_transformed\n",
    "# clean data\n",
    "X_transformed_train = X_transformed_train[selected]"
   ]
  },
  {
   "cell_type": "markdown",
   "metadata": {},
   "source": [
    "## 相关性筛选"
   ]
  },
  {
   "cell_type": "code",
   "execution_count": 31,
   "metadata": {},
   "outputs": [],
   "source": [
    "corr_threshold = 0.7 # 可调\n",
    "vif_threshold = 10 # 可调\n",
    "vif_result = fs.Colinearity(X_transformed_train,RESULT_PATH)"
   ]
  },
  {
   "cell_type": "code",
   "execution_count": 32,
   "metadata": {},
   "outputs": [],
   "source": [
    "# 这一步时间比较长请大家耐心\n",
    "vif_result.run(ranking_result)"
   ]
  },
  {
   "cell_type": "code",
   "execution_count": 33,
   "metadata": {},
   "outputs": [],
   "source": [
    "# 相关性分析删除的变量\n",
    "exclusion_cols = vif_result.corr_exclude_vars + vif_result.vif_dropvars"
   ]
  },
  {
   "cell_type": "markdown",
   "metadata": {},
   "source": [
    "## stepwise"
   ]
  },
  {
   "cell_type": "code",
   "execution_count": 34,
   "metadata": {},
   "outputs": [],
   "source": [
    "new_X_train = X_transformed_train.drop(exclusion_cols, 1)\n",
    "# 强制必须进入模型的变量\n",
    "start_from = []"
   ]
  },
  {
   "cell_type": "code",
   "execution_count": 35,
   "metadata": {},
   "outputs": [],
   "source": [
    "model_result = fs.FeatureSelection().stepwise_sw(new_X_train, y_train,sample_weight_train, LOG, start_from)"
   ]
  },
  {
   "cell_type": "code",
   "execution_count": 36,
   "metadata": {},
   "outputs": [],
   "source": [
    "model_result = pd.merge(woe_iv_df,model_result, left_on=u'指标英文', right_on='var_code').drop('var_code', 1)\n",
    "model_result = model_result.sort_values(['AIC_delta', u'指标英文','sort_val'])"
   ]
  },
  {
   "cell_type": "markdown",
   "metadata": {},
   "source": [
    "# 粗分箱"
   ]
  },
  {
   "cell_type": "code",
   "execution_count": 37,
   "metadata": {
    "scrolled": true
   },
   "outputs": [
    {
     "data": {
      "text/plain": [
       "['xy_applyLoanQueryNumL3M',\n",
       " 'tongdun12MIdMultiLoanNumPf',\n",
       " 'tongdunmicrofinNumPfL6M',\n",
       " 'tongdunconfinNumPfL6M',\n",
       " 'nike700Score',\n",
       " 'tongdunPhoneMultiLoanNum_v2',\n",
       " 'br_grzz_pc_user_level',\n",
       " 'ym_credit_score_big',\n",
       " 'tongdun6MIdXiaofeiFenqiLoanNum',\n",
       " 'tencentScore_new',\n",
       " 'tongdunconfinNumPfL3M',\n",
       " 'br_grzz_pc_rcnt_income',\n",
       " 'xy_behaviorSuccessPayNumL1M',\n",
       " 'tongdunotherNumPfL3M',\n",
       " 'xy_behaviorFailPayNumHist',\n",
       " 'tongdunP2PNumPfL6M',\n",
       " 'xy_creditNProductNum',\n",
       " 'xy_creditFDCreditAmtAvg']"
      ]
     },
     "execution_count": 37,
     "metadata": {},
     "output_type": "execute_result"
    }
   ],
   "source": [
    "selected = list(set(model_result[model_result.final_selected==1].指标英文))\n",
    "selected"
   ]
  },
  {
   "cell_type": "markdown",
   "metadata": {},
   "source": [
    "## 图形界面调整分箱"
   ]
  },
  {
   "cell_type": "code",
   "execution_count": 38,
   "metadata": {},
   "outputs": [
    {
     "data": {
      "text/plain": [
       "<module 'utils3.plotting' from '/Users/zhenwei.jin/Documents/repos/genie/utils3/plotting.py'>"
      ]
     },
     "execution_count": 38,
     "metadata": {},
     "output_type": "execute_result"
    }
   ],
   "source": [
    "reload(pl)"
   ]
  },
  {
   "cell_type": "code",
   "execution_count": 39,
   "metadata": {},
   "outputs": [],
   "source": [
    "ui_obj = pl.BinPlotAdjustUI_sw(X_train, y_train,sample_weight_train,RESULT_PATH,DATA_PATH,rebin_spec, var_dict)\n",
    "ui_obj.main_ui(selected)"
   ]
  },
  {
   "cell_type": "markdown",
   "metadata": {},
   "source": [
    "## 储存调整后的结果"
   ]
  },
  {
   "cell_type": "code",
   "execution_count": 40,
   "metadata": {},
   "outputs": [],
   "source": [
    "rebin_spec_bin_adjusted = {k:v for k,v in ui_obj.rebin_spec.items() if k in selected}\n",
    "save_data_to_pickle(rebin_spec_bin_adjusted,RESULT_PATH,'rebin_spec_bin_adjusted.pkl')"
   ]
  },
  {
   "cell_type": "markdown",
   "metadata": {},
   "source": [
    "## 训练集转化WOE"
   ]
  },
  {
   "cell_type": "code",
   "execution_count": 41,
   "metadata": {},
   "outputs": [],
   "source": [
    "bin_obj = mt.BinWoe()\n",
    "new_X = X_train[selected]\n",
    "X_cat_train = bin_obj.convert_to_category(new_X, var_dict, rebin_spec_bin_adjusted)\n",
    "woe_iv_df_coarse = bin_obj.calculate_woe_all_sw(X_cat_train, y_train,sample_weight_train,var_dict,rebin_spec_bin_adjusted)\n",
    "X_transformed_train= bin_obj.transform_x_all(X_cat_train, woe_iv_df_coarse)"
   ]
  },
  {
   "cell_type": "code",
   "execution_count": 42,
   "metadata": {},
   "outputs": [],
   "source": [
    "woe_iv_df_coarse.to_excel(RESULT_PATH+'/woe_iv_df_coarse.xlsx')"
   ]
  },
  {
   "cell_type": "markdown",
   "metadata": {},
   "source": [
    "## 测试集转化WOE"
   ]
  },
  {
   "cell_type": "code",
   "execution_count": 43,
   "metadata": {},
   "outputs": [],
   "source": [
    "new_X = X_test[selected]\n",
    "X_cat_test = bin_obj.convert_to_category(new_X, var_dict, rebin_spec_bin_adjusted)\n",
    "X_transformed_test= bin_obj.transform_x_all(X_cat_test, woe_iv_df_coarse)"
   ]
  },
  {
   "cell_type": "markdown",
   "metadata": {},
   "source": [
    "# 按月查看训练集分箱以后的分布以及逾期率"
   ]
  },
  {
   "cell_type": "code",
   "execution_count": 44,
   "metadata": {},
   "outputs": [],
   "source": [
    "X_cat_train_with_y_appmon = pd.merge(X_cat_train,model_data[['y','applicationdate']]\\\n",
    "                                     ,left_index=True,right_index=True)"
   ]
  },
  {
   "cell_type": "markdown",
   "metadata": {},
   "source": [
    "applicationdate改为月份"
   ]
  },
  {
   "cell_type": "code",
   "execution_count": 45,
   "metadata": {},
   "outputs": [],
   "source": [
    "X_cat_train_with_y_appmon['applicationdate']=X_cat_train_with_y_appmon['applicationdate'].astype(str)"
   ]
  },
  {
   "cell_type": "code",
   "execution_count": 46,
   "metadata": {},
   "outputs": [],
   "source": [
    "X_cat_train_with_y_appmon['applicationdate']=X_cat_train_with_y_appmon['applicationdate'].apply(lambda x:x[0:7])"
   ]
  },
  {
   "cell_type": "code",
   "execution_count": 47,
   "metadata": {},
   "outputs": [
    {
     "data": {
      "text/plain": [
       "<module 'utils3.summary_statistics' from '/Users/zhenwei.jin/Documents/repos/genie/utils3/summary_statistics.py'>"
      ]
     },
     "execution_count": 47,
     "metadata": {},
     "output_type": "execute_result"
    }
   ],
   "source": [
    "reload(ss)"
   ]
  },
  {
   "cell_type": "code",
   "execution_count": 48,
   "metadata": {},
   "outputs": [],
   "source": [
    "# 这一步按月统计了变量的分布以及缺失率，这一步可以将字段先存储出去，观察不合格的变量，在下一步可以提前删除\n",
    "var_dist_badRate_by_time = ss.get_badRate_and_dist_by_time_sw(X_cat_train_with_y_appmon,sample_weight_train,\\\n",
    "                                                              selected,'applicationdate','y',var_dict)"
   ]
  },
  {
   "cell_type": "code",
   "execution_count": 49,
   "metadata": {},
   "outputs": [],
   "source": [
    "# 建议到这一步的时候讲数据存储出去，观察一下\n",
    "var_dist_badRate_by_time.to_excel(os.path.join(RESULT_PATH,'var_dist_badRate_by_time.xlsx'))"
   ]
  },
  {
   "cell_type": "markdown",
   "metadata": {},
   "source": [
    "# 如果此时变量依旧很多建议再来一次stepwise查看调整后变量哪些较为显著"
   ]
  },
  {
   "cell_type": "code",
   "execution_count": 50,
   "metadata": {},
   "outputs": [],
   "source": [
    "model_result2 = fs.FeatureSelection().stepwise_sw(X_transformed_train, y_train,sample_weight_train,LOG, start_from)"
   ]
  },
  {
   "cell_type": "code",
   "execution_count": 51,
   "metadata": {
    "scrolled": true
   },
   "outputs": [
    {
     "data": {
      "text/html": [
       "<div>\n",
       "<style scoped>\n",
       "    .dataframe tbody tr th:only-of-type {\n",
       "        vertical-align: middle;\n",
       "    }\n",
       "\n",
       "    .dataframe tbody tr th {\n",
       "        vertical-align: top;\n",
       "    }\n",
       "\n",
       "    .dataframe thead th {\n",
       "        text-align: right;\n",
       "    }\n",
       "</style>\n",
       "<table border=\"1\" class=\"dataframe\">\n",
       "  <thead>\n",
       "    <tr style=\"text-align: right;\">\n",
       "      <th></th>\n",
       "      <th>var_code</th>\n",
       "      <th>AIC_delta</th>\n",
       "      <th>step</th>\n",
       "      <th>final_selected</th>\n",
       "    </tr>\n",
       "  </thead>\n",
       "  <tbody>\n",
       "    <tr>\n",
       "      <th>0</th>\n",
       "      <td>xy_applyLoanQueryNumL3M</td>\n",
       "      <td>167.55</td>\n",
       "      <td>FORWARD</td>\n",
       "      <td>1</td>\n",
       "    </tr>\n",
       "    <tr>\n",
       "      <th>1</th>\n",
       "      <td>tongdun12MIdMultiLoanNumPf</td>\n",
       "      <td>212.803</td>\n",
       "      <td>FORWARD</td>\n",
       "      <td>1</td>\n",
       "    </tr>\n",
       "    <tr>\n",
       "      <th>2</th>\n",
       "      <td>tongdunmicrofinNumPfL6M</td>\n",
       "      <td>9.88513</td>\n",
       "      <td>FORWARD</td>\n",
       "      <td>1</td>\n",
       "    </tr>\n",
       "    <tr>\n",
       "      <th>3</th>\n",
       "      <td>tongdunconfinNumPfL6M</td>\n",
       "      <td>NaN</td>\n",
       "      <td>NaN</td>\n",
       "      <td>0</td>\n",
       "    </tr>\n",
       "    <tr>\n",
       "      <th>4</th>\n",
       "      <td>nike700Score</td>\n",
       "      <td>2975.39</td>\n",
       "      <td>FORWARD</td>\n",
       "      <td>1</td>\n",
       "    </tr>\n",
       "    <tr>\n",
       "      <th>5</th>\n",
       "      <td>tongdunPhoneMultiLoanNum_v2</td>\n",
       "      <td>30.0195</td>\n",
       "      <td>FORWARD</td>\n",
       "      <td>1</td>\n",
       "    </tr>\n",
       "    <tr>\n",
       "      <th>6</th>\n",
       "      <td>br_grzz_pc_user_level</td>\n",
       "      <td>85.5443</td>\n",
       "      <td>FORWARD</td>\n",
       "      <td>1</td>\n",
       "    </tr>\n",
       "    <tr>\n",
       "      <th>7</th>\n",
       "      <td>ym_credit_score_big</td>\n",
       "      <td>847.43</td>\n",
       "      <td>FORWARD</td>\n",
       "      <td>1</td>\n",
       "    </tr>\n",
       "    <tr>\n",
       "      <th>8</th>\n",
       "      <td>tongdun6MIdXiaofeiFenqiLoanNum</td>\n",
       "      <td>136.256</td>\n",
       "      <td>FORWARD</td>\n",
       "      <td>1</td>\n",
       "    </tr>\n",
       "    <tr>\n",
       "      <th>9</th>\n",
       "      <td>tencentScore_new</td>\n",
       "      <td>610.335</td>\n",
       "      <td>FORWARD</td>\n",
       "      <td>1</td>\n",
       "    </tr>\n",
       "    <tr>\n",
       "      <th>10</th>\n",
       "      <td>tongdunconfinNumPfL3M</td>\n",
       "      <td>21.611</td>\n",
       "      <td>FORWARD</td>\n",
       "      <td>1</td>\n",
       "    </tr>\n",
       "    <tr>\n",
       "      <th>11</th>\n",
       "      <td>br_grzz_pc_rcnt_income</td>\n",
       "      <td>319.186</td>\n",
       "      <td>FORWARD</td>\n",
       "      <td>1</td>\n",
       "    </tr>\n",
       "    <tr>\n",
       "      <th>12</th>\n",
       "      <td>xy_behaviorSuccessPayNumL1M</td>\n",
       "      <td>44.7108</td>\n",
       "      <td>FORWARD</td>\n",
       "      <td>1</td>\n",
       "    </tr>\n",
       "    <tr>\n",
       "      <th>13</th>\n",
       "      <td>tongdunotherNumPfL3M</td>\n",
       "      <td>152.81</td>\n",
       "      <td>FORWARD</td>\n",
       "      <td>1</td>\n",
       "    </tr>\n",
       "    <tr>\n",
       "      <th>14</th>\n",
       "      <td>xy_behaviorFailPayNumHist</td>\n",
       "      <td>755.533</td>\n",
       "      <td>FORWARD</td>\n",
       "      <td>1</td>\n",
       "    </tr>\n",
       "    <tr>\n",
       "      <th>15</th>\n",
       "      <td>tongdunP2PNumPfL6M</td>\n",
       "      <td>NaN</td>\n",
       "      <td>NaN</td>\n",
       "      <td>0</td>\n",
       "    </tr>\n",
       "    <tr>\n",
       "      <th>16</th>\n",
       "      <td>xy_creditNProductNum</td>\n",
       "      <td>127.718</td>\n",
       "      <td>FORWARD</td>\n",
       "      <td>1</td>\n",
       "    </tr>\n",
       "    <tr>\n",
       "      <th>17</th>\n",
       "      <td>xy_creditFDCreditAmtAvg</td>\n",
       "      <td>139.896</td>\n",
       "      <td>FORWARD</td>\n",
       "      <td>1</td>\n",
       "    </tr>\n",
       "  </tbody>\n",
       "</table>\n",
       "</div>"
      ],
      "text/plain": [
       "                          var_code AIC_delta     step  final_selected\n",
       "0          xy_applyLoanQueryNumL3M    167.55  FORWARD               1\n",
       "1       tongdun12MIdMultiLoanNumPf   212.803  FORWARD               1\n",
       "2          tongdunmicrofinNumPfL6M   9.88513  FORWARD               1\n",
       "3            tongdunconfinNumPfL6M       NaN      NaN               0\n",
       "4                     nike700Score   2975.39  FORWARD               1\n",
       "5      tongdunPhoneMultiLoanNum_v2   30.0195  FORWARD               1\n",
       "6            br_grzz_pc_user_level   85.5443  FORWARD               1\n",
       "7              ym_credit_score_big    847.43  FORWARD               1\n",
       "8   tongdun6MIdXiaofeiFenqiLoanNum   136.256  FORWARD               1\n",
       "9                 tencentScore_new   610.335  FORWARD               1\n",
       "10           tongdunconfinNumPfL3M    21.611  FORWARD               1\n",
       "11          br_grzz_pc_rcnt_income   319.186  FORWARD               1\n",
       "12     xy_behaviorSuccessPayNumL1M   44.7108  FORWARD               1\n",
       "13            tongdunotherNumPfL3M    152.81  FORWARD               1\n",
       "14       xy_behaviorFailPayNumHist   755.533  FORWARD               1\n",
       "15              tongdunP2PNumPfL6M       NaN      NaN               0\n",
       "16            xy_creditNProductNum   127.718  FORWARD               1\n",
       "17         xy_creditFDCreditAmtAvg   139.896  FORWARD               1"
      ]
     },
     "execution_count": 51,
     "metadata": {},
     "output_type": "execute_result"
    }
   ],
   "source": [
    "model_result2"
   ]
  },
  {
   "cell_type": "code",
   "execution_count": 52,
   "metadata": {},
   "outputs": [],
   "source": [
    "model_result2 = pd.merge(woe_iv_df,model_result2, left_on=u'指标英文', right_on='var_code').drop('var_code', 1)\n",
    "model_result2 = model_result2.sort_values(['AIC_delta', u'指标英文','sort_val'])"
   ]
  },
  {
   "cell_type": "code",
   "execution_count": 53,
   "metadata": {
    "scrolled": true
   },
   "outputs": [
    {
     "data": {
      "text/plain": [
       "['xy_applyLoanQueryNumL3M',\n",
       " 'tongdun12MIdMultiLoanNumPf',\n",
       " 'tongdunmicrofinNumPfL6M',\n",
       " 'nike700Score',\n",
       " 'tongdunPhoneMultiLoanNum_v2',\n",
       " 'ym_credit_score_big',\n",
       " 'tongdun6MIdXiaofeiFenqiLoanNum',\n",
       " 'tencentScore_new',\n",
       " 'tongdunconfinNumPfL3M',\n",
       " 'xy_creditNProductNum',\n",
       " 'xy_behaviorSuccessPayNumL1M',\n",
       " 'br_grzz_pc_rcnt_income',\n",
       " 'tongdunotherNumPfL3M',\n",
       " 'xy_behaviorFailPayNumHist',\n",
       " 'br_grzz_pc_user_level',\n",
       " 'xy_creditFDCreditAmtAvg']"
      ]
     },
     "execution_count": 53,
     "metadata": {},
     "output_type": "execute_result"
    }
   ],
   "source": [
    "selected = list(set(model_result2[model_result2.final_selected==1].指标英文))\n",
    "selected"
   ]
  },
  {
   "cell_type": "markdown",
   "metadata": {},
   "source": [
    "## 建议拒绝的标签"
   ]
  },
  {
   "cell_type": "code",
   "execution_count": 54,
   "metadata": {},
   "outputs": [],
   "source": [
    "exclude_var=['tongdun12MIdMultiLoanNumPf','tongdunconfinNumPfL3M','tongdunotherNumPfL3M','tongdunPhoneMultiLoanNum_v2','xy_applyLoanQueryNumL3M','xy_creditNProductNum']"
   ]
  },
  {
   "cell_type": "code",
   "execution_count": 55,
   "metadata": {},
   "outputs": [],
   "source": [
    "to_keep=list(set(selected).difference(set(exclude_var)))"
   ]
  },
  {
   "cell_type": "markdown",
   "metadata": {},
   "source": [
    "# 模型评估"
   ]
  },
  {
   "cell_type": "code",
   "execution_count": 59,
   "metadata": {},
   "outputs": [
    {
     "data": {
      "text/plain": [
       "<module 'utils3.summary_statistics' from '/Users/zhenwei.jin/Documents/repos/genie/utils3/summary_statistics.py'>"
      ]
     },
     "execution_count": 59,
     "metadata": {},
     "output_type": "execute_result"
    }
   ],
   "source": [
    "reload(ss)"
   ]
  },
  {
   "cell_type": "code",
   "execution_count": 60,
   "metadata": {},
   "outputs": [
    {
     "data": {
      "text/html": [
       "<div>\n",
       "<style scoped>\n",
       "    .dataframe tbody tr th:only-of-type {\n",
       "        vertical-align: middle;\n",
       "    }\n",
       "\n",
       "    .dataframe tbody tr th {\n",
       "        vertical-align: top;\n",
       "    }\n",
       "\n",
       "    .dataframe thead th {\n",
       "        text-align: right;\n",
       "    }\n",
       "</style>\n",
       "<table border=\"1\" class=\"dataframe\">\n",
       "  <thead>\n",
       "    <tr style=\"text-align: right;\">\n",
       "      <th></th>\n",
       "      <th>split</th>\n",
       "      <th>total</th>\n",
       "      <th>good</th>\n",
       "      <th>bad</th>\n",
       "      <th>rate</th>\n",
       "      <th>dist</th>\n",
       "    </tr>\n",
       "  </thead>\n",
       "  <tbody>\n",
       "    <tr>\n",
       "      <th>0</th>\n",
       "      <td>train</td>\n",
       "      <td>105433.35</td>\n",
       "      <td>89138.89</td>\n",
       "      <td>16294.46</td>\n",
       "      <td>0.1545</td>\n",
       "      <td>0.7</td>\n",
       "    </tr>\n",
       "    <tr>\n",
       "      <th>1</th>\n",
       "      <td>test</td>\n",
       "      <td>46050.54</td>\n",
       "      <td>39213.58</td>\n",
       "      <td>6836.96</td>\n",
       "      <td>0.1485</td>\n",
       "      <td>0.3</td>\n",
       "    </tr>\n",
       "    <tr>\n",
       "      <th>2</th>\n",
       "      <td>sum</td>\n",
       "      <td>151483.89</td>\n",
       "      <td>128352.47</td>\n",
       "      <td>23131.42</td>\n",
       "      <td>0.1527</td>\n",
       "      <td>1.0</td>\n",
       "    </tr>\n",
       "  </tbody>\n",
       "</table>\n",
       "</div>"
      ],
      "text/plain": [
       "   split      total       good       bad    rate  dist\n",
       "0  train  105433.35   89138.89  16294.46  0.1545   0.7\n",
       "1   test   46050.54   39213.58   6836.96  0.1485   0.3\n",
       "2    sum  151483.89  128352.47  23131.42  0.1527   1.0"
      ]
     },
     "execution_count": 60,
     "metadata": {},
     "output_type": "execute_result"
    }
   ],
   "source": [
    "sample_split_summary = ss.sample_split_summary_sw(y_train,y_test,sample_weight)\n",
    "sample_split_summary"
   ]
  },
  {
   "cell_type": "markdown",
   "metadata": {},
   "source": [
    "## 拟合模型"
   ]
  },
  {
   "cell_type": "code",
   "execution_count": 75,
   "metadata": {},
   "outputs": [
    {
     "data": {
      "text/plain": [
       "<module 'utils3.modeling' from '/Users/zhenwei.jin/Documents/repos/genie/utils3/modeling.py'>"
      ]
     },
     "execution_count": 75,
     "metadata": {},
     "output_type": "execute_result"
    }
   ],
   "source": [
    "reload(ml)"
   ]
  },
  {
   "cell_type": "code",
   "execution_count": 76,
   "metadata": {},
   "outputs": [],
   "source": [
    "Logistics_model_obj = ml.LogisticModel(var_dict,y_train,y_test)"
   ]
  },
  {
   "cell_type": "code",
   "execution_count": 63,
   "metadata": {},
   "outputs": [
    {
     "name": "stdout",
     "output_type": "stream",
     "text": [
      "good_sw\n"
     ]
    }
   ],
   "source": [
    "Logistics_model_result = Logistics_model_obj.fit_model_sw('test_model',X_transformed_train,X_transformed_test,sample_weight_train,sample_weight_test,in_model=to_keep)"
   ]
  },
  {
   "cell_type": "markdown",
   "metadata": {},
   "source": [
    "### 训练集拟合结果"
   ]
  },
  {
   "cell_type": "code",
   "execution_count": 64,
   "metadata": {},
   "outputs": [
    {
     "data": {
      "text/html": [
       "<div>\n",
       "<style scoped>\n",
       "    .dataframe tbody tr th:only-of-type {\n",
       "        vertical-align: middle;\n",
       "    }\n",
       "\n",
       "    .dataframe tbody tr th {\n",
       "        vertical-align: top;\n",
       "    }\n",
       "\n",
       "    .dataframe thead th {\n",
       "        text-align: right;\n",
       "    }\n",
       "</style>\n",
       "<table border=\"1\" class=\"dataframe\">\n",
       "  <thead>\n",
       "    <tr style=\"text-align: right;\">\n",
       "      <th></th>\n",
       "      <th>指标中文</th>\n",
       "      <th>coef</th>\n",
       "      <th>std err</th>\n",
       "      <th>Chi-Square</th>\n",
       "      <th>Pr&gt;ChiSq</th>\n",
       "      <th>[0.025</th>\n",
       "      <th>0.975]</th>\n",
       "    </tr>\n",
       "  </thead>\n",
       "  <tbody>\n",
       "    <tr>\n",
       "      <th>const</th>\n",
       "      <td>截距</td>\n",
       "      <td>-1.702</td>\n",
       "      <td>0.009</td>\n",
       "      <td>35693.873</td>\n",
       "      <td>0.000</td>\n",
       "      <td>-1.720</td>\n",
       "      <td>-1.684</td>\n",
       "    </tr>\n",
       "    <tr>\n",
       "      <th>nike700Score</th>\n",
       "      <td>高德反欺诈定制分</td>\n",
       "      <td>0.593</td>\n",
       "      <td>0.023</td>\n",
       "      <td>658.391</td>\n",
       "      <td>0.000</td>\n",
       "      <td>0.547</td>\n",
       "      <td>0.638</td>\n",
       "    </tr>\n",
       "    <tr>\n",
       "      <th>tongdunmicrofinNumPfL6M</th>\n",
       "      <td>近6个月内同盾对于小额贷款公司借款平台数</td>\n",
       "      <td>0.458</td>\n",
       "      <td>0.127</td>\n",
       "      <td>12.949</td>\n",
       "      <td>0.000</td>\n",
       "      <td>0.209</td>\n",
       "      <td>0.708</td>\n",
       "    </tr>\n",
       "    <tr>\n",
       "      <th>ym_credit_score_big</th>\n",
       "      <td>友盟大额通用分</td>\n",
       "      <td>0.524</td>\n",
       "      <td>0.024</td>\n",
       "      <td>479.923</td>\n",
       "      <td>0.000</td>\n",
       "      <td>0.477</td>\n",
       "      <td>0.571</td>\n",
       "    </tr>\n",
       "    <tr>\n",
       "      <th>tongdun6MIdXiaofeiFenqiLoanNum</th>\n",
       "      <td>6个月内身份证一般消费分期平台借款申请次数</td>\n",
       "      <td>0.476</td>\n",
       "      <td>0.050</td>\n",
       "      <td>91.376</td>\n",
       "      <td>0.000</td>\n",
       "      <td>0.378</td>\n",
       "      <td>0.574</td>\n",
       "    </tr>\n",
       "    <tr>\n",
       "      <th>tencentScore_new</th>\n",
       "      <td>腾讯新版通用分</td>\n",
       "      <td>0.918</td>\n",
       "      <td>0.037</td>\n",
       "      <td>608.325</td>\n",
       "      <td>0.000</td>\n",
       "      <td>0.845</td>\n",
       "      <td>0.991</td>\n",
       "    </tr>\n",
       "    <tr>\n",
       "      <th>br_grzz_pc_rcnt_income</th>\n",
       "      <td>近期收入能力</td>\n",
       "      <td>0.627</td>\n",
       "      <td>0.037</td>\n",
       "      <td>282.951</td>\n",
       "      <td>0.000</td>\n",
       "      <td>0.554</td>\n",
       "      <td>0.700</td>\n",
       "    </tr>\n",
       "    <tr>\n",
       "      <th>xy_behaviorSuccessPayNumL1M</th>\n",
       "      <td>近1个月贷款机构成功扣款笔 数</td>\n",
       "      <td>0.161</td>\n",
       "      <td>0.089</td>\n",
       "      <td>3.260</td>\n",
       "      <td>0.071</td>\n",
       "      <td>-0.014</td>\n",
       "      <td>0.336</td>\n",
       "    </tr>\n",
       "    <tr>\n",
       "      <th>xy_behaviorFailPayNumHist</th>\n",
       "      <td>历史贷款机构失败扣款笔数</td>\n",
       "      <td>1.174</td>\n",
       "      <td>0.039</td>\n",
       "      <td>927.519</td>\n",
       "      <td>0.000</td>\n",
       "      <td>1.099</td>\n",
       "      <td>1.250</td>\n",
       "    </tr>\n",
       "    <tr>\n",
       "      <th>br_grzz_pc_user_level</th>\n",
       "      <td>消费信用等级</td>\n",
       "      <td>0.330</td>\n",
       "      <td>0.032</td>\n",
       "      <td>103.406</td>\n",
       "      <td>0.000</td>\n",
       "      <td>0.267</td>\n",
       "      <td>0.394</td>\n",
       "    </tr>\n",
       "    <tr>\n",
       "      <th>xy_creditFDCreditAmtAvg</th>\n",
       "      <td>消费金融类机构平均授信额度</td>\n",
       "      <td>0.505</td>\n",
       "      <td>0.056</td>\n",
       "      <td>81.510</td>\n",
       "      <td>0.000</td>\n",
       "      <td>0.396</td>\n",
       "      <td>0.615</td>\n",
       "    </tr>\n",
       "  </tbody>\n",
       "</table>\n",
       "</div>"
      ],
      "text/plain": [
       "                                                 指标中文    coef std err  \\\n",
       "const                                              截距  -1.702   0.009   \n",
       "nike700Score                                 高德反欺诈定制分   0.593   0.023   \n",
       "tongdunmicrofinNumPfL6M          近6个月内同盾对于小额贷款公司借款平台数   0.458   0.127   \n",
       "ym_credit_score_big                           友盟大额通用分   0.524   0.024   \n",
       "tongdun6MIdXiaofeiFenqiLoanNum  6个月内身份证一般消费分期平台借款申请次数   0.476   0.050   \n",
       "tencentScore_new                              腾讯新版通用分   0.918   0.037   \n",
       "br_grzz_pc_rcnt_income                         近期收入能力   0.627   0.037   \n",
       "xy_behaviorSuccessPayNumL1M          近1个月贷款机构成功扣款笔 数    0.161   0.089   \n",
       "xy_behaviorFailPayNumHist                历史贷款机构失败扣款笔数   1.174   0.039   \n",
       "br_grzz_pc_user_level                          消费信用等级   0.330   0.032   \n",
       "xy_creditFDCreditAmtAvg                 消费金融类机构平均授信额度   0.505   0.056   \n",
       "\n",
       "                               Chi-Square Pr>ChiSq  [0.025  0.975]  \n",
       "const                           35693.873    0.000  -1.720  -1.684  \n",
       "nike700Score                      658.391    0.000   0.547   0.638  \n",
       "tongdunmicrofinNumPfL6M            12.949    0.000   0.209   0.708  \n",
       "ym_credit_score_big               479.923    0.000   0.477   0.571  \n",
       "tongdun6MIdXiaofeiFenqiLoanNum     91.376    0.000   0.378   0.574  \n",
       "tencentScore_new                  608.325    0.000   0.845   0.991  \n",
       "br_grzz_pc_rcnt_income            282.951    0.000   0.554   0.700  \n",
       "xy_behaviorSuccessPayNumL1M         3.260    0.071  -0.014   0.336  \n",
       "xy_behaviorFailPayNumHist         927.519    0.000   1.099   1.250  \n",
       "br_grzz_pc_user_level             103.406    0.000   0.267   0.394  \n",
       "xy_creditFDCreditAmtAvg            81.510    0.000   0.396   0.615  "
      ]
     },
     "execution_count": 64,
     "metadata": {},
     "output_type": "execute_result"
    }
   ],
   "source": [
    "Logistics_model_result['train_coef']"
   ]
  },
  {
   "cell_type": "markdown",
   "metadata": {},
   "source": [
    "### 测试集拟合结果"
   ]
  },
  {
   "cell_type": "code",
   "execution_count": 65,
   "metadata": {},
   "outputs": [
    {
     "data": {
      "text/html": [
       "<div>\n",
       "<style scoped>\n",
       "    .dataframe tbody tr th:only-of-type {\n",
       "        vertical-align: middle;\n",
       "    }\n",
       "\n",
       "    .dataframe tbody tr th {\n",
       "        vertical-align: top;\n",
       "    }\n",
       "\n",
       "    .dataframe thead th {\n",
       "        text-align: right;\n",
       "    }\n",
       "</style>\n",
       "<table border=\"1\" class=\"dataframe\">\n",
       "  <thead>\n",
       "    <tr style=\"text-align: right;\">\n",
       "      <th></th>\n",
       "      <th>指标中文</th>\n",
       "      <th>coef</th>\n",
       "      <th>std err</th>\n",
       "      <th>Chi-Square</th>\n",
       "      <th>Pr&gt;ChiSq</th>\n",
       "      <th>[0.025</th>\n",
       "      <th>0.975]</th>\n",
       "    </tr>\n",
       "  </thead>\n",
       "  <tbody>\n",
       "    <tr>\n",
       "      <th>const</th>\n",
       "      <td>截距</td>\n",
       "      <td>-1.760</td>\n",
       "      <td>0.014</td>\n",
       "      <td>15627.631</td>\n",
       "      <td>0.000</td>\n",
       "      <td>-1.788</td>\n",
       "      <td>-1.733</td>\n",
       "    </tr>\n",
       "    <tr>\n",
       "      <th>nike700Score</th>\n",
       "      <td>高德反欺诈定制分</td>\n",
       "      <td>0.655</td>\n",
       "      <td>0.036</td>\n",
       "      <td>322.594</td>\n",
       "      <td>0.000</td>\n",
       "      <td>0.584</td>\n",
       "      <td>0.727</td>\n",
       "    </tr>\n",
       "    <tr>\n",
       "      <th>tongdunmicrofinNumPfL6M</th>\n",
       "      <td>近6个月内同盾对于小额贷款公司借款平台数</td>\n",
       "      <td>0.143</td>\n",
       "      <td>0.157</td>\n",
       "      <td>0.831</td>\n",
       "      <td>0.362</td>\n",
       "      <td>-0.164</td>\n",
       "      <td>0.450</td>\n",
       "    </tr>\n",
       "    <tr>\n",
       "      <th>ym_credit_score_big</th>\n",
       "      <td>友盟大额通用分</td>\n",
       "      <td>0.603</td>\n",
       "      <td>0.038</td>\n",
       "      <td>255.736</td>\n",
       "      <td>0.000</td>\n",
       "      <td>0.529</td>\n",
       "      <td>0.677</td>\n",
       "    </tr>\n",
       "    <tr>\n",
       "      <th>tongdun6MIdXiaofeiFenqiLoanNum</th>\n",
       "      <td>6个月内身份证一般消费分期平台借款申请次数</td>\n",
       "      <td>0.364</td>\n",
       "      <td>0.078</td>\n",
       "      <td>21.741</td>\n",
       "      <td>0.000</td>\n",
       "      <td>0.211</td>\n",
       "      <td>0.518</td>\n",
       "    </tr>\n",
       "    <tr>\n",
       "      <th>tencentScore_new</th>\n",
       "      <td>腾讯新版通用分</td>\n",
       "      <td>0.811</td>\n",
       "      <td>0.058</td>\n",
       "      <td>198.508</td>\n",
       "      <td>0.000</td>\n",
       "      <td>0.698</td>\n",
       "      <td>0.924</td>\n",
       "    </tr>\n",
       "    <tr>\n",
       "      <th>br_grzz_pc_rcnt_income</th>\n",
       "      <td>近期收入能力</td>\n",
       "      <td>0.795</td>\n",
       "      <td>0.059</td>\n",
       "      <td>184.419</td>\n",
       "      <td>0.000</td>\n",
       "      <td>0.680</td>\n",
       "      <td>0.909</td>\n",
       "    </tr>\n",
       "    <tr>\n",
       "      <th>xy_behaviorSuccessPayNumL1M</th>\n",
       "      <td>近1个月贷款机构成功扣款笔 数</td>\n",
       "      <td>0.098</td>\n",
       "      <td>0.138</td>\n",
       "      <td>0.498</td>\n",
       "      <td>0.480</td>\n",
       "      <td>-0.174</td>\n",
       "      <td>0.369</td>\n",
       "    </tr>\n",
       "    <tr>\n",
       "      <th>xy_behaviorFailPayNumHist</th>\n",
       "      <td>历史贷款机构失败扣款笔数</td>\n",
       "      <td>1.271</td>\n",
       "      <td>0.061</td>\n",
       "      <td>427.389</td>\n",
       "      <td>0.000</td>\n",
       "      <td>1.150</td>\n",
       "      <td>1.391</td>\n",
       "    </tr>\n",
       "    <tr>\n",
       "      <th>br_grzz_pc_user_level</th>\n",
       "      <td>消费信用等级</td>\n",
       "      <td>0.372</td>\n",
       "      <td>0.049</td>\n",
       "      <td>58.661</td>\n",
       "      <td>0.000</td>\n",
       "      <td>0.276</td>\n",
       "      <td>0.467</td>\n",
       "    </tr>\n",
       "    <tr>\n",
       "      <th>xy_creditFDCreditAmtAvg</th>\n",
       "      <td>消费金融类机构平均授信额度</td>\n",
       "      <td>0.899</td>\n",
       "      <td>0.091</td>\n",
       "      <td>98.626</td>\n",
       "      <td>0.000</td>\n",
       "      <td>0.722</td>\n",
       "      <td>1.077</td>\n",
       "    </tr>\n",
       "  </tbody>\n",
       "</table>\n",
       "</div>"
      ],
      "text/plain": [
       "                                                 指标中文    coef std err  \\\n",
       "const                                              截距  -1.760   0.014   \n",
       "nike700Score                                 高德反欺诈定制分   0.655   0.036   \n",
       "tongdunmicrofinNumPfL6M          近6个月内同盾对于小额贷款公司借款平台数   0.143   0.157   \n",
       "ym_credit_score_big                           友盟大额通用分   0.603   0.038   \n",
       "tongdun6MIdXiaofeiFenqiLoanNum  6个月内身份证一般消费分期平台借款申请次数   0.364   0.078   \n",
       "tencentScore_new                              腾讯新版通用分   0.811   0.058   \n",
       "br_grzz_pc_rcnt_income                         近期收入能力   0.795   0.059   \n",
       "xy_behaviorSuccessPayNumL1M          近1个月贷款机构成功扣款笔 数    0.098   0.138   \n",
       "xy_behaviorFailPayNumHist                历史贷款机构失败扣款笔数   1.271   0.061   \n",
       "br_grzz_pc_user_level                          消费信用等级   0.372   0.049   \n",
       "xy_creditFDCreditAmtAvg                 消费金融类机构平均授信额度   0.899   0.091   \n",
       "\n",
       "                               Chi-Square Pr>ChiSq  [0.025  0.975]  \n",
       "const                           15627.631    0.000  -1.788  -1.733  \n",
       "nike700Score                      322.594    0.000   0.584   0.727  \n",
       "tongdunmicrofinNumPfL6M             0.831    0.362  -0.164   0.450  \n",
       "ym_credit_score_big               255.736    0.000   0.529   0.677  \n",
       "tongdun6MIdXiaofeiFenqiLoanNum     21.741    0.000   0.211   0.518  \n",
       "tencentScore_new                  198.508    0.000   0.698   0.924  \n",
       "br_grzz_pc_rcnt_income            184.419    0.000   0.680   0.909  \n",
       "xy_behaviorSuccessPayNumL1M         0.498    0.480  -0.174   0.369  \n",
       "xy_behaviorFailPayNumHist         427.389    0.000   1.150   1.391  \n",
       "br_grzz_pc_user_level              58.661    0.000   0.276   0.467  \n",
       "xy_creditFDCreditAmtAvg            98.626    0.000   0.722   1.077  "
      ]
     },
     "execution_count": 65,
     "metadata": {},
     "output_type": "execute_result"
    }
   ],
   "source": [
    "Logistics_model_result['test_coef']"
   ]
  },
  {
   "cell_type": "markdown",
   "metadata": {},
   "source": [
    "对比分析建议删除tongdunmicrofinNumPfL6M和xy_behaviorSuccessPayNumL1M这两个字段"
   ]
  },
  {
   "cell_type": "code",
   "execution_count": 66,
   "metadata": {},
   "outputs": [],
   "source": [
    "exclude_var2=['tongdunmicrofinNumPfL6M','xy_behaviorSuccessPayNumL1M']"
   ]
  },
  {
   "cell_type": "code",
   "execution_count": 67,
   "metadata": {},
   "outputs": [],
   "source": [
    "to_keep_1=list(set(to_keep).difference(set(exclude_var2)))"
   ]
  },
  {
   "cell_type": "code",
   "execution_count": 68,
   "metadata": {},
   "outputs": [
    {
     "name": "stdout",
     "output_type": "stream",
     "text": [
      "good_sw\n"
     ]
    }
   ],
   "source": [
    "Logistics_model_result = Logistics_model_obj.fit_model_sw('test_model',X_transformed_train,X_transformed_test,sample_weight_train,sample_weight_test,in_model=to_keep_1)"
   ]
  },
  {
   "cell_type": "code",
   "execution_count": 69,
   "metadata": {},
   "outputs": [
    {
     "data": {
      "text/html": [
       "<div>\n",
       "<style scoped>\n",
       "    .dataframe tbody tr th:only-of-type {\n",
       "        vertical-align: middle;\n",
       "    }\n",
       "\n",
       "    .dataframe tbody tr th {\n",
       "        vertical-align: top;\n",
       "    }\n",
       "\n",
       "    .dataframe thead th {\n",
       "        text-align: right;\n",
       "    }\n",
       "</style>\n",
       "<table border=\"1\" class=\"dataframe\">\n",
       "  <thead>\n",
       "    <tr style=\"text-align: right;\">\n",
       "      <th></th>\n",
       "      <th>指标中文</th>\n",
       "      <th>coef</th>\n",
       "      <th>std err</th>\n",
       "      <th>Chi-Square</th>\n",
       "      <th>Pr&gt;ChiSq</th>\n",
       "      <th>[0.025</th>\n",
       "      <th>0.975]</th>\n",
       "    </tr>\n",
       "  </thead>\n",
       "  <tbody>\n",
       "    <tr>\n",
       "      <th>const</th>\n",
       "      <td>截距</td>\n",
       "      <td>-1.702</td>\n",
       "      <td>0.009</td>\n",
       "      <td>35701.303</td>\n",
       "      <td>0.000</td>\n",
       "      <td>-1.719</td>\n",
       "      <td>-1.684</td>\n",
       "    </tr>\n",
       "    <tr>\n",
       "      <th>nike700Score</th>\n",
       "      <td>高德反欺诈定制分</td>\n",
       "      <td>0.592</td>\n",
       "      <td>0.023</td>\n",
       "      <td>658.115</td>\n",
       "      <td>0.000</td>\n",
       "      <td>0.547</td>\n",
       "      <td>0.638</td>\n",
       "    </tr>\n",
       "    <tr>\n",
       "      <th>ym_credit_score_big</th>\n",
       "      <td>友盟大额通用分</td>\n",
       "      <td>0.530</td>\n",
       "      <td>0.024</td>\n",
       "      <td>494.766</td>\n",
       "      <td>0.000</td>\n",
       "      <td>0.483</td>\n",
       "      <td>0.577</td>\n",
       "    </tr>\n",
       "    <tr>\n",
       "      <th>tongdun6MIdXiaofeiFenqiLoanNum</th>\n",
       "      <td>6个月内身份证一般消费分期平台借款申请次数</td>\n",
       "      <td>0.484</td>\n",
       "      <td>0.048</td>\n",
       "      <td>101.757</td>\n",
       "      <td>0.000</td>\n",
       "      <td>0.390</td>\n",
       "      <td>0.578</td>\n",
       "    </tr>\n",
       "    <tr>\n",
       "      <th>tencentScore_new</th>\n",
       "      <td>腾讯新版通用分</td>\n",
       "      <td>0.919</td>\n",
       "      <td>0.037</td>\n",
       "      <td>610.247</td>\n",
       "      <td>0.000</td>\n",
       "      <td>0.847</td>\n",
       "      <td>0.992</td>\n",
       "    </tr>\n",
       "    <tr>\n",
       "      <th>br_grzz_pc_rcnt_income</th>\n",
       "      <td>近期收入能力</td>\n",
       "      <td>0.631</td>\n",
       "      <td>0.037</td>\n",
       "      <td>286.570</td>\n",
       "      <td>0.000</td>\n",
       "      <td>0.558</td>\n",
       "      <td>0.704</td>\n",
       "    </tr>\n",
       "    <tr>\n",
       "      <th>xy_behaviorFailPayNumHist</th>\n",
       "      <td>历史贷款机构失败扣款笔数</td>\n",
       "      <td>1.185</td>\n",
       "      <td>0.038</td>\n",
       "      <td>985.802</td>\n",
       "      <td>0.000</td>\n",
       "      <td>1.111</td>\n",
       "      <td>1.259</td>\n",
       "    </tr>\n",
       "    <tr>\n",
       "      <th>br_grzz_pc_user_level</th>\n",
       "      <td>消费信用等级</td>\n",
       "      <td>0.328</td>\n",
       "      <td>0.032</td>\n",
       "      <td>102.362</td>\n",
       "      <td>0.000</td>\n",
       "      <td>0.265</td>\n",
       "      <td>0.392</td>\n",
       "    </tr>\n",
       "    <tr>\n",
       "      <th>xy_creditFDCreditAmtAvg</th>\n",
       "      <td>消费金融类机构平均授信额度</td>\n",
       "      <td>0.520</td>\n",
       "      <td>0.055</td>\n",
       "      <td>88.051</td>\n",
       "      <td>0.000</td>\n",
       "      <td>0.411</td>\n",
       "      <td>0.629</td>\n",
       "    </tr>\n",
       "  </tbody>\n",
       "</table>\n",
       "</div>"
      ],
      "text/plain": [
       "                                                 指标中文    coef std err  \\\n",
       "const                                              截距  -1.702   0.009   \n",
       "nike700Score                                 高德反欺诈定制分   0.592   0.023   \n",
       "ym_credit_score_big                           友盟大额通用分   0.530   0.024   \n",
       "tongdun6MIdXiaofeiFenqiLoanNum  6个月内身份证一般消费分期平台借款申请次数   0.484   0.048   \n",
       "tencentScore_new                              腾讯新版通用分   0.919   0.037   \n",
       "br_grzz_pc_rcnt_income                         近期收入能力   0.631   0.037   \n",
       "xy_behaviorFailPayNumHist                历史贷款机构失败扣款笔数   1.185   0.038   \n",
       "br_grzz_pc_user_level                          消费信用等级   0.328   0.032   \n",
       "xy_creditFDCreditAmtAvg                 消费金融类机构平均授信额度   0.520   0.055   \n",
       "\n",
       "                               Chi-Square Pr>ChiSq  [0.025  0.975]  \n",
       "const                           35701.303    0.000  -1.719  -1.684  \n",
       "nike700Score                      658.115    0.000   0.547   0.638  \n",
       "ym_credit_score_big               494.766    0.000   0.483   0.577  \n",
       "tongdun6MIdXiaofeiFenqiLoanNum    101.757    0.000   0.390   0.578  \n",
       "tencentScore_new                  610.247    0.000   0.847   0.992  \n",
       "br_grzz_pc_rcnt_income            286.570    0.000   0.558   0.704  \n",
       "xy_behaviorFailPayNumHist         985.802    0.000   1.111   1.259  \n",
       "br_grzz_pc_user_level             102.362    0.000   0.265   0.392  \n",
       "xy_creditFDCreditAmtAvg            88.051    0.000   0.411   0.629  "
      ]
     },
     "execution_count": 69,
     "metadata": {},
     "output_type": "execute_result"
    }
   ],
   "source": [
    "Logistics_model_result['train_coef']"
   ]
  },
  {
   "cell_type": "code",
   "execution_count": 70,
   "metadata": {},
   "outputs": [
    {
     "data": {
      "text/html": [
       "<div>\n",
       "<style scoped>\n",
       "    .dataframe tbody tr th:only-of-type {\n",
       "        vertical-align: middle;\n",
       "    }\n",
       "\n",
       "    .dataframe tbody tr th {\n",
       "        vertical-align: top;\n",
       "    }\n",
       "\n",
       "    .dataframe thead th {\n",
       "        text-align: right;\n",
       "    }\n",
       "</style>\n",
       "<table border=\"1\" class=\"dataframe\">\n",
       "  <thead>\n",
       "    <tr style=\"text-align: right;\">\n",
       "      <th></th>\n",
       "      <th>指标中文</th>\n",
       "      <th>coef</th>\n",
       "      <th>std err</th>\n",
       "      <th>Chi-Square</th>\n",
       "      <th>Pr&gt;ChiSq</th>\n",
       "      <th>[0.025</th>\n",
       "      <th>0.975]</th>\n",
       "    </tr>\n",
       "  </thead>\n",
       "  <tbody>\n",
       "    <tr>\n",
       "      <th>const</th>\n",
       "      <td>截距</td>\n",
       "      <td>-1.760</td>\n",
       "      <td>0.014</td>\n",
       "      <td>15635.897</td>\n",
       "      <td>0.000</td>\n",
       "      <td>-1.787</td>\n",
       "      <td>-1.732</td>\n",
       "    </tr>\n",
       "    <tr>\n",
       "      <th>nike700Score</th>\n",
       "      <td>高德反欺诈定制分</td>\n",
       "      <td>0.654</td>\n",
       "      <td>0.036</td>\n",
       "      <td>322.488</td>\n",
       "      <td>0.000</td>\n",
       "      <td>0.583</td>\n",
       "      <td>0.725</td>\n",
       "    </tr>\n",
       "    <tr>\n",
       "      <th>ym_credit_score_big</th>\n",
       "      <td>友盟大额通用分</td>\n",
       "      <td>0.608</td>\n",
       "      <td>0.037</td>\n",
       "      <td>264.053</td>\n",
       "      <td>0.000</td>\n",
       "      <td>0.535</td>\n",
       "      <td>0.682</td>\n",
       "    </tr>\n",
       "    <tr>\n",
       "      <th>tongdun6MIdXiaofeiFenqiLoanNum</th>\n",
       "      <td>6个月内身份证一般消费分期平台借款申请次数</td>\n",
       "      <td>0.369</td>\n",
       "      <td>0.076</td>\n",
       "      <td>23.858</td>\n",
       "      <td>0.000</td>\n",
       "      <td>0.221</td>\n",
       "      <td>0.517</td>\n",
       "    </tr>\n",
       "    <tr>\n",
       "      <th>tencentScore_new</th>\n",
       "      <td>腾讯新版通用分</td>\n",
       "      <td>0.812</td>\n",
       "      <td>0.058</td>\n",
       "      <td>198.992</td>\n",
       "      <td>0.000</td>\n",
       "      <td>0.699</td>\n",
       "      <td>0.925</td>\n",
       "    </tr>\n",
       "    <tr>\n",
       "      <th>br_grzz_pc_rcnt_income</th>\n",
       "      <td>近期收入能力</td>\n",
       "      <td>0.796</td>\n",
       "      <td>0.059</td>\n",
       "      <td>185.148</td>\n",
       "      <td>0.000</td>\n",
       "      <td>0.681</td>\n",
       "      <td>0.911</td>\n",
       "    </tr>\n",
       "    <tr>\n",
       "      <th>xy_behaviorFailPayNumHist</th>\n",
       "      <td>历史贷款机构失败扣款笔数</td>\n",
       "      <td>1.277</td>\n",
       "      <td>0.060</td>\n",
       "      <td>452.436</td>\n",
       "      <td>0.000</td>\n",
       "      <td>1.160</td>\n",
       "      <td>1.395</td>\n",
       "    </tr>\n",
       "    <tr>\n",
       "      <th>br_grzz_pc_user_level</th>\n",
       "      <td>消费信用等级</td>\n",
       "      <td>0.370</td>\n",
       "      <td>0.048</td>\n",
       "      <td>58.268</td>\n",
       "      <td>0.000</td>\n",
       "      <td>0.275</td>\n",
       "      <td>0.465</td>\n",
       "    </tr>\n",
       "    <tr>\n",
       "      <th>xy_creditFDCreditAmtAvg</th>\n",
       "      <td>消费金融类机构平均授信额度</td>\n",
       "      <td>0.910</td>\n",
       "      <td>0.090</td>\n",
       "      <td>103.097</td>\n",
       "      <td>0.000</td>\n",
       "      <td>0.734</td>\n",
       "      <td>1.085</td>\n",
       "    </tr>\n",
       "  </tbody>\n",
       "</table>\n",
       "</div>"
      ],
      "text/plain": [
       "                                                 指标中文    coef std err  \\\n",
       "const                                              截距  -1.760   0.014   \n",
       "nike700Score                                 高德反欺诈定制分   0.654   0.036   \n",
       "ym_credit_score_big                           友盟大额通用分   0.608   0.037   \n",
       "tongdun6MIdXiaofeiFenqiLoanNum  6个月内身份证一般消费分期平台借款申请次数   0.369   0.076   \n",
       "tencentScore_new                              腾讯新版通用分   0.812   0.058   \n",
       "br_grzz_pc_rcnt_income                         近期收入能力   0.796   0.059   \n",
       "xy_behaviorFailPayNumHist                历史贷款机构失败扣款笔数   1.277   0.060   \n",
       "br_grzz_pc_user_level                          消费信用等级   0.370   0.048   \n",
       "xy_creditFDCreditAmtAvg                 消费金融类机构平均授信额度   0.910   0.090   \n",
       "\n",
       "                               Chi-Square Pr>ChiSq  [0.025  0.975]  \n",
       "const                           15635.897    0.000  -1.787  -1.732  \n",
       "nike700Score                      322.488    0.000   0.583   0.725  \n",
       "ym_credit_score_big               264.053    0.000   0.535   0.682  \n",
       "tongdun6MIdXiaofeiFenqiLoanNum     23.858    0.000   0.221   0.517  \n",
       "tencentScore_new                  198.992    0.000   0.699   0.925  \n",
       "br_grzz_pc_rcnt_income            185.148    0.000   0.681   0.911  \n",
       "xy_behaviorFailPayNumHist         452.436    0.000   1.160   1.395  \n",
       "br_grzz_pc_user_level              58.268    0.000   0.275   0.465  \n",
       "xy_creditFDCreditAmtAvg           103.097    0.000   0.734   1.085  "
      ]
     },
     "execution_count": 70,
     "metadata": {},
     "output_type": "execute_result"
    }
   ],
   "source": [
    "Logistics_model_result['test_coef']"
   ]
  },
  {
   "cell_type": "markdown",
   "metadata": {},
   "source": [
    "## KS&AUC曲线图"
   ]
  },
  {
   "cell_type": "code",
   "execution_count": 77,
   "metadata": {},
   "outputs": [
    {
     "data": {
      "image/png": "[encoded data removed]",
      "text/plain": [
       "<matplotlib.figure.Figure at 0x1403f8390>"
      ]
     },
     "metadata": {},
     "output_type": "display_data"
    },
    {
     "data": {
      "image/png": "[encoded data removed]",
      "text/plain": [
       "<matplotlib.figure.Figure at 0x1403f84e0>"
      ]
     },
     "metadata": {},
     "output_type": "display_data"
    },
    {
     "data": {
      "image/png": "[encoded data removed]",
      "text/plain": [
       "<matplotlib.figure.Figure at 0x12c4daa90>"
      ]
     },
     "metadata": {},
     "output_type": "display_data"
    },
    {
     "data": {
      "image/png": "[encoded data removed]",
      "text/plain": [
       "<matplotlib.figure.Figure at 0x12c4da940>"
      ]
     },
     "metadata": {},
     "output_type": "display_data"
    },
    {
     "data": {
      "image/png": "[encoded data removed]",
      "text/plain": [
       "<matplotlib.figure.Figure at 0x12e298940>"
      ]
     },
     "metadata": {},
     "output_type": "display_data"
    },
    {
     "data": {
      "image/png": "[encoded data removed]",
      "text/plain": [
       "<matplotlib.figure.Figure at 0x13ee50390>"
      ]
     },
     "metadata": {},
     "output_type": "display_data"
    }
   ],
   "source": [
    "Logistics_model_obj.plot_for_the_model_sw(sample_weight,y,RESULT_PATH,Logistics_model_result, with_test=True)"
   ]
  },
  {
   "cell_type": "markdown",
   "metadata": {},
   "source": [
    "## 变量相关性系数"
   ]
  },
  {
   "cell_type": "code",
   "execution_count": 78,
   "metadata": {},
   "outputs": [
    {
     "data": {
      "text/html": [
       "<div>\n",
       "<style scoped>\n",
       "    .dataframe tbody tr th:only-of-type {\n",
       "        vertical-align: middle;\n",
       "    }\n",
       "\n",
       "    .dataframe tbody tr th {\n",
       "        vertical-align: top;\n",
       "    }\n",
       "\n",
       "    .dataframe thead th {\n",
       "        text-align: right;\n",
       "    }\n",
       "</style>\n",
       "<table border=\"1\" class=\"dataframe\">\n",
       "  <thead>\n",
       "    <tr style=\"text-align: right;\">\n",
       "      <th></th>\n",
       "      <th>nike700Score</th>\n",
       "      <th>ym_credit_score_big</th>\n",
       "      <th>tongdun6MIdXiaofeiFenqiLoanNum</th>\n",
       "      <th>tencentScore_new</th>\n",
       "      <th>br_grzz_pc_rcnt_income</th>\n",
       "      <th>xy_behaviorFailPayNumHist</th>\n",
       "      <th>br_grzz_pc_user_level</th>\n",
       "      <th>xy_creditFDCreditAmtAvg</th>\n",
       "    </tr>\n",
       "  </thead>\n",
       "  <tbody>\n",
       "    <tr>\n",
       "      <th>nike700Score</th>\n",
       "      <td>1.000000</td>\n",
       "      <td>0.415729</td>\n",
       "      <td>0.260346</td>\n",
       "      <td>0.040638</td>\n",
       "      <td>0.163816</td>\n",
       "      <td>0.004736</td>\n",
       "      <td>0.464679</td>\n",
       "      <td>0.150154</td>\n",
       "    </tr>\n",
       "    <tr>\n",
       "      <th>ym_credit_score_big</th>\n",
       "      <td>0.415729</td>\n",
       "      <td>1.000000</td>\n",
       "      <td>0.192314</td>\n",
       "      <td>0.034820</td>\n",
       "      <td>0.149493</td>\n",
       "      <td>0.034390</td>\n",
       "      <td>0.305605</td>\n",
       "      <td>0.143980</td>\n",
       "    </tr>\n",
       "    <tr>\n",
       "      <th>tongdun6MIdXiaofeiFenqiLoanNum</th>\n",
       "      <td>0.260346</td>\n",
       "      <td>0.192314</td>\n",
       "      <td>1.000000</td>\n",
       "      <td>-0.057818</td>\n",
       "      <td>0.028649</td>\n",
       "      <td>-0.092359</td>\n",
       "      <td>0.212428</td>\n",
       "      <td>0.118152</td>\n",
       "    </tr>\n",
       "    <tr>\n",
       "      <th>tencentScore_new</th>\n",
       "      <td>0.040638</td>\n",
       "      <td>0.034820</td>\n",
       "      <td>-0.057818</td>\n",
       "      <td>1.000000</td>\n",
       "      <td>0.059684</td>\n",
       "      <td>0.021468</td>\n",
       "      <td>-0.010270</td>\n",
       "      <td>0.030127</td>\n",
       "    </tr>\n",
       "    <tr>\n",
       "      <th>br_grzz_pc_rcnt_income</th>\n",
       "      <td>0.163816</td>\n",
       "      <td>0.149493</td>\n",
       "      <td>0.028649</td>\n",
       "      <td>0.059684</td>\n",
       "      <td>1.000000</td>\n",
       "      <td>-0.015598</td>\n",
       "      <td>0.082402</td>\n",
       "      <td>0.102115</td>\n",
       "    </tr>\n",
       "    <tr>\n",
       "      <th>xy_behaviorFailPayNumHist</th>\n",
       "      <td>0.004736</td>\n",
       "      <td>0.034390</td>\n",
       "      <td>-0.092359</td>\n",
       "      <td>0.021468</td>\n",
       "      <td>-0.015598</td>\n",
       "      <td>1.000000</td>\n",
       "      <td>-0.004208</td>\n",
       "      <td>-0.067786</td>\n",
       "    </tr>\n",
       "    <tr>\n",
       "      <th>br_grzz_pc_user_level</th>\n",
       "      <td>0.464679</td>\n",
       "      <td>0.305605</td>\n",
       "      <td>0.212428</td>\n",
       "      <td>-0.010270</td>\n",
       "      <td>0.082402</td>\n",
       "      <td>-0.004208</td>\n",
       "      <td>1.000000</td>\n",
       "      <td>0.093161</td>\n",
       "    </tr>\n",
       "    <tr>\n",
       "      <th>xy_creditFDCreditAmtAvg</th>\n",
       "      <td>0.150154</td>\n",
       "      <td>0.143980</td>\n",
       "      <td>0.118152</td>\n",
       "      <td>0.030127</td>\n",
       "      <td>0.102115</td>\n",
       "      <td>-0.067786</td>\n",
       "      <td>0.093161</td>\n",
       "      <td>1.000000</td>\n",
       "    </tr>\n",
       "  </tbody>\n",
       "</table>\n",
       "</div>"
      ],
      "text/plain": [
       "                                nike700Score  ym_credit_score_big  \\\n",
       "nike700Score                        1.000000             0.415729   \n",
       "ym_credit_score_big                 0.415729             1.000000   \n",
       "tongdun6MIdXiaofeiFenqiLoanNum      0.260346             0.192314   \n",
       "tencentScore_new                    0.040638             0.034820   \n",
       "br_grzz_pc_rcnt_income              0.163816             0.149493   \n",
       "xy_behaviorFailPayNumHist           0.004736             0.034390   \n",
       "br_grzz_pc_user_level               0.464679             0.305605   \n",
       "xy_creditFDCreditAmtAvg             0.150154             0.143980   \n",
       "\n",
       "                                tongdun6MIdXiaofeiFenqiLoanNum  \\\n",
       "nike700Score                                          0.260346   \n",
       "ym_credit_score_big                                   0.192314   \n",
       "tongdun6MIdXiaofeiFenqiLoanNum                        1.000000   \n",
       "tencentScore_new                                     -0.057818   \n",
       "br_grzz_pc_rcnt_income                                0.028649   \n",
       "xy_behaviorFailPayNumHist                            -0.092359   \n",
       "br_grzz_pc_user_level                                 0.212428   \n",
       "xy_creditFDCreditAmtAvg                               0.118152   \n",
       "\n",
       "                                tencentScore_new  br_grzz_pc_rcnt_income  \\\n",
       "nike700Score                            0.040638                0.163816   \n",
       "ym_credit_score_big                     0.034820                0.149493   \n",
       "tongdun6MIdXiaofeiFenqiLoanNum         -0.057818                0.028649   \n",
       "tencentScore_new                        1.000000                0.059684   \n",
       "br_grzz_pc_rcnt_income                  0.059684                1.000000   \n",
       "xy_behaviorFailPayNumHist               0.021468               -0.015598   \n",
       "br_grzz_pc_user_level                  -0.010270                0.082402   \n",
       "xy_creditFDCreditAmtAvg                 0.030127                0.102115   \n",
       "\n",
       "                                xy_behaviorFailPayNumHist  \\\n",
       "nike700Score                                     0.004736   \n",
       "ym_credit_score_big                              0.034390   \n",
       "tongdun6MIdXiaofeiFenqiLoanNum                  -0.092359   \n",
       "tencentScore_new                                 0.021468   \n",
       "br_grzz_pc_rcnt_income                          -0.015598   \n",
       "xy_behaviorFailPayNumHist                        1.000000   \n",
       "br_grzz_pc_user_level                           -0.004208   \n",
       "xy_creditFDCreditAmtAvg                         -0.067786   \n",
       "\n",
       "                                br_grzz_pc_user_level  xy_creditFDCreditAmtAvg  \n",
       "nike700Score                                 0.464679                 0.150154  \n",
       "ym_credit_score_big                          0.305605                 0.143980  \n",
       "tongdun6MIdXiaofeiFenqiLoanNum               0.212428                 0.118152  \n",
       "tencentScore_new                            -0.010270                 0.030127  \n",
       "br_grzz_pc_rcnt_income                       0.082402                 0.102115  \n",
       "xy_behaviorFailPayNumHist                   -0.004208                -0.067786  \n",
       "br_grzz_pc_user_level                        1.000000                 0.093161  \n",
       "xy_creditFDCreditAmtAvg                      0.093161                 1.000000  "
      ]
     },
     "execution_count": 78,
     "metadata": {},
     "output_type": "execute_result"
    }
   ],
   "source": [
    "corr = X_transformed_train[to_keep_1].corr()\n",
    "corr"
   ]
  },
  {
   "cell_type": "markdown",
   "metadata": {},
   "source": [
    "## 评分卡"
   ]
  },
  {
   "cell_type": "code",
   "execution_count": 79,
   "metadata": {},
   "outputs": [],
   "source": [
    "coefficients = Logistics_model_result['model_final'].params\\\n",
    ".to_frame('beta').reset_index().rename(columns={'index':'var_code'})"
   ]
  },
  {
   "cell_type": "code",
   "execution_count": 80,
   "metadata": {},
   "outputs": [
    {
     "data": {
      "text/html": [
       "<div>\n",
       "<style scoped>\n",
       "    .dataframe tbody tr th:only-of-type {\n",
       "        vertical-align: middle;\n",
       "    }\n",
       "\n",
       "    .dataframe tbody tr th {\n",
       "        vertical-align: top;\n",
       "    }\n",
       "\n",
       "    .dataframe thead th {\n",
       "        text-align: right;\n",
       "    }\n",
       "</style>\n",
       "<table border=\"1\" class=\"dataframe\">\n",
       "  <thead>\n",
       "    <tr style=\"text-align: right;\">\n",
       "      <th></th>\n",
       "      <th>指标英文</th>\n",
       "      <th>分箱</th>\n",
       "      <th>N</th>\n",
       "      <th>分布占比</th>\n",
       "      <th>WOE</th>\n",
       "      <th>逾期率</th>\n",
       "      <th>Bad分布占比</th>\n",
       "    </tr>\n",
       "  </thead>\n",
       "  <tbody>\n",
       "    <tr>\n",
       "      <th>4</th>\n",
       "      <td>tongdun6MIdXiaofeiFenqiLoanNum</td>\n",
       "      <td>(-inf, -8887.0]</td>\n",
       "      <td>13.84</td>\n",
       "      <td>0.000131</td>\n",
       "      <td>0.000000</td>\n",
       "      <td>0.072254</td>\n",
       "      <td>0.0001</td>\n",
       "    </tr>\n",
       "    <tr>\n",
       "      <th>5</th>\n",
       "      <td>tongdun6MIdXiaofeiFenqiLoanNum</td>\n",
       "      <td>(-8887.0, 0.0]</td>\n",
       "      <td>17921.12</td>\n",
       "      <td>0.169976</td>\n",
       "      <td>0.179287</td>\n",
       "      <td>0.179459</td>\n",
       "      <td>0.1974</td>\n",
       "    </tr>\n",
       "    <tr>\n",
       "      <th>6</th>\n",
       "      <td>tongdun6MIdXiaofeiFenqiLoanNum</td>\n",
       "      <td>(0.0, 5.0]</td>\n",
       "      <td>47933.09</td>\n",
       "      <td>0.454629</td>\n",
       "      <td>0.099285</td>\n",
       "      <td>0.167964</td>\n",
       "      <td>0.4941</td>\n",
       "    </tr>\n",
       "    <tr>\n",
       "      <th>7</th>\n",
       "      <td>tongdun6MIdXiaofeiFenqiLoanNum</td>\n",
       "      <td>(5.0, 10.0]</td>\n",
       "      <td>19854.40</td>\n",
       "      <td>0.188312</td>\n",
       "      <td>-0.067979</td>\n",
       "      <td>0.145864</td>\n",
       "      <td>0.1777</td>\n",
       "    </tr>\n",
       "    <tr>\n",
       "      <th>8</th>\n",
       "      <td>tongdun6MIdXiaofeiFenqiLoanNum</td>\n",
       "      <td>(10.0, 20.0]</td>\n",
       "      <td>13139.72</td>\n",
       "      <td>0.124626</td>\n",
       "      <td>-0.345246</td>\n",
       "      <td>0.114620</td>\n",
       "      <td>0.0924</td>\n",
       "    </tr>\n",
       "  </tbody>\n",
       "</table>\n",
       "</div>"
      ],
      "text/plain": [
       "                             指标英文               分箱         N      分布占比  \\\n",
       "4  tongdun6MIdXiaofeiFenqiLoanNum  (-inf, -8887.0]     13.84  0.000131   \n",
       "5  tongdun6MIdXiaofeiFenqiLoanNum   (-8887.0, 0.0]  17921.12  0.169976   \n",
       "6  tongdun6MIdXiaofeiFenqiLoanNum       (0.0, 5.0]  47933.09  0.454629   \n",
       "7  tongdun6MIdXiaofeiFenqiLoanNum      (5.0, 10.0]  19854.40  0.188312   \n",
       "8  tongdun6MIdXiaofeiFenqiLoanNum     (10.0, 20.0]  13139.72  0.124626   \n",
       "\n",
       "        WOE       逾期率  Bad分布占比  \n",
       "4  0.000000  0.072254   0.0001  \n",
       "5  0.179287  0.179459   0.1974  \n",
       "6  0.099285  0.167964   0.4941  \n",
       "7 -0.067979  0.145864   0.1777  \n",
       "8 -0.345246  0.114620   0.0924  "
      ]
     },
     "execution_count": 80,
     "metadata": {},
     "output_type": "execute_result"
    }
   ],
   "source": [
    "cleaned_woe = woe_iv_df_coarse.loc[woe_iv_df_coarse[u'指标英文'].isin(coefficients.var_code), [u'指标英文', u'分箱', 'N', u'分布占比', 'WOE', u'逾期率', u'Bad分布占比']]\n",
    "cleaned_woe.head()"
   ]
  },
  {
   "cell_type": "code",
   "execution_count": 81,
   "metadata": {},
   "outputs": [],
   "source": [
    "score_card = mt.Performance().calculate_score(coefficients, cleaned_woe, 'var_score', var_dict)"
   ]
  },
  {
   "cell_type": "code",
   "execution_count": 82,
   "metadata": {},
   "outputs": [],
   "source": [
    "score_card.to_excel(os.path.join(RESULT_PATH,'score_card.xlsx'))"
   ]
  },
  {
   "cell_type": "markdown",
   "metadata": {},
   "source": [
    "## 查看decile"
   ]
  },
  {
   "cell_type": "code",
   "execution_count": 83,
   "metadata": {},
   "outputs": [],
   "source": [
    "selected = [i for i in coefficients.var_code if i != 'const']\n",
    "train_score = mt.Performance().calculate_score_by_scrd(X_cat_train[selected], score_card)\n",
    "test_score = mt.Performance().calculate_score_by_scrd(X_cat_test[selected], score_card)"
   ]
  },
  {
   "cell_type": "code",
   "execution_count": 84,
   "metadata": {},
   "outputs": [
    {
     "data": {
      "text/plain": [
       "<module 'utils3.verify_performance' from '/Users/zhenwei.jin/Documents/repos/genie/utils3/verify_performance.py'>"
      ]
     },
     "execution_count": 84,
     "metadata": {},
     "output_type": "execute_result"
    }
   ],
   "source": [
    "reload(vp)"
   ]
  },
  {
   "cell_type": "code",
   "execution_count": 85,
   "metadata": {},
   "outputs": [
    {
     "data": {
      "text/html": [
       "<div>\n",
       "<style scoped>\n",
       "    .dataframe tbody tr th:only-of-type {\n",
       "        vertical-align: middle;\n",
       "    }\n",
       "\n",
       "    .dataframe tbody tr th {\n",
       "        vertical-align: top;\n",
       "    }\n",
       "\n",
       "    .dataframe thead th {\n",
       "        text-align: right;\n",
       "    }\n",
       "</style>\n",
       "<table border=\"1\" class=\"dataframe\">\n",
       "  <thead>\n",
       "    <tr style=\"text-align: right;\">\n",
       "      <th></th>\n",
       "      <th>分箱</th>\n",
       "      <th>样本数</th>\n",
       "      <th>好样本数</th>\n",
       "      <th>坏样本数</th>\n",
       "      <th>逾期率</th>\n",
       "      <th>Bad分布占比</th>\n",
       "      <th>Good分布占比</th>\n",
       "      <th>累积Bad占比</th>\n",
       "      <th>累积Good占比</th>\n",
       "      <th>KS</th>\n",
       "      <th>odds(good:bad)</th>\n",
       "    </tr>\n",
       "  </thead>\n",
       "  <tbody>\n",
       "    <tr>\n",
       "      <th>0</th>\n",
       "      <td>(-inf, 476.0]</td>\n",
       "      <td>10053.26</td>\n",
       "      <td>6788.57</td>\n",
       "      <td>3264.69</td>\n",
       "      <td>0.324739</td>\n",
       "      <td>0.200356</td>\n",
       "      <td>0.076157</td>\n",
       "      <td>0.200356</td>\n",
       "      <td>0.076157</td>\n",
       "      <td>1.241986e-01</td>\n",
       "      <td>2.079392</td>\n",
       "    </tr>\n",
       "    <tr>\n",
       "      <th>1</th>\n",
       "      <td>(476.0, 501.0]</td>\n",
       "      <td>10686.55</td>\n",
       "      <td>7950.72</td>\n",
       "      <td>2735.83</td>\n",
       "      <td>0.256007</td>\n",
       "      <td>0.167899</td>\n",
       "      <td>0.089195</td>\n",
       "      <td>0.368255</td>\n",
       "      <td>0.165352</td>\n",
       "      <td>2.029033e-01</td>\n",
       "      <td>2.906145</td>\n",
       "    </tr>\n",
       "    <tr>\n",
       "      <th>2</th>\n",
       "      <td>(501.0, 521.0]</td>\n",
       "      <td>10427.22</td>\n",
       "      <td>8343.89</td>\n",
       "      <td>2083.33</td>\n",
       "      <td>0.199797</td>\n",
       "      <td>0.127855</td>\n",
       "      <td>0.093605</td>\n",
       "      <td>0.496110</td>\n",
       "      <td>0.258957</td>\n",
       "      <td>2.371529e-01</td>\n",
       "      <td>4.005074</td>\n",
       "    </tr>\n",
       "    <tr>\n",
       "      <th>3</th>\n",
       "      <td>(521.0, 540.0]</td>\n",
       "      <td>10893.11</td>\n",
       "      <td>9006.83</td>\n",
       "      <td>1886.28</td>\n",
       "      <td>0.173163</td>\n",
       "      <td>0.115762</td>\n",
       "      <td>0.101043</td>\n",
       "      <td>0.611872</td>\n",
       "      <td>0.360000</td>\n",
       "      <td>2.518723e-01</td>\n",
       "      <td>4.774917</td>\n",
       "    </tr>\n",
       "    <tr>\n",
       "      <th>4</th>\n",
       "      <td>(540.0, 560.0]</td>\n",
       "      <td>10361.69</td>\n",
       "      <td>8757.10</td>\n",
       "      <td>1604.59</td>\n",
       "      <td>0.154858</td>\n",
       "      <td>0.098475</td>\n",
       "      <td>0.098241</td>\n",
       "      <td>0.710347</td>\n",
       "      <td>0.458241</td>\n",
       "      <td>2.521058e-01</td>\n",
       "      <td>5.457531</td>\n",
       "    </tr>\n",
       "    <tr>\n",
       "      <th>5</th>\n",
       "      <td>(560.0, 583.0]</td>\n",
       "      <td>10750.44</td>\n",
       "      <td>9317.31</td>\n",
       "      <td>1433.13</td>\n",
       "      <td>0.133309</td>\n",
       "      <td>0.087952</td>\n",
       "      <td>0.104526</td>\n",
       "      <td>0.798299</td>\n",
       "      <td>0.562767</td>\n",
       "      <td>2.355320e-01</td>\n",
       "      <td>6.501371</td>\n",
       "    </tr>\n",
       "    <tr>\n",
       "      <th>6</th>\n",
       "      <td>(583.0, 607.0]</td>\n",
       "      <td>10267.53</td>\n",
       "      <td>9063.12</td>\n",
       "      <td>1204.41</td>\n",
       "      <td>0.117303</td>\n",
       "      <td>0.073915</td>\n",
       "      <td>0.101674</td>\n",
       "      <td>0.872214</td>\n",
       "      <td>0.664441</td>\n",
       "      <td>2.077732e-01</td>\n",
       "      <td>7.524946</td>\n",
       "    </tr>\n",
       "    <tr>\n",
       "      <th>7</th>\n",
       "      <td>(607.0, 634.0]</td>\n",
       "      <td>10671.39</td>\n",
       "      <td>9764.77</td>\n",
       "      <td>906.62</td>\n",
       "      <td>0.084958</td>\n",
       "      <td>0.055640</td>\n",
       "      <td>0.109546</td>\n",
       "      <td>0.927854</td>\n",
       "      <td>0.773987</td>\n",
       "      <td>1.538674e-01</td>\n",
       "      <td>10.770521</td>\n",
       "    </tr>\n",
       "    <tr>\n",
       "      <th>8</th>\n",
       "      <td>(634.0, 670.0]</td>\n",
       "      <td>10703.89</td>\n",
       "      <td>9925.77</td>\n",
       "      <td>778.12</td>\n",
       "      <td>0.072695</td>\n",
       "      <td>0.047754</td>\n",
       "      <td>0.111352</td>\n",
       "      <td>0.975608</td>\n",
       "      <td>0.885338</td>\n",
       "      <td>9.026929e-02</td>\n",
       "      <td>12.756092</td>\n",
       "    </tr>\n",
       "    <tr>\n",
       "      <th>9</th>\n",
       "      <td>(670.0, inf]</td>\n",
       "      <td>10618.27</td>\n",
       "      <td>10220.81</td>\n",
       "      <td>397.46</td>\n",
       "      <td>0.037432</td>\n",
       "      <td>0.024392</td>\n",
       "      <td>0.114662</td>\n",
       "      <td>1.000000</td>\n",
       "      <td>1.000000</td>\n",
       "      <td>2.220446e-16</td>\n",
       "      <td>25.715317</td>\n",
       "    </tr>\n",
       "  </tbody>\n",
       "</table>\n",
       "</div>"
      ],
      "text/plain": [
       "               分箱       样本数      好样本数     坏样本数       逾期率   Bad分布占比  Good分布占比  \\\n",
       "0   (-inf, 476.0]  10053.26   6788.57  3264.69  0.324739  0.200356  0.076157   \n",
       "1  (476.0, 501.0]  10686.55   7950.72  2735.83  0.256007  0.167899  0.089195   \n",
       "2  (501.0, 521.0]  10427.22   8343.89  2083.33  0.199797  0.127855  0.093605   \n",
       "3  (521.0, 540.0]  10893.11   9006.83  1886.28  0.173163  0.115762  0.101043   \n",
       "4  (540.0, 560.0]  10361.69   8757.10  1604.59  0.154858  0.098475  0.098241   \n",
       "5  (560.0, 583.0]  10750.44   9317.31  1433.13  0.133309  0.087952  0.104526   \n",
       "6  (583.0, 607.0]  10267.53   9063.12  1204.41  0.117303  0.073915  0.101674   \n",
       "7  (607.0, 634.0]  10671.39   9764.77   906.62  0.084958  0.055640  0.109546   \n",
       "8  (634.0, 670.0]  10703.89   9925.77   778.12  0.072695  0.047754  0.111352   \n",
       "9    (670.0, inf]  10618.27  10220.81   397.46  0.037432  0.024392  0.114662   \n",
       "\n",
       "    累积Bad占比  累积Good占比            KS  odds(good:bad)  \n",
       "0  0.200356  0.076157  1.241986e-01        2.079392  \n",
       "1  0.368255  0.165352  2.029033e-01        2.906145  \n",
       "2  0.496110  0.258957  2.371529e-01        4.005074  \n",
       "3  0.611872  0.360000  2.518723e-01        4.774917  \n",
       "4  0.710347  0.458241  2.521058e-01        5.457531  \n",
       "5  0.798299  0.562767  2.355320e-01        6.501371  \n",
       "6  0.872214  0.664441  2.077732e-01        7.524946  \n",
       "7  0.927854  0.773987  1.538674e-01       10.770521  \n",
       "8  0.975608  0.885338  9.026929e-02       12.756092  \n",
       "9  1.000000  1.000000  2.220446e-16       25.715317  "
      ]
     },
     "execution_count": 85,
     "metadata": {},
     "output_type": "execute_result"
    }
   ],
   "source": [
    "# 训练集\n",
    "ks_decile_train = vp.get_decile_sw(train_score[1],sample_weight,y, 'decile',manual_cut_bounds=[])[1]\n",
    "ks_decile_train"
   ]
  },
  {
   "cell_type": "code",
   "execution_count": 86,
   "metadata": {},
   "outputs": [
    {
     "data": {
      "text/html": [
       "<div>\n",
       "<style scoped>\n",
       "    .dataframe tbody tr th:only-of-type {\n",
       "        vertical-align: middle;\n",
       "    }\n",
       "\n",
       "    .dataframe tbody tr th {\n",
       "        vertical-align: top;\n",
       "    }\n",
       "\n",
       "    .dataframe thead th {\n",
       "        text-align: right;\n",
       "    }\n",
       "</style>\n",
       "<table border=\"1\" class=\"dataframe\">\n",
       "  <thead>\n",
       "    <tr style=\"text-align: right;\">\n",
       "      <th></th>\n",
       "      <th>分箱</th>\n",
       "      <th>样本数</th>\n",
       "      <th>好样本数</th>\n",
       "      <th>坏样本数</th>\n",
       "      <th>逾期率</th>\n",
       "      <th>Bad分布占比</th>\n",
       "      <th>Good分布占比</th>\n",
       "      <th>累积Bad占比</th>\n",
       "      <th>累积Good占比</th>\n",
       "      <th>KS</th>\n",
       "      <th>odds(good:bad)</th>\n",
       "    </tr>\n",
       "  </thead>\n",
       "  <tbody>\n",
       "    <tr>\n",
       "      <th>0</th>\n",
       "      <td>(-inf, 476.0]</td>\n",
       "      <td>4140.68</td>\n",
       "      <td>2698.59</td>\n",
       "      <td>1442.09</td>\n",
       "      <td>0.348274</td>\n",
       "      <td>0.210926</td>\n",
       "      <td>0.068818</td>\n",
       "      <td>0.210926</td>\n",
       "      <td>0.068818</td>\n",
       "      <td>1.421079e-01</td>\n",
       "      <td>1.871305</td>\n",
       "    </tr>\n",
       "    <tr>\n",
       "      <th>1</th>\n",
       "      <td>(476.0, 501.0]</td>\n",
       "      <td>4672.94</td>\n",
       "      <td>3560.21</td>\n",
       "      <td>1112.73</td>\n",
       "      <td>0.238122</td>\n",
       "      <td>0.162752</td>\n",
       "      <td>0.090790</td>\n",
       "      <td>0.373678</td>\n",
       "      <td>0.159608</td>\n",
       "      <td>2.140698e-01</td>\n",
       "      <td>3.199527</td>\n",
       "    </tr>\n",
       "    <tr>\n",
       "      <th>2</th>\n",
       "      <td>(501.0, 521.0]</td>\n",
       "      <td>5143.25</td>\n",
       "      <td>4175.83</td>\n",
       "      <td>967.42</td>\n",
       "      <td>0.188095</td>\n",
       "      <td>0.141499</td>\n",
       "      <td>0.106489</td>\n",
       "      <td>0.515176</td>\n",
       "      <td>0.266097</td>\n",
       "      <td>2.490790e-01</td>\n",
       "      <td>4.316460</td>\n",
       "    </tr>\n",
       "    <tr>\n",
       "      <th>3</th>\n",
       "      <td>(521.0, 540.0]</td>\n",
       "      <td>3948.67</td>\n",
       "      <td>3195.95</td>\n",
       "      <td>752.72</td>\n",
       "      <td>0.190626</td>\n",
       "      <td>0.110096</td>\n",
       "      <td>0.081501</td>\n",
       "      <td>0.625272</td>\n",
       "      <td>0.347598</td>\n",
       "      <td>2.776736e-01</td>\n",
       "      <td>4.245868</td>\n",
       "    </tr>\n",
       "    <tr>\n",
       "      <th>4</th>\n",
       "      <td>(540.0, 560.0]</td>\n",
       "      <td>4902.52</td>\n",
       "      <td>4256.23</td>\n",
       "      <td>646.29</td>\n",
       "      <td>0.131828</td>\n",
       "      <td>0.094529</td>\n",
       "      <td>0.108540</td>\n",
       "      <td>0.719801</td>\n",
       "      <td>0.456138</td>\n",
       "      <td>2.636628e-01</td>\n",
       "      <td>6.585635</td>\n",
       "    </tr>\n",
       "    <tr>\n",
       "      <th>5</th>\n",
       "      <td>(560.0, 583.0]</td>\n",
       "      <td>4770.21</td>\n",
       "      <td>4130.32</td>\n",
       "      <td>639.89</td>\n",
       "      <td>0.134143</td>\n",
       "      <td>0.093593</td>\n",
       "      <td>0.105329</td>\n",
       "      <td>0.813394</td>\n",
       "      <td>0.561467</td>\n",
       "      <td>2.519267e-01</td>\n",
       "      <td>6.454734</td>\n",
       "    </tr>\n",
       "    <tr>\n",
       "      <th>6</th>\n",
       "      <td>(583.0, 607.0]</td>\n",
       "      <td>4808.79</td>\n",
       "      <td>4302.20</td>\n",
       "      <td>506.59</td>\n",
       "      <td>0.105347</td>\n",
       "      <td>0.074096</td>\n",
       "      <td>0.109712</td>\n",
       "      <td>0.887489</td>\n",
       "      <td>0.671179</td>\n",
       "      <td>2.163105e-01</td>\n",
       "      <td>8.492469</td>\n",
       "    </tr>\n",
       "    <tr>\n",
       "      <th>7</th>\n",
       "      <td>(607.0, 634.0]</td>\n",
       "      <td>4269.59</td>\n",
       "      <td>3928.84</td>\n",
       "      <td>340.75</td>\n",
       "      <td>0.079809</td>\n",
       "      <td>0.049839</td>\n",
       "      <td>0.100191</td>\n",
       "      <td>0.937329</td>\n",
       "      <td>0.771370</td>\n",
       "      <td>1.659591e-01</td>\n",
       "      <td>11.529978</td>\n",
       "    </tr>\n",
       "    <tr>\n",
       "      <th>8</th>\n",
       "      <td>(634.0, 670.0]</td>\n",
       "      <td>4426.35</td>\n",
       "      <td>4149.51</td>\n",
       "      <td>276.84</td>\n",
       "      <td>0.062544</td>\n",
       "      <td>0.040492</td>\n",
       "      <td>0.105818</td>\n",
       "      <td>0.977821</td>\n",
       "      <td>0.877188</td>\n",
       "      <td>1.006326e-01</td>\n",
       "      <td>14.988838</td>\n",
       "    </tr>\n",
       "    <tr>\n",
       "      <th>9</th>\n",
       "      <td>(670.0, inf]</td>\n",
       "      <td>4967.54</td>\n",
       "      <td>4815.90</td>\n",
       "      <td>151.64</td>\n",
       "      <td>0.030526</td>\n",
       "      <td>0.022179</td>\n",
       "      <td>0.122812</td>\n",
       "      <td>1.000000</td>\n",
       "      <td>1.000000</td>\n",
       "      <td>-1.110223e-16</td>\n",
       "      <td>31.758771</td>\n",
       "    </tr>\n",
       "  </tbody>\n",
       "</table>\n",
       "</div>"
      ],
      "text/plain": [
       "               分箱      样本数     好样本数     坏样本数       逾期率   Bad分布占比  Good分布占比  \\\n",
       "0   (-inf, 476.0]  4140.68  2698.59  1442.09  0.348274  0.210926  0.068818   \n",
       "1  (476.0, 501.0]  4672.94  3560.21  1112.73  0.238122  0.162752  0.090790   \n",
       "2  (501.0, 521.0]  5143.25  4175.83   967.42  0.188095  0.141499  0.106489   \n",
       "3  (521.0, 540.0]  3948.67  3195.95   752.72  0.190626  0.110096  0.081501   \n",
       "4  (540.0, 560.0]  4902.52  4256.23   646.29  0.131828  0.094529  0.108540   \n",
       "5  (560.0, 583.0]  4770.21  4130.32   639.89  0.134143  0.093593  0.105329   \n",
       "6  (583.0, 607.0]  4808.79  4302.20   506.59  0.105347  0.074096  0.109712   \n",
       "7  (607.0, 634.0]  4269.59  3928.84   340.75  0.079809  0.049839  0.100191   \n",
       "8  (634.0, 670.0]  4426.35  4149.51   276.84  0.062544  0.040492  0.105818   \n",
       "9    (670.0, inf]  4967.54  4815.90   151.64  0.030526  0.022179  0.122812   \n",
       "\n",
       "    累积Bad占比  累积Good占比            KS  odds(good:bad)  \n",
       "0  0.210926  0.068818  1.421079e-01        1.871305  \n",
       "1  0.373678  0.159608  2.140698e-01        3.199527  \n",
       "2  0.515176  0.266097  2.490790e-01        4.316460  \n",
       "3  0.625272  0.347598  2.776736e-01        4.245868  \n",
       "4  0.719801  0.456138  2.636628e-01        6.585635  \n",
       "5  0.813394  0.561467  2.519267e-01        6.454734  \n",
       "6  0.887489  0.671179  2.163105e-01        8.492469  \n",
       "7  0.937329  0.771370  1.659591e-01       11.529978  \n",
       "8  0.977821  0.877188  1.006326e-01       14.988838  \n",
       "9  1.000000  1.000000 -1.110223e-16       31.758771  "
      ]
     },
     "execution_count": 86,
     "metadata": {},
     "output_type": "execute_result"
    }
   ],
   "source": [
    "# 测试集\n",
    "point_bounds = vp.get_decile_sw(train_score[1],sample_weight,y, 'decile',manual_cut_bounds=[])[0]\n",
    "ks_decile_test=vp.get_decile_sw(test_score[1],sample_weight,y, 'decile',manual_cut_bounds=point_bounds)[1]\n",
    "ks_decile_test"
   ]
  },
  {
   "cell_type": "code",
   "execution_count": 87,
   "metadata": {},
   "outputs": [
    {
     "data": {
      "text/html": [
       "<div>\n",
       "<style scoped>\n",
       "    .dataframe tbody tr th:only-of-type {\n",
       "        vertical-align: middle;\n",
       "    }\n",
       "\n",
       "    .dataframe tbody tr th {\n",
       "        vertical-align: top;\n",
       "    }\n",
       "\n",
       "    .dataframe thead th {\n",
       "        text-align: right;\n",
       "    }\n",
       "</style>\n",
       "<table border=\"1\" class=\"dataframe\">\n",
       "  <thead>\n",
       "    <tr style=\"text-align: right;\">\n",
       "      <th></th>\n",
       "      <th>分箱</th>\n",
       "      <th>样本数</th>\n",
       "      <th>好样本数</th>\n",
       "      <th>坏样本数</th>\n",
       "      <th>逾期率</th>\n",
       "      <th>Bad分布占比</th>\n",
       "      <th>Good分布占比</th>\n",
       "      <th>累积Bad占比</th>\n",
       "      <th>累积Good占比</th>\n",
       "      <th>KS</th>\n",
       "      <th>odds(good:bad)</th>\n",
       "    </tr>\n",
       "  </thead>\n",
       "  <tbody>\n",
       "    <tr>\n",
       "      <th>0</th>\n",
       "      <td>(-inf, 458.0]</td>\n",
       "      <td>7566.46</td>\n",
       "      <td>4814.45</td>\n",
       "      <td>2752.01</td>\n",
       "      <td>0.363712</td>\n",
       "      <td>0.118973</td>\n",
       "      <td>0.037510</td>\n",
       "      <td>0.118973</td>\n",
       "      <td>0.037510</td>\n",
       "      <td>8.146321e-02</td>\n",
       "      <td>1.749430</td>\n",
       "    </tr>\n",
       "    <tr>\n",
       "      <th>1</th>\n",
       "      <td>(458.0, 477.0]</td>\n",
       "      <td>7278.78</td>\n",
       "      <td>5158.95</td>\n",
       "      <td>2119.83</td>\n",
       "      <td>0.291234</td>\n",
       "      <td>0.091643</td>\n",
       "      <td>0.040194</td>\n",
       "      <td>0.210616</td>\n",
       "      <td>0.077703</td>\n",
       "      <td>1.329125e-01</td>\n",
       "      <td>2.433662</td>\n",
       "    </tr>\n",
       "    <tr>\n",
       "      <th>2</th>\n",
       "      <td>(477.0, 491.0]</td>\n",
       "      <td>7598.52</td>\n",
       "      <td>5565.45</td>\n",
       "      <td>2033.07</td>\n",
       "      <td>0.267561</td>\n",
       "      <td>0.087892</td>\n",
       "      <td>0.043361</td>\n",
       "      <td>0.298508</td>\n",
       "      <td>0.121064</td>\n",
       "      <td>1.774439e-01</td>\n",
       "      <td>2.737461</td>\n",
       "    </tr>\n",
       "    <tr>\n",
       "      <th>3</th>\n",
       "      <td>(491.0, 502.0]</td>\n",
       "      <td>7838.35</td>\n",
       "      <td>6000.51</td>\n",
       "      <td>1837.84</td>\n",
       "      <td>0.234468</td>\n",
       "      <td>0.079452</td>\n",
       "      <td>0.046750</td>\n",
       "      <td>0.377960</td>\n",
       "      <td>0.167814</td>\n",
       "      <td>2.101458e-01</td>\n",
       "      <td>3.264980</td>\n",
       "    </tr>\n",
       "    <tr>\n",
       "      <th>4</th>\n",
       "      <td>(502.0, 511.0]</td>\n",
       "      <td>6697.92</td>\n",
       "      <td>5393.94</td>\n",
       "      <td>1303.98</td>\n",
       "      <td>0.194684</td>\n",
       "      <td>0.056373</td>\n",
       "      <td>0.042024</td>\n",
       "      <td>0.434333</td>\n",
       "      <td>0.209839</td>\n",
       "      <td>2.244940e-01</td>\n",
       "      <td>4.136520</td>\n",
       "    </tr>\n",
       "    <tr>\n",
       "      <th>5</th>\n",
       "      <td>(511.0, 521.0]</td>\n",
       "      <td>8143.87</td>\n",
       "      <td>6584.51</td>\n",
       "      <td>1559.36</td>\n",
       "      <td>0.191477</td>\n",
       "      <td>0.067413</td>\n",
       "      <td>0.051300</td>\n",
       "      <td>0.501746</td>\n",
       "      <td>0.261139</td>\n",
       "      <td>2.406069e-01</td>\n",
       "      <td>4.222572</td>\n",
       "    </tr>\n",
       "    <tr>\n",
       "      <th>6</th>\n",
       "      <td>(521.0, 530.0]</td>\n",
       "      <td>6914.40</td>\n",
       "      <td>5675.32</td>\n",
       "      <td>1239.08</td>\n",
       "      <td>0.179203</td>\n",
       "      <td>0.053567</td>\n",
       "      <td>0.044217</td>\n",
       "      <td>0.555313</td>\n",
       "      <td>0.305355</td>\n",
       "      <td>2.499572e-01</td>\n",
       "      <td>4.580269</td>\n",
       "    </tr>\n",
       "    <tr>\n",
       "      <th>7</th>\n",
       "      <td>(530.0, 540.0]</td>\n",
       "      <td>7927.38</td>\n",
       "      <td>6527.46</td>\n",
       "      <td>1399.92</td>\n",
       "      <td>0.176593</td>\n",
       "      <td>0.060520</td>\n",
       "      <td>0.050856</td>\n",
       "      <td>0.615833</td>\n",
       "      <td>0.356211</td>\n",
       "      <td>2.596217e-01</td>\n",
       "      <td>4.662738</td>\n",
       "    </tr>\n",
       "    <tr>\n",
       "      <th>8</th>\n",
       "      <td>(540.0, 550.0]</td>\n",
       "      <td>7491.19</td>\n",
       "      <td>6318.34</td>\n",
       "      <td>1172.85</td>\n",
       "      <td>0.156564</td>\n",
       "      <td>0.050704</td>\n",
       "      <td>0.049226</td>\n",
       "      <td>0.666537</td>\n",
       "      <td>0.405438</td>\n",
       "      <td>2.610990e-01</td>\n",
       "      <td>5.387168</td>\n",
       "    </tr>\n",
       "    <tr>\n",
       "      <th>9</th>\n",
       "      <td>(550.0, 560.0]</td>\n",
       "      <td>7773.02</td>\n",
       "      <td>6694.99</td>\n",
       "      <td>1078.03</td>\n",
       "      <td>0.138689</td>\n",
       "      <td>0.046605</td>\n",
       "      <td>0.052161</td>\n",
       "      <td>0.713141</td>\n",
       "      <td>0.457599</td>\n",
       "      <td>2.555426e-01</td>\n",
       "      <td>6.210393</td>\n",
       "    </tr>\n",
       "    <tr>\n",
       "      <th>10</th>\n",
       "      <td>(560.0, 571.0]</td>\n",
       "      <td>7492.69</td>\n",
       "      <td>6430.59</td>\n",
       "      <td>1062.10</td>\n",
       "      <td>0.141751</td>\n",
       "      <td>0.045916</td>\n",
       "      <td>0.050101</td>\n",
       "      <td>0.759057</td>\n",
       "      <td>0.507700</td>\n",
       "      <td>2.513575e-01</td>\n",
       "      <td>6.054599</td>\n",
       "    </tr>\n",
       "    <tr>\n",
       "      <th>11</th>\n",
       "      <td>(571.0, 583.0]</td>\n",
       "      <td>8027.96</td>\n",
       "      <td>7017.04</td>\n",
       "      <td>1010.92</td>\n",
       "      <td>0.125925</td>\n",
       "      <td>0.043703</td>\n",
       "      <td>0.054670</td>\n",
       "      <td>0.802760</td>\n",
       "      <td>0.562370</td>\n",
       "      <td>2.403907e-01</td>\n",
       "      <td>6.941242</td>\n",
       "    </tr>\n",
       "    <tr>\n",
       "      <th>12</th>\n",
       "      <td>(583.0, 594.0]</td>\n",
       "      <td>7251.78</td>\n",
       "      <td>6388.39</td>\n",
       "      <td>863.39</td>\n",
       "      <td>0.119059</td>\n",
       "      <td>0.037325</td>\n",
       "      <td>0.049772</td>\n",
       "      <td>0.840086</td>\n",
       "      <td>0.612142</td>\n",
       "      <td>2.279439e-01</td>\n",
       "      <td>7.399194</td>\n",
       "    </tr>\n",
       "    <tr>\n",
       "      <th>13</th>\n",
       "      <td>(594.0, 607.0]</td>\n",
       "      <td>7824.54</td>\n",
       "      <td>6976.93</td>\n",
       "      <td>847.61</td>\n",
       "      <td>0.108327</td>\n",
       "      <td>0.036643</td>\n",
       "      <td>0.054358</td>\n",
       "      <td>0.876729</td>\n",
       "      <td>0.666500</td>\n",
       "      <td>2.102295e-01</td>\n",
       "      <td>8.231297</td>\n",
       "    </tr>\n",
       "    <tr>\n",
       "      <th>14</th>\n",
       "      <td>(607.0, 619.0]</td>\n",
       "      <td>7402.71</td>\n",
       "      <td>6788.23</td>\n",
       "      <td>614.48</td>\n",
       "      <td>0.083007</td>\n",
       "      <td>0.026565</td>\n",
       "      <td>0.052887</td>\n",
       "      <td>0.903294</td>\n",
       "      <td>0.719387</td>\n",
       "      <td>1.839069e-01</td>\n",
       "      <td>11.047113</td>\n",
       "    </tr>\n",
       "    <tr>\n",
       "      <th>15</th>\n",
       "      <td>(619.0, 634.0]</td>\n",
       "      <td>7538.27</td>\n",
       "      <td>6905.38</td>\n",
       "      <td>632.89</td>\n",
       "      <td>0.083957</td>\n",
       "      <td>0.027361</td>\n",
       "      <td>0.053800</td>\n",
       "      <td>0.930654</td>\n",
       "      <td>0.773187</td>\n",
       "      <td>1.574673e-01</td>\n",
       "      <td>10.910869</td>\n",
       "    </tr>\n",
       "    <tr>\n",
       "      <th>16</th>\n",
       "      <td>(634.0, 651.0]</td>\n",
       "      <td>7826.98</td>\n",
       "      <td>7264.74</td>\n",
       "      <td>562.24</td>\n",
       "      <td>0.071834</td>\n",
       "      <td>0.024306</td>\n",
       "      <td>0.056600</td>\n",
       "      <td>0.954961</td>\n",
       "      <td>0.829787</td>\n",
       "      <td>1.251738e-01</td>\n",
       "      <td>12.921066</td>\n",
       "    </tr>\n",
       "    <tr>\n",
       "      <th>17</th>\n",
       "      <td>(651.0, 671.0]</td>\n",
       "      <td>7590.87</td>\n",
       "      <td>7076.10</td>\n",
       "      <td>514.77</td>\n",
       "      <td>0.067814</td>\n",
       "      <td>0.022254</td>\n",
       "      <td>0.055130</td>\n",
       "      <td>0.977215</td>\n",
       "      <td>0.884917</td>\n",
       "      <td>9.229768e-02</td>\n",
       "      <td>13.746139</td>\n",
       "    </tr>\n",
       "    <tr>\n",
       "      <th>18</th>\n",
       "      <td>(671.0, 701.0]</td>\n",
       "      <td>7601.14</td>\n",
       "      <td>7268.05</td>\n",
       "      <td>333.09</td>\n",
       "      <td>0.043821</td>\n",
       "      <td>0.014400</td>\n",
       "      <td>0.056626</td>\n",
       "      <td>0.991615</td>\n",
       "      <td>0.941543</td>\n",
       "      <td>5.007187e-02</td>\n",
       "      <td>21.820079</td>\n",
       "    </tr>\n",
       "    <tr>\n",
       "      <th>19</th>\n",
       "      <td>(701.0, inf]</td>\n",
       "      <td>7697.06</td>\n",
       "      <td>7503.10</td>\n",
       "      <td>193.96</td>\n",
       "      <td>0.025199</td>\n",
       "      <td>0.008385</td>\n",
       "      <td>0.058457</td>\n",
       "      <td>1.000000</td>\n",
       "      <td>1.000000</td>\n",
       "      <td>-1.110223e-16</td>\n",
       "      <td>38.683749</td>\n",
       "    </tr>\n",
       "  </tbody>\n",
       "</table>\n",
       "</div>"
      ],
      "text/plain": [
       "                分箱      样本数     好样本数     坏样本数       逾期率   Bad分布占比  Good分布占比  \\\n",
       "0    (-inf, 458.0]  7566.46  4814.45  2752.01  0.363712  0.118973  0.037510   \n",
       "1   (458.0, 477.0]  7278.78  5158.95  2119.83  0.291234  0.091643  0.040194   \n",
       "2   (477.0, 491.0]  7598.52  5565.45  2033.07  0.267561  0.087892  0.043361   \n",
       "3   (491.0, 502.0]  7838.35  6000.51  1837.84  0.234468  0.079452  0.046750   \n",
       "4   (502.0, 511.0]  6697.92  5393.94  1303.98  0.194684  0.056373  0.042024   \n",
       "5   (511.0, 521.0]  8143.87  6584.51  1559.36  0.191477  0.067413  0.051300   \n",
       "6   (521.0, 530.0]  6914.40  5675.32  1239.08  0.179203  0.053567  0.044217   \n",
       "7   (530.0, 540.0]  7927.38  6527.46  1399.92  0.176593  0.060520  0.050856   \n",
       "8   (540.0, 550.0]  7491.19  6318.34  1172.85  0.156564  0.050704  0.049226   \n",
       "9   (550.0, 560.0]  7773.02  6694.99  1078.03  0.138689  0.046605  0.052161   \n",
       "10  (560.0, 571.0]  7492.69  6430.59  1062.10  0.141751  0.045916  0.050101   \n",
       "11  (571.0, 583.0]  8027.96  7017.04  1010.92  0.125925  0.043703  0.054670   \n",
       "12  (583.0, 594.0]  7251.78  6388.39   863.39  0.119059  0.037325  0.049772   \n",
       "13  (594.0, 607.0]  7824.54  6976.93   847.61  0.108327  0.036643  0.054358   \n",
       "14  (607.0, 619.0]  7402.71  6788.23   614.48  0.083007  0.026565  0.052887   \n",
       "15  (619.0, 634.0]  7538.27  6905.38   632.89  0.083957  0.027361  0.053800   \n",
       "16  (634.0, 651.0]  7826.98  7264.74   562.24  0.071834  0.024306  0.056600   \n",
       "17  (651.0, 671.0]  7590.87  7076.10   514.77  0.067814  0.022254  0.055130   \n",
       "18  (671.0, 701.0]  7601.14  7268.05   333.09  0.043821  0.014400  0.056626   \n",
       "19    (701.0, inf]  7697.06  7503.10   193.96  0.025199  0.008385  0.058457   \n",
       "\n",
       "     累积Bad占比  累积Good占比            KS  odds(good:bad)  \n",
       "0   0.118973  0.037510  8.146321e-02        1.749430  \n",
       "1   0.210616  0.077703  1.329125e-01        2.433662  \n",
       "2   0.298508  0.121064  1.774439e-01        2.737461  \n",
       "3   0.377960  0.167814  2.101458e-01        3.264980  \n",
       "4   0.434333  0.209839  2.244940e-01        4.136520  \n",
       "5   0.501746  0.261139  2.406069e-01        4.222572  \n",
       "6   0.555313  0.305355  2.499572e-01        4.580269  \n",
       "7   0.615833  0.356211  2.596217e-01        4.662738  \n",
       "8   0.666537  0.405438  2.610990e-01        5.387168  \n",
       "9   0.713141  0.457599  2.555426e-01        6.210393  \n",
       "10  0.759057  0.507700  2.513575e-01        6.054599  \n",
       "11  0.802760  0.562370  2.403907e-01        6.941242  \n",
       "12  0.840086  0.612142  2.279439e-01        7.399194  \n",
       "13  0.876729  0.666500  2.102295e-01        8.231297  \n",
       "14  0.903294  0.719387  1.839069e-01       11.047113  \n",
       "15  0.930654  0.773187  1.574673e-01       10.910869  \n",
       "16  0.954961  0.829787  1.251738e-01       12.921066  \n",
       "17  0.977215  0.884917  9.229768e-02       13.746139  \n",
       "18  0.991615  0.941543  5.007187e-02       21.820079  \n",
       "19  1.000000  1.000000 -1.110223e-16       38.683749  "
      ]
     },
     "execution_count": 87,
     "metadata": {},
     "output_type": "execute_result"
    }
   ],
   "source": [
    "run_book=vp.get_decile_sw(pd.concat([test_score[1],train_score[1]],join='outer'),sample_weight,y, 'runbook',manual_cut_bounds=[])[1]\n",
    "run_book"
   ]
  },
  {
   "cell_type": "markdown",
   "metadata": {},
   "source": [
    "# OOT数据验证"
   ]
  },
  {
   "cell_type": "code",
   "execution_count": 88,
   "metadata": {},
   "outputs": [],
   "source": [
    "OOT_data=all_x_y[all_x_y['sample_set']=='OOT']"
   ]
  },
  {
   "cell_type": "markdown",
   "metadata": {},
   "source": [
    "## OOT数据增加sample_weight"
   ]
  },
  {
   "cell_type": "code",
   "execution_count": 89,
   "metadata": {},
   "outputs": [],
   "source": [
    "sample_weight_oot={'Bad Channel':{'good_sample':8.64,'bad_sample':1},\\\n",
    "               'Good Channel':{'good_sample':14.27,'bad_sample':1},\\\n",
    "              'Normal Channel':{'good_sample':17.88,'bad_sample':1.2}}"
   ]
  },
  {
   "cell_type": "code",
   "execution_count": 90,
   "metadata": {},
   "outputs": [],
   "source": [
    "OOT_data=mt.BinWoe().add_sample_weight(OOT_data,segment_label,sample_weight_oot)"
   ]
  },
  {
   "cell_type": "code",
   "execution_count": 91,
   "metadata": {},
   "outputs": [],
   "source": [
    "OOT_data.index=OOT_data['apply_id']"
   ]
  },
  {
   "cell_type": "code",
   "execution_count": 92,
   "metadata": {},
   "outputs": [],
   "source": [
    "oot_y=OOT_data['y']\n",
    "sample_weight_oot=OOT_data['sample_weight']"
   ]
  },
  {
   "cell_type": "code",
   "execution_count": 93,
   "metadata": {},
   "outputs": [],
   "source": [
    "bin_obj = mt.BinWoe()\n",
    "# 给数据分箱并转化woe\n",
    "data_OOT_cat = bin_obj.convert_to_category(OOT_data[selected], var_dict, rebin_spec_bin_adjusted)\n",
    "data_OOT_transformed = bin_obj.transform_x_all(data_OOT_cat, woe_iv_df_coarse)\n",
    "# 找出模型变量并打分\n",
    "selected = [i for i in coefficients.var_code if i != 'const']\n",
    "data_OOT_BScore = mt.Performance().calculate_score_by_scrd(data_OOT_cat[selected], score_card)"
   ]
  },
  {
   "cell_type": "code",
   "execution_count": 94,
   "metadata": {},
   "outputs": [],
   "source": [
    "# 每一个变量的打分情况\n",
    "data_OOT_BScore_vars = data_OOT_BScore[0]\n",
    "# 每个user的打分情况\n",
    "data_OOT_BScore_detail = data_OOT_BScore[1]"
   ]
  },
  {
   "cell_type": "code",
   "execution_count": 95,
   "metadata": {},
   "outputs": [],
   "source": [
    "data_OOT_BScore_vars_final = pd.merge(data_OOT_BScore_vars,OOT_data[['y']],left_index=True,right_index=True)\n",
    "data_OOT_BScore_detail_final = pd.merge(data_OOT_BScore_detail.to_frame('score'),OOT_data[['y']],left_index=True,right_index=True)"
   ]
  },
  {
   "cell_type": "code",
   "execution_count": 96,
   "metadata": {},
   "outputs": [
    {
     "data": {
      "text/plain": [
       "<module 'utils3.verify_performance' from '/Users/zhenwei.jin/Documents/repos/genie/utils3/verify_performance.py'>"
      ]
     },
     "execution_count": 96,
     "metadata": {},
     "output_type": "execute_result"
    }
   ],
   "source": [
    "reload(vp)"
   ]
  },
  {
   "cell_type": "code",
   "execution_count": 97,
   "metadata": {},
   "outputs": [
    {
     "data": {
      "text/html": [
       "<div>\n",
       "<style scoped>\n",
       "    .dataframe tbody tr th:only-of-type {\n",
       "        vertical-align: middle;\n",
       "    }\n",
       "\n",
       "    .dataframe tbody tr th {\n",
       "        vertical-align: top;\n",
       "    }\n",
       "\n",
       "    .dataframe thead th {\n",
       "        text-align: right;\n",
       "    }\n",
       "</style>\n",
       "<table border=\"1\" class=\"dataframe\">\n",
       "  <thead>\n",
       "    <tr style=\"text-align: right;\">\n",
       "      <th></th>\n",
       "      <th>分箱</th>\n",
       "      <th>样本数</th>\n",
       "      <th>好样本数</th>\n",
       "      <th>坏样本数</th>\n",
       "      <th>逾期率</th>\n",
       "      <th>Bad分布占比</th>\n",
       "      <th>Good分布占比</th>\n",
       "      <th>累积Bad占比</th>\n",
       "      <th>累积Good占比</th>\n",
       "      <th>KS</th>\n",
       "      <th>odds(good:bad)</th>\n",
       "    </tr>\n",
       "  </thead>\n",
       "  <tbody>\n",
       "    <tr>\n",
       "      <th>0</th>\n",
       "      <td>(-inf, 476.0]</td>\n",
       "      <td>670.05</td>\n",
       "      <td>581.45</td>\n",
       "      <td>88.6</td>\n",
       "      <td>0.132229</td>\n",
       "      <td>0.083161</td>\n",
       "      <td>0.034045</td>\n",
       "      <td>0.083161</td>\n",
       "      <td>0.034045</td>\n",
       "      <td>4.911592e-02</td>\n",
       "      <td>6.562641</td>\n",
       "    </tr>\n",
       "    <tr>\n",
       "      <th>1</th>\n",
       "      <td>(476.0, 501.0]</td>\n",
       "      <td>1291.46</td>\n",
       "      <td>1181.86</td>\n",
       "      <td>109.6</td>\n",
       "      <td>0.084865</td>\n",
       "      <td>0.102872</td>\n",
       "      <td>0.069201</td>\n",
       "      <td>0.186033</td>\n",
       "      <td>0.103246</td>\n",
       "      <td>8.278727e-02</td>\n",
       "      <td>10.783394</td>\n",
       "    </tr>\n",
       "    <tr>\n",
       "      <th>2</th>\n",
       "      <td>(501.0, 521.0]</td>\n",
       "      <td>1141.63</td>\n",
       "      <td>1020.03</td>\n",
       "      <td>121.6</td>\n",
       "      <td>0.106514</td>\n",
       "      <td>0.114136</td>\n",
       "      <td>0.059725</td>\n",
       "      <td>0.300169</td>\n",
       "      <td>0.162971</td>\n",
       "      <td>1.371975e-01</td>\n",
       "      <td>8.388405</td>\n",
       "    </tr>\n",
       "    <tr>\n",
       "      <th>3</th>\n",
       "      <td>(521.0, 540.0]</td>\n",
       "      <td>1724.98</td>\n",
       "      <td>1605.78</td>\n",
       "      <td>119.2</td>\n",
       "      <td>0.069102</td>\n",
       "      <td>0.111883</td>\n",
       "      <td>0.094022</td>\n",
       "      <td>0.412052</td>\n",
       "      <td>0.256994</td>\n",
       "      <td>1.550580e-01</td>\n",
       "      <td>13.471309</td>\n",
       "    </tr>\n",
       "    <tr>\n",
       "      <th>4</th>\n",
       "      <td>(540.0, 560.0]</td>\n",
       "      <td>1851.39</td>\n",
       "      <td>1734.39</td>\n",
       "      <td>117.0</td>\n",
       "      <td>0.063196</td>\n",
       "      <td>0.109818</td>\n",
       "      <td>0.101553</td>\n",
       "      <td>0.521870</td>\n",
       "      <td>0.358547</td>\n",
       "      <td>1.633231e-01</td>\n",
       "      <td>14.823846</td>\n",
       "    </tr>\n",
       "    <tr>\n",
       "      <th>5</th>\n",
       "      <td>(560.0, 583.0]</td>\n",
       "      <td>1911.59</td>\n",
       "      <td>1782.39</td>\n",
       "      <td>129.2</td>\n",
       "      <td>0.067588</td>\n",
       "      <td>0.121269</td>\n",
       "      <td>0.104363</td>\n",
       "      <td>0.643139</td>\n",
       "      <td>0.462910</td>\n",
       "      <td>1.802288e-01</td>\n",
       "      <td>13.795588</td>\n",
       "    </tr>\n",
       "    <tr>\n",
       "      <th>6</th>\n",
       "      <td>(583.0, 607.0]</td>\n",
       "      <td>2213.17</td>\n",
       "      <td>2098.77</td>\n",
       "      <td>114.4</td>\n",
       "      <td>0.051691</td>\n",
       "      <td>0.107378</td>\n",
       "      <td>0.122888</td>\n",
       "      <td>0.750516</td>\n",
       "      <td>0.585798</td>\n",
       "      <td>1.647181e-01</td>\n",
       "      <td>18.345892</td>\n",
       "    </tr>\n",
       "    <tr>\n",
       "      <th>7</th>\n",
       "      <td>(607.0, 634.0]</td>\n",
       "      <td>2002.93</td>\n",
       "      <td>1899.13</td>\n",
       "      <td>103.8</td>\n",
       "      <td>0.051824</td>\n",
       "      <td>0.097428</td>\n",
       "      <td>0.111199</td>\n",
       "      <td>0.847944</td>\n",
       "      <td>0.696997</td>\n",
       "      <td>1.509476e-01</td>\n",
       "      <td>18.296050</td>\n",
       "    </tr>\n",
       "    <tr>\n",
       "      <th>8</th>\n",
       "      <td>(634.0, 670.0]</td>\n",
       "      <td>2508.73</td>\n",
       "      <td>2430.33</td>\n",
       "      <td>78.4</td>\n",
       "      <td>0.031251</td>\n",
       "      <td>0.073587</td>\n",
       "      <td>0.142302</td>\n",
       "      <td>0.921532</td>\n",
       "      <td>0.839299</td>\n",
       "      <td>8.223316e-02</td>\n",
       "      <td>30.999107</td>\n",
       "    </tr>\n",
       "    <tr>\n",
       "      <th>9</th>\n",
       "      <td>(670.0, inf]</td>\n",
       "      <td>2828.17</td>\n",
       "      <td>2744.57</td>\n",
       "      <td>83.6</td>\n",
       "      <td>0.029560</td>\n",
       "      <td>0.078468</td>\n",
       "      <td>0.160701</td>\n",
       "      <td>1.000000</td>\n",
       "      <td>1.000000</td>\n",
       "      <td>-1.110223e-16</td>\n",
       "      <td>32.829785</td>\n",
       "    </tr>\n",
       "  </tbody>\n",
       "</table>\n",
       "</div>"
      ],
      "text/plain": [
       "               分箱      样本数     好样本数   坏样本数       逾期率   Bad分布占比  Good分布占比  \\\n",
       "0   (-inf, 476.0]   670.05   581.45   88.6  0.132229  0.083161  0.034045   \n",
       "1  (476.0, 501.0]  1291.46  1181.86  109.6  0.084865  0.102872  0.069201   \n",
       "2  (501.0, 521.0]  1141.63  1020.03  121.6  0.106514  0.114136  0.059725   \n",
       "3  (521.0, 540.0]  1724.98  1605.78  119.2  0.069102  0.111883  0.094022   \n",
       "4  (540.0, 560.0]  1851.39  1734.39  117.0  0.063196  0.109818  0.101553   \n",
       "5  (560.0, 583.0]  1911.59  1782.39  129.2  0.067588  0.121269  0.104363   \n",
       "6  (583.0, 607.0]  2213.17  2098.77  114.4  0.051691  0.107378  0.122888   \n",
       "7  (607.0, 634.0]  2002.93  1899.13  103.8  0.051824  0.097428  0.111199   \n",
       "8  (634.0, 670.0]  2508.73  2430.33   78.4  0.031251  0.073587  0.142302   \n",
       "9    (670.0, inf]  2828.17  2744.57   83.6  0.029560  0.078468  0.160701   \n",
       "\n",
       "    累积Bad占比  累积Good占比            KS  odds(good:bad)  \n",
       "0  0.083161  0.034045  4.911592e-02        6.562641  \n",
       "1  0.186033  0.103246  8.278727e-02       10.783394  \n",
       "2  0.300169  0.162971  1.371975e-01        8.388405  \n",
       "3  0.412052  0.256994  1.550580e-01       13.471309  \n",
       "4  0.521870  0.358547  1.633231e-01       14.823846  \n",
       "5  0.643139  0.462910  1.802288e-01       13.795588  \n",
       "6  0.750516  0.585798  1.647181e-01       18.345892  \n",
       "7  0.847944  0.696997  1.509476e-01       18.296050  \n",
       "8  0.921532  0.839299  8.223316e-02       30.999107  \n",
       "9  1.000000  1.000000 -1.110223e-16       32.829785  "
      ]
     },
     "execution_count": 97,
     "metadata": {},
     "output_type": "execute_result"
    }
   ],
   "source": [
    "OOT_decile = vp.get_decile_sw(data_OOT_BScore_detail,sample_weight_oot,oot_y,'decile',manual_cut_bounds=point_bounds)[1]\n",
    "OOT_decile"
   ]
  },
  {
   "cell_type": "code",
   "execution_count": 98,
   "metadata": {
    "scrolled": true
   },
   "outputs": [
    {
     "data": {
      "text/html": [
       "<div>\n",
       "<style scoped>\n",
       "    .dataframe tbody tr th:only-of-type {\n",
       "        vertical-align: middle;\n",
       "    }\n",
       "\n",
       "    .dataframe tbody tr th {\n",
       "        vertical-align: top;\n",
       "    }\n",
       "\n",
       "    .dataframe thead th {\n",
       "        text-align: right;\n",
       "    }\n",
       "</style>\n",
       "<table border=\"1\" class=\"dataframe\">\n",
       "  <thead>\n",
       "    <tr style=\"text-align: right;\">\n",
       "      <th></th>\n",
       "      <th>分箱</th>\n",
       "      <th>样本数</th>\n",
       "      <th>好样本数</th>\n",
       "      <th>坏样本数</th>\n",
       "      <th>逾期率</th>\n",
       "      <th>Bad分布占比</th>\n",
       "      <th>Good分布占比</th>\n",
       "      <th>累积Bad占比</th>\n",
       "      <th>累积Good占比</th>\n",
       "      <th>KS</th>\n",
       "      <th>odds(good:bad)</th>\n",
       "    </tr>\n",
       "  </thead>\n",
       "  <tbody>\n",
       "    <tr>\n",
       "      <th>0</th>\n",
       "      <td>(-inf, 481.0]</td>\n",
       "      <td>899.04</td>\n",
       "      <td>795.84</td>\n",
       "      <td>103.2</td>\n",
       "      <td>0.114789</td>\n",
       "      <td>0.096865</td>\n",
       "      <td>0.046598</td>\n",
       "      <td>0.096865</td>\n",
       "      <td>0.046598</td>\n",
       "      <td>5.026663e-02</td>\n",
       "      <td>7.711628</td>\n",
       "    </tr>\n",
       "    <tr>\n",
       "      <th>1</th>\n",
       "      <td>(481.0, 498.0]</td>\n",
       "      <td>837.29</td>\n",
       "      <td>757.29</td>\n",
       "      <td>80.0</td>\n",
       "      <td>0.095546</td>\n",
       "      <td>0.075089</td>\n",
       "      <td>0.044341</td>\n",
       "      <td>0.171954</td>\n",
       "      <td>0.090940</td>\n",
       "      <td>8.101460e-02</td>\n",
       "      <td>9.466125</td>\n",
       "    </tr>\n",
       "    <tr>\n",
       "      <th>2</th>\n",
       "      <td>(498.0, 516.0]</td>\n",
       "      <td>957.75</td>\n",
       "      <td>862.55</td>\n",
       "      <td>95.2</td>\n",
       "      <td>0.099400</td>\n",
       "      <td>0.089356</td>\n",
       "      <td>0.050504</td>\n",
       "      <td>0.261310</td>\n",
       "      <td>0.141444</td>\n",
       "      <td>1.198663e-01</td>\n",
       "      <td>9.060399</td>\n",
       "    </tr>\n",
       "    <tr>\n",
       "      <th>3</th>\n",
       "      <td>(516.0, 527.0]</td>\n",
       "      <td>847.33</td>\n",
       "      <td>772.93</td>\n",
       "      <td>74.4</td>\n",
       "      <td>0.087805</td>\n",
       "      <td>0.069833</td>\n",
       "      <td>0.045257</td>\n",
       "      <td>0.331143</td>\n",
       "      <td>0.186701</td>\n",
       "      <td>1.444423e-01</td>\n",
       "      <td>10.388844</td>\n",
       "    </tr>\n",
       "    <tr>\n",
       "      <th>4</th>\n",
       "      <td>(527.0, 537.0]</td>\n",
       "      <td>935.23</td>\n",
       "      <td>875.83</td>\n",
       "      <td>59.4</td>\n",
       "      <td>0.063514</td>\n",
       "      <td>0.055754</td>\n",
       "      <td>0.051282</td>\n",
       "      <td>0.386897</td>\n",
       "      <td>0.237983</td>\n",
       "      <td>1.489140e-01</td>\n",
       "      <td>14.744613</td>\n",
       "    </tr>\n",
       "    <tr>\n",
       "      <th>5</th>\n",
       "      <td>(537.0, 546.0]</td>\n",
       "      <td>931.79</td>\n",
       "      <td>866.59</td>\n",
       "      <td>65.2</td>\n",
       "      <td>0.069973</td>\n",
       "      <td>0.061198</td>\n",
       "      <td>0.050741</td>\n",
       "      <td>0.448095</td>\n",
       "      <td>0.288724</td>\n",
       "      <td>1.593706e-01</td>\n",
       "      <td>13.291258</td>\n",
       "    </tr>\n",
       "    <tr>\n",
       "      <th>6</th>\n",
       "      <td>(546.0, 557.0]</td>\n",
       "      <td>918.34</td>\n",
       "      <td>857.74</td>\n",
       "      <td>60.6</td>\n",
       "      <td>0.065989</td>\n",
       "      <td>0.056880</td>\n",
       "      <td>0.050223</td>\n",
       "      <td>0.504975</td>\n",
       "      <td>0.338947</td>\n",
       "      <td>1.660279e-01</td>\n",
       "      <td>14.154125</td>\n",
       "    </tr>\n",
       "    <tr>\n",
       "      <th>7</th>\n",
       "      <td>(557.0, 566.0]</td>\n",
       "      <td>925.81</td>\n",
       "      <td>874.41</td>\n",
       "      <td>51.4</td>\n",
       "      <td>0.055519</td>\n",
       "      <td>0.048245</td>\n",
       "      <td>0.051199</td>\n",
       "      <td>0.553219</td>\n",
       "      <td>0.390146</td>\n",
       "      <td>1.630738e-01</td>\n",
       "      <td>17.011868</td>\n",
       "    </tr>\n",
       "    <tr>\n",
       "      <th>8</th>\n",
       "      <td>(566.0, 577.0]</td>\n",
       "      <td>809.01</td>\n",
       "      <td>739.41</td>\n",
       "      <td>69.6</td>\n",
       "      <td>0.086031</td>\n",
       "      <td>0.065328</td>\n",
       "      <td>0.043294</td>\n",
       "      <td>0.618547</td>\n",
       "      <td>0.433440</td>\n",
       "      <td>1.851071e-01</td>\n",
       "      <td>10.623707</td>\n",
       "    </tr>\n",
       "    <tr>\n",
       "      <th>9</th>\n",
       "      <td>(577.0, 587.0]</td>\n",
       "      <td>927.25</td>\n",
       "      <td>883.65</td>\n",
       "      <td>43.6</td>\n",
       "      <td>0.047021</td>\n",
       "      <td>0.040924</td>\n",
       "      <td>0.051740</td>\n",
       "      <td>0.659471</td>\n",
       "      <td>0.485180</td>\n",
       "      <td>1.742908e-01</td>\n",
       "      <td>20.267202</td>\n",
       "    </tr>\n",
       "    <tr>\n",
       "      <th>10</th>\n",
       "      <td>(587.0, 597.0]</td>\n",
       "      <td>893.04</td>\n",
       "      <td>845.44</td>\n",
       "      <td>47.6</td>\n",
       "      <td>0.053301</td>\n",
       "      <td>0.044678</td>\n",
       "      <td>0.049503</td>\n",
       "      <td>0.704149</td>\n",
       "      <td>0.534682</td>\n",
       "      <td>1.694663e-01</td>\n",
       "      <td>17.761345</td>\n",
       "    </tr>\n",
       "    <tr>\n",
       "      <th>11</th>\n",
       "      <td>(597.0, 607.0]</td>\n",
       "      <td>922.39</td>\n",
       "      <td>872.99</td>\n",
       "      <td>49.4</td>\n",
       "      <td>0.053557</td>\n",
       "      <td>0.046368</td>\n",
       "      <td>0.051116</td>\n",
       "      <td>0.750516</td>\n",
       "      <td>0.585798</td>\n",
       "      <td>1.647181e-01</td>\n",
       "      <td>17.671862</td>\n",
       "    </tr>\n",
       "    <tr>\n",
       "      <th>12</th>\n",
       "      <td>(607.0, 617.0]</td>\n",
       "      <td>958.97</td>\n",
       "      <td>904.37</td>\n",
       "      <td>54.6</td>\n",
       "      <td>0.056936</td>\n",
       "      <td>0.051248</td>\n",
       "      <td>0.052953</td>\n",
       "      <td>0.801765</td>\n",
       "      <td>0.638751</td>\n",
       "      <td>1.630134e-01</td>\n",
       "      <td>16.563553</td>\n",
       "    </tr>\n",
       "    <tr>\n",
       "      <th>13</th>\n",
       "      <td>(617.0, 632.0]</td>\n",
       "      <td>931.66</td>\n",
       "      <td>886.06</td>\n",
       "      <td>45.6</td>\n",
       "      <td>0.048945</td>\n",
       "      <td>0.042801</td>\n",
       "      <td>0.051881</td>\n",
       "      <td>0.844565</td>\n",
       "      <td>0.690632</td>\n",
       "      <td>1.539332e-01</td>\n",
       "      <td>19.431140</td>\n",
       "    </tr>\n",
       "    <tr>\n",
       "      <th>14</th>\n",
       "      <td>(632.0, 644.0]</td>\n",
       "      <td>878.29</td>\n",
       "      <td>847.89</td>\n",
       "      <td>30.4</td>\n",
       "      <td>0.034613</td>\n",
       "      <td>0.028534</td>\n",
       "      <td>0.049646</td>\n",
       "      <td>0.873099</td>\n",
       "      <td>0.740278</td>\n",
       "      <td>1.328211e-01</td>\n",
       "      <td>27.891118</td>\n",
       "    </tr>\n",
       "    <tr>\n",
       "      <th>15</th>\n",
       "      <td>(644.0, 658.0]</td>\n",
       "      <td>918.09</td>\n",
       "      <td>891.69</td>\n",
       "      <td>26.4</td>\n",
       "      <td>0.028755</td>\n",
       "      <td>0.024779</td>\n",
       "      <td>0.052211</td>\n",
       "      <td>0.897879</td>\n",
       "      <td>0.792489</td>\n",
       "      <td>1.053898e-01</td>\n",
       "      <td>33.776136</td>\n",
       "    </tr>\n",
       "    <tr>\n",
       "      <th>16</th>\n",
       "      <td>(658.0, 672.0]</td>\n",
       "      <td>921.48</td>\n",
       "      <td>893.88</td>\n",
       "      <td>27.6</td>\n",
       "      <td>0.029952</td>\n",
       "      <td>0.025906</td>\n",
       "      <td>0.052339</td>\n",
       "      <td>0.923784</td>\n",
       "      <td>0.844828</td>\n",
       "      <td>7.895673e-02</td>\n",
       "      <td>32.386957</td>\n",
       "    </tr>\n",
       "    <tr>\n",
       "      <th>17</th>\n",
       "      <td>(672.0, 686.0]</td>\n",
       "      <td>868.07</td>\n",
       "      <td>840.67</td>\n",
       "      <td>27.4</td>\n",
       "      <td>0.031564</td>\n",
       "      <td>0.025718</td>\n",
       "      <td>0.049223</td>\n",
       "      <td>0.949503</td>\n",
       "      <td>0.894051</td>\n",
       "      <td>5.545146e-02</td>\n",
       "      <td>30.681387</td>\n",
       "    </tr>\n",
       "    <tr>\n",
       "      <th>18</th>\n",
       "      <td>(686.0, 711.0]</td>\n",
       "      <td>954.80</td>\n",
       "      <td>920.40</td>\n",
       "      <td>34.4</td>\n",
       "      <td>0.036028</td>\n",
       "      <td>0.032288</td>\n",
       "      <td>0.053892</td>\n",
       "      <td>0.981791</td>\n",
       "      <td>0.947943</td>\n",
       "      <td>3.384812e-02</td>\n",
       "      <td>26.755814</td>\n",
       "    </tr>\n",
       "    <tr>\n",
       "      <th>19</th>\n",
       "      <td>(711.0, inf]</td>\n",
       "      <td>908.47</td>\n",
       "      <td>889.07</td>\n",
       "      <td>19.4</td>\n",
       "      <td>0.021355</td>\n",
       "      <td>0.018209</td>\n",
       "      <td>0.052057</td>\n",
       "      <td>1.000000</td>\n",
       "      <td>1.000000</td>\n",
       "      <td>1.110223e-16</td>\n",
       "      <td>45.828351</td>\n",
       "    </tr>\n",
       "  </tbody>\n",
       "</table>\n",
       "</div>"
      ],
      "text/plain": [
       "                分箱     样本数    好样本数   坏样本数       逾期率   Bad分布占比  Good分布占比  \\\n",
       "0    (-inf, 481.0]  899.04  795.84  103.2  0.114789  0.096865  0.046598   \n",
       "1   (481.0, 498.0]  837.29  757.29   80.0  0.095546  0.075089  0.044341   \n",
       "2   (498.0, 516.0]  957.75  862.55   95.2  0.099400  0.089356  0.050504   \n",
       "3   (516.0, 527.0]  847.33  772.93   74.4  0.087805  0.069833  0.045257   \n",
       "4   (527.0, 537.0]  935.23  875.83   59.4  0.063514  0.055754  0.051282   \n",
       "5   (537.0, 546.0]  931.79  866.59   65.2  0.069973  0.061198  0.050741   \n",
       "6   (546.0, 557.0]  918.34  857.74   60.6  0.065989  0.056880  0.050223   \n",
       "7   (557.0, 566.0]  925.81  874.41   51.4  0.055519  0.048245  0.051199   \n",
       "8   (566.0, 577.0]  809.01  739.41   69.6  0.086031  0.065328  0.043294   \n",
       "9   (577.0, 587.0]  927.25  883.65   43.6  0.047021  0.040924  0.051740   \n",
       "10  (587.0, 597.0]  893.04  845.44   47.6  0.053301  0.044678  0.049503   \n",
       "11  (597.0, 607.0]  922.39  872.99   49.4  0.053557  0.046368  0.051116   \n",
       "12  (607.0, 617.0]  958.97  904.37   54.6  0.056936  0.051248  0.052953   \n",
       "13  (617.0, 632.0]  931.66  886.06   45.6  0.048945  0.042801  0.051881   \n",
       "14  (632.0, 644.0]  878.29  847.89   30.4  0.034613  0.028534  0.049646   \n",
       "15  (644.0, 658.0]  918.09  891.69   26.4  0.028755  0.024779  0.052211   \n",
       "16  (658.0, 672.0]  921.48  893.88   27.6  0.029952  0.025906  0.052339   \n",
       "17  (672.0, 686.0]  868.07  840.67   27.4  0.031564  0.025718  0.049223   \n",
       "18  (686.0, 711.0]  954.80  920.40   34.4  0.036028  0.032288  0.053892   \n",
       "19    (711.0, inf]  908.47  889.07   19.4  0.021355  0.018209  0.052057   \n",
       "\n",
       "     累积Bad占比  累积Good占比            KS  odds(good:bad)  \n",
       "0   0.096865  0.046598  5.026663e-02        7.711628  \n",
       "1   0.171954  0.090940  8.101460e-02        9.466125  \n",
       "2   0.261310  0.141444  1.198663e-01        9.060399  \n",
       "3   0.331143  0.186701  1.444423e-01       10.388844  \n",
       "4   0.386897  0.237983  1.489140e-01       14.744613  \n",
       "5   0.448095  0.288724  1.593706e-01       13.291258  \n",
       "6   0.504975  0.338947  1.660279e-01       14.154125  \n",
       "7   0.553219  0.390146  1.630738e-01       17.011868  \n",
       "8   0.618547  0.433440  1.851071e-01       10.623707  \n",
       "9   0.659471  0.485180  1.742908e-01       20.267202  \n",
       "10  0.704149  0.534682  1.694663e-01       17.761345  \n",
       "11  0.750516  0.585798  1.647181e-01       17.671862  \n",
       "12  0.801765  0.638751  1.630134e-01       16.563553  \n",
       "13  0.844565  0.690632  1.539332e-01       19.431140  \n",
       "14  0.873099  0.740278  1.328211e-01       27.891118  \n",
       "15  0.897879  0.792489  1.053898e-01       33.776136  \n",
       "16  0.923784  0.844828  7.895673e-02       32.386957  \n",
       "17  0.949503  0.894051  5.545146e-02       30.681387  \n",
       "18  0.981791  0.947943  3.384812e-02       26.755814  \n",
       "19  1.000000  1.000000  1.110223e-16       45.828351  "
      ]
     },
     "execution_count": 98,
     "metadata": {},
     "output_type": "execute_result"
    }
   ],
   "source": [
    "OOT_runbook = vp.get_decile_sw(data_OOT_BScore_detail,sample_weight_oot,oot_y,'runbook',manual_cut_bounds=[])[1]\n",
    "OOT_runbook"
   ]
  },
  {
   "cell_type": "markdown",
   "metadata": {},
   "source": [
    "# OOT PSI以及ranking验证"
   ]
  },
  {
   "cell_type": "markdown",
   "metadata": {},
   "source": [
    "## OOT样本每个变量的ranking"
   ]
  },
  {
   "cell_type": "code",
   "execution_count": 100,
   "metadata": {},
   "outputs": [],
   "source": [
    "# 如果plot设置为TRUE则会在Result_path中画图\n",
    "var_ranking_train_vs_oot=var_ranking_train_vs_oot = pl.variable_badrate_compare_sw(X_cat_train[selected],y_train,sample_weight_train,data_OOT_cat[selected],oot_y\\\n",
    "                                                    ,sample_weight_oot,'train_set','OOT_set',var_dict,rebin_spec_bin_adjusted,RESULT_PATH\\\n",
    "                                                       ,plot=False)"
   ]
  },
  {
   "cell_type": "markdown",
   "metadata": {},
   "source": [
    "## 将Train和OOT的decile按照上方的样式合并"
   ]
  },
  {
   "cell_type": "code",
   "execution_count": 101,
   "metadata": {},
   "outputs": [],
   "source": [
    "ks_decile_train_part = ks_decile_train[['分箱','样本数','逾期率']]\n",
    "ks_decile_train_part['分布占比'] = ks_decile_train['样本数']/ks_decile_train['样本数'].sum()"
   ]
  },
  {
   "cell_type": "code",
   "execution_count": 102,
   "metadata": {},
   "outputs": [],
   "source": [
    "OOT_decile['分布占比'] = OOT_decile['样本数']/OOT_decile['样本数'].sum()"
   ]
  },
  {
   "cell_type": "code",
   "execution_count": 103,
   "metadata": {},
   "outputs": [],
   "source": [
    "score_ranking_train_vs_oot = pd.concat([ks_decile_train_part[['分箱','样本数','逾期率','分布占比']]\\\n",
    "          ,OOT_decile[['样本数','逾期率','分布占比']]],axis=1)"
   ]
  },
  {
   "cell_type": "code",
   "execution_count": 104,
   "metadata": {},
   "outputs": [],
   "source": [
    "score_ranking_train_vs_oot.columns = \\\n",
    "['分箱', 'train_set样本量', 'train_set逾期率', 'train_set分布占比'\\\n",
    " , 'OOT_set样本量', 'OOT_set逾期率', 'OOT_set分布占比']\n",
    "score_ranking_train_vs_oot['数据源'] = '模型分'\n",
    "score_ranking_train_vs_oot['指标英文'] = 'modelScore'\n",
    "score_ranking_train_vs_oot['指标中文'] = '模型分'\n",
    "score_ranking_train_vs_oot['指标类型'] = '/'\n",
    "score_ranking_train_vs_oot['分箱对应原始分类'] = None"
   ]
  },
  {
   "cell_type": "markdown",
   "metadata": {},
   "source": [
    "## 将变量ranking与打分ranking合并"
   ]
  },
  {
   "cell_type": "code",
   "execution_count": 105,
   "metadata": {},
   "outputs": [],
   "source": [
    "# 打分的数据字段排列有点乱，还是沿用变量的字段排序比较好\n",
    "ranking_train_vs_oot = pd.concat([score_ranking_train_vs_oot,var_ranking_train_vs_oot])\\\n",
    "[var_ranking_train_vs_oot.columns]"
   ]
  },
  {
   "cell_type": "markdown",
   "metadata": {},
   "source": [
    "## 计算变量和score的PSI"
   ]
  },
  {
   "cell_type": "code",
   "execution_count": 106,
   "metadata": {},
   "outputs": [],
   "source": [
    "from math import log"
   ]
  },
  {
   "cell_type": "code",
   "execution_count": 107,
   "metadata": {},
   "outputs": [],
   "source": [
    "ranking_train_vs_oot['PSI'] = ranking_train_vs_oot.apply(lambda x : (x['OOT_set分布占比'] - x['train_set分布占比'])\\\n",
    "                           *log(x['OOT_set分布占比']/x['train_set分布占比'])\\\n",
    "                           if x['OOT_set分布占比']!=0 and x['train_set分布占比']!=0 else 0\\\n",
    "                           ,axis=1)"
   ]
  },
  {
   "cell_type": "markdown",
   "metadata": {},
   "source": [
    "# 模型部署"
   ]
  },
  {
   "cell_type": "code",
   "execution_count": 108,
   "metadata": {},
   "outputs": [],
   "source": [
    "import utils3.deploy as dp "
   ]
  },
  {
   "cell_type": "code",
   "execution_count": 109,
   "metadata": {},
   "outputs": [],
   "source": [
    "'''\n",
    "model_label (str): 模型名称\n",
    "live_abbr (str): 上线后模型输出打分字段尾缀名称\n",
    "RESULT_PATH (str): 结果路径\n",
    "score_card (dataFrame): 建模评分卡\n",
    "model_decile(dataFrame): 建模decile\n",
    "eda_table (dataFrame): EDA结果\n",
    "coarse_classing_rebin_spec (dict): 建模分箱边界文件\n",
    "production_modelName (str): 需要部署的模型在线上部署时所在的条用modelName，取值问部署人员\n",
    "product_name (str): 中间层表格中的product_name取值。传入这个模型所部署的产品名\n",
    "liftcurve_name_map (dict): 画lift curve的时候原始model_label转换成图中的\n",
    "    显示名称，因为画图会将中文显示成方格，所以转换的值需全为英文。取名时请注意规范一致\n",
    "    性和可读性和理解性，因为这个是会放到最终报告中的。如果有用于对比表现的老模型，也\n",
    "    需要包含。key值为建模时各模型对应的model_label, value值为规范刻度和解释性较好\n",
    "    的全英文正式模型名称\n",
    "production_name_map (dict): 当有指标英文线上的名字和线下建模时不一样时传入。key=建模时英文名\n",
    "    value=线上英文名。 default={} 默认建模时和线上没有命名不一致的情况\n",
    "'''\n",
    "dp.generate_logistics_scorecard_deployment_documents('PCS_OnlineCashScoreB', 'pcsonlineplb',\n",
    "                                            RESULT_PATH,score_card,ks_decile_train,\n",
    "                                            summary,\n",
    "                                            rebin_spec_bin_adjusted,\n",
    "                                            'PCS_OnlineCashScoreB', 'PCS_OnlineCashScoreB',\n",
    "                                            production_name_map={})"
   ]
  },
  {
   "cell_type": "markdown",
   "metadata": {},
   "source": [
    "# 模型文档整理"
   ]
  },
  {
   "cell_type": "code",
   "execution_count": 110,
   "metadata": {},
   "outputs": [],
   "source": [
    "FINAL_REPORT_PATH = '/Users/zhenwei.jin/Desktop/sample_weight/logistic/03_result/result'"
   ]
  },
  {
   "cell_type": "code",
   "execution_count": 111,
   "metadata": {},
   "outputs": [
    {
     "data": {
      "text/plain": [
       "<module 'utils3.filing' from '/Users/zhenwei.jin/Documents/repos/genie/utils3/filing.py'>"
      ]
     },
     "execution_count": 111,
     "metadata": {},
     "output_type": "execute_result"
    }
   ],
   "source": [
    "import utils3.filing as fl\n",
    "reload(fl)"
   ]
  },
  {
   "cell_type": "code",
   "execution_count": 114,
   "metadata": {},
   "outputs": [],
   "source": [
    "# python3.6的dict是ordered，按照顺序这样定义，之后生成excel的时候会按照顺序穿件sheet\n",
    "data_dic = {}\n",
    "# 如果sheet对应的内容是dict，则dict的key会出现在sheet第一列。value会从第二列开始插入\n",
    "data_dic['01_模型结果'] = {\n",
    "    '样本统计': sample_split_summary,\n",
    "    'train模型系数': Logistics_model_result['train_coef'],\n",
    "    'test模型系数': Logistics_model_result['test_coef'],\n",
    "    '变量相关系数':corr,\n",
    "    #如果是图片的话必须key值中包含'_picture'，然后value为figure_path下面的图存储路径和文件名 \n",
    "    'TRAIN_KS_picture': 'KS/test_model_TRAIN_KS.png', \n",
    "    'TEST_KS_picture': 'Ks/test_model_TEST_KS.png', \n",
    "    'TRAIN_AUC_picture': 'AUC/test_model_TRAIN_AUC.png', \n",
    "    'TEST_AUC_picture': 'AUC/test_model_TEST_AUC.png'    \n",
    "}\n",
    "data_dic['02_EDA'] = summary\n",
    "data_dic['03_模型细分箱'] = woe_iv_df\n",
    "data_dic['04_模型粗分箱'] = woe_iv_df_coarse\n",
    "data_dic['05_评分卡'] = score_card\n",
    "data_dic['06_决策参考'] = {'train_decile':ks_decile_train,\n",
    "                      'test_decile':ks_decile_test,\n",
    "                      'runbook':run_book}\n",
    "data_dic['07_OOT统计'] = {'runbook':OOT_runbook,\n",
    "                       '变量细节':ranking_train_vs_oot}\n",
    "# 如果sheet对应的内容是df，则从sheet的A1位置开始插入整张表格，不包含pd.DataFrame的index\n",
    "data_dic['细节1_变量按时间分布以及逾期率'] = var_dist_badRate_by_time"
   ]
  },
  {
   "cell_type": "code",
   "execution_count": 115,
   "metadata": {},
   "outputs": [],
   "source": [
    "fl.ModelSummary2Excel(FINAL_REPORT_PATH, os.path.join(RESULT_PATH, 'figure'), \n",
    "                   'DEMO_sample_weight模型文档.xlsx', data_dic).run()"
   ]
  },
  {
   "cell_type": "code",
   "execution_count": null,
   "metadata": {},
   "outputs": [],
   "source": []
  }
 ],
 "metadata": {
  "kernelspec": {
   "display_name": "Python [conda env:anaconda3]",
   "language": "python",
   "name": "conda-env-anaconda3-py"
  },
  "language_info": {
   "codemirror_mode": {
    "name": "ipython",
    "version": 3
   },
   "file_extension": ".py",
   "mimetype": "text/x-python",
   "name": "python",
   "nbconvert_exporter": "python",
   "pygments_lexer": "ipython3",
   "version": "3.6.4"
  },
  "toc": {
   "base_numbering": 1,
   "nav_menu": {},
   "number_sections": true,
   "sideBar": true,
   "skip_h1_title": false,
   "title_cell": "Table of Contents",
   "title_sidebar": "Contents",
   "toc_cell": false,
   "toc_position": {},
   "toc_section_display": true,
   "toc_window_display": true
  }
 },
 "nbformat": 4,
 "nbformat_minor": 2
}
