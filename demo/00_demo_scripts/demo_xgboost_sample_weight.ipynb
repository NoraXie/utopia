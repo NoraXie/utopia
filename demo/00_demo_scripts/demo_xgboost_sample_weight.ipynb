{
 "cells": [
  {
   "cell_type": "code",
   "execution_count": 1,
   "metadata": {},
   "outputs": [],
   "source": [
    "%matplotlib inline\n",
    "\n",
    "import os\n",
    "import sys\n",
    "import json\n",
    "import logging\n",
    "import warnings\n",
    "warnings.filterwarnings('ignore')\n",
    "\n",
    "# 更改为自己的路径,或者直接在环境变量中添加\n",
    "sys.path.append('/Users/zhenwei.jin/Documents/repos/genie')\n",
    "\n",
    "import pandas as pd\n",
    "import numpy as np\n",
    "from jinja2 import Template\n",
    "\n",
    "#python3种reload函数不能直接使用\n",
    "from imp import reload\n",
    "\n",
    "from utils3.data_io_utils import *\n",
    "import utils3.misc_utils as mu\n",
    "import utils3.summary_statistics as ss\n",
    "import utils3.metrics as mt\n",
    "import utils3.feature_selection as fs\n",
    "import utils3.plotting as pl\n",
    "import utils3.modeling as ml\n",
    "from functools import reduce\n",
    "import xgboost as xgb\n",
    "import utils3.verify_performance as vp"
   ]
  },
  {
   "cell_type": "markdown",
   "metadata": {},
   "source": [
    "# 设置工作路径"
   ]
  },
  {
   "cell_type": "code",
   "execution_count": 2,
   "metadata": {},
   "outputs": [],
   "source": [
    "DATA_PATH='/Users/zhenwei.jin/Desktop/sample_weight/xgboost/02_data'\n",
    "RESULT_PATH='/Users/zhenwei.jin/Desktop/sample_weight/xgboost/03_result/'"
   ]
  },
  {
   "cell_type": "markdown",
   "metadata": {},
   "source": [
    "# 读取建模字典"
   ]
  },
  {
   "cell_type": "code",
   "execution_count": 3,
   "metadata": {},
   "outputs": [],
   "source": [
    "var_dict=pd.read_excel(DATA_PATH+'/建模字典.xlsx')"
   ]
  },
  {
   "cell_type": "markdown",
   "metadata": {},
   "source": [
    "# 读取建模数据"
   ]
  },
  {
   "cell_type": "markdown",
   "metadata": {},
   "source": [
    "注该样本已完成数据格式和缺失值的填充,若未完成,需要提前做好。"
   ]
  },
  {
   "cell_type": "code",
   "execution_count": 4,
   "metadata": {},
   "outputs": [],
   "source": [
    "all_x_y=load_data_from_pickle(DATA_PATH,'抽样建模DEMO.pkl')"
   ]
  },
  {
   "cell_type": "code",
   "execution_count": 5,
   "metadata": {},
   "outputs": [],
   "source": [
    "all_x_y.index=all_x_y.apply_id"
   ]
  },
  {
   "cell_type": "markdown",
   "metadata": {},
   "source": [
    "## 增加sample_weight"
   ]
  },
  {
   "cell_type": "markdown",
   "metadata": {},
   "source": [
    "sample_weight的添加方式，建议结合自身的抽样情况决定。"
   ]
  },
  {
   "cell_type": "code",
   "execution_count": 6,
   "metadata": {},
   "outputs": [],
   "source": [
    "segment_label='channel_class'\n",
    "sample_weight_model={'Bad Channel':{'good_sample':7.46,'bad_sample':2.43},\\\n",
    "               'Good Channel':{'good_sample':6.42,'bad_sample':1},\\\n",
    "              'Normal Channel':{'good_sample':20.79,'bad_sample':3.19}}"
   ]
  },
  {
   "cell_type": "code",
   "execution_count": 7,
   "metadata": {},
   "outputs": [],
   "source": [
    "model_data=all_x_y[all_x_y['sample_set']!='OOT']"
   ]
  },
  {
   "cell_type": "code",
   "execution_count": 8,
   "metadata": {},
   "outputs": [],
   "source": [
    "model_data=mt.BinWoe().add_sample_weight(model_data,segment_label,sample_weight_model)"
   ]
  },
  {
   "cell_type": "markdown",
   "metadata": {},
   "source": [
    "# 整理X,y,sample_weight数据"
   ]
  },
  {
   "cell_type": "code",
   "execution_count": 9,
   "metadata": {},
   "outputs": [],
   "source": [
    "X=model_data[var_dict[u'指标英文']]\n",
    "y=model_data['y']\n",
    "sample_weight=model_data['sample_weight']"
   ]
  },
  {
   "cell_type": "markdown",
   "metadata": {},
   "source": [
    "# EDA"
   ]
  },
  {
   "cell_type": "markdown",
   "metadata": {},
   "source": [
    "## 不包含sample_weight"
   ]
  },
  {
   "cell_type": "code",
   "execution_count": 10,
   "metadata": {},
   "outputs": [],
   "source": [
    "ss.eda(X, var_dict, useless_vars=[], exempt_vars=[],\\\n",
    "       data_path=RESULT_PATH, save_label='model_data')"
   ]
  },
  {
   "cell_type": "markdown",
   "metadata": {},
   "source": [
    "## 包含sample_weight"
   ]
  },
  {
   "cell_type": "code",
   "execution_count": 11,
   "metadata": {},
   "outputs": [],
   "source": [
    "ss.eda_sw(X, var_dict,sample_weight, useless_vars=[], exempt_vars=[],\\\n",
    "       data_path=RESULT_PATH, save_label='model_data_sw')"
   ]
  },
  {
   "cell_type": "markdown",
   "metadata": {},
   "source": [
    "# 筛掉Summary excluded变量进行综合排序"
   ]
  },
  {
   "cell_type": "code",
   "execution_count": 12,
   "metadata": {},
   "outputs": [],
   "source": [
    "summary = pd.read_excel(RESULT_PATH+'/model_data_sw_variables_summary.xlsx')\n",
    "kept = summary.loc[pd.isnull(summary.exclusion_reason), u'指标英文'].tolist()"
   ]
  },
  {
   "cell_type": "markdown",
   "metadata": {},
   "source": [
    "由于该样本已完成train、test的划分，故此处省略"
   ]
  },
  {
   "cell_type": "code",
   "execution_count": 13,
   "metadata": {},
   "outputs": [
    {
     "data": {
      "text/plain": [
       "MODELING_TRAIN    14000\n",
       "MODELING_TEST      6000\n",
       "Name: sample_set, dtype: int64"
      ]
     },
     "execution_count": 13,
     "metadata": {},
     "output_type": "execute_result"
    }
   ],
   "source": [
    "pd.value_counts(model_data['sample_set'])"
   ]
  },
  {
   "cell_type": "code",
   "execution_count": 14,
   "metadata": {},
   "outputs": [],
   "source": [
    "X_train=model_data.loc[model_data['sample_set']=='MODELING_TRAIN',kept]\n",
    "y_train=model_data.loc[model_data['sample_set']=='MODELING_TRAIN','y']\n",
    "sample_weight_train=model_data.loc[model_data['sample_set']=='MODELING_TRAIN','sample_weight']\n",
    "\n",
    "X_test=model_data.loc[model_data['sample_set']=='MODELING_TEST',kept]\n",
    "y_test=model_data.loc[model_data['sample_set']=='MODELING_TEST','y']\n",
    "sample_weight_test=model_data.loc[model_data['sample_set']=='MODELING_TEST','sample_weight']"
   ]
  },
  {
   "cell_type": "markdown",
   "metadata": {},
   "source": [
    "# 各种算法的overall_ranking"
   ]
  },
  {
   "cell_type": "markdown",
   "metadata": {},
   "source": [
    "注：目前lasso不支持sample_weight"
   ]
  },
  {
   "cell_type": "code",
   "execution_count": 15,
   "metadata": {},
   "outputs": [
    {
     "data": {
      "text/plain": [
       "<module 'utils3.feature_selection' from '/Users/zhenwei.jin/Documents/repos/genie/utils3/feature_selection.py'>"
      ]
     },
     "execution_count": 15,
     "metadata": {},
     "output_type": "execute_result"
    }
   ],
   "source": [
    "reload(fs)"
   ]
  },
  {
   "cell_type": "code",
   "execution_count": 16,
   "metadata": {},
   "outputs": [],
   "source": [
    "args_dict = {\n",
    "    'random_forest': {\n",
    "        'grid_search': False,#选择了True则会进行网格筛选速度会比较慢\n",
    "        'param': None\n",
    "    },\n",
    "    'xgboost': {\n",
    "        'grid_search': False,\n",
    "        'param': None\n",
    "    }\n",
    "}\n",
    "methods = [\n",
    "    'random_forest', \n",
    "    'xgboost'\n",
    "]\n",
    "\n",
    "fs_obj = fs.FeatureSelection()"
   ]
  },
  {
   "cell_type": "code",
   "execution_count": 17,
   "metadata": {},
   "outputs": [],
   "source": [
    "# 使用日志在result_path中可以通过日志观察overall_ranking进行到哪一步了\n",
    "logging.basicConfig(filename=os.path.join(RESULT_PATH, 'test_log.log'), level=logging.INFO, filemode='w')\n",
    "LOG = logging.getLogger(__name__)"
   ]
  },
  {
   "cell_type": "code",
   "execution_count": 18,
   "metadata": {},
   "outputs": [
    {
     "name": "stdout",
     "output_type": "stream",
     "text": [
      "[0]\ttrain-auc:0.642005\ttest-auc:0.631775\n",
      "[10]\ttrain-auc:0.686562\ttest-auc:0.665268\n",
      "[20]\ttrain-auc:0.701183\ttest-auc:0.674871\n",
      "[30]\ttrain-auc:0.714785\ttest-auc:0.680553\n",
      "[40]\ttrain-auc:0.726777\ttest-auc:0.686103\n",
      "[50]\ttrain-auc:0.7353\ttest-auc:0.690343\n",
      "[60]\ttrain-auc:0.742019\ttest-auc:0.693012\n",
      "[70]\ttrain-auc:0.747779\ttest-auc:0.694658\n",
      "[80]\ttrain-auc:0.752129\ttest-auc:0.695928\n",
      "[90]\ttrain-auc:0.756814\ttest-auc:0.696822\n",
      "[100]\ttrain-auc:0.760749\ttest-auc:0.697009\n",
      "[110]\ttrain-auc:0.764285\ttest-auc:0.697859\n",
      "[120]\ttrain-auc:0.768262\ttest-auc:0.698406\n",
      "[130]\ttrain-auc:0.771692\ttest-auc:0.698912\n",
      "[140]\ttrain-auc:0.774749\ttest-auc:0.698815\n",
      "[150]\ttrain-auc:0.77803\ttest-auc:0.699067\n",
      "[160]\ttrain-auc:0.781188\ttest-auc:0.698806\n",
      "[170]\ttrain-auc:0.784066\ttest-auc:0.698356\n"
     ]
    }
   ],
   "source": [
    "X_cat_train,X_transformed, woe_iv_df, rebin_spec, ranking_result = fs_obj.overall_ranking_sw(X_train, y_train,sample_weight_train, \\\n",
    "                                                                            var_dict, args_dict, \\\n",
    "                                                                            methods, num_max_bins=5)"
   ]
  },
  {
   "cell_type": "markdown",
   "metadata": {},
   "source": [
    "## <font size=5 color=red> ***将rebin_spec转换为xgboost使用的格式!*** </font>"
   ]
  },
  {
   "cell_type": "code",
   "execution_count": 114,
   "metadata": {},
   "outputs": [],
   "source": [
    "rebin_spec = mu.convert_rebin_spec2XGB_rebin_spec(rebin_spec)"
   ]
  },
  {
   "cell_type": "markdown",
   "metadata": {},
   "source": [
    "建议：将X_cat_train、rebin_spec、woe_iv_df这些数据存储出去，这样就算中途挂掉后续也可以不用重来之前的工作，因为overall_ranking还是很消耗时间的"
   ]
  },
  {
   "cell_type": "code",
   "execution_count": 115,
   "metadata": {},
   "outputs": [],
   "source": [
    "save_data_to_pickle(X_cat_train,RESULT_PATH,'X_cat_train.pkl')\n",
    "save_data_to_pickle(woe_iv_df,RESULT_PATH,'woe_iv_df.pkl')\n",
    "save_data_to_pickle(rebin_spec,RESULT_PATH,'rebin_spec.pkl')\n",
    "save_data_to_pickle(X_transformed,RESULT_PATH,'X_transformed.pkl')\n",
    "save_data_to_pickle(ranking_result,RESULT_PATH,'ranking_result.pkl')"
   ]
  },
  {
   "cell_type": "markdown",
   "metadata": {},
   "source": [
    "# 相关性变量筛选"
   ]
  },
  {
   "cell_type": "markdown",
   "metadata": {},
   "source": [
    "## 留下整体排名靠前的变量"
   ]
  },
  {
   "cell_type": "code",
   "execution_count": 116,
   "metadata": {},
   "outputs": [],
   "source": [
    "# 确定需要留下的排名靠前变量的数量\n",
    "n = 100\n",
    "top_n = ranking_result.sort_values('overall_rank')[u'指标英文'].iloc[:n].tolist()"
   ]
  },
  {
   "cell_type": "code",
   "execution_count": 117,
   "metadata": {},
   "outputs": [],
   "source": [
    "# 决定从top_n中剔除的字段名称\n",
    "exclusion = []\n",
    "# 决定模型一定要有的字段，即使可能不显著\n",
    "start_from = []\n",
    "# 通过综合排序选中的\n",
    "selected = list(set(top_n) - set(exclusion))"
   ]
  },
  {
   "cell_type": "code",
   "execution_count": 118,
   "metadata": {},
   "outputs": [],
   "source": [
    "# 将数据分箱后并转换woe值\n",
    "X_transformed_train = X_transformed\n",
    "# clean data\n",
    "X_transformed_train = X_transformed_train[selected]"
   ]
  },
  {
   "cell_type": "markdown",
   "metadata": {},
   "source": [
    "## 相关性筛选"
   ]
  },
  {
   "cell_type": "code",
   "execution_count": 119,
   "metadata": {},
   "outputs": [],
   "source": [
    "corr_threshold = 0.7 # 可调\n",
    "vif_threshold = 10 # 可调\n",
    "vif_result = fs.Colinearity(X_transformed_train,RESULT_PATH)"
   ]
  },
  {
   "cell_type": "code",
   "execution_count": 120,
   "metadata": {},
   "outputs": [],
   "source": [
    "# 这一步时间比较长请大家耐心\n",
    "vif_result.run(ranking_result)"
   ]
  },
  {
   "cell_type": "code",
   "execution_count": 121,
   "metadata": {},
   "outputs": [],
   "source": [
    "# 相关性分析删除的变量\n",
    "exclusion_cols = vif_result.corr_exclude_vars + vif_result.vif_dropvars"
   ]
  },
  {
   "cell_type": "markdown",
   "metadata": {},
   "source": [
    "# 粗分箱"
   ]
  },
  {
   "cell_type": "code",
   "execution_count": 122,
   "metadata": {
    "scrolled": true
   },
   "outputs": [
    {
     "data": {
      "text/plain": [
       "['tongdunP2PNumPfL3M',\n",
       " 'xy_applyLoanQueryNumL3M',\n",
       " 'tongdunconfinNumPfL6M',\n",
       " 'tongdunP2PNumPfL6M',\n",
       " 'tongdun12MIdMultiLoanNumPf',\n",
       " 'tongdunItfinNumPfL3M',\n",
       " 'tongdunItfinNumPfL6M',\n",
       " 'tongdunconfinNumPfL3M',\n",
       " 'tongdunmicrofinNumPfL3M',\n",
       " 'tongdunotherNumPfL3M',\n",
       " 'tongdun6MIdSumLoanNumPf_v2',\n",
       " 'xy_behaviorClosedOrderNum',\n",
       " 'nike700Score',\n",
       " 'tongdunPhoneMultiLoanNum_v2',\n",
       " 'tongdunNormalNumPfL3M',\n",
       " 'xy_creditAmt',\n",
       " 'xy_applyHitDDNum',\n",
       " 'tongdunmicrofinNumPfL6M',\n",
       " 'tongdun6MIdXiaofeiFenqiLoanNum',\n",
       " 'xy_creditNProductNum',\n",
       " 'br_grzz_pc_rcnt_income',\n",
       " 'tencentScore_new',\n",
       " 'xy_creditFDCreditAmtAvg',\n",
       " 'br_grzz_pc_user_level',\n",
       " 'xy_behaviorSuccessPayNumL1M',\n",
       " 'ym_credit_score_big',\n",
       " 'xy_behaviorFailPayNumHist']"
      ]
     },
     "execution_count": 122,
     "metadata": {},
     "output_type": "execute_result"
    }
   ],
   "source": [
    "selected = list(set(selected) - set(exclusion_cols))\n",
    "selected"
   ]
  },
  {
   "cell_type": "markdown",
   "metadata": {},
   "source": [
    "## 图形界面调整分箱"
   ]
  },
  {
   "cell_type": "code",
   "execution_count": 123,
   "metadata": {},
   "outputs": [
    {
     "data": {
      "text/plain": [
       "<module 'utils3.plotting' from '/Users/zhenwei.jin/Documents/repos/genie/utils3/plotting.py'>"
      ]
     },
     "execution_count": 123,
     "metadata": {},
     "output_type": "execute_result"
    }
   ],
   "source": [
    "reload(pl)"
   ]
  },
  {
   "cell_type": "code",
   "execution_count": 124,
   "metadata": {},
   "outputs": [],
   "source": [
    "#ui_obj = pl.BinPlotAdjustUI_sw(X_train, y_train,sample_weight_train,RESULT_PATH,DATA_PATH,rebin_spec, var_dict)\n",
    "#ui_obj.main_ui(selected)"
   ]
  },
  {
   "cell_type": "markdown",
   "metadata": {},
   "source": [
    "## 储存调整后的结果"
   ]
  },
  {
   "cell_type": "code",
   "execution_count": 31,
   "metadata": {},
   "outputs": [],
   "source": [
    "rebin_spec_bin_adjusted=load_data_from_pickle(RESULT_PATH,'rebin_spec_bin_adjusted.pkl')"
   ]
  },
  {
   "cell_type": "code",
   "execution_count": 53,
   "metadata": {},
   "outputs": [],
   "source": [
    "rebin_spec_bin_adjusted = {k:v for k,v in ui_obj.rebin_spec.items() if k in selected}\n",
    "save_data_to_pickle(rebin_spec_bin_adjusted,RESULT_PATH,'rebin_spec_bin_adjusted.pkl')"
   ]
  },
  {
   "cell_type": "markdown",
   "metadata": {},
   "source": [
    "## 训练集转化WOE"
   ]
  },
  {
   "cell_type": "code",
   "execution_count": 32,
   "metadata": {},
   "outputs": [],
   "source": [
    "bin_obj = mt.BinWoe()\n",
    "new_X = X_train[selected]\n",
    "X_cat_train = bin_obj.convert_to_category(new_X, var_dict, rebin_spec_bin_adjusted)\n",
    "woe_iv_df_coarse = bin_obj.calculate_woe_all_sw(X_cat_train, y_train,sample_weight_train,var_dict,rebin_spec_bin_adjusted)\n",
    "X_transformed_train= bin_obj.transform_x_all(X_cat_train, woe_iv_df_coarse)"
   ]
  },
  {
   "cell_type": "code",
   "execution_count": 33,
   "metadata": {},
   "outputs": [],
   "source": [
    "woe_iv_df_coarse.to_excel(RESULT_PATH+'/woe_iv_df_coarse.xlsx')"
   ]
  },
  {
   "cell_type": "markdown",
   "metadata": {},
   "source": [
    "## 测试集转化WOE"
   ]
  },
  {
   "cell_type": "code",
   "execution_count": 34,
   "metadata": {},
   "outputs": [],
   "source": [
    "new_X = X_test[selected]\n",
    "X_cat_test = bin_obj.convert_to_category(new_X, var_dict, rebin_spec_bin_adjusted)\n",
    "X_transformed_test= bin_obj.transform_x_all(X_cat_test, woe_iv_df_coarse)"
   ]
  },
  {
   "cell_type": "markdown",
   "metadata": {},
   "source": [
    "# 按月查看训练集分箱以后的分布以及逾期率"
   ]
  },
  {
   "cell_type": "code",
   "execution_count": 35,
   "metadata": {},
   "outputs": [],
   "source": [
    "X_cat_train_with_y_appmon = pd.merge(X_cat_train,model_data[['y','applicationdate']]\\\n",
    "                                     ,left_index=True,right_index=True)"
   ]
  },
  {
   "cell_type": "markdown",
   "metadata": {},
   "source": [
    "applicationdate改为月份"
   ]
  },
  {
   "cell_type": "code",
   "execution_count": 36,
   "metadata": {},
   "outputs": [],
   "source": [
    "X_cat_train_with_y_appmon['applicationdate']=X_cat_train_with_y_appmon['applicationdate'].astype(str)"
   ]
  },
  {
   "cell_type": "code",
   "execution_count": 37,
   "metadata": {},
   "outputs": [],
   "source": [
    "X_cat_train_with_y_appmon['applicationdate']=X_cat_train_with_y_appmon['applicationdate'].apply(lambda x:x[0:7])"
   ]
  },
  {
   "cell_type": "code",
   "execution_count": 38,
   "metadata": {},
   "outputs": [
    {
     "data": {
      "text/plain": [
       "<module 'utils3.summary_statistics' from '/Users/zhenwei.jin/Documents/repos/genie/utils3/summary_statistics.py'>"
      ]
     },
     "execution_count": 38,
     "metadata": {},
     "output_type": "execute_result"
    }
   ],
   "source": [
    "reload(ss)"
   ]
  },
  {
   "cell_type": "code",
   "execution_count": 39,
   "metadata": {},
   "outputs": [],
   "source": [
    "# 这一步按月统计了变量的分布以及缺失率，这一步可以将字段先存储出去，观察不合格的变量，在下一步可以提前删除\n",
    "var_dist_badRate_by_time = ss.get_badRate_and_dist_by_time_sw(X_cat_train_with_y_appmon,sample_weight_train,\\\n",
    "                                                              selected,'applicationdate','y',var_dict)"
   ]
  },
  {
   "cell_type": "code",
   "execution_count": 40,
   "metadata": {},
   "outputs": [],
   "source": [
    "# 建议到这一步的时候讲数据存储出去，观察一下\n",
    "var_dist_badRate_by_time.to_excel(os.path.join(RESULT_PATH,'var_dist_badRate_by_time.xlsx'))"
   ]
  },
  {
   "cell_type": "code",
   "execution_count": 125,
   "metadata": {},
   "outputs": [],
   "source": [
    "# 通过观察var_dist_badRate_by_time.xlsx文件决定将按时间分布不稳定的变量删除\n",
    "exclusion_vars_by_time_dist_and_badrate = []"
   ]
  },
  {
   "cell_type": "markdown",
   "metadata": {},
   "source": [
    "# 将变量转化为XGBoost需要的形式"
   ]
  },
  {
   "cell_type": "markdown",
   "metadata": {},
   "source": [
    "## 保存最终留下的字段"
   ]
  },
  {
   "cell_type": "code",
   "execution_count": 126,
   "metadata": {},
   "outputs": [],
   "source": [
    "selected_final = list(set(selected) - set(exclusion_vars_by_time_dist_and_badrate))"
   ]
  },
  {
   "cell_type": "markdown",
   "metadata": {},
   "source": [
    "## 保存最终的rebin_spec"
   ]
  },
  {
   "cell_type": "code",
   "execution_count": 43,
   "metadata": {},
   "outputs": [],
   "source": [
    "rebin_spec_bin_adjusted_final = {k:v for k,v in rebin_spec_bin_adjusted.items() if k in selected_final}"
   ]
  },
  {
   "cell_type": "markdown",
   "metadata": {},
   "source": [
    "## 将训练集数据进行XGboost转换"
   ]
  },
  {
   "cell_type": "code",
   "execution_count": 127,
   "metadata": {},
   "outputs": [],
   "source": [
    "X_train_final = X_train[selected_final]\n",
    "X_cat_train_final = X_cat_train[selected_final]"
   ]
  },
  {
   "cell_type": "code",
   "execution_count": 128,
   "metadata": {},
   "outputs": [],
   "source": [
    "reload(mt)\n",
    "bin_obj = mt.BinWoe()"
   ]
  },
  {
   "cell_type": "code",
   "execution_count": 130,
   "metadata": {},
   "outputs": [],
   "source": [
    "# X_train_xgboost:xgboost最终衍生完成的所有变量的集合\n",
    "# rebin_spec_bin_adjusted_final:最终的分箱文件\n",
    "# bin_to_label:将分箱转化为标签的dict文件\n",
    "# dummy_var_name_map:转化为dummy的dict文件\n",
    "X_train_xgboost, rebin_spec_bin_adjusted_final, bin_to_label, dummy_var_name_map =\\\n",
    "bin_obj.xgboost_data_derive(X_train_final, y_train, var_dict\\\n",
    "                            ,rebin_spec_adjusted=rebin_spec\\\n",
    "                            , verbose=True)"
   ]
  },
  {
   "cell_type": "markdown",
   "metadata": {},
   "source": [
    "## 将测试集进行XGboost转转换"
   ]
  },
  {
   "cell_type": "code",
   "execution_count": 131,
   "metadata": {},
   "outputs": [],
   "source": [
    "X_test_final = X_test[selected_final]\n",
    "X_cat_test_final = X_cat_test[selected_final]"
   ]
  },
  {
   "cell_type": "code",
   "execution_count": 132,
   "metadata": {},
   "outputs": [],
   "source": [
    "X_test_xgboost = mt.BinWoe().apply_xgboost_data_derive(X_test_final,\n",
    "                                var_dict, rebin_spec_bin_adjusted_final, bin_to_label)"
   ]
  },
  {
   "cell_type": "markdown",
   "metadata": {},
   "source": [
    "## 对train和test数据以及dummy_var_name_map进行转换（部署中非常重要的一步）"
   ]
  },
  {
   "cell_type": "code",
   "execution_count": 133,
   "metadata": {},
   "outputs": [],
   "source": [
    "dummy_var_name_map = mu.xgb_dummy_var_name_map_manipulate(X_train_xgboost,X_test_xgboost,dummy_var_name_map)"
   ]
  },
  {
   "cell_type": "markdown",
   "metadata": {},
   "source": [
    "## 将训练集的调整后的分箱数据进行dummy并与之前衍生的数据进行合并（这一步可尝试做，现在看来增益不太大）"
   ]
  },
  {
   "cell_type": "code",
   "execution_count": 134,
   "metadata": {},
   "outputs": [],
   "source": [
    "X_train_xgboost_with_bin_dummy = bin_obj.convert_xgboost_rebins_to_dummy(X_train_xgboost,X_cat_train_final,dummy_var_name_map)"
   ]
  },
  {
   "cell_type": "code",
   "execution_count": 135,
   "metadata": {},
   "outputs": [
    {
     "data": {
      "text/plain": [
       "(14000, 194)"
      ]
     },
     "execution_count": 135,
     "metadata": {},
     "output_type": "execute_result"
    }
   ],
   "source": [
    "X_train_xgboost_with_bin_dummy.shape"
   ]
  },
  {
   "cell_type": "markdown",
   "metadata": {},
   "source": [
    "## 将测试集调整后的分箱数据进行dummy并与之前衍生的数据进行合并"
   ]
  },
  {
   "cell_type": "code",
   "execution_count": 136,
   "metadata": {},
   "outputs": [],
   "source": [
    "# is_apply = True,将原先train上边的映射逻辑应用\n",
    "X_test_xgboost_with_bin_dummy = bin_obj.convert_xgboost_rebins_to_dummy(X_test_xgboost,X_cat_test_final\\\n",
    "                                                                        ,dummy_var_name_map,is_apply=True)"
   ]
  },
  {
   "cell_type": "code",
   "execution_count": 137,
   "metadata": {},
   "outputs": [
    {
     "data": {
      "text/plain": [
       "(6000, 167)"
      ]
     },
     "execution_count": 137,
     "metadata": {},
     "output_type": "execute_result"
    }
   ],
   "source": [
    "X_test_xgboost_with_bin_dummy.shape"
   ]
  },
  {
   "cell_type": "markdown",
   "metadata": {},
   "source": [
    "## 在一些字符型变量中极其容易出现训练集和测试集中从未出现的取值，这时一定要小心，必要时刻可以将特殊取值进行取舍"
   ]
  },
  {
   "cell_type": "code",
   "execution_count": 138,
   "metadata": {},
   "outputs": [],
   "source": [
    "list_intersection=list(set(X_train_xgboost_with_bin_dummy.columns).intersection(set(X_test_xgboost_with_bin_dummy.columns)))"
   ]
  },
  {
   "cell_type": "code",
   "execution_count": 139,
   "metadata": {},
   "outputs": [],
   "source": [
    "X_train_xgboost_with_bin_dummy=X_train_xgboost_with_bin_dummy[list_intersection]"
   ]
  },
  {
   "cell_type": "code",
   "execution_count": 140,
   "metadata": {},
   "outputs": [],
   "source": [
    "X_test_xgboost_with_bin_dummy=X_test_xgboost_with_bin_dummy[list_intersection]"
   ]
  },
  {
   "cell_type": "code",
   "execution_count": 141,
   "metadata": {
    "scrolled": true
   },
   "outputs": [
    {
     "data": {
      "text/plain": [
       "((14000, 167), (6000, 167))"
      ]
     },
     "execution_count": 141,
     "metadata": {},
     "output_type": "execute_result"
    }
   ],
   "source": [
    "X_train_xgboost_with_bin_dummy.shape,X_test_xgboost_with_bin_dummy.shape"
   ]
  },
  {
   "cell_type": "markdown",
   "metadata": {},
   "source": [
    "## 将所有数据存储到Data_path中"
   ]
  },
  {
   "cell_type": "code",
   "execution_count": 142,
   "metadata": {},
   "outputs": [],
   "source": [
    "# 其中demo_xgb这个label很重要之后还会用到\n",
    "save_data_to_pickle({\n",
    "            'X_train_xgboost': X_train_xgboost_with_bin_dummy,\n",
    "            'X_test_xgboost': X_test_xgboost_with_bin_dummy,\n",
    "            'rebin_spec': rebin_spec_bin_adjusted_final,\n",
    "            'bin_to_label': bin_to_label,\n",
    "            'dummy_var_name_map': dummy_var_name_map}, DATA_PATH,\\\n",
    "        '%s_XGBoost输出数据和分箱明细.pkl' % 'demo_xgb')"
   ]
  },
  {
   "cell_type": "markdown",
   "metadata": {},
   "source": [
    "# 模型评估"
   ]
  },
  {
   "cell_type": "markdown",
   "metadata": {},
   "source": [
    "## XGboost参数设置"
   ]
  },
  {
   "cell_type": "code",
   "execution_count": 143,
   "metadata": {},
   "outputs": [],
   "source": [
    "# 调参方法，可自行选择\n",
    "xgbparams_selection_method = ['XGBExp', 'XGBRandom','XGBGrid']"
   ]
  },
  {
   "cell_type": "code",
   "execution_count": 144,
   "metadata": {},
   "outputs": [],
   "source": [
    "# 随机调参时刻的相关参数\n",
    "xgb_params_range = {\n",
    "            'learning_rate': [0.03, 0.05,0.1,0.2],\n",
    "            'max_depth': [2,3,4,5],\n",
    "            'gamma': [0, 0.05, 0.1],\n",
    "            'min_child_weight':[1,3],\n",
    "            # 'subsample': np.linspace(0.4, 0.7, 3),\n",
    "            # 'colsample_bytree': np.linspace(0.4, 0.7, 3),\n",
    "        }"
   ]
  },
  {
   "cell_type": "code",
   "execution_count": 145,
   "metadata": {},
   "outputs": [],
   "source": [
    "# 经验参数\n",
    "xgb_param_experience = {\n",
    "            'max_depth': 2,\n",
    "            'min_samples_leaf ': 200,\n",
    "             'eta': 0.1,\n",
    "             'objective': 'binary:logistic',\n",
    "             'subsample': 0.8,\n",
    "             'colsample_bytree': 0.8,\n",
    "             'gamma': 0,\n",
    "             'silent': 0,\n",
    "             'eval_metric':'auc'\n",
    "        }"
   ]
  },
  {
   "cell_type": "markdown",
   "metadata": {},
   "source": [
    "## 拟合模型"
   ]
  },
  {
   "cell_type": "code",
   "execution_count": 146,
   "metadata": {},
   "outputs": [
    {
     "data": {
      "text/html": [
       "<div>\n",
       "<style scoped>\n",
       "    .dataframe tbody tr th:only-of-type {\n",
       "        vertical-align: middle;\n",
       "    }\n",
       "\n",
       "    .dataframe tbody tr th {\n",
       "        vertical-align: top;\n",
       "    }\n",
       "\n",
       "    .dataframe thead th {\n",
       "        text-align: right;\n",
       "    }\n",
       "</style>\n",
       "<table border=\"1\" class=\"dataframe\">\n",
       "  <thead>\n",
       "    <tr style=\"text-align: right;\">\n",
       "      <th></th>\n",
       "      <th>split</th>\n",
       "      <th>total</th>\n",
       "      <th>good</th>\n",
       "      <th>bad</th>\n",
       "      <th>rate</th>\n",
       "      <th>dist</th>\n",
       "    </tr>\n",
       "  </thead>\n",
       "  <tbody>\n",
       "    <tr>\n",
       "      <th>0</th>\n",
       "      <td>train</td>\n",
       "      <td>105433.35</td>\n",
       "      <td>89138.89</td>\n",
       "      <td>16294.46</td>\n",
       "      <td>0.1545</td>\n",
       "      <td>0.7</td>\n",
       "    </tr>\n",
       "    <tr>\n",
       "      <th>1</th>\n",
       "      <td>test</td>\n",
       "      <td>46050.54</td>\n",
       "      <td>39213.58</td>\n",
       "      <td>6836.96</td>\n",
       "      <td>0.1485</td>\n",
       "      <td>0.3</td>\n",
       "    </tr>\n",
       "    <tr>\n",
       "      <th>2</th>\n",
       "      <td>sum</td>\n",
       "      <td>151483.89</td>\n",
       "      <td>128352.47</td>\n",
       "      <td>23131.42</td>\n",
       "      <td>0.1527</td>\n",
       "      <td>1.0</td>\n",
       "    </tr>\n",
       "  </tbody>\n",
       "</table>\n",
       "</div>"
      ],
      "text/plain": [
       "   split      total       good       bad    rate  dist\n",
       "0  train  105433.35   89138.89  16294.46  0.1545   0.7\n",
       "1   test   46050.54   39213.58   6836.96  0.1485   0.3\n",
       "2    sum  151483.89  128352.47  23131.42  0.1527   1.0"
      ]
     },
     "execution_count": 146,
     "metadata": {},
     "output_type": "execute_result"
    }
   ],
   "source": [
    "sample_split_summary = ss.sample_split_summary_sw(y_train,y_test,sample_weight)\n",
    "sample_split_summary"
   ]
  },
  {
   "cell_type": "code",
   "execution_count": 147,
   "metadata": {},
   "outputs": [
    {
     "data": {
      "text/plain": [
       "<module 'utils3.modeling' from '/Users/zhenwei.jin/Documents/repos/genie/utils3/modeling.py'>"
      ]
     },
     "execution_count": 147,
     "metadata": {},
     "output_type": "execute_result"
    }
   ],
   "source": [
    "reload(ml)"
   ]
  },
  {
   "cell_type": "code",
   "execution_count": 152,
   "metadata": {},
   "outputs": [],
   "source": [
    "xgbmodel_obj = ml.XGBModel_sw(var_dict, DATA_PATH, RESULT_PATH,\n",
    "                        'demo_xgb', y_train,\n",
    "                        y_test,sample_weight_train,sample_weight_test,\n",
    "                        params_selection_method=xgbparams_selection_method)"
   ]
  },
  {
   "cell_type": "markdown",
   "metadata": {},
   "source": [
    "由于时间原因，本次只跑经验参数"
   ]
  },
  {
   "cell_type": "code",
   "execution_count": 151,
   "metadata": {},
   "outputs": [],
   "source": [
    "xgbparams_selection_method = ['XGBExp']"
   ]
  },
  {
   "cell_type": "code",
   "execution_count": 153,
   "metadata": {},
   "outputs": [
    {
     "name": "stdout",
     "output_type": "stream",
     "text": [
      "[0]\ttrain-auc:0.642219\ttest-auc:0.633244\n",
      "[10]\ttrain-auc:0.684617\ttest-auc:0.664267\n",
      "[20]\ttrain-auc:0.699565\ttest-auc:0.673155\n",
      "[30]\ttrain-auc:0.71209\ttest-auc:0.679542\n",
      "[40]\ttrain-auc:0.723463\ttest-auc:0.68488\n",
      "[50]\ttrain-auc:0.73211\ttest-auc:0.688972\n",
      "[60]\ttrain-auc:0.738788\ttest-auc:0.691342\n",
      "[70]\ttrain-auc:0.744209\ttest-auc:0.692486\n",
      "[80]\ttrain-auc:0.748772\ttest-auc:0.693651\n",
      "[90]\ttrain-auc:0.753382\ttest-auc:0.693919\n",
      "[100]\ttrain-auc:0.757541\ttest-auc:0.69343\n",
      "[110]\ttrain-auc:0.761068\ttest-auc:0.693448\n",
      "[120]\ttrain-auc:0.764554\ttest-auc:0.693079\n",
      "[0]\ttrain-auc:0.621071\ttest-auc:0.616641\n",
      "[10]\ttrain-auc:0.670073\ttest-auc:0.657266\n",
      "[20]\ttrain-auc:0.681083\ttest-auc:0.665942\n",
      "[30]\ttrain-auc:0.690363\ttest-auc:0.673027\n",
      "[40]\ttrain-auc:0.698622\ttest-auc:0.678554\n",
      "[50]\ttrain-auc:0.706045\ttest-auc:0.683694\n",
      "[60]\ttrain-auc:0.711072\ttest-auc:0.687388\n",
      "[70]\ttrain-auc:0.715218\ttest-auc:0.690191\n",
      "[80]\ttrain-auc:0.719211\ttest-auc:0.693082\n",
      "[90]\ttrain-auc:0.722004\ttest-auc:0.694103\n",
      "[100]\ttrain-auc:0.724271\ttest-auc:0.695726\n",
      "[110]\ttrain-auc:0.726453\ttest-auc:0.696786\n",
      "[120]\ttrain-auc:0.72823\ttest-auc:0.697613\n",
      "[130]\ttrain-auc:0.729877\ttest-auc:0.698079\n",
      "[140]\ttrain-auc:0.731296\ttest-auc:0.698624\n",
      "[150]\ttrain-auc:0.732633\ttest-auc:0.699023\n",
      "[160]\ttrain-auc:0.734005\ttest-auc:0.699437\n",
      "[170]\ttrain-auc:0.735423\ttest-auc:0.699805\n",
      "[180]\ttrain-auc:0.73653\ttest-auc:0.699672\n",
      "[190]\ttrain-auc:0.737817\ttest-auc:0.699844\n",
      "[200]\ttrain-auc:0.739097\ttest-auc:0.700057\n",
      "[210]\ttrain-auc:0.740259\ttest-auc:0.700418\n",
      "[220]\ttrain-auc:0.741409\ttest-auc:0.700359\n",
      "[230]\ttrain-auc:0.742804\ttest-auc:0.70023\n",
      "[240]\ttrain-auc:0.743946\ttest-auc:0.700116\n"
     ]
    }
   ],
   "source": [
    "xgbmodel_obj.run(xgb_params_range, xgb_param_experience, xgb_select=False)"
   ]
  },
  {
   "cell_type": "markdown",
   "metadata": {},
   "source": [
    "### 查看XGBExp（经验参数）模型结果"
   ]
  },
  {
   "cell_type": "code",
   "execution_count": 154,
   "metadata": {},
   "outputs": [],
   "source": [
    "model_result_exp = load_data_from_pickle(DATA_PATH,\n",
    "                '%s模型结果.pkl' % ('demo_xgb'+'XGBExp'))"
   ]
  },
  {
   "cell_type": "code",
   "execution_count": 155,
   "metadata": {},
   "outputs": [],
   "source": [
    "plot_obj = ml.LogisticModel(var_dict=var_dict, y_train=y_train,\n",
    "                                    y_test=y_test)"
   ]
  },
  {
   "cell_type": "code",
   "execution_count": 156,
   "metadata": {},
   "outputs": [
    {
     "data": {
      "image/png": "[encoded data removed]",
      "text/plain": [
       "<matplotlib.figure.Figure at 0x118fac0f0>"
      ]
     },
     "metadata": {},
     "output_type": "display_data"
    },
    {
     "data": {
      "image/png": "[encoded data removed]",
      "text/plain": [
       "<matplotlib.figure.Figure at 0x118fac160>"
      ]
     },
     "metadata": {},
     "output_type": "display_data"
    },
    {
     "data": {
      "image/png": "[encoded data removed]",
      "text/plain": [
       "<matplotlib.figure.Figure at 0x122034e10>"
      ]
     },
     "metadata": {},
     "output_type": "display_data"
    },
    {
     "data": {
      "image/png": "[encoded data removed]",
      "text/plain": [
       "<matplotlib.figure.Figure at 0x1205864a8>"
      ]
     },
     "metadata": {},
     "output_type": "display_data"
    },
    {
     "data": {
      "image/png": "[encoded data removed]",
      "text/plain": [
       "<matplotlib.figure.Figure at 0x11594add8>"
      ]
     },
     "metadata": {},
     "output_type": "display_data"
    },
    {
     "data": {
      "image/png": "[encoded data removed]",
      "text/plain": [
       "<matplotlib.figure.Figure at 0x11f5e65f8>"
      ]
     },
     "metadata": {},
     "output_type": "display_data"
    }
   ],
   "source": [
    "plot_obj.plot_for_the_model_sw(sample_weight,y,RESULT_PATH,model_result_exp, with_test=True)"
   ]
  },
  {
   "cell_type": "markdown",
   "metadata": {},
   "source": [
    "### 查看XGBExp（经验参数）对应的每一颗决策树的决策点"
   ]
  },
  {
   "cell_type": "code",
   "execution_count": 157,
   "metadata": {},
   "outputs": [],
   "source": [
    "model_result_exp['model_final'].dump_model(RESULT_PATH+'/model_result_exp_trees.txt')"
   ]
  },
  {
   "cell_type": "markdown",
   "metadata": {},
   "source": [
    "### 查看XGBExp（经验参数）每一颗决策树对应的information和population"
   ]
  },
  {
   "cell_type": "code",
   "execution_count": 158,
   "metadata": {},
   "outputs": [],
   "source": [
    "train_model_result_exp_leafs = ss.get_xgboost_tree_leaf_dist_and_badRate(model_result_exp\\\n",
    "                                                                         ,X_train_xgboost_with_bin_dummy,y_train,'y')"
   ]
  },
  {
   "cell_type": "markdown",
   "metadata": {},
   "source": [
    "## 查看decile和Runbook"
   ]
  },
  {
   "cell_type": "code",
   "execution_count": 159,
   "metadata": {},
   "outputs": [],
   "source": [
    "train_XGBExp_score = model_result_exp['p_train'].apply(mt.Performance().p_to_score)\n",
    "test_XGBExp_score = model_result_exp['p_test'].apply(mt.Performance().p_to_score)"
   ]
  },
  {
   "cell_type": "code",
   "execution_count": 160,
   "metadata": {},
   "outputs": [
    {
     "data": {
      "text/html": [
       "<div>\n",
       "<style scoped>\n",
       "    .dataframe tbody tr th:only-of-type {\n",
       "        vertical-align: middle;\n",
       "    }\n",
       "\n",
       "    .dataframe tbody tr th {\n",
       "        vertical-align: top;\n",
       "    }\n",
       "\n",
       "    .dataframe thead th {\n",
       "        text-align: right;\n",
       "    }\n",
       "</style>\n",
       "<table border=\"1\" class=\"dataframe\">\n",
       "  <thead>\n",
       "    <tr style=\"text-align: right;\">\n",
       "      <th></th>\n",
       "      <th>分箱</th>\n",
       "      <th>样本数</th>\n",
       "      <th>好样本数</th>\n",
       "      <th>坏样本数</th>\n",
       "      <th>逾期率</th>\n",
       "      <th>Bad分布占比</th>\n",
       "      <th>Good分布占比</th>\n",
       "      <th>累积Bad占比</th>\n",
       "      <th>累积Good占比</th>\n",
       "      <th>KS</th>\n",
       "      <th>odds(good:bad)</th>\n",
       "    </tr>\n",
       "  </thead>\n",
       "  <tbody>\n",
       "    <tr>\n",
       "      <th>0</th>\n",
       "      <td>(-inf, 468.0]</td>\n",
       "      <td>10419.86</td>\n",
       "      <td>6123.73</td>\n",
       "      <td>4296.13</td>\n",
       "      <td>0.412302</td>\n",
       "      <td>0.263656</td>\n",
       "      <td>0.068699</td>\n",
       "      <td>0.263656</td>\n",
       "      <td>0.068699</td>\n",
       "      <td>1.949571e-01</td>\n",
       "      <td>1.425406</td>\n",
       "    </tr>\n",
       "    <tr>\n",
       "      <th>1</th>\n",
       "      <td>(468.0, 496.0]</td>\n",
       "      <td>10552.17</td>\n",
       "      <td>7972.51</td>\n",
       "      <td>2579.66</td>\n",
       "      <td>0.244467</td>\n",
       "      <td>0.158315</td>\n",
       "      <td>0.089439</td>\n",
       "      <td>0.421971</td>\n",
       "      <td>0.158138</td>\n",
       "      <td>2.638331e-01</td>\n",
       "      <td>3.090527</td>\n",
       "    </tr>\n",
       "    <tr>\n",
       "      <th>2</th>\n",
       "      <td>(496.0, 522.0]</td>\n",
       "      <td>10557.85</td>\n",
       "      <td>8240.75</td>\n",
       "      <td>2317.10</td>\n",
       "      <td>0.219467</td>\n",
       "      <td>0.142202</td>\n",
       "      <td>0.092448</td>\n",
       "      <td>0.564173</td>\n",
       "      <td>0.250586</td>\n",
       "      <td>3.135864e-01</td>\n",
       "      <td>3.556493</td>\n",
       "    </tr>\n",
       "    <tr>\n",
       "      <th>3</th>\n",
       "      <td>(522.0, 545.0]</td>\n",
       "      <td>10553.33</td>\n",
       "      <td>8762.07</td>\n",
       "      <td>1791.26</td>\n",
       "      <td>0.169734</td>\n",
       "      <td>0.109931</td>\n",
       "      <td>0.098297</td>\n",
       "      <td>0.674103</td>\n",
       "      <td>0.348883</td>\n",
       "      <td>3.252202e-01</td>\n",
       "      <td>4.891568</td>\n",
       "    </tr>\n",
       "    <tr>\n",
       "      <th>4</th>\n",
       "      <td>(545.0, 569.0]</td>\n",
       "      <td>10575.95</td>\n",
       "      <td>9061.42</td>\n",
       "      <td>1514.53</td>\n",
       "      <td>0.143205</td>\n",
       "      <td>0.092948</td>\n",
       "      <td>0.101655</td>\n",
       "      <td>0.767051</td>\n",
       "      <td>0.450538</td>\n",
       "      <td>3.165126e-01</td>\n",
       "      <td>5.982991</td>\n",
       "    </tr>\n",
       "    <tr>\n",
       "      <th>5</th>\n",
       "      <td>(569.0, 594.0]</td>\n",
       "      <td>10376.81</td>\n",
       "      <td>9171.85</td>\n",
       "      <td>1204.96</td>\n",
       "      <td>0.116120</td>\n",
       "      <td>0.073949</td>\n",
       "      <td>0.102894</td>\n",
       "      <td>0.841000</td>\n",
       "      <td>0.553432</td>\n",
       "      <td>2.875678e-01</td>\n",
       "      <td>7.611746</td>\n",
       "    </tr>\n",
       "    <tr>\n",
       "      <th>6</th>\n",
       "      <td>(594.0, 621.0]</td>\n",
       "      <td>10663.34</td>\n",
       "      <td>9617.28</td>\n",
       "      <td>1046.06</td>\n",
       "      <td>0.098099</td>\n",
       "      <td>0.064197</td>\n",
       "      <td>0.107891</td>\n",
       "      <td>0.905197</td>\n",
       "      <td>0.661323</td>\n",
       "      <td>2.438741e-01</td>\n",
       "      <td>9.193813</td>\n",
       "    </tr>\n",
       "    <tr>\n",
       "      <th>7</th>\n",
       "      <td>(621.0, 651.0]</td>\n",
       "      <td>10456.95</td>\n",
       "      <td>9687.17</td>\n",
       "      <td>769.78</td>\n",
       "      <td>0.073614</td>\n",
       "      <td>0.047242</td>\n",
       "      <td>0.108675</td>\n",
       "      <td>0.952439</td>\n",
       "      <td>0.769998</td>\n",
       "      <td>1.824409e-01</td>\n",
       "      <td>12.584336</td>\n",
       "    </tr>\n",
       "    <tr>\n",
       "      <th>8</th>\n",
       "      <td>(651.0, 693.0]</td>\n",
       "      <td>10613.66</td>\n",
       "      <td>10096.41</td>\n",
       "      <td>517.25</td>\n",
       "      <td>0.048734</td>\n",
       "      <td>0.031744</td>\n",
       "      <td>0.113266</td>\n",
       "      <td>0.984183</td>\n",
       "      <td>0.883264</td>\n",
       "      <td>1.009188e-01</td>\n",
       "      <td>19.519401</td>\n",
       "    </tr>\n",
       "    <tr>\n",
       "      <th>9</th>\n",
       "      <td>(693.0, inf]</td>\n",
       "      <td>10663.43</td>\n",
       "      <td>10405.70</td>\n",
       "      <td>257.73</td>\n",
       "      <td>0.024170</td>\n",
       "      <td>0.015817</td>\n",
       "      <td>0.116736</td>\n",
       "      <td>1.000000</td>\n",
       "      <td>1.000000</td>\n",
       "      <td>1.110223e-16</td>\n",
       "      <td>40.374423</td>\n",
       "    </tr>\n",
       "  </tbody>\n",
       "</table>\n",
       "</div>"
      ],
      "text/plain": [
       "               分箱       样本数      好样本数     坏样本数       逾期率   Bad分布占比  Good分布占比  \\\n",
       "0   (-inf, 468.0]  10419.86   6123.73  4296.13  0.412302  0.263656  0.068699   \n",
       "1  (468.0, 496.0]  10552.17   7972.51  2579.66  0.244467  0.158315  0.089439   \n",
       "2  (496.0, 522.0]  10557.85   8240.75  2317.10  0.219467  0.142202  0.092448   \n",
       "3  (522.0, 545.0]  10553.33   8762.07  1791.26  0.169734  0.109931  0.098297   \n",
       "4  (545.0, 569.0]  10575.95   9061.42  1514.53  0.143205  0.092948  0.101655   \n",
       "5  (569.0, 594.0]  10376.81   9171.85  1204.96  0.116120  0.073949  0.102894   \n",
       "6  (594.0, 621.0]  10663.34   9617.28  1046.06  0.098099  0.064197  0.107891   \n",
       "7  (621.0, 651.0]  10456.95   9687.17   769.78  0.073614  0.047242  0.108675   \n",
       "8  (651.0, 693.0]  10613.66  10096.41   517.25  0.048734  0.031744  0.113266   \n",
       "9    (693.0, inf]  10663.43  10405.70   257.73  0.024170  0.015817  0.116736   \n",
       "\n",
       "    累积Bad占比  累积Good占比            KS  odds(good:bad)  \n",
       "0  0.263656  0.068699  1.949571e-01        1.425406  \n",
       "1  0.421971  0.158138  2.638331e-01        3.090527  \n",
       "2  0.564173  0.250586  3.135864e-01        3.556493  \n",
       "3  0.674103  0.348883  3.252202e-01        4.891568  \n",
       "4  0.767051  0.450538  3.165126e-01        5.982991  \n",
       "5  0.841000  0.553432  2.875678e-01        7.611746  \n",
       "6  0.905197  0.661323  2.438741e-01        9.193813  \n",
       "7  0.952439  0.769998  1.824409e-01       12.584336  \n",
       "8  0.984183  0.883264  1.009188e-01       19.519401  \n",
       "9  1.000000  1.000000  1.110223e-16       40.374423  "
      ]
     },
     "execution_count": 160,
     "metadata": {},
     "output_type": "execute_result"
    }
   ],
   "source": [
    "# 训练集\n",
    "ks_decile_XGBExp_train = vp.get_decile_sw(train_XGBExp_score, sample_weight,y, 'decile',manual_cut_bounds=[])[1]\n",
    "ks_decile_XGBExp_train"
   ]
  },
  {
   "cell_type": "code",
   "execution_count": 162,
   "metadata": {},
   "outputs": [
    {
     "data": {
      "text/html": [
       "<div>\n",
       "<style scoped>\n",
       "    .dataframe tbody tr th:only-of-type {\n",
       "        vertical-align: middle;\n",
       "    }\n",
       "\n",
       "    .dataframe tbody tr th {\n",
       "        vertical-align: top;\n",
       "    }\n",
       "\n",
       "    .dataframe thead th {\n",
       "        text-align: right;\n",
       "    }\n",
       "</style>\n",
       "<table border=\"1\" class=\"dataframe\">\n",
       "  <thead>\n",
       "    <tr style=\"text-align: right;\">\n",
       "      <th></th>\n",
       "      <th>分箱</th>\n",
       "      <th>样本数</th>\n",
       "      <th>好样本数</th>\n",
       "      <th>坏样本数</th>\n",
       "      <th>逾期率</th>\n",
       "      <th>Bad分布占比</th>\n",
       "      <th>Good分布占比</th>\n",
       "      <th>累积Bad占比</th>\n",
       "      <th>累积Good占比</th>\n",
       "      <th>KS</th>\n",
       "      <th>odds(good:bad)</th>\n",
       "    </tr>\n",
       "  </thead>\n",
       "  <tbody>\n",
       "    <tr>\n",
       "      <th>0</th>\n",
       "      <td>(-inf, 468.0]</td>\n",
       "      <td>4173.70</td>\n",
       "      <td>2335.75</td>\n",
       "      <td>1837.95</td>\n",
       "      <td>0.440365</td>\n",
       "      <td>0.268826</td>\n",
       "      <td>0.059565</td>\n",
       "      <td>0.268826</td>\n",
       "      <td>0.059565</td>\n",
       "      <td>2.092608e-01</td>\n",
       "      <td>1.270845</td>\n",
       "    </tr>\n",
       "    <tr>\n",
       "      <th>1</th>\n",
       "      <td>(468.0, 496.0]</td>\n",
       "      <td>4348.70</td>\n",
       "      <td>3262.49</td>\n",
       "      <td>1086.21</td>\n",
       "      <td>0.249778</td>\n",
       "      <td>0.158873</td>\n",
       "      <td>0.083198</td>\n",
       "      <td>0.427699</td>\n",
       "      <td>0.142763</td>\n",
       "      <td>2.849361e-01</td>\n",
       "      <td>3.003554</td>\n",
       "    </tr>\n",
       "    <tr>\n",
       "      <th>2</th>\n",
       "      <td>(496.0, 522.0]</td>\n",
       "      <td>4573.32</td>\n",
       "      <td>3590.72</td>\n",
       "      <td>982.60</td>\n",
       "      <td>0.214855</td>\n",
       "      <td>0.143719</td>\n",
       "      <td>0.091568</td>\n",
       "      <td>0.571418</td>\n",
       "      <td>0.234331</td>\n",
       "      <td>3.370866e-01</td>\n",
       "      <td>3.654305</td>\n",
       "    </tr>\n",
       "    <tr>\n",
       "      <th>3</th>\n",
       "      <td>(522.0, 545.0]</td>\n",
       "      <td>4573.21</td>\n",
       "      <td>3845.27</td>\n",
       "      <td>727.94</td>\n",
       "      <td>0.159175</td>\n",
       "      <td>0.106471</td>\n",
       "      <td>0.098060</td>\n",
       "      <td>0.677889</td>\n",
       "      <td>0.332391</td>\n",
       "      <td>3.454983e-01</td>\n",
       "      <td>5.282400</td>\n",
       "    </tr>\n",
       "    <tr>\n",
       "      <th>4</th>\n",
       "      <td>(545.0, 569.0]</td>\n",
       "      <td>5098.75</td>\n",
       "      <td>4390.69</td>\n",
       "      <td>708.06</td>\n",
       "      <td>0.138869</td>\n",
       "      <td>0.103564</td>\n",
       "      <td>0.111969</td>\n",
       "      <td>0.781453</td>\n",
       "      <td>0.444359</td>\n",
       "      <td>3.370932e-01</td>\n",
       "      <td>6.201014</td>\n",
       "    </tr>\n",
       "    <tr>\n",
       "      <th>5</th>\n",
       "      <td>(569.0, 594.0]</td>\n",
       "      <td>4583.58</td>\n",
       "      <td>4052.18</td>\n",
       "      <td>531.40</td>\n",
       "      <td>0.115936</td>\n",
       "      <td>0.077725</td>\n",
       "      <td>0.103336</td>\n",
       "      <td>0.859177</td>\n",
       "      <td>0.547695</td>\n",
       "      <td>3.114817e-01</td>\n",
       "      <td>7.625480</td>\n",
       "    </tr>\n",
       "    <tr>\n",
       "      <th>6</th>\n",
       "      <td>(594.0, 621.0]</td>\n",
       "      <td>4684.18</td>\n",
       "      <td>4281.04</td>\n",
       "      <td>403.14</td>\n",
       "      <td>0.086064</td>\n",
       "      <td>0.058965</td>\n",
       "      <td>0.109172</td>\n",
       "      <td>0.918142</td>\n",
       "      <td>0.656868</td>\n",
       "      <td>2.612741e-01</td>\n",
       "      <td>10.619239</td>\n",
       "    </tr>\n",
       "    <tr>\n",
       "      <th>7</th>\n",
       "      <td>(621.0, 651.0]</td>\n",
       "      <td>4521.69</td>\n",
       "      <td>4250.10</td>\n",
       "      <td>271.59</td>\n",
       "      <td>0.060064</td>\n",
       "      <td>0.039724</td>\n",
       "      <td>0.108383</td>\n",
       "      <td>0.957866</td>\n",
       "      <td>0.765251</td>\n",
       "      <td>1.926146e-01</td>\n",
       "      <td>15.648956</td>\n",
       "    </tr>\n",
       "    <tr>\n",
       "      <th>8</th>\n",
       "      <td>(651.0, 693.0]</td>\n",
       "      <td>4632.67</td>\n",
       "      <td>4451.46</td>\n",
       "      <td>181.21</td>\n",
       "      <td>0.039116</td>\n",
       "      <td>0.026504</td>\n",
       "      <td>0.113518</td>\n",
       "      <td>0.984370</td>\n",
       "      <td>0.878770</td>\n",
       "      <td>1.056007e-01</td>\n",
       "      <td>24.565201</td>\n",
       "    </tr>\n",
       "    <tr>\n",
       "      <th>9</th>\n",
       "      <td>(693.0, inf]</td>\n",
       "      <td>4860.74</td>\n",
       "      <td>4753.88</td>\n",
       "      <td>106.86</td>\n",
       "      <td>0.021984</td>\n",
       "      <td>0.015630</td>\n",
       "      <td>0.121230</td>\n",
       "      <td>1.000000</td>\n",
       "      <td>1.000000</td>\n",
       "      <td>2.220446e-16</td>\n",
       "      <td>44.486992</td>\n",
       "    </tr>\n",
       "  </tbody>\n",
       "</table>\n",
       "</div>"
      ],
      "text/plain": [
       "               分箱      样本数     好样本数     坏样本数       逾期率   Bad分布占比  Good分布占比  \\\n",
       "0   (-inf, 468.0]  4173.70  2335.75  1837.95  0.440365  0.268826  0.059565   \n",
       "1  (468.0, 496.0]  4348.70  3262.49  1086.21  0.249778  0.158873  0.083198   \n",
       "2  (496.0, 522.0]  4573.32  3590.72   982.60  0.214855  0.143719  0.091568   \n",
       "3  (522.0, 545.0]  4573.21  3845.27   727.94  0.159175  0.106471  0.098060   \n",
       "4  (545.0, 569.0]  5098.75  4390.69   708.06  0.138869  0.103564  0.111969   \n",
       "5  (569.0, 594.0]  4583.58  4052.18   531.40  0.115936  0.077725  0.103336   \n",
       "6  (594.0, 621.0]  4684.18  4281.04   403.14  0.086064  0.058965  0.109172   \n",
       "7  (621.0, 651.0]  4521.69  4250.10   271.59  0.060064  0.039724  0.108383   \n",
       "8  (651.0, 693.0]  4632.67  4451.46   181.21  0.039116  0.026504  0.113518   \n",
       "9    (693.0, inf]  4860.74  4753.88   106.86  0.021984  0.015630  0.121230   \n",
       "\n",
       "    累积Bad占比  累积Good占比            KS  odds(good:bad)  \n",
       "0  0.268826  0.059565  2.092608e-01        1.270845  \n",
       "1  0.427699  0.142763  2.849361e-01        3.003554  \n",
       "2  0.571418  0.234331  3.370866e-01        3.654305  \n",
       "3  0.677889  0.332391  3.454983e-01        5.282400  \n",
       "4  0.781453  0.444359  3.370932e-01        6.201014  \n",
       "5  0.859177  0.547695  3.114817e-01        7.625480  \n",
       "6  0.918142  0.656868  2.612741e-01       10.619239  \n",
       "7  0.957866  0.765251  1.926146e-01       15.648956  \n",
       "8  0.984370  0.878770  1.056007e-01       24.565201  \n",
       "9  1.000000  1.000000  2.220446e-16       44.486992  "
      ]
     },
     "execution_count": 162,
     "metadata": {},
     "output_type": "execute_result"
    }
   ],
   "source": [
    "# 测试集\n",
    "point_bounds_XGBExp = vp.get_decile_sw(train_XGBExp_score, sample_weight,y, 'decile',manual_cut_bounds=[])[0]\n",
    "ks_decile_XGBExp_test = vp.get_decile_sw(test_XGBExp_score, sample_weight,y, 'decile',manual_cut_bounds=point_bounds_XGBExp)[1]\n",
    "ks_decile_XGBExp_test"
   ]
  },
  {
   "cell_type": "code",
   "execution_count": 164,
   "metadata": {},
   "outputs": [],
   "source": [
    "run_XGBExp_book = vp.get_decile_sw(pd.concat([train_XGBExp_score,test_XGBExp_score],join='outer'),sample_weight,y, 'runbook',manual_cut_bounds=[])[1]"
   ]
  },
  {
   "cell_type": "code",
   "execution_count": 165,
   "metadata": {},
   "outputs": [
    {
     "data": {
      "text/html": [
       "<div>\n",
       "<style scoped>\n",
       "    .dataframe tbody tr th:only-of-type {\n",
       "        vertical-align: middle;\n",
       "    }\n",
       "\n",
       "    .dataframe tbody tr th {\n",
       "        vertical-align: top;\n",
       "    }\n",
       "\n",
       "    .dataframe thead th {\n",
       "        text-align: right;\n",
       "    }\n",
       "</style>\n",
       "<table border=\"1\" class=\"dataframe\">\n",
       "  <thead>\n",
       "    <tr style=\"text-align: right;\">\n",
       "      <th></th>\n",
       "      <th>分箱</th>\n",
       "      <th>样本数</th>\n",
       "      <th>好样本数</th>\n",
       "      <th>坏样本数</th>\n",
       "      <th>逾期率</th>\n",
       "      <th>Bad分布占比</th>\n",
       "      <th>Good分布占比</th>\n",
       "      <th>累积Bad占比</th>\n",
       "      <th>累积Good占比</th>\n",
       "      <th>KS</th>\n",
       "      <th>odds(good:bad)</th>\n",
       "    </tr>\n",
       "  </thead>\n",
       "  <tbody>\n",
       "    <tr>\n",
       "      <th>0</th>\n",
       "      <td>(-inf, 444.0]</td>\n",
       "      <td>7562.52</td>\n",
       "      <td>3853.78</td>\n",
       "      <td>3708.74</td>\n",
       "      <td>0.490411</td>\n",
       "      <td>0.160333</td>\n",
       "      <td>0.030025</td>\n",
       "      <td>0.160333</td>\n",
       "      <td>0.030025</td>\n",
       "      <td>1.303085e-01</td>\n",
       "      <td>1.039108</td>\n",
       "    </tr>\n",
       "    <tr>\n",
       "      <th>1</th>\n",
       "      <td>(444.0, 469.0]</td>\n",
       "      <td>7551.72</td>\n",
       "      <td>4998.63</td>\n",
       "      <td>2553.09</td>\n",
       "      <td>0.338081</td>\n",
       "      <td>0.110373</td>\n",
       "      <td>0.038945</td>\n",
       "      <td>0.270707</td>\n",
       "      <td>0.068970</td>\n",
       "      <td>2.017372e-01</td>\n",
       "      <td>1.957875</td>\n",
       "    </tr>\n",
       "    <tr>\n",
       "      <th>2</th>\n",
       "      <td>(469.0, 483.0]</td>\n",
       "      <td>6893.71</td>\n",
       "      <td>5075.31</td>\n",
       "      <td>1818.40</td>\n",
       "      <td>0.263777</td>\n",
       "      <td>0.078612</td>\n",
       "      <td>0.039542</td>\n",
       "      <td>0.349318</td>\n",
       "      <td>0.108512</td>\n",
       "      <td>2.408069e-01</td>\n",
       "      <td>2.791086</td>\n",
       "    </tr>\n",
       "    <tr>\n",
       "      <th>3</th>\n",
       "      <td>(483.0, 497.0]</td>\n",
       "      <td>7973.86</td>\n",
       "      <td>6140.55</td>\n",
       "      <td>1833.31</td>\n",
       "      <td>0.229915</td>\n",
       "      <td>0.079256</td>\n",
       "      <td>0.047841</td>\n",
       "      <td>0.428575</td>\n",
       "      <td>0.156353</td>\n",
       "      <td>2.722218e-01</td>\n",
       "      <td>3.349434</td>\n",
       "    </tr>\n",
       "    <tr>\n",
       "      <th>4</th>\n",
       "      <td>(497.0, 511.0]</td>\n",
       "      <td>7825.79</td>\n",
       "      <td>5993.91</td>\n",
       "      <td>1831.88</td>\n",
       "      <td>0.234082</td>\n",
       "      <td>0.079194</td>\n",
       "      <td>0.046699</td>\n",
       "      <td>0.507769</td>\n",
       "      <td>0.203052</td>\n",
       "      <td>3.047174e-01</td>\n",
       "      <td>3.271999</td>\n",
       "    </tr>\n",
       "    <tr>\n",
       "      <th>5</th>\n",
       "      <td>(511.0, 523.0]</td>\n",
       "      <td>7601.74</td>\n",
       "      <td>6148.49</td>\n",
       "      <td>1453.25</td>\n",
       "      <td>0.191173</td>\n",
       "      <td>0.062826</td>\n",
       "      <td>0.047903</td>\n",
       "      <td>0.570595</td>\n",
       "      <td>0.250955</td>\n",
       "      <td>3.196401e-01</td>\n",
       "      <td>4.230855</td>\n",
       "    </tr>\n",
       "    <tr>\n",
       "      <th>6</th>\n",
       "      <td>(523.0, 534.0]</td>\n",
       "      <td>6878.57</td>\n",
       "      <td>5660.16</td>\n",
       "      <td>1218.41</td>\n",
       "      <td>0.177131</td>\n",
       "      <td>0.052673</td>\n",
       "      <td>0.044099</td>\n",
       "      <td>0.623268</td>\n",
       "      <td>0.295053</td>\n",
       "      <td>3.282149e-01</td>\n",
       "      <td>4.645530</td>\n",
       "    </tr>\n",
       "    <tr>\n",
       "      <th>7</th>\n",
       "      <td>(534.0, 546.0]</td>\n",
       "      <td>8292.12</td>\n",
       "      <td>6997.38</td>\n",
       "      <td>1294.74</td>\n",
       "      <td>0.156141</td>\n",
       "      <td>0.055973</td>\n",
       "      <td>0.054517</td>\n",
       "      <td>0.679241</td>\n",
       "      <td>0.349570</td>\n",
       "      <td>3.296712e-01</td>\n",
       "      <td>5.404467</td>\n",
       "    </tr>\n",
       "    <tr>\n",
       "      <th>8</th>\n",
       "      <td>(546.0, 558.0]</td>\n",
       "      <td>7465.90</td>\n",
       "      <td>6303.78</td>\n",
       "      <td>1162.12</td>\n",
       "      <td>0.155657</td>\n",
       "      <td>0.050240</td>\n",
       "      <td>0.049113</td>\n",
       "      <td>0.729481</td>\n",
       "      <td>0.398683</td>\n",
       "      <td>3.307980e-01</td>\n",
       "      <td>5.424380</td>\n",
       "    </tr>\n",
       "    <tr>\n",
       "      <th>9</th>\n",
       "      <td>(558.0, 569.0]</td>\n",
       "      <td>7380.91</td>\n",
       "      <td>6413.41</td>\n",
       "      <td>967.50</td>\n",
       "      <td>0.131081</td>\n",
       "      <td>0.041826</td>\n",
       "      <td>0.049967</td>\n",
       "      <td>0.771308</td>\n",
       "      <td>0.448651</td>\n",
       "      <td>3.226571e-01</td>\n",
       "      <td>6.628848</td>\n",
       "    </tr>\n",
       "    <tr>\n",
       "      <th>10</th>\n",
       "      <td>(569.0, 582.0]</td>\n",
       "      <td>7719.74</td>\n",
       "      <td>6744.46</td>\n",
       "      <td>975.28</td>\n",
       "      <td>0.126336</td>\n",
       "      <td>0.042163</td>\n",
       "      <td>0.052546</td>\n",
       "      <td>0.813470</td>\n",
       "      <td>0.501197</td>\n",
       "      <td>3.122733e-01</td>\n",
       "      <td>6.915409</td>\n",
       "    </tr>\n",
       "    <tr>\n",
       "      <th>11</th>\n",
       "      <td>(582.0, 594.0]</td>\n",
       "      <td>7240.65</td>\n",
       "      <td>6479.57</td>\n",
       "      <td>761.08</td>\n",
       "      <td>0.105112</td>\n",
       "      <td>0.032902</td>\n",
       "      <td>0.050483</td>\n",
       "      <td>0.846373</td>\n",
       "      <td>0.551680</td>\n",
       "      <td>2.946931e-01</td>\n",
       "      <td>8.513652</td>\n",
       "    </tr>\n",
       "    <tr>\n",
       "      <th>12</th>\n",
       "      <td>(594.0, 608.0]</td>\n",
       "      <td>7887.48</td>\n",
       "      <td>7061.98</td>\n",
       "      <td>825.50</td>\n",
       "      <td>0.104660</td>\n",
       "      <td>0.035687</td>\n",
       "      <td>0.055020</td>\n",
       "      <td>0.882060</td>\n",
       "      <td>0.606700</td>\n",
       "      <td>2.753602e-01</td>\n",
       "      <td>8.554791</td>\n",
       "    </tr>\n",
       "    <tr>\n",
       "      <th>13</th>\n",
       "      <td>(608.0, 621.0]</td>\n",
       "      <td>7460.04</td>\n",
       "      <td>6836.34</td>\n",
       "      <td>623.70</td>\n",
       "      <td>0.083605</td>\n",
       "      <td>0.026963</td>\n",
       "      <td>0.053262</td>\n",
       "      <td>0.909023</td>\n",
       "      <td>0.659962</td>\n",
       "      <td>2.490613e-01</td>\n",
       "      <td>10.960943</td>\n",
       "    </tr>\n",
       "    <tr>\n",
       "      <th>14</th>\n",
       "      <td>(621.0, 636.0]</td>\n",
       "      <td>7710.22</td>\n",
       "      <td>7112.06</td>\n",
       "      <td>598.16</td>\n",
       "      <td>0.077580</td>\n",
       "      <td>0.025859</td>\n",
       "      <td>0.055410</td>\n",
       "      <td>0.934883</td>\n",
       "      <td>0.715372</td>\n",
       "      <td>2.195101e-01</td>\n",
       "      <td>11.889896</td>\n",
       "    </tr>\n",
       "    <tr>\n",
       "      <th>15</th>\n",
       "      <td>(636.0, 652.0]</td>\n",
       "      <td>7731.10</td>\n",
       "      <td>7271.70</td>\n",
       "      <td>459.40</td>\n",
       "      <td>0.059422</td>\n",
       "      <td>0.019860</td>\n",
       "      <td>0.056654</td>\n",
       "      <td>0.954743</td>\n",
       "      <td>0.772027</td>\n",
       "      <td>1.827164e-01</td>\n",
       "      <td>15.828690</td>\n",
       "    </tr>\n",
       "    <tr>\n",
       "      <th>16</th>\n",
       "      <td>(652.0, 670.0]</td>\n",
       "      <td>7194.14</td>\n",
       "      <td>6822.89</td>\n",
       "      <td>371.25</td>\n",
       "      <td>0.051605</td>\n",
       "      <td>0.016050</td>\n",
       "      <td>0.053157</td>\n",
       "      <td>0.970793</td>\n",
       "      <td>0.825184</td>\n",
       "      <td>1.456086e-01</td>\n",
       "      <td>18.378155</td>\n",
       "    </tr>\n",
       "    <tr>\n",
       "      <th>17</th>\n",
       "      <td>(670.0, 694.0]</td>\n",
       "      <td>7844.91</td>\n",
       "      <td>7520.08</td>\n",
       "      <td>324.83</td>\n",
       "      <td>0.041406</td>\n",
       "      <td>0.014043</td>\n",
       "      <td>0.058589</td>\n",
       "      <td>0.984835</td>\n",
       "      <td>0.883773</td>\n",
       "      <td>1.010621e-01</td>\n",
       "      <td>23.150817</td>\n",
       "    </tr>\n",
       "    <tr>\n",
       "      <th>18</th>\n",
       "      <td>(694.0, 726.0]</td>\n",
       "      <td>7593.22</td>\n",
       "      <td>7368.68</td>\n",
       "      <td>224.54</td>\n",
       "      <td>0.029571</td>\n",
       "      <td>0.009707</td>\n",
       "      <td>0.057410</td>\n",
       "      <td>0.994542</td>\n",
       "      <td>0.941183</td>\n",
       "      <td>5.335951e-02</td>\n",
       "      <td>32.816781</td>\n",
       "    </tr>\n",
       "    <tr>\n",
       "      <th>19</th>\n",
       "      <td>(726.0, inf]</td>\n",
       "      <td>7675.55</td>\n",
       "      <td>7549.31</td>\n",
       "      <td>126.24</td>\n",
       "      <td>0.016447</td>\n",
       "      <td>0.005458</td>\n",
       "      <td>0.058817</td>\n",
       "      <td>1.000000</td>\n",
       "      <td>1.000000</td>\n",
       "      <td>-3.330669e-16</td>\n",
       "      <td>59.801252</td>\n",
       "    </tr>\n",
       "  </tbody>\n",
       "</table>\n",
       "</div>"
      ],
      "text/plain": [
       "                分箱      样本数     好样本数     坏样本数       逾期率   Bad分布占比  Good分布占比  \\\n",
       "0    (-inf, 444.0]  7562.52  3853.78  3708.74  0.490411  0.160333  0.030025   \n",
       "1   (444.0, 469.0]  7551.72  4998.63  2553.09  0.338081  0.110373  0.038945   \n",
       "2   (469.0, 483.0]  6893.71  5075.31  1818.40  0.263777  0.078612  0.039542   \n",
       "3   (483.0, 497.0]  7973.86  6140.55  1833.31  0.229915  0.079256  0.047841   \n",
       "4   (497.0, 511.0]  7825.79  5993.91  1831.88  0.234082  0.079194  0.046699   \n",
       "5   (511.0, 523.0]  7601.74  6148.49  1453.25  0.191173  0.062826  0.047903   \n",
       "6   (523.0, 534.0]  6878.57  5660.16  1218.41  0.177131  0.052673  0.044099   \n",
       "7   (534.0, 546.0]  8292.12  6997.38  1294.74  0.156141  0.055973  0.054517   \n",
       "8   (546.0, 558.0]  7465.90  6303.78  1162.12  0.155657  0.050240  0.049113   \n",
       "9   (558.0, 569.0]  7380.91  6413.41   967.50  0.131081  0.041826  0.049967   \n",
       "10  (569.0, 582.0]  7719.74  6744.46   975.28  0.126336  0.042163  0.052546   \n",
       "11  (582.0, 594.0]  7240.65  6479.57   761.08  0.105112  0.032902  0.050483   \n",
       "12  (594.0, 608.0]  7887.48  7061.98   825.50  0.104660  0.035687  0.055020   \n",
       "13  (608.0, 621.0]  7460.04  6836.34   623.70  0.083605  0.026963  0.053262   \n",
       "14  (621.0, 636.0]  7710.22  7112.06   598.16  0.077580  0.025859  0.055410   \n",
       "15  (636.0, 652.0]  7731.10  7271.70   459.40  0.059422  0.019860  0.056654   \n",
       "16  (652.0, 670.0]  7194.14  6822.89   371.25  0.051605  0.016050  0.053157   \n",
       "17  (670.0, 694.0]  7844.91  7520.08   324.83  0.041406  0.014043  0.058589   \n",
       "18  (694.0, 726.0]  7593.22  7368.68   224.54  0.029571  0.009707  0.057410   \n",
       "19    (726.0, inf]  7675.55  7549.31   126.24  0.016447  0.005458  0.058817   \n",
       "\n",
       "     累积Bad占比  累积Good占比            KS  odds(good:bad)  \n",
       "0   0.160333  0.030025  1.303085e-01        1.039108  \n",
       "1   0.270707  0.068970  2.017372e-01        1.957875  \n",
       "2   0.349318  0.108512  2.408069e-01        2.791086  \n",
       "3   0.428575  0.156353  2.722218e-01        3.349434  \n",
       "4   0.507769  0.203052  3.047174e-01        3.271999  \n",
       "5   0.570595  0.250955  3.196401e-01        4.230855  \n",
       "6   0.623268  0.295053  3.282149e-01        4.645530  \n",
       "7   0.679241  0.349570  3.296712e-01        5.404467  \n",
       "8   0.729481  0.398683  3.307980e-01        5.424380  \n",
       "9   0.771308  0.448651  3.226571e-01        6.628848  \n",
       "10  0.813470  0.501197  3.122733e-01        6.915409  \n",
       "11  0.846373  0.551680  2.946931e-01        8.513652  \n",
       "12  0.882060  0.606700  2.753602e-01        8.554791  \n",
       "13  0.909023  0.659962  2.490613e-01       10.960943  \n",
       "14  0.934883  0.715372  2.195101e-01       11.889896  \n",
       "15  0.954743  0.772027  1.827164e-01       15.828690  \n",
       "16  0.970793  0.825184  1.456086e-01       18.378155  \n",
       "17  0.984835  0.883773  1.010621e-01       23.150817  \n",
       "18  0.994542  0.941183  5.335951e-02       32.816781  \n",
       "19  1.000000  1.000000 -3.330669e-16       59.801252  "
      ]
     },
     "execution_count": 165,
     "metadata": {},
     "output_type": "execute_result"
    }
   ],
   "source": [
    "run_XGBExp_book"
   ]
  },
  {
   "cell_type": "markdown",
   "metadata": {},
   "source": [
    "# OOT数据验证"
   ]
  },
  {
   "cell_type": "markdown",
   "metadata": {},
   "source": [
    "## OOT数据增加sample_weight"
   ]
  },
  {
   "cell_type": "code",
   "execution_count": 168,
   "metadata": {},
   "outputs": [],
   "source": [
    "OOT_data=all_x_y[all_x_y['sample_set']=='OOT']"
   ]
  },
  {
   "cell_type": "code",
   "execution_count": 169,
   "metadata": {},
   "outputs": [],
   "source": [
    "sample_weight_oot={'Bad Channel':{'good_sample':8.64,'bad_sample':1},\\\n",
    "               'Good Channel':{'good_sample':14.27,'bad_sample':1},\\\n",
    "              'Normal Channel':{'good_sample':17.88,'bad_sample':1.2}}"
   ]
  },
  {
   "cell_type": "code",
   "execution_count": 170,
   "metadata": {},
   "outputs": [],
   "source": [
    "OOT_data=mt.BinWoe().add_sample_weight(OOT_data,segment_label,sample_weight_oot)"
   ]
  },
  {
   "cell_type": "code",
   "execution_count": 171,
   "metadata": {},
   "outputs": [],
   "source": [
    "OOT_data.index=OOT_data['apply_id']"
   ]
  },
  {
   "cell_type": "code",
   "execution_count": 172,
   "metadata": {},
   "outputs": [],
   "source": [
    "oot_y=OOT_data['y']\n",
    "sample_weight_oot=OOT_data['sample_weight']"
   ]
  },
  {
   "cell_type": "code",
   "execution_count": 174,
   "metadata": {},
   "outputs": [],
   "source": [
    "data_OOT_final_selected = OOT_data[selected_final]\n",
    "X_cat_OOT = bin_obj.convert_to_category(data_OOT_final_selected, var_dict, rebin_spec_bin_adjusted_final)"
   ]
  },
  {
   "cell_type": "code",
   "execution_count": 175,
   "metadata": {},
   "outputs": [],
   "source": [
    "data_OOT_final_xgboost = mt.BinWoe().apply_xgboost_data_derive(data_OOT_final_selected,\n",
    "                                var_dict, rebin_spec_bin_adjusted_final, bin_to_label)"
   ]
  },
  {
   "cell_type": "code",
   "execution_count": 176,
   "metadata": {},
   "outputs": [],
   "source": [
    "X_OOT_xgboost_with_bin_dummy = bin_obj.convert_xgboost_rebins_to_dummy(data_OOT_final_xgboost,X_cat_OOT\\\n",
    "                                                                        ,dummy_var_name_map,is_apply=True)"
   ]
  },
  {
   "cell_type": "code",
   "execution_count": 178,
   "metadata": {},
   "outputs": [],
   "source": [
    "X_OOT_xgboost_with_bin_dummy['xy_behaviorSuccessPayNumL1M_bin_dummy4']=0"
   ]
  },
  {
   "cell_type": "code",
   "execution_count": 179,
   "metadata": {},
   "outputs": [],
   "source": [
    "data_OOT_XGBExp_p_score = mt.Performance().calculate_score_by_xgb_model_result\\\n",
    "(X_OOT_xgboost_with_bin_dummy, model_result_exp)"
   ]
  },
  {
   "cell_type": "code",
   "execution_count": 180,
   "metadata": {},
   "outputs": [],
   "source": [
    "data_OOT_XGBExp = pd.merge(OOT_data,data_OOT_XGBExp_p_score\\\n",
    "                           ,left_index=True,right_index=True)"
   ]
  },
  {
   "cell_type": "code",
   "execution_count": 185,
   "metadata": {},
   "outputs": [],
   "source": [
    "# 生成runbook\n",
    "run_book_yzd_yyq_XGBExp_OOT = vp.get_decile_sw(data_OOT_XGBExp.xgbScore,sample_weight_oot\\\n",
    ",data_OOT_XGBExp.y, 'runbook',manual_cut_bounds=[])[1]"
   ]
  },
  {
   "cell_type": "code",
   "execution_count": 186,
   "metadata": {},
   "outputs": [
    {
     "data": {
      "text/html": [
       "<div>\n",
       "<style scoped>\n",
       "    .dataframe tbody tr th:only-of-type {\n",
       "        vertical-align: middle;\n",
       "    }\n",
       "\n",
       "    .dataframe tbody tr th {\n",
       "        vertical-align: top;\n",
       "    }\n",
       "\n",
       "    .dataframe thead th {\n",
       "        text-align: right;\n",
       "    }\n",
       "</style>\n",
       "<table border=\"1\" class=\"dataframe\">\n",
       "  <thead>\n",
       "    <tr style=\"text-align: right;\">\n",
       "      <th></th>\n",
       "      <th>分箱</th>\n",
       "      <th>样本数</th>\n",
       "      <th>好样本数</th>\n",
       "      <th>坏样本数</th>\n",
       "      <th>逾期率</th>\n",
       "      <th>Bad分布占比</th>\n",
       "      <th>Good分布占比</th>\n",
       "      <th>累积Bad占比</th>\n",
       "      <th>累积Good占比</th>\n",
       "      <th>KS</th>\n",
       "      <th>odds(good:bad)</th>\n",
       "    </tr>\n",
       "  </thead>\n",
       "  <tbody>\n",
       "    <tr>\n",
       "      <th>0</th>\n",
       "      <td>(-inf, 492.0]</td>\n",
       "      <td>879.71</td>\n",
       "      <td>765.11</td>\n",
       "      <td>114.6</td>\n",
       "      <td>0.130270</td>\n",
       "      <td>0.107565</td>\n",
       "      <td>0.044799</td>\n",
       "      <td>0.107565</td>\n",
       "      <td>0.044799</td>\n",
       "      <td>0.062766</td>\n",
       "      <td>6.676353</td>\n",
       "    </tr>\n",
       "    <tr>\n",
       "      <th>1</th>\n",
       "      <td>(492.0, 517.0]</td>\n",
       "      <td>929.08</td>\n",
       "      <td>847.68</td>\n",
       "      <td>81.4</td>\n",
       "      <td>0.087614</td>\n",
       "      <td>0.076403</td>\n",
       "      <td>0.049634</td>\n",
       "      <td>0.183968</td>\n",
       "      <td>0.094433</td>\n",
       "      <td>0.089536</td>\n",
       "      <td>10.413759</td>\n",
       "    </tr>\n",
       "    <tr>\n",
       "      <th>2</th>\n",
       "      <td>(517.0, 537.0]</td>\n",
       "      <td>864.82</td>\n",
       "      <td>792.62</td>\n",
       "      <td>72.2</td>\n",
       "      <td>0.083486</td>\n",
       "      <td>0.067768</td>\n",
       "      <td>0.046410</td>\n",
       "      <td>0.251736</td>\n",
       "      <td>0.140843</td>\n",
       "      <td>0.110894</td>\n",
       "      <td>10.978116</td>\n",
       "    </tr>\n",
       "    <tr>\n",
       "      <th>3</th>\n",
       "      <td>(537.0, 556.0]</td>\n",
       "      <td>934.86</td>\n",
       "      <td>841.66</td>\n",
       "      <td>93.2</td>\n",
       "      <td>0.099694</td>\n",
       "      <td>0.087479</td>\n",
       "      <td>0.049281</td>\n",
       "      <td>0.339215</td>\n",
       "      <td>0.190124</td>\n",
       "      <td>0.149091</td>\n",
       "      <td>9.030687</td>\n",
       "    </tr>\n",
       "    <tr>\n",
       "      <th>4</th>\n",
       "      <td>(556.0, 570.0]</td>\n",
       "      <td>808.34</td>\n",
       "      <td>726.34</td>\n",
       "      <td>82.0</td>\n",
       "      <td>0.101442</td>\n",
       "      <td>0.076966</td>\n",
       "      <td>0.042529</td>\n",
       "      <td>0.416182</td>\n",
       "      <td>0.232653</td>\n",
       "      <td>0.183529</td>\n",
       "      <td>8.857805</td>\n",
       "    </tr>\n",
       "    <tr>\n",
       "      <th>5</th>\n",
       "      <td>(570.0, 581.0]</td>\n",
       "      <td>987.97</td>\n",
       "      <td>914.17</td>\n",
       "      <td>73.8</td>\n",
       "      <td>0.074699</td>\n",
       "      <td>0.069270</td>\n",
       "      <td>0.053527</td>\n",
       "      <td>0.485451</td>\n",
       "      <td>0.286180</td>\n",
       "      <td>0.199272</td>\n",
       "      <td>12.387127</td>\n",
       "    </tr>\n",
       "    <tr>\n",
       "      <th>6</th>\n",
       "      <td>(581.0, 591.0]</td>\n",
       "      <td>939.68</td>\n",
       "      <td>888.68</td>\n",
       "      <td>51.0</td>\n",
       "      <td>0.054274</td>\n",
       "      <td>0.047869</td>\n",
       "      <td>0.052034</td>\n",
       "      <td>0.533321</td>\n",
       "      <td>0.338214</td>\n",
       "      <td>0.195107</td>\n",
       "      <td>17.425098</td>\n",
       "    </tr>\n",
       "    <tr>\n",
       "      <th>7</th>\n",
       "      <td>(591.0, 601.0]</td>\n",
       "      <td>907.66</td>\n",
       "      <td>846.86</td>\n",
       "      <td>60.8</td>\n",
       "      <td>0.066985</td>\n",
       "      <td>0.057068</td>\n",
       "      <td>0.049586</td>\n",
       "      <td>0.590389</td>\n",
       "      <td>0.387800</td>\n",
       "      <td>0.202589</td>\n",
       "      <td>13.928618</td>\n",
       "    </tr>\n",
       "    <tr>\n",
       "      <th>8</th>\n",
       "      <td>(601.0, 609.0]</td>\n",
       "      <td>910.97</td>\n",
       "      <td>865.77</td>\n",
       "      <td>45.2</td>\n",
       "      <td>0.049617</td>\n",
       "      <td>0.042425</td>\n",
       "      <td>0.050693</td>\n",
       "      <td>0.632814</td>\n",
       "      <td>0.438493</td>\n",
       "      <td>0.194321</td>\n",
       "      <td>19.154204</td>\n",
       "    </tr>\n",
       "    <tr>\n",
       "      <th>9</th>\n",
       "      <td>(609.0, 616.0]</td>\n",
       "      <td>905.16</td>\n",
       "      <td>866.76</td>\n",
       "      <td>38.4</td>\n",
       "      <td>0.042423</td>\n",
       "      <td>0.036043</td>\n",
       "      <td>0.050751</td>\n",
       "      <td>0.668857</td>\n",
       "      <td>0.489244</td>\n",
       "      <td>0.179613</td>\n",
       "      <td>22.571875</td>\n",
       "    </tr>\n",
       "    <tr>\n",
       "      <th>10</th>\n",
       "      <td>(616.0, 626.0]</td>\n",
       "      <td>795.66</td>\n",
       "      <td>753.46</td>\n",
       "      <td>42.2</td>\n",
       "      <td>0.053038</td>\n",
       "      <td>0.039610</td>\n",
       "      <td>0.044117</td>\n",
       "      <td>0.708466</td>\n",
       "      <td>0.533361</td>\n",
       "      <td>0.175105</td>\n",
       "      <td>17.854502</td>\n",
       "    </tr>\n",
       "    <tr>\n",
       "      <th>11</th>\n",
       "      <td>(626.0, 636.0]</td>\n",
       "      <td>941.34</td>\n",
       "      <td>898.14</td>\n",
       "      <td>43.2</td>\n",
       "      <td>0.045892</td>\n",
       "      <td>0.040548</td>\n",
       "      <td>0.052588</td>\n",
       "      <td>0.749014</td>\n",
       "      <td>0.585949</td>\n",
       "      <td>0.163065</td>\n",
       "      <td>20.790278</td>\n",
       "    </tr>\n",
       "    <tr>\n",
       "      <th>12</th>\n",
       "      <td>(636.0, 648.0]</td>\n",
       "      <td>970.01</td>\n",
       "      <td>919.41</td>\n",
       "      <td>50.6</td>\n",
       "      <td>0.052164</td>\n",
       "      <td>0.047494</td>\n",
       "      <td>0.053834</td>\n",
       "      <td>0.796508</td>\n",
       "      <td>0.639783</td>\n",
       "      <td>0.156725</td>\n",
       "      <td>18.170158</td>\n",
       "    </tr>\n",
       "    <tr>\n",
       "      <th>13</th>\n",
       "      <td>(648.0, 662.0]</td>\n",
       "      <td>918.98</td>\n",
       "      <td>868.78</td>\n",
       "      <td>50.2</td>\n",
       "      <td>0.054626</td>\n",
       "      <td>0.047118</td>\n",
       "      <td>0.050869</td>\n",
       "      <td>0.843627</td>\n",
       "      <td>0.690652</td>\n",
       "      <td>0.152975</td>\n",
       "      <td>17.306375</td>\n",
       "    </tr>\n",
       "    <tr>\n",
       "      <th>14</th>\n",
       "      <td>(662.0, 676.0]</td>\n",
       "      <td>871.16</td>\n",
       "      <td>822.36</td>\n",
       "      <td>48.8</td>\n",
       "      <td>0.056017</td>\n",
       "      <td>0.045804</td>\n",
       "      <td>0.048151</td>\n",
       "      <td>0.889431</td>\n",
       "      <td>0.738803</td>\n",
       "      <td>0.150628</td>\n",
       "      <td>16.851639</td>\n",
       "    </tr>\n",
       "    <tr>\n",
       "      <th>15</th>\n",
       "      <td>(676.0, 689.0]</td>\n",
       "      <td>943.81</td>\n",
       "      <td>919.41</td>\n",
       "      <td>24.4</td>\n",
       "      <td>0.025853</td>\n",
       "      <td>0.022902</td>\n",
       "      <td>0.053834</td>\n",
       "      <td>0.912333</td>\n",
       "      <td>0.792637</td>\n",
       "      <td>0.119696</td>\n",
       "      <td>37.680738</td>\n",
       "    </tr>\n",
       "    <tr>\n",
       "      <th>16</th>\n",
       "      <td>(689.0, 706.0]</td>\n",
       "      <td>893.78</td>\n",
       "      <td>863.58</td>\n",
       "      <td>30.2</td>\n",
       "      <td>0.033789</td>\n",
       "      <td>0.028346</td>\n",
       "      <td>0.050565</td>\n",
       "      <td>0.940680</td>\n",
       "      <td>0.843202</td>\n",
       "      <td>0.097478</td>\n",
       "      <td>28.595364</td>\n",
       "    </tr>\n",
       "    <tr>\n",
       "      <th>17</th>\n",
       "      <td>(706.0, 723.0]</td>\n",
       "      <td>911.50</td>\n",
       "      <td>888.90</td>\n",
       "      <td>22.6</td>\n",
       "      <td>0.024794</td>\n",
       "      <td>0.021213</td>\n",
       "      <td>0.052047</td>\n",
       "      <td>0.961892</td>\n",
       "      <td>0.895249</td>\n",
       "      <td>0.066643</td>\n",
       "      <td>39.331858</td>\n",
       "    </tr>\n",
       "    <tr>\n",
       "      <th>18</th>\n",
       "      <td>(723.0, 748.0]</td>\n",
       "      <td>856.86</td>\n",
       "      <td>837.06</td>\n",
       "      <td>19.8</td>\n",
       "      <td>0.023108</td>\n",
       "      <td>0.018585</td>\n",
       "      <td>0.049012</td>\n",
       "      <td>0.980477</td>\n",
       "      <td>0.944261</td>\n",
       "      <td>0.036216</td>\n",
       "      <td>42.275758</td>\n",
       "    </tr>\n",
       "    <tr>\n",
       "      <th>19</th>\n",
       "      <td>(748.0, inf]</td>\n",
       "      <td>972.75</td>\n",
       "      <td>951.95</td>\n",
       "      <td>20.8</td>\n",
       "      <td>0.021383</td>\n",
       "      <td>0.019523</td>\n",
       "      <td>0.055739</td>\n",
       "      <td>1.000000</td>\n",
       "      <td>1.000000</td>\n",
       "      <td>0.000000</td>\n",
       "      <td>45.766827</td>\n",
       "    </tr>\n",
       "  </tbody>\n",
       "</table>\n",
       "</div>"
      ],
      "text/plain": [
       "                分箱     样本数    好样本数   坏样本数       逾期率   Bad分布占比  Good分布占比  \\\n",
       "0    (-inf, 492.0]  879.71  765.11  114.6  0.130270  0.107565  0.044799   \n",
       "1   (492.0, 517.0]  929.08  847.68   81.4  0.087614  0.076403  0.049634   \n",
       "2   (517.0, 537.0]  864.82  792.62   72.2  0.083486  0.067768  0.046410   \n",
       "3   (537.0, 556.0]  934.86  841.66   93.2  0.099694  0.087479  0.049281   \n",
       "4   (556.0, 570.0]  808.34  726.34   82.0  0.101442  0.076966  0.042529   \n",
       "5   (570.0, 581.0]  987.97  914.17   73.8  0.074699  0.069270  0.053527   \n",
       "6   (581.0, 591.0]  939.68  888.68   51.0  0.054274  0.047869  0.052034   \n",
       "7   (591.0, 601.0]  907.66  846.86   60.8  0.066985  0.057068  0.049586   \n",
       "8   (601.0, 609.0]  910.97  865.77   45.2  0.049617  0.042425  0.050693   \n",
       "9   (609.0, 616.0]  905.16  866.76   38.4  0.042423  0.036043  0.050751   \n",
       "10  (616.0, 626.0]  795.66  753.46   42.2  0.053038  0.039610  0.044117   \n",
       "11  (626.0, 636.0]  941.34  898.14   43.2  0.045892  0.040548  0.052588   \n",
       "12  (636.0, 648.0]  970.01  919.41   50.6  0.052164  0.047494  0.053834   \n",
       "13  (648.0, 662.0]  918.98  868.78   50.2  0.054626  0.047118  0.050869   \n",
       "14  (662.0, 676.0]  871.16  822.36   48.8  0.056017  0.045804  0.048151   \n",
       "15  (676.0, 689.0]  943.81  919.41   24.4  0.025853  0.022902  0.053834   \n",
       "16  (689.0, 706.0]  893.78  863.58   30.2  0.033789  0.028346  0.050565   \n",
       "17  (706.0, 723.0]  911.50  888.90   22.6  0.024794  0.021213  0.052047   \n",
       "18  (723.0, 748.0]  856.86  837.06   19.8  0.023108  0.018585  0.049012   \n",
       "19    (748.0, inf]  972.75  951.95   20.8  0.021383  0.019523  0.055739   \n",
       "\n",
       "     累积Bad占比  累积Good占比        KS  odds(good:bad)  \n",
       "0   0.107565  0.044799  0.062766        6.676353  \n",
       "1   0.183968  0.094433  0.089536       10.413759  \n",
       "2   0.251736  0.140843  0.110894       10.978116  \n",
       "3   0.339215  0.190124  0.149091        9.030687  \n",
       "4   0.416182  0.232653  0.183529        8.857805  \n",
       "5   0.485451  0.286180  0.199272       12.387127  \n",
       "6   0.533321  0.338214  0.195107       17.425098  \n",
       "7   0.590389  0.387800  0.202589       13.928618  \n",
       "8   0.632814  0.438493  0.194321       19.154204  \n",
       "9   0.668857  0.489244  0.179613       22.571875  \n",
       "10  0.708466  0.533361  0.175105       17.854502  \n",
       "11  0.749014  0.585949  0.163065       20.790278  \n",
       "12  0.796508  0.639783  0.156725       18.170158  \n",
       "13  0.843627  0.690652  0.152975       17.306375  \n",
       "14  0.889431  0.738803  0.150628       16.851639  \n",
       "15  0.912333  0.792637  0.119696       37.680738  \n",
       "16  0.940680  0.843202  0.097478       28.595364  \n",
       "17  0.961892  0.895249  0.066643       39.331858  \n",
       "18  0.980477  0.944261  0.036216       42.275758  \n",
       "19  1.000000  1.000000  0.000000       45.766827  "
      ]
     },
     "execution_count": 186,
     "metadata": {},
     "output_type": "execute_result"
    }
   ],
   "source": [
    "run_book_yzd_yyq_XGBExp_OOT"
   ]
  },
  {
   "cell_type": "code",
   "execution_count": 188,
   "metadata": {},
   "outputs": [
    {
     "data": {
      "text/html": [
       "<div>\n",
       "<style scoped>\n",
       "    .dataframe tbody tr th:only-of-type {\n",
       "        vertical-align: middle;\n",
       "    }\n",
       "\n",
       "    .dataframe tbody tr th {\n",
       "        vertical-align: top;\n",
       "    }\n",
       "\n",
       "    .dataframe thead th {\n",
       "        text-align: right;\n",
       "    }\n",
       "</style>\n",
       "<table border=\"1\" class=\"dataframe\">\n",
       "  <thead>\n",
       "    <tr style=\"text-align: right;\">\n",
       "      <th></th>\n",
       "      <th>分箱</th>\n",
       "      <th>样本数</th>\n",
       "      <th>好样本数</th>\n",
       "      <th>坏样本数</th>\n",
       "      <th>逾期率</th>\n",
       "      <th>Bad分布占比</th>\n",
       "      <th>Good分布占比</th>\n",
       "      <th>累积Bad占比</th>\n",
       "      <th>累积Good占比</th>\n",
       "      <th>KS</th>\n",
       "      <th>odds(good:bad)</th>\n",
       "    </tr>\n",
       "  </thead>\n",
       "  <tbody>\n",
       "    <tr>\n",
       "      <th>0</th>\n",
       "      <td>(-inf, 468.0]</td>\n",
       "      <td>529.96</td>\n",
       "      <td>471.16</td>\n",
       "      <td>58.8</td>\n",
       "      <td>0.110952</td>\n",
       "      <td>0.055191</td>\n",
       "      <td>0.027588</td>\n",
       "      <td>0.055191</td>\n",
       "      <td>0.027588</td>\n",
       "      <td>2.760296e-02</td>\n",
       "      <td>8.012925</td>\n",
       "    </tr>\n",
       "    <tr>\n",
       "      <th>1</th>\n",
       "      <td>(468.0, 496.0]</td>\n",
       "      <td>465.82</td>\n",
       "      <td>397.02</td>\n",
       "      <td>68.8</td>\n",
       "      <td>0.147697</td>\n",
       "      <td>0.064577</td>\n",
       "      <td>0.023247</td>\n",
       "      <td>0.119767</td>\n",
       "      <td>0.050834</td>\n",
       "      <td>6.893314e-02</td>\n",
       "      <td>5.770640</td>\n",
       "    </tr>\n",
       "    <tr>\n",
       "      <th>2</th>\n",
       "      <td>(496.0, 522.0]</td>\n",
       "      <td>1002.61</td>\n",
       "      <td>917.61</td>\n",
       "      <td>85.0</td>\n",
       "      <td>0.084779</td>\n",
       "      <td>0.079782</td>\n",
       "      <td>0.053728</td>\n",
       "      <td>0.199549</td>\n",
       "      <td>0.104562</td>\n",
       "      <td>9.498706e-02</td>\n",
       "      <td>10.795412</td>\n",
       "    </tr>\n",
       "    <tr>\n",
       "      <th>3</th>\n",
       "      <td>(522.0, 545.0]</td>\n",
       "      <td>961.53</td>\n",
       "      <td>860.53</td>\n",
       "      <td>101.0</td>\n",
       "      <td>0.105041</td>\n",
       "      <td>0.094800</td>\n",
       "      <td>0.050386</td>\n",
       "      <td>0.294350</td>\n",
       "      <td>0.154949</td>\n",
       "      <td>1.394010e-01</td>\n",
       "      <td>8.520099</td>\n",
       "    </tr>\n",
       "    <tr>\n",
       "      <th>4</th>\n",
       "      <td>(545.0, 569.0]</td>\n",
       "      <td>1365.50</td>\n",
       "      <td>1241.30</td>\n",
       "      <td>124.2</td>\n",
       "      <td>0.090956</td>\n",
       "      <td>0.116576</td>\n",
       "      <td>0.072681</td>\n",
       "      <td>0.410925</td>\n",
       "      <td>0.227630</td>\n",
       "      <td>1.832957e-01</td>\n",
       "      <td>9.994364</td>\n",
       "    </tr>\n",
       "    <tr>\n",
       "      <th>5</th>\n",
       "      <td>(569.0, 594.0]</td>\n",
       "      <td>2351.26</td>\n",
       "      <td>2202.66</td>\n",
       "      <td>148.6</td>\n",
       "      <td>0.063200</td>\n",
       "      <td>0.139478</td>\n",
       "      <td>0.128971</td>\n",
       "      <td>0.550404</td>\n",
       "      <td>0.356601</td>\n",
       "      <td>1.938027e-01</td>\n",
       "      <td>14.822746</td>\n",
       "    </tr>\n",
       "    <tr>\n",
       "      <th>6</th>\n",
       "      <td>(594.0, 621.0]</td>\n",
       "      <td>2829.06</td>\n",
       "      <td>2677.86</td>\n",
       "      <td>151.2</td>\n",
       "      <td>0.053445</td>\n",
       "      <td>0.141919</td>\n",
       "      <td>0.156795</td>\n",
       "      <td>0.692322</td>\n",
       "      <td>0.513396</td>\n",
       "      <td>1.789259e-01</td>\n",
       "      <td>17.710714</td>\n",
       "    </tr>\n",
       "    <tr>\n",
       "      <th>7</th>\n",
       "      <td>(621.0, 651.0]</td>\n",
       "      <td>2414.54</td>\n",
       "      <td>2294.34</td>\n",
       "      <td>120.2</td>\n",
       "      <td>0.049782</td>\n",
       "      <td>0.112821</td>\n",
       "      <td>0.134339</td>\n",
       "      <td>0.805144</td>\n",
       "      <td>0.647735</td>\n",
       "      <td>1.574081e-01</td>\n",
       "      <td>19.087687</td>\n",
       "    </tr>\n",
       "    <tr>\n",
       "      <th>8</th>\n",
       "      <td>(651.0, 693.0]</td>\n",
       "      <td>2833.80</td>\n",
       "      <td>2707.00</td>\n",
       "      <td>126.8</td>\n",
       "      <td>0.044746</td>\n",
       "      <td>0.119016</td>\n",
       "      <td>0.158502</td>\n",
       "      <td>0.924160</td>\n",
       "      <td>0.806237</td>\n",
       "      <td>1.179229e-01</td>\n",
       "      <td>21.348580</td>\n",
       "    </tr>\n",
       "    <tr>\n",
       "      <th>9</th>\n",
       "      <td>(693.0, inf]</td>\n",
       "      <td>3390.02</td>\n",
       "      <td>3309.22</td>\n",
       "      <td>80.8</td>\n",
       "      <td>0.023835</td>\n",
       "      <td>0.075840</td>\n",
       "      <td>0.193763</td>\n",
       "      <td>1.000000</td>\n",
       "      <td>1.000000</td>\n",
       "      <td>-1.110223e-16</td>\n",
       "      <td>40.955693</td>\n",
       "    </tr>\n",
       "  </tbody>\n",
       "</table>\n",
       "</div>"
      ],
      "text/plain": [
       "               分箱      样本数     好样本数   坏样本数       逾期率   Bad分布占比  Good分布占比  \\\n",
       "0   (-inf, 468.0]   529.96   471.16   58.8  0.110952  0.055191  0.027588   \n",
       "1  (468.0, 496.0]   465.82   397.02   68.8  0.147697  0.064577  0.023247   \n",
       "2  (496.0, 522.0]  1002.61   917.61   85.0  0.084779  0.079782  0.053728   \n",
       "3  (522.0, 545.0]   961.53   860.53  101.0  0.105041  0.094800  0.050386   \n",
       "4  (545.0, 569.0]  1365.50  1241.30  124.2  0.090956  0.116576  0.072681   \n",
       "5  (569.0, 594.0]  2351.26  2202.66  148.6  0.063200  0.139478  0.128971   \n",
       "6  (594.0, 621.0]  2829.06  2677.86  151.2  0.053445  0.141919  0.156795   \n",
       "7  (621.0, 651.0]  2414.54  2294.34  120.2  0.049782  0.112821  0.134339   \n",
       "8  (651.0, 693.0]  2833.80  2707.00  126.8  0.044746  0.119016  0.158502   \n",
       "9    (693.0, inf]  3390.02  3309.22   80.8  0.023835  0.075840  0.193763   \n",
       "\n",
       "    累积Bad占比  累积Good占比            KS  odds(good:bad)  \n",
       "0  0.055191  0.027588  2.760296e-02        8.012925  \n",
       "1  0.119767  0.050834  6.893314e-02        5.770640  \n",
       "2  0.199549  0.104562  9.498706e-02       10.795412  \n",
       "3  0.294350  0.154949  1.394010e-01        8.520099  \n",
       "4  0.410925  0.227630  1.832957e-01        9.994364  \n",
       "5  0.550404  0.356601  1.938027e-01       14.822746  \n",
       "6  0.692322  0.513396  1.789259e-01       17.710714  \n",
       "7  0.805144  0.647735  1.574081e-01       19.087687  \n",
       "8  0.924160  0.806237  1.179229e-01       21.348580  \n",
       "9  1.000000  1.000000 -1.110223e-16       40.955693  "
      ]
     },
     "execution_count": 188,
     "metadata": {},
     "output_type": "execute_result"
    }
   ],
   "source": [
    "# 生成decile\n",
    "ks_decile_OOT_XGBExp_yzd_yyq = vp.get_decile_sw(data_OOT_XGBExp.xgbScore\\\n",
    "                                                         ,sample_weight_oot, data_OOT_XGBExp.y, 'decile', \\\n",
    "                                                         manual_cut_bounds=point_bounds_XGBExp)[1]\n",
    "ks_decile_OOT_XGBExp_yzd_yyq"
   ]
  },
  {
   "cell_type": "markdown",
   "metadata": {},
   "source": [
    "# OOT PSI以及ranking验证"
   ]
  },
  {
   "cell_type": "markdown",
   "metadata": {},
   "source": [
    "## OOT样本每个变量的ranking"
   ]
  },
  {
   "cell_type": "code",
   "execution_count": 196,
   "metadata": {},
   "outputs": [],
   "source": [
    "# 合并y数据为后续统计做准备\n",
    "data_OOT_final_xgboost_yzd_yyq_with_y = pd.merge(data_OOT_XGBExp\\\n",
    "                                                 ,OOT_data[['y']],left_index=True,right_index=True)"
   ]
  },
  {
   "cell_type": "code",
   "execution_count": 193,
   "metadata": {},
   "outputs": [],
   "source": [
    "score_ranking_train_vs_oot_XGBExp = mt.Performance().score_ranking_psi_train_vs_oot\\\n",
    "(ks_decile_XGBExp_train,ks_decile_OOT_XGBExp_yzd_yyq)"
   ]
  },
  {
   "cell_type": "code",
   "execution_count": 194,
   "metadata": {},
   "outputs": [
    {
     "data": {
      "text/html": [
       "<div>\n",
       "<style scoped>\n",
       "    .dataframe tbody tr th:only-of-type {\n",
       "        vertical-align: middle;\n",
       "    }\n",
       "\n",
       "    .dataframe tbody tr th {\n",
       "        vertical-align: top;\n",
       "    }\n",
       "\n",
       "    .dataframe thead th {\n",
       "        text-align: right;\n",
       "    }\n",
       "</style>\n",
       "<table border=\"1\" class=\"dataframe\">\n",
       "  <thead>\n",
       "    <tr style=\"text-align: right;\">\n",
       "      <th></th>\n",
       "      <th>分箱</th>\n",
       "      <th>train_set样本量</th>\n",
       "      <th>train_set逾期率</th>\n",
       "      <th>train_set分布占比</th>\n",
       "      <th>OOT_set样本量</th>\n",
       "      <th>OOT_set逾期率</th>\n",
       "      <th>OOT_set分布占比</th>\n",
       "      <th>数据源</th>\n",
       "      <th>指标英文</th>\n",
       "      <th>指标中文</th>\n",
       "      <th>指标类型</th>\n",
       "      <th>分箱对应原始分类</th>\n",
       "      <th>PSI</th>\n",
       "    </tr>\n",
       "  </thead>\n",
       "  <tbody>\n",
       "    <tr>\n",
       "      <th>0</th>\n",
       "      <td>(-inf, 468.0]</td>\n",
       "      <td>10419.86</td>\n",
       "      <td>0.412302</td>\n",
       "      <td>0.098829</td>\n",
       "      <td>529.96</td>\n",
       "      <td>0.110952</td>\n",
       "      <td>0.029208</td>\n",
       "      <td>模型分</td>\n",
       "      <td>modelScore</td>\n",
       "      <td>模型分</td>\n",
       "      <td>/</td>\n",
       "      <td>None</td>\n",
       "      <td>0.084863</td>\n",
       "    </tr>\n",
       "    <tr>\n",
       "      <th>1</th>\n",
       "      <td>(468.0, 496.0]</td>\n",
       "      <td>10552.17</td>\n",
       "      <td>0.244467</td>\n",
       "      <td>0.100084</td>\n",
       "      <td>465.82</td>\n",
       "      <td>0.147697</td>\n",
       "      <td>0.025673</td>\n",
       "      <td>模型分</td>\n",
       "      <td>modelScore</td>\n",
       "      <td>模型分</td>\n",
       "      <td>/</td>\n",
       "      <td>None</td>\n",
       "      <td>0.101239</td>\n",
       "    </tr>\n",
       "    <tr>\n",
       "      <th>2</th>\n",
       "      <td>(496.0, 522.0]</td>\n",
       "      <td>10557.85</td>\n",
       "      <td>0.219467</td>\n",
       "      <td>0.100138</td>\n",
       "      <td>1002.61</td>\n",
       "      <td>0.084779</td>\n",
       "      <td>0.055258</td>\n",
       "      <td>模型分</td>\n",
       "      <td>modelScore</td>\n",
       "      <td>模型分</td>\n",
       "      <td>/</td>\n",
       "      <td>None</td>\n",
       "      <td>0.026682</td>\n",
       "    </tr>\n",
       "    <tr>\n",
       "      <th>3</th>\n",
       "      <td>(522.0, 545.0]</td>\n",
       "      <td>10553.33</td>\n",
       "      <td>0.169734</td>\n",
       "      <td>0.100095</td>\n",
       "      <td>961.53</td>\n",
       "      <td>0.105041</td>\n",
       "      <td>0.052994</td>\n",
       "      <td>模型分</td>\n",
       "      <td>modelScore</td>\n",
       "      <td>模型分</td>\n",
       "      <td>/</td>\n",
       "      <td>None</td>\n",
       "      <td>0.029953</td>\n",
       "    </tr>\n",
       "    <tr>\n",
       "      <th>4</th>\n",
       "      <td>(545.0, 569.0]</td>\n",
       "      <td>10575.95</td>\n",
       "      <td>0.143205</td>\n",
       "      <td>0.100309</td>\n",
       "      <td>1365.50</td>\n",
       "      <td>0.090956</td>\n",
       "      <td>0.075259</td>\n",
       "      <td>模型分</td>\n",
       "      <td>modelScore</td>\n",
       "      <td>模型分</td>\n",
       "      <td>/</td>\n",
       "      <td>None</td>\n",
       "      <td>0.007198</td>\n",
       "    </tr>\n",
       "    <tr>\n",
       "      <th>5</th>\n",
       "      <td>(569.0, 594.0]</td>\n",
       "      <td>10376.81</td>\n",
       "      <td>0.116120</td>\n",
       "      <td>0.098421</td>\n",
       "      <td>2351.26</td>\n",
       "      <td>0.063200</td>\n",
       "      <td>0.129588</td>\n",
       "      <td>模型分</td>\n",
       "      <td>modelScore</td>\n",
       "      <td>模型分</td>\n",
       "      <td>/</td>\n",
       "      <td>None</td>\n",
       "      <td>0.008575</td>\n",
       "    </tr>\n",
       "    <tr>\n",
       "      <th>6</th>\n",
       "      <td>(594.0, 621.0]</td>\n",
       "      <td>10663.34</td>\n",
       "      <td>0.098099</td>\n",
       "      <td>0.101138</td>\n",
       "      <td>2829.06</td>\n",
       "      <td>0.053445</td>\n",
       "      <td>0.155922</td>\n",
       "      <td>模型分</td>\n",
       "      <td>modelScore</td>\n",
       "      <td>模型分</td>\n",
       "      <td>/</td>\n",
       "      <td>None</td>\n",
       "      <td>0.023714</td>\n",
       "    </tr>\n",
       "    <tr>\n",
       "      <th>7</th>\n",
       "      <td>(621.0, 651.0]</td>\n",
       "      <td>10456.95</td>\n",
       "      <td>0.073614</td>\n",
       "      <td>0.099181</td>\n",
       "      <td>2414.54</td>\n",
       "      <td>0.049782</td>\n",
       "      <td>0.133076</td>\n",
       "      <td>模型分</td>\n",
       "      <td>modelScore</td>\n",
       "      <td>模型分</td>\n",
       "      <td>/</td>\n",
       "      <td>None</td>\n",
       "      <td>0.009964</td>\n",
       "    </tr>\n",
       "    <tr>\n",
       "      <th>8</th>\n",
       "      <td>(651.0, 693.0]</td>\n",
       "      <td>10613.66</td>\n",
       "      <td>0.048734</td>\n",
       "      <td>0.100667</td>\n",
       "      <td>2833.80</td>\n",
       "      <td>0.044746</td>\n",
       "      <td>0.156183</td>\n",
       "      <td>模型分</td>\n",
       "      <td>modelScore</td>\n",
       "      <td>模型分</td>\n",
       "      <td>/</td>\n",
       "      <td>None</td>\n",
       "      <td>0.024383</td>\n",
       "    </tr>\n",
       "    <tr>\n",
       "      <th>9</th>\n",
       "      <td>(693.0, inf]</td>\n",
       "      <td>10663.43</td>\n",
       "      <td>0.024170</td>\n",
       "      <td>0.101139</td>\n",
       "      <td>3390.02</td>\n",
       "      <td>0.023835</td>\n",
       "      <td>0.186839</td>\n",
       "      <td>模型分</td>\n",
       "      <td>modelScore</td>\n",
       "      <td>模型分</td>\n",
       "      <td>/</td>\n",
       "      <td>None</td>\n",
       "      <td>0.052598</td>\n",
       "    </tr>\n",
       "  </tbody>\n",
       "</table>\n",
       "</div>"
      ],
      "text/plain": [
       "               分箱  train_set样本量  train_set逾期率  train_set分布占比  OOT_set样本量  \\\n",
       "0   (-inf, 468.0]      10419.86      0.412302       0.098829      529.96   \n",
       "1  (468.0, 496.0]      10552.17      0.244467       0.100084      465.82   \n",
       "2  (496.0, 522.0]      10557.85      0.219467       0.100138     1002.61   \n",
       "3  (522.0, 545.0]      10553.33      0.169734       0.100095      961.53   \n",
       "4  (545.0, 569.0]      10575.95      0.143205       0.100309     1365.50   \n",
       "5  (569.0, 594.0]      10376.81      0.116120       0.098421     2351.26   \n",
       "6  (594.0, 621.0]      10663.34      0.098099       0.101138     2829.06   \n",
       "7  (621.0, 651.0]      10456.95      0.073614       0.099181     2414.54   \n",
       "8  (651.0, 693.0]      10613.66      0.048734       0.100667     2833.80   \n",
       "9    (693.0, inf]      10663.43      0.024170       0.101139     3390.02   \n",
       "\n",
       "   OOT_set逾期率  OOT_set分布占比  数据源        指标英文 指标中文 指标类型 分箱对应原始分类       PSI  \n",
       "0    0.110952     0.029208  模型分  modelScore  模型分    /     None  0.084863  \n",
       "1    0.147697     0.025673  模型分  modelScore  模型分    /     None  0.101239  \n",
       "2    0.084779     0.055258  模型分  modelScore  模型分    /     None  0.026682  \n",
       "3    0.105041     0.052994  模型分  modelScore  模型分    /     None  0.029953  \n",
       "4    0.090956     0.075259  模型分  modelScore  模型分    /     None  0.007198  \n",
       "5    0.063200     0.129588  模型分  modelScore  模型分    /     None  0.008575  \n",
       "6    0.053445     0.155922  模型分  modelScore  模型分    /     None  0.023714  \n",
       "7    0.049782     0.133076  模型分  modelScore  模型分    /     None  0.009964  \n",
       "8    0.044746     0.156183  模型分  modelScore  模型分    /     None  0.024383  \n",
       "9    0.023835     0.186839  模型分  modelScore  模型分    /     None  0.052598  "
      ]
     },
     "execution_count": 194,
     "metadata": {},
     "output_type": "execute_result"
    }
   ],
   "source": [
    "score_ranking_train_vs_oot_XGBExp"
   ]
  },
  {
   "cell_type": "code",
   "execution_count": 198,
   "metadata": {},
   "outputs": [],
   "source": [
    "oot_model_result_exp_leafs = ss.get_xgboost_tree_leaf_dist_and_badRate(model_result_exp\\\n",
    "                                                                       ,X_OOT_xgboost_with_bin_dummy\\\n",
    "                                                                       ,oot_y,'y')"
   ]
  },
  {
   "cell_type": "code",
   "execution_count": 200,
   "metadata": {},
   "outputs": [],
   "source": [
    "train_oot_leafs_exp_psi_badRate = ss.compare_train_OOT_leaf_psi_and_badRate(train_model_result_exp_leafs,'train',\\\n",
    "                                                                       oot_model_result_exp_leafs,'oot')"
   ]
  },
  {
   "cell_type": "markdown",
   "metadata": {},
   "source": [
    "# 模型部署"
   ]
  },
  {
   "cell_type": "code",
   "execution_count": 201,
   "metadata": {},
   "outputs": [],
   "source": [
    "import utils3.deploy as dp "
   ]
  },
  {
   "cell_type": "markdown",
   "metadata": {},
   "source": [
    "## 生成XGBExp模型部署文档"
   ]
  },
  {
   "cell_type": "code",
   "execution_count": 203,
   "metadata": {},
   "outputs": [],
   "source": [
    "# 引入模型的分箱明细\n",
    "model_spec = load_data_from_pickle(DATA_PATH,'%s_XGBoost输出数据和分箱明细.pkl' % 'demo_xgb')"
   ]
  },
  {
   "cell_type": "code",
   "execution_count": 207,
   "metadata": {},
   "outputs": [],
   "source": [
    "xgb_importance_Exp = pd.read_excel(RESULT_PATH+'/demo_xgbXGBExp模型变量重要性排序.xlsx')"
   ]
  },
  {
   "cell_type": "code",
   "execution_count": 209,
   "metadata": {},
   "outputs": [],
   "source": [
    "# shift+table查看每个参数含义\n",
    "dp.generate_xgb_deployment_documents('demoEXP', 'EXPhasoverdue', summary,model_spec,xgb_importance_Exp,\n",
    "                                      var_dict,ks_decile_XGBExp_train,model_result_exp,RESULT_PATH\n",
    "                                      , production_name_map={'riskGrade':'rg'})"
   ]
  },
  {
   "cell_type": "code",
   "execution_count": 210,
   "metadata": {},
   "outputs": [
    {
     "data": {
      "text/html": [
       "<div>\n",
       "<style scoped>\n",
       "    .dataframe tbody tr th:only-of-type {\n",
       "        vertical-align: middle;\n",
       "    }\n",
       "\n",
       "    .dataframe tbody tr th {\n",
       "        vertical-align: top;\n",
       "    }\n",
       "\n",
       "    .dataframe thead th {\n",
       "        text-align: right;\n",
       "    }\n",
       "</style>\n",
       "<table border=\"1\" class=\"dataframe\">\n",
       "  <thead>\n",
       "    <tr style=\"text-align: right;\">\n",
       "      <th></th>\n",
       "      <th>importance</th>\n",
       "    </tr>\n",
       "  </thead>\n",
       "  <tbody>\n",
       "    <tr>\n",
       "      <th>xy_behaviorFailPayNumHist</th>\n",
       "      <td>75</td>\n",
       "    </tr>\n",
       "    <tr>\n",
       "      <th>tongdun12MIdMultiLoanNumPf</th>\n",
       "      <td>54</td>\n",
       "    </tr>\n",
       "    <tr>\n",
       "      <th>tencentScore_new</th>\n",
       "      <td>53</td>\n",
       "    </tr>\n",
       "    <tr>\n",
       "      <th>nike700Score</th>\n",
       "      <td>39</td>\n",
       "    </tr>\n",
       "    <tr>\n",
       "      <th>ym_credit_score_big</th>\n",
       "      <td>38</td>\n",
       "    </tr>\n",
       "    <tr>\n",
       "      <th>br_grzz_pc_rcnt_income</th>\n",
       "      <td>34</td>\n",
       "    </tr>\n",
       "    <tr>\n",
       "      <th>tongdun6MIdXiaofeiFenqiLoanNum</th>\n",
       "      <td>24</td>\n",
       "    </tr>\n",
       "    <tr>\n",
       "      <th>tongdunPhoneMultiLoanNum_v2</th>\n",
       "      <td>24</td>\n",
       "    </tr>\n",
       "    <tr>\n",
       "      <th>tongdunotherNumPfL3M</th>\n",
       "      <td>22</td>\n",
       "    </tr>\n",
       "    <tr>\n",
       "      <th>tongdunP2PNumPfL3M</th>\n",
       "      <td>21</td>\n",
       "    </tr>\n",
       "    <tr>\n",
       "      <th>tongdunconfinNumPfL6M</th>\n",
       "      <td>20</td>\n",
       "    </tr>\n",
       "    <tr>\n",
       "      <th>xy_creditFDCreditAmtAvg</th>\n",
       "      <td>19</td>\n",
       "    </tr>\n",
       "    <tr>\n",
       "      <th>xy_behaviorClosedOrderNum</th>\n",
       "      <td>17</td>\n",
       "    </tr>\n",
       "    <tr>\n",
       "      <th>tongdunNormalNumPfL3M</th>\n",
       "      <td>17</td>\n",
       "    </tr>\n",
       "    <tr>\n",
       "      <th>br_grzz_pc_user_level</th>\n",
       "      <td>13</td>\n",
       "    </tr>\n",
       "    <tr>\n",
       "      <th>xy_behaviorSuccessPayNumL1M</th>\n",
       "      <td>13</td>\n",
       "    </tr>\n",
       "    <tr>\n",
       "      <th>xy_creditNProductNum</th>\n",
       "      <td>13</td>\n",
       "    </tr>\n",
       "    <tr>\n",
       "      <th>xy_behaviorSuccessPayNumL1M_bin_dummy0</th>\n",
       "      <td>11</td>\n",
       "    </tr>\n",
       "    <tr>\n",
       "      <th>tongdunmicrofinNumPfL3M</th>\n",
       "      <td>11</td>\n",
       "    </tr>\n",
       "    <tr>\n",
       "      <th>tongdunconfinNumPfL3M</th>\n",
       "      <td>11</td>\n",
       "    </tr>\n",
       "    <tr>\n",
       "      <th>tongdunP2PNumPfL6M</th>\n",
       "      <td>9</td>\n",
       "    </tr>\n",
       "    <tr>\n",
       "      <th>xy_creditAmt</th>\n",
       "      <td>9</td>\n",
       "    </tr>\n",
       "    <tr>\n",
       "      <th>xy_applyHitDDNum</th>\n",
       "      <td>8</td>\n",
       "    </tr>\n",
       "    <tr>\n",
       "      <th>xy_applyLoanQueryNumL3M</th>\n",
       "      <td>8</td>\n",
       "    </tr>\n",
       "    <tr>\n",
       "      <th>xy_behaviorClosedOrderNum_bin_dummy6</th>\n",
       "      <td>8</td>\n",
       "    </tr>\n",
       "    <tr>\n",
       "      <th>xy_behaviorFailPayNumHist_binnum</th>\n",
       "      <td>8</td>\n",
       "    </tr>\n",
       "    <tr>\n",
       "      <th>xy_creditNProductNum_bin_dummy1</th>\n",
       "      <td>7</td>\n",
       "    </tr>\n",
       "    <tr>\n",
       "      <th>tongdun6MIdSumLoanNumPf_v2</th>\n",
       "      <td>7</td>\n",
       "    </tr>\n",
       "    <tr>\n",
       "      <th>xy_behaviorSuccessPayNumL1M_bin_dummy4</th>\n",
       "      <td>7</td>\n",
       "    </tr>\n",
       "    <tr>\n",
       "      <th>xy_creditFDCreditAmtAvg_bin_dummy2</th>\n",
       "      <td>6</td>\n",
       "    </tr>\n",
       "    <tr>\n",
       "      <th>xy_behaviorClosedOrderNum_binnum</th>\n",
       "      <td>6</td>\n",
       "    </tr>\n",
       "    <tr>\n",
       "      <th>xy_creditAmt_bin_dummy5</th>\n",
       "      <td>5</td>\n",
       "    </tr>\n",
       "    <tr>\n",
       "      <th>ym_credit_score_big_bin_dummy2</th>\n",
       "      <td>5</td>\n",
       "    </tr>\n",
       "    <tr>\n",
       "      <th>xy_applyHitDDNum_binnum</th>\n",
       "      <td>4</td>\n",
       "    </tr>\n",
       "    <tr>\n",
       "      <th>tongdunItfinNumPfL6M</th>\n",
       "      <td>3</td>\n",
       "    </tr>\n",
       "    <tr>\n",
       "      <th>tongdun6MIdXiaofeiFenqiLoanNum_bin_dummy2</th>\n",
       "      <td>3</td>\n",
       "    </tr>\n",
       "    <tr>\n",
       "      <th>tongdunotherNumPfL3M_bin_dummy2</th>\n",
       "      <td>3</td>\n",
       "    </tr>\n",
       "    <tr>\n",
       "      <th>tongdunmicrofinNumPfL6M</th>\n",
       "      <td>2</td>\n",
       "    </tr>\n",
       "    <tr>\n",
       "      <th>ym_credit_score_big_bin_dummy0</th>\n",
       "      <td>2</td>\n",
       "    </tr>\n",
       "    <tr>\n",
       "      <th>xy_behaviorFailPayNumHist_bin_dummy3</th>\n",
       "      <td>1</td>\n",
       "    </tr>\n",
       "    <tr>\n",
       "      <th>tongdunPhoneMultiLoanNum_v2_bin_dummy2</th>\n",
       "      <td>1</td>\n",
       "    </tr>\n",
       "    <tr>\n",
       "      <th>tongdun6MIdXiaofeiFenqiLoanNum_binnum</th>\n",
       "      <td>1</td>\n",
       "    </tr>\n",
       "    <tr>\n",
       "      <th>tencentScore_new_bin_dummy1</th>\n",
       "      <td>1</td>\n",
       "    </tr>\n",
       "  </tbody>\n",
       "</table>\n",
       "</div>"
      ],
      "text/plain": [
       "                                           importance\n",
       "xy_behaviorFailPayNumHist                          75\n",
       "tongdun12MIdMultiLoanNumPf                         54\n",
       "tencentScore_new                                   53\n",
       "nike700Score                                       39\n",
       "ym_credit_score_big                                38\n",
       "br_grzz_pc_rcnt_income                             34\n",
       "tongdun6MIdXiaofeiFenqiLoanNum                     24\n",
       "tongdunPhoneMultiLoanNum_v2                        24\n",
       "tongdunotherNumPfL3M                               22\n",
       "tongdunP2PNumPfL3M                                 21\n",
       "tongdunconfinNumPfL6M                              20\n",
       "xy_creditFDCreditAmtAvg                            19\n",
       "xy_behaviorClosedOrderNum                          17\n",
       "tongdunNormalNumPfL3M                              17\n",
       "br_grzz_pc_user_level                              13\n",
       "xy_behaviorSuccessPayNumL1M                        13\n",
       "xy_creditNProductNum                               13\n",
       "xy_behaviorSuccessPayNumL1M_bin_dummy0             11\n",
       "tongdunmicrofinNumPfL3M                            11\n",
       "tongdunconfinNumPfL3M                              11\n",
       "tongdunP2PNumPfL6M                                  9\n",
       "xy_creditAmt                                        9\n",
       "xy_applyHitDDNum                                    8\n",
       "xy_applyLoanQueryNumL3M                             8\n",
       "xy_behaviorClosedOrderNum_bin_dummy6                8\n",
       "xy_behaviorFailPayNumHist_binnum                    8\n",
       "xy_creditNProductNum_bin_dummy1                     7\n",
       "tongdun6MIdSumLoanNumPf_v2                          7\n",
       "xy_behaviorSuccessPayNumL1M_bin_dummy4              7\n",
       "xy_creditFDCreditAmtAvg_bin_dummy2                  6\n",
       "xy_behaviorClosedOrderNum_binnum                    6\n",
       "xy_creditAmt_bin_dummy5                             5\n",
       "ym_credit_score_big_bin_dummy2                      5\n",
       "xy_applyHitDDNum_binnum                             4\n",
       "tongdunItfinNumPfL6M                                3\n",
       "tongdun6MIdXiaofeiFenqiLoanNum_bin_dummy2           3\n",
       "tongdunotherNumPfL3M_bin_dummy2                     3\n",
       "tongdunmicrofinNumPfL6M                             2\n",
       "ym_credit_score_big_bin_dummy0                      2\n",
       "xy_behaviorFailPayNumHist_bin_dummy3                1\n",
       "tongdunPhoneMultiLoanNum_v2_bin_dummy2              1\n",
       "tongdun6MIdXiaofeiFenqiLoanNum_binnum               1\n",
       "tencentScore_new_bin_dummy1                         1"
      ]
     },
     "execution_count": 210,
     "metadata": {},
     "output_type": "execute_result"
    }
   ],
   "source": [
    "pd.Series(model_result_exp['model_final'].get_fscore())\\\n",
    ".to_frame('importance').sort_values(by='importance',ascending=False)"
   ]
  },
  {
   "cell_type": "markdown",
   "metadata": {},
   "source": [
    "# 模型文档整理"
   ]
  },
  {
   "cell_type": "code",
   "execution_count": 211,
   "metadata": {},
   "outputs": [],
   "source": [
    "FINAL_REPORT_PATH = '/Users/zhenwei.jin/Desktop/sample_weight/logistic/03_result/result'"
   ]
  },
  {
   "cell_type": "code",
   "execution_count": 212,
   "metadata": {},
   "outputs": [
    {
     "data": {
      "text/plain": [
       "<module 'utils3.filing' from '/Users/zhenwei.jin/Documents/repos/genie/utils3/filing.py'>"
      ]
     },
     "execution_count": 212,
     "metadata": {},
     "output_type": "execute_result"
    }
   ],
   "source": [
    "import utils3.filing as fl\n",
    "reload(fl)"
   ]
  },
  {
   "cell_type": "code",
   "execution_count": 215,
   "metadata": {},
   "outputs": [],
   "source": [
    "# python3.6的dict是ordered，按照顺序这样定义，之后生成excel的时候会按照顺序穿件sheet\n",
    "data_dic = {}\n",
    "# 如果sheet对应的内容是dict，则dict的key会出现在sheet第一列。value会从第二列开始插入\n",
    "data_dic['01_模型结果'] = {\n",
    "    '样本统计': sample_split_summary,\n",
    "    #如果是图片的话必须key值中包含'_picture'，然后value为figure_path下面的图存储路径和文件名 \n",
    "    'XGBExp_TRAIN_KS_picture': 'KS/demo_xgbXGBExp_TRAIN_KS.png',\n",
    "    'XGBExp_TEST_KS_picture': 'KS/demo_xgbXGBExp_TEST_KS.png',\n",
    "    'XGBExp_CV5_KS_picture': 'KS/demo_xgbXGBExp_5FoldCV_KS.png'\n",
    "}\n",
    "data_dic['02_EDA'] = summary\n",
    "data_dic['03_模型细分箱'] = woe_iv_df\n",
    "data_dic['04_模型粗分箱'] = woe_iv_df_coarse\n",
    "data_dic['05_决策参考'] = {'XGBExp_train_decile':ks_decile_XGBExp_train,\n",
    "                          'XGBExp_test_decile':ks_decile_XGBExp_test,\n",
    "                      'XGBExp_runbook':run_XGBExp_book\n",
    "                      }\n",
    "\n",
    "data_dic['06_OOT统计'] = {'XGBExp_oot_runbook':ks_decile_OOT_XGBExp_yzd_yyq,\n",
    "                       'XGBExp_oot_PSI':score_ranking_train_vs_oot_XGBExp\n",
    "                       }\n",
    "data_dic['07_leafs_OOT统计'] = {'train_oot_leafs_exp_psi_badRate':train_oot_leafs_exp_psi_badRate\n",
    "                       }\n",
    "# 如果sheet对应的内容是df，则从sheet的A1位置开始插入整张表格，不包含pd.DataFrame的index\n",
    "data_dic['细节1_变量按时间分布以及逾期率'] = var_dist_badRate_by_time\n",
    "\n"
   ]
  },
  {
   "cell_type": "code",
   "execution_count": 216,
   "metadata": {},
   "outputs": [],
   "source": [
    "fl.ModelSummary2Excel(FINAL_REPORT_PATH, os.path.join(RESULT_PATH, 'figure'), \n",
    "                   'DEMO_XGB_sample_weight模型文档.xlsx', data_dic).run()"
   ]
  },
  {
   "cell_type": "code",
   "execution_count": null,
   "metadata": {},
   "outputs": [],
   "source": []
  }
 ],
 "metadata": {
  "kernelspec": {
   "display_name": "Python [conda env:anaconda3]",
   "language": "python",
   "name": "conda-env-anaconda3-py"
  },
  "language_info": {
   "codemirror_mode": {
    "name": "ipython",
    "version": 3
   },
   "file_extension": ".py",
   "mimetype": "text/x-python",
   "name": "python",
   "nbconvert_exporter": "python",
   "pygments_lexer": "ipython3",
   "version": "3.6.4"
  },
  "toc": {
   "base_numbering": 1,
   "nav_menu": {},
   "number_sections": true,
   "sideBar": true,
   "skip_h1_title": false,
   "title_cell": "Table of Contents",
   "title_sidebar": "Contents",
   "toc_cell": false,
   "toc_position": {},
   "toc_section_display": true,
   "toc_window_display": true
  }
 },
 "nbformat": 4,
 "nbformat_minor": 2
}
