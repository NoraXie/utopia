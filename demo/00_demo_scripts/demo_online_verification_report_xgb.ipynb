{
 "cells": [
  {
   "cell_type": "code",
   "execution_count": 2,
   "metadata": {
    "collapsed": true
   },
   "outputs": [],
   "source": [
    "%matplotlib inline\n",
    "\n",
    "import os\n",
    "import sys\n",
    "import json\n",
    "import logging\n",
    "import warnings\n",
    "warnings.filterwarnings('ignore')\n",
    "\n",
    "# 更改为自己的路径,或者直接在环境变量中添加\n",
    "sys.path.append('/Users/pintec/Documents/repos/genie')\n",
    "\n",
    "import pandas as pd\n",
    "import numpy as np\n",
    "from jinja2 import Template\n",
    "\n",
    "#python3种reload函数不能直接使用\n",
    "from imp import reload\n",
    "\n",
    "from utils3.data_io_utils import *\n",
    "import utils3.misc_utils as mu\n",
    "import utils3.summary_statistics as ss\n",
    "import utils3.metrics as mt\n",
    "import utils3.feature_selection as fs\n",
    "import utils3.plotting as pl\n",
    "import utils3.modeling as ml\n",
    "import utils3.filing as fl\n",
    "from functools import reduce\n",
    "import xgboost as xgb\n"
   ]
  },
  {
   "cell_type": "markdown",
   "metadata": {},
   "source": [
    "# 构建取数逻辑（一次性整理成监控所需模样，减少后续工作量）\n",
    "每个人取值逻辑不同，可根据自身情况调整，该代码可在监控配置中复用，此外表头必须含有apply_id,var_code,create_at字段,\n",
    "    大家严格按照部署监控时刻的要求撰写PSI监控时刻的SQL取数则不会出错，如果唯一标识不是apply_id，务必将唯一标识字段名修改为apply_id"
   ]
  },
  {
   "cell_type": "code",
   "execution_count": 3,
   "metadata": {
    "collapsed": true
   },
   "outputs": [],
   "source": [
    "PSI_SQL = '''\n",
    "select apply_id, '' as groupby_name, '' as groupby_value, created_at, var_code, var_val from\n",
    "(\n",
    "with application as\n",
    "(\n",
    "select distinct apply_id\n",
    "from hive_pro.hdp_data_ods.hdp_ods_m_variable_dict\n",
    "where dt between '{{start_date}}' and '{{end_date}}'\n",
    "and productname in ('walletH5Credit','walletAppCredit')\n",
    "and var_code='channel'\n",
    ")\n",
    ",\n",
    "details as\n",
    "(\n",
    "select * from (\n",
    "select apply_id\n",
    "        , var_code\n",
    "        , var_val\n",
    "        , created_at\n",
    "        , row_number() over(partition by apply_id, var_code order by created_at desc) as rn\n",
    "from hive_pro.hdp_data_ods.hdp_ods_m_variable_dict\n",
    "where dt between '{{start_date}}' and '{{end_date}}'\n",
    "and productname in ('walletH5Credit','walletAppCredit')\t\n",
    "and var_code in {{var_list}}) where rn=1\n",
    ")\n",
    "select application.apply_id\n",
    "        , details.var_code\n",
    "        , details.var_val\n",
    "        , details.created_at\n",
    "from application inner join details\n",
    "on application.apply_id = details.apply_id\n",
    ")'''"
   ]
  },
  {
   "cell_type": "markdown",
   "metadata": {},
   "source": [
    "# 取出部署时相关文件(xgb的部署文件和评分卡有本质区别，需要文件较多)"
   ]
  },
  {
   "cell_type": "code",
   "execution_count": 19,
   "metadata": {
    "collapsed": true
   },
   "outputs": [],
   "source": [
    "DATA_PATH = '/Users/pintec/Nextcloud/Data_Science/分析文件/modeling/new_demo_data/deployment_v6Fraud'"
   ]
  },
  {
   "cell_type": "code",
   "execution_count": 20,
   "metadata": {},
   "outputs": [],
   "source": [
    "# 部署时刻的模型变量重要性排序,每个人路径不同,根据自己路径修改\n",
    "feature_importance = pd.read_excel(os.path.join(DATA_PATH,'demoGrid部署文档.xlsx'),sheetname='2_模型变量重要性排序')"
   ]
  },
  {
   "cell_type": "code",
   "execution_count": 21,
   "metadata": {
    "collapsed": true
   },
   "outputs": [],
   "source": [
    "# 模型部署时刻decile,每个人路径不同,根据自己路径修改\n",
    "model_decile = pd.read_excel(os.path.join(DATA_PATH,'demoGrid部署文档.xlsx'),sheetname='3_模型decile')"
   ]
  },
  {
   "cell_type": "code",
   "execution_count": 22,
   "metadata": {
    "collapsed": true
   },
   "outputs": [],
   "source": [
    "# 部署时bin_to_label文件,.json文件\n",
    "bin_to_label = load_data_from_json(DATA_PATH,'v6fraudxgb_bin_to_label.json')"
   ]
  },
  {
   "cell_type": "code",
   "execution_count": 23,
   "metadata": {
    "collapsed": true
   },
   "outputs": [],
   "source": [
    "# 部署时selected_rebin_spec文件,.json文件\n",
    "selected_rebin_spec = load_data_from_json(DATA_PATH,'v6fraudxgb_selected_rebin_spec.json')"
   ]
  },
  {
   "cell_type": "code",
   "execution_count": 24,
   "metadata": {
    "collapsed": true
   },
   "outputs": [],
   "source": [
    "# 部署时var_transform_method文件,.json文件\n",
    "var_transform_method = load_data_from_json(DATA_PATH,'v6fraudxgb_var_transform_method.json')"
   ]
  },
  {
   "cell_type": "code",
   "execution_count": 25,
   "metadata": {
    "collapsed": true
   },
   "outputs": [],
   "source": [
    "# 部署时候的booster文件\n",
    "model_booster = load_data_from_pickle(DATA_PATH,'v6fraudxgb_xgbmodel.pkl')"
   ]
  },
  {
   "cell_type": "code",
   "execution_count": 26,
   "metadata": {
    "collapsed": true
   },
   "outputs": [],
   "source": [
    "# 建模时的数据字典\n",
    "var_dict = pd.read_excel(os.path.join(DATA_PATH,'var_dict.xlsx'))"
   ]
  },
  {
   "cell_type": "markdown",
   "metadata": {},
   "source": [
    "# 取数"
   ]
  },
  {
   "cell_type": "code",
   "execution_count": 27,
   "metadata": {
    "collapsed": true
   },
   "outputs": [],
   "source": [
    "# 将中间层指标以及打分以后的指标一并取出\n",
    "input_vars = list(set(i for i in feature_importance['中间层指标名称'] if str(i)!='nan'))\n",
    "output_vars = list(set(i for i in feature_importance['输出打分指标名称'] if str(i)!='nan'))\n",
    "var_list = tuple(input_vars+output_vars)"
   ]
  },
  {
   "cell_type": "code",
   "execution_count": 28,
   "metadata": {
    "collapsed": true
   },
   "outputs": [],
   "source": [
    "# 生成最后的sql,每个人情况不同,根据自身情况而定,但其中一定要有apply_id,var_code,create_at字段\n",
    "final_sql = Template(PSI_SQL).render(start_date = '2019-01-26',end_date = '2019-01-29',var_list = var_list)"
   ]
  },
  {
   "cell_type": "code",
   "execution_count": 29,
   "metadata": {
    "collapsed": true
   },
   "outputs": [],
   "source": [
    "data_B_v3 = presto_read_sql_df(final_sql)"
   ]
  },
  {
   "cell_type": "markdown",
   "metadata": {},
   "source": [
    "# 生成上线报告相关数据"
   ]
  },
  {
   "cell_type": "code",
   "execution_count": 30,
   "metadata": {
    "collapsed": true
   },
   "outputs": [],
   "source": [
    "data_input_vars_missing,data_scored_applys_wrong,model_PSI_summary = ss.xgb_online_score_validity\\\n",
    "(data_B_v3,input_vars,var_dict,var_transform_method,model_booster,model_decile,'mlr_creditscore_xgb_v6fraud')"
   ]
  },
  {
   "cell_type": "code",
   "execution_count": 31,
   "metadata": {
    "collapsed": true
   },
   "outputs": [],
   "source": [
    "FINAL_REPORT_PATH = '/Users/pintec/Desktop'"
   ]
  },
  {
   "cell_type": "code",
   "execution_count": 32,
   "metadata": {
    "collapsed": true
   },
   "outputs": [],
   "source": [
    "# python3.6的dict是ordered，按照顺序这样定义，之后生成excel的时候会按照顺序穿件sheet\n",
    "data_dic = {}\n",
    "# 如果sheet对应的内容是dict，则dict的key会出现在sheet第一列。value会从第二列开始插入\n",
    "data_dic['01_变量未填充缺失值'] = data_input_vars_missing.reset_index()\n",
    "data_dic['02_模型打分错误'] = data_scored_applys_wrong.reset_index()\n",
    "data_dic['03_模型PSI'] = model_PSI_summary"
   ]
  },
  {
   "cell_type": "code",
   "execution_count": 33,
   "metadata": {
    "collapsed": true
   },
   "outputs": [],
   "source": [
    "fl.ModelSummary2Excel(FINAL_REPORT_PATH, None, \n",
    "                   'XGB_V6Fraud模型分上线验证报告.xlsx', data_dic).run()"
   ]
  },
  {
   "cell_type": "code",
   "execution_count": null,
   "metadata": {
    "collapsed": true
   },
   "outputs": [],
   "source": []
  }
 ],
 "metadata": {
  "kernelspec": {
   "display_name": "Python 3",
   "language": "python",
   "name": "python3"
  },
  "language_info": {
   "codemirror_mode": {
    "name": "ipython",
    "version": 3
   },
   "file_extension": ".py",
   "mimetype": "text/x-python",
   "name": "python",
   "nbconvert_exporter": "python",
   "pygments_lexer": "ipython3",
   "version": "3.6.8"
  },
  "toc": {
   "nav_menu": {},
   "number_sections": true,
   "sideBar": true,
   "skip_h1_title": false,
   "toc_cell": false,
   "toc_position": {},
   "toc_section_display": "block",
   "toc_window_display": false
  }
 },
 "nbformat": 4,
 "nbformat_minor": 2
}
